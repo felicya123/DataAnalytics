{
 "cells": [
  {
   "cell_type": "markdown",
   "metadata": {},
   "source": [
    "## Information Leakage"
   ]
  },
  {
   "cell_type": "markdown",
   "metadata": {},
   "source": [
    "Data:\n",
    "1. Generate Data\n",
    "    - y ~ normal (mean =0, std=1,n=100)\n",
    "    - x ~ normal (mean =0,std=1,n=100, dimension =10000)\n",
    "    - Y and X uncorrelated each other (no relationship)\n",
    "2. Information Leakage\n",
    "    - Modeling X and y using ridge + percentile feature selection (f statistics)\n",
    "    - Do feature selection : apply fit and transform to x\n",
    "    - Compute R-Square using cross validation\n",
    "3. No Information Lakage\n",
    "    - Modeling x and y using ridge + percentile feature selection (f statistics)\n",
    "    - Make pipeline : feature selection + regression\n",
    "    - Compute R-square using cross validation"
   ]
  },
  {
   "cell_type": "code",
   "execution_count": 1,
   "metadata": {},
   "outputs": [],
   "source": [
    "import pandas as pd\n",
    "import numpy as np"
   ]
  },
  {
   "cell_type": "code",
   "execution_count": 2,
   "metadata": {},
   "outputs": [],
   "source": [
    "rnd = np.random.RandomState(seed = 2020)\n",
    "x= rnd.normal(size=(100,10000))\n",
    "y=rnd.normal(size=(100,1))"
   ]
  },
  {
   "cell_type": "markdown",
   "metadata": {},
   "source": [
    "### Information Leakage"
   ]
  },
  {
   "cell_type": "code",
   "execution_count": 3,
   "metadata": {},
   "outputs": [],
   "source": [
    "from sklearn.feature_selection import SelectPercentile, f_regression"
   ]
  },
  {
   "cell_type": "code",
   "execution_count": 4,
   "metadata": {},
   "outputs": [
    {
     "name": "stderr",
     "output_type": "stream",
     "text": [
      "C:\\Users\\62812\\anaconda3\\lib\\site-packages\\sklearn\\utils\\validation.py:63: DataConversionWarning: A column-vector y was passed when a 1d array was expected. Please change the shape of y to (n_samples, ), for example using ravel().\n",
      "  return f(*args, **kwargs)\n"
     ]
    },
    {
     "data": {
      "text/plain": [
       "(100, 500)"
      ]
     },
     "execution_count": 4,
     "metadata": {},
     "output_type": "execute_result"
    }
   ],
   "source": [
    "select = SelectPercentile(score_func=f_regression, percentile=5)\n",
    "x_selected = select.fit_transform(x,y)\n",
    "x_selected.shape"
   ]
  },
  {
   "cell_type": "code",
   "execution_count": 5,
   "metadata": {},
   "outputs": [],
   "source": [
    "from sklearn.model_selection import cross_val_score\n",
    "from sklearn.linear_model import Ridge"
   ]
  },
  {
   "cell_type": "code",
   "execution_count": 6,
   "metadata": {},
   "outputs": [
    {
     "data": {
      "text/plain": [
       "array([0.92165345, 0.89445668, 0.92827414, 0.93088559, 0.91044624])"
      ]
     },
     "execution_count": 6,
     "metadata": {},
     "output_type": "execute_result"
    }
   ],
   "source": [
    "cross_val_score(Ridge(), x_selected, y, cv=5)"
   ]
  },
  {
   "cell_type": "markdown",
   "metadata": {},
   "source": [
    "### No Information Leakage"
   ]
  },
  {
   "cell_type": "code",
   "execution_count": 7,
   "metadata": {},
   "outputs": [],
   "source": [
    "from sklearn.pipeline import Pipeline"
   ]
  },
  {
   "cell_type": "code",
   "execution_count": 8,
   "metadata": {},
   "outputs": [],
   "source": [
    "select = SelectPercentile(score_func=f_regression, percentile=5)\n",
    "pipe_ridge = Pipeline([\n",
    "    ('select',select),\n",
    "    ('model', Ridge())\n",
    "])"
   ]
  },
  {
   "cell_type": "code",
   "execution_count": 9,
   "metadata": {},
   "outputs": [
    {
     "name": "stderr",
     "output_type": "stream",
     "text": [
      "C:\\Users\\62812\\anaconda3\\lib\\site-packages\\sklearn\\utils\\validation.py:63: DataConversionWarning: A column-vector y was passed when a 1d array was expected. Please change the shape of y to (n_samples, ), for example using ravel().\n",
      "  return f(*args, **kwargs)\n",
      "C:\\Users\\62812\\anaconda3\\lib\\site-packages\\sklearn\\utils\\validation.py:63: DataConversionWarning: A column-vector y was passed when a 1d array was expected. Please change the shape of y to (n_samples, ), for example using ravel().\n",
      "  return f(*args, **kwargs)\n",
      "C:\\Users\\62812\\anaconda3\\lib\\site-packages\\sklearn\\utils\\validation.py:63: DataConversionWarning: A column-vector y was passed when a 1d array was expected. Please change the shape of y to (n_samples, ), for example using ravel().\n",
      "  return f(*args, **kwargs)\n",
      "C:\\Users\\62812\\anaconda3\\lib\\site-packages\\sklearn\\utils\\validation.py:63: DataConversionWarning: A column-vector y was passed when a 1d array was expected. Please change the shape of y to (n_samples, ), for example using ravel().\n",
      "  return f(*args, **kwargs)\n",
      "C:\\Users\\62812\\anaconda3\\lib\\site-packages\\sklearn\\utils\\validation.py:63: DataConversionWarning: A column-vector y was passed when a 1d array was expected. Please change the shape of y to (n_samples, ), for example using ravel().\n",
      "  return f(*args, **kwargs)\n"
     ]
    },
    {
     "data": {
      "text/plain": [
       "array([-0.0330359 , -0.07840338, -0.06731106, -0.04544685, -0.07314928])"
      ]
     },
     "execution_count": 9,
     "metadata": {},
     "output_type": "execute_result"
    }
   ],
   "source": [
    "cross_val_score(pipe_ridge, x, y, cv=5)"
   ]
  },
  {
   "cell_type": "markdown",
   "metadata": {},
   "source": [
    "## Apply Several Preprocessing Method to Modeling at once and do hyperparameter Tuning"
   ]
  },
  {
   "cell_type": "markdown",
   "metadata": {},
   "source": [
    "data : adult.csv\n",
    "target : income\n",
    "\n",
    "preprocessing:\n",
    "1. Missing value: simple imputer with constant\n",
    "2. One hot encoding : realtionship, race, sex\n",
    "3. Binary encoding : workclass, marital status, occupation, native country,\n",
    "4. Ordinal encoding L education (already encoded)\n",
    "5. No treatment : numerical\n",
    "6. Out :fnlwgt\n",
    "\n",
    "random state 10, data splitting 70:30\n",
    "1. Model Tree (max depth 5, criterion entropy) and compute f1 using CV\n",
    "2. Compute another metrics\n",
    "3. Model Logistic Regression (solver liblinear) compute recall +, precision +, f1, make ROC and PRC in test set\n",
    "4. Do hyperparameter tuning for logistic regression (optimize C and solver)\n",
    "5. Compare the result (before and after) in test set"
   ]
  },
  {
   "cell_type": "code",
   "execution_count": 10,
   "metadata": {},
   "outputs": [],
   "source": [
    "import pandas as pd\n",
    "import numpy as np\n",
    "\n",
    "from sklearn.impute import SimpleImputer\n",
    "from sklearn.preprocessing import OneHotEncoder, OrdinalEncoder\n",
    "import category_encoders as ce\n",
    "from sklearn.pipeline import Pipeline\n",
    "from sklearn.compose import ColumnTransformer\n",
    "\n",
    "from sklearn.tree import DecisionTreeClassifier\n",
    "from sklearn.linear_model import LogisticRegression\n",
    "\n",
    "from sklearn.model_selection import train_test_split, StratifiedKFold,GridSearchCV\n",
    "from sklearn.metrics import recall_score, precision_score, f1_score, classification_report,plot_precision_recall_curve ,plot_roc_curve\n",
    "\n",
    "import seaborn as sns\n",
    "import matplotlib.pyplot as plt\n",
    "from sklearn.tree import plot_tree\n"
   ]
  },
  {
   "cell_type": "code",
   "execution_count": 11,
   "metadata": {},
   "outputs": [
    {
     "data": {
      "text/html": [
       "<div>\n",
       "<style scoped>\n",
       "    .dataframe tbody tr th:only-of-type {\n",
       "        vertical-align: middle;\n",
       "    }\n",
       "\n",
       "    .dataframe tbody tr th {\n",
       "        vertical-align: top;\n",
       "    }\n",
       "\n",
       "    .dataframe thead th {\n",
       "        text-align: right;\n",
       "    }\n",
       "</style>\n",
       "<table border=\"1\" class=\"dataframe\">\n",
       "  <thead>\n",
       "    <tr style=\"text-align: right;\">\n",
       "      <th></th>\n",
       "      <th>age</th>\n",
       "      <th>workclass</th>\n",
       "      <th>fnlwgt</th>\n",
       "      <th>education</th>\n",
       "      <th>education.num</th>\n",
       "      <th>marital.status</th>\n",
       "      <th>occupation</th>\n",
       "      <th>relationship</th>\n",
       "      <th>race</th>\n",
       "      <th>sex</th>\n",
       "      <th>capital.gain</th>\n",
       "      <th>capital.loss</th>\n",
       "      <th>hours.per.week</th>\n",
       "      <th>native.country</th>\n",
       "      <th>income</th>\n",
       "    </tr>\n",
       "  </thead>\n",
       "  <tbody>\n",
       "    <tr>\n",
       "      <th>0</th>\n",
       "      <td>90</td>\n",
       "      <td>?</td>\n",
       "      <td>77053</td>\n",
       "      <td>HS-grad</td>\n",
       "      <td>9</td>\n",
       "      <td>Widowed</td>\n",
       "      <td>?</td>\n",
       "      <td>Not-in-family</td>\n",
       "      <td>White</td>\n",
       "      <td>Female</td>\n",
       "      <td>0</td>\n",
       "      <td>4356</td>\n",
       "      <td>40</td>\n",
       "      <td>United-States</td>\n",
       "      <td>&lt;=50K</td>\n",
       "    </tr>\n",
       "    <tr>\n",
       "      <th>1</th>\n",
       "      <td>82</td>\n",
       "      <td>Private</td>\n",
       "      <td>132870</td>\n",
       "      <td>HS-grad</td>\n",
       "      <td>9</td>\n",
       "      <td>Widowed</td>\n",
       "      <td>Exec-managerial</td>\n",
       "      <td>Not-in-family</td>\n",
       "      <td>White</td>\n",
       "      <td>Female</td>\n",
       "      <td>0</td>\n",
       "      <td>4356</td>\n",
       "      <td>18</td>\n",
       "      <td>United-States</td>\n",
       "      <td>&lt;=50K</td>\n",
       "    </tr>\n",
       "    <tr>\n",
       "      <th>2</th>\n",
       "      <td>66</td>\n",
       "      <td>?</td>\n",
       "      <td>186061</td>\n",
       "      <td>Some-college</td>\n",
       "      <td>10</td>\n",
       "      <td>Widowed</td>\n",
       "      <td>?</td>\n",
       "      <td>Unmarried</td>\n",
       "      <td>Black</td>\n",
       "      <td>Female</td>\n",
       "      <td>0</td>\n",
       "      <td>4356</td>\n",
       "      <td>40</td>\n",
       "      <td>United-States</td>\n",
       "      <td>&lt;=50K</td>\n",
       "    </tr>\n",
       "    <tr>\n",
       "      <th>3</th>\n",
       "      <td>54</td>\n",
       "      <td>Private</td>\n",
       "      <td>140359</td>\n",
       "      <td>7th-8th</td>\n",
       "      <td>4</td>\n",
       "      <td>Divorced</td>\n",
       "      <td>Machine-op-inspct</td>\n",
       "      <td>Unmarried</td>\n",
       "      <td>White</td>\n",
       "      <td>Female</td>\n",
       "      <td>0</td>\n",
       "      <td>3900</td>\n",
       "      <td>40</td>\n",
       "      <td>United-States</td>\n",
       "      <td>&lt;=50K</td>\n",
       "    </tr>\n",
       "    <tr>\n",
       "      <th>4</th>\n",
       "      <td>41</td>\n",
       "      <td>Private</td>\n",
       "      <td>264663</td>\n",
       "      <td>Some-college</td>\n",
       "      <td>10</td>\n",
       "      <td>Separated</td>\n",
       "      <td>Prof-specialty</td>\n",
       "      <td>Own-child</td>\n",
       "      <td>White</td>\n",
       "      <td>Female</td>\n",
       "      <td>0</td>\n",
       "      <td>3900</td>\n",
       "      <td>40</td>\n",
       "      <td>United-States</td>\n",
       "      <td>&lt;=50K</td>\n",
       "    </tr>\n",
       "  </tbody>\n",
       "</table>\n",
       "</div>"
      ],
      "text/plain": [
       "   age workclass  fnlwgt     education  education.num marital.status  \\\n",
       "0   90         ?   77053       HS-grad              9        Widowed   \n",
       "1   82   Private  132870       HS-grad              9        Widowed   \n",
       "2   66         ?  186061  Some-college             10        Widowed   \n",
       "3   54   Private  140359       7th-8th              4       Divorced   \n",
       "4   41   Private  264663  Some-college             10      Separated   \n",
       "\n",
       "          occupation   relationship   race     sex  capital.gain  \\\n",
       "0                  ?  Not-in-family  White  Female             0   \n",
       "1    Exec-managerial  Not-in-family  White  Female             0   \n",
       "2                  ?      Unmarried  Black  Female             0   \n",
       "3  Machine-op-inspct      Unmarried  White  Female             0   \n",
       "4     Prof-specialty      Own-child  White  Female             0   \n",
       "\n",
       "   capital.loss  hours.per.week native.country income  \n",
       "0          4356              40  United-States  <=50K  \n",
       "1          4356              18  United-States  <=50K  \n",
       "2          4356              40  United-States  <=50K  \n",
       "3          3900              40  United-States  <=50K  \n",
       "4          3900              40  United-States  <=50K  "
      ]
     },
     "execution_count": 11,
     "metadata": {},
     "output_type": "execute_result"
    }
   ],
   "source": [
    "df_adult = pd.read_csv('data/adult.csv')\n",
    "df_adult.head()"
   ]
  },
  {
   "cell_type": "code",
   "execution_count": 12,
   "metadata": {},
   "outputs": [
    {
     "data": {
      "text/plain": [
       "array(['?', 'Private', 'State-gov', 'Federal-gov', 'Self-emp-not-inc',\n",
       "       'Self-emp-inc', 'Local-gov', 'Without-pay', 'Never-worked'],\n",
       "      dtype=object)"
      ]
     },
     "execution_count": 12,
     "metadata": {},
     "output_type": "execute_result"
    }
   ],
   "source": [
    "df_adult['workclass'].unique()"
   ]
  },
  {
   "cell_type": "markdown",
   "metadata": {},
   "source": [
    "### EDA"
   ]
  },
  {
   "cell_type": "code",
   "execution_count": 13,
   "metadata": {},
   "outputs": [
    {
     "data": {
      "text/plain": [
       "age                  0\n",
       "workclass         1836\n",
       "fnlwgt               0\n",
       "education            0\n",
       "education.num        0\n",
       "marital.status       0\n",
       "occupation        1843\n",
       "relationship         0\n",
       "race                 0\n",
       "sex                  0\n",
       "capital.gain         0\n",
       "capital.loss         0\n",
       "hours.per.week       0\n",
       "native.country     583\n",
       "income               0\n",
       "dtype: int64"
      ]
     },
     "execution_count": 13,
     "metadata": {},
     "output_type": "execute_result"
    }
   ],
   "source": [
    "df_adult.isin(['?']).sum()"
   ]
  },
  {
   "cell_type": "markdown",
   "metadata": {},
   "source": [
    "### Preprocessing"
   ]
  },
  {
   "cell_type": "code",
   "execution_count": 14,
   "metadata": {},
   "outputs": [],
   "source": [
    "onehot = OneHotEncoder(drop='first')\n",
    "\n",
    "binary = Pipeline([\n",
    "    ('imputer', SimpleImputer(missing_values=['?'],strategy='constant', fill_value='Others')),\n",
    "    ('binary', ce.BinaryEncoder())\n",
    "])\n",
    "\n",
    "transformer = ColumnTransformer([\n",
    "    ('onehot',onehot, ['relationship','race','sex']),\n",
    "    ('binary', binary,['workclass','marital.status','occupation','native.country'])\n",
    "], remainder='passthrough')"
   ]
  },
  {
   "cell_type": "markdown",
   "metadata": {},
   "source": [
    "### Split Data"
   ]
  },
  {
   "cell_type": "code",
   "execution_count": 15,
   "metadata": {},
   "outputs": [],
   "source": [
    "x = df_adult.drop(columns=['fnlwgt','income','education'])\n",
    "y = np.where(df_adult['income']=='>50K',1,0)"
   ]
  },
  {
   "cell_type": "code",
   "execution_count": 16,
   "metadata": {},
   "outputs": [
    {
     "data": {
      "text/html": [
       "<div>\n",
       "<style scoped>\n",
       "    .dataframe tbody tr th:only-of-type {\n",
       "        vertical-align: middle;\n",
       "    }\n",
       "\n",
       "    .dataframe tbody tr th {\n",
       "        vertical-align: top;\n",
       "    }\n",
       "\n",
       "    .dataframe thead th {\n",
       "        text-align: right;\n",
       "    }\n",
       "</style>\n",
       "<table border=\"1\" class=\"dataframe\">\n",
       "  <thead>\n",
       "    <tr style=\"text-align: right;\">\n",
       "      <th></th>\n",
       "      <th>age</th>\n",
       "      <th>workclass</th>\n",
       "      <th>education.num</th>\n",
       "      <th>marital.status</th>\n",
       "      <th>occupation</th>\n",
       "      <th>relationship</th>\n",
       "      <th>race</th>\n",
       "      <th>sex</th>\n",
       "      <th>capital.gain</th>\n",
       "      <th>capital.loss</th>\n",
       "      <th>hours.per.week</th>\n",
       "      <th>native.country</th>\n",
       "    </tr>\n",
       "  </thead>\n",
       "  <tbody>\n",
       "    <tr>\n",
       "      <th>0</th>\n",
       "      <td>90</td>\n",
       "      <td>?</td>\n",
       "      <td>9</td>\n",
       "      <td>Widowed</td>\n",
       "      <td>?</td>\n",
       "      <td>Not-in-family</td>\n",
       "      <td>White</td>\n",
       "      <td>Female</td>\n",
       "      <td>0</td>\n",
       "      <td>4356</td>\n",
       "      <td>40</td>\n",
       "      <td>United-States</td>\n",
       "    </tr>\n",
       "    <tr>\n",
       "      <th>1</th>\n",
       "      <td>82</td>\n",
       "      <td>Private</td>\n",
       "      <td>9</td>\n",
       "      <td>Widowed</td>\n",
       "      <td>Exec-managerial</td>\n",
       "      <td>Not-in-family</td>\n",
       "      <td>White</td>\n",
       "      <td>Female</td>\n",
       "      <td>0</td>\n",
       "      <td>4356</td>\n",
       "      <td>18</td>\n",
       "      <td>United-States</td>\n",
       "    </tr>\n",
       "    <tr>\n",
       "      <th>2</th>\n",
       "      <td>66</td>\n",
       "      <td>?</td>\n",
       "      <td>10</td>\n",
       "      <td>Widowed</td>\n",
       "      <td>?</td>\n",
       "      <td>Unmarried</td>\n",
       "      <td>Black</td>\n",
       "      <td>Female</td>\n",
       "      <td>0</td>\n",
       "      <td>4356</td>\n",
       "      <td>40</td>\n",
       "      <td>United-States</td>\n",
       "    </tr>\n",
       "    <tr>\n",
       "      <th>3</th>\n",
       "      <td>54</td>\n",
       "      <td>Private</td>\n",
       "      <td>4</td>\n",
       "      <td>Divorced</td>\n",
       "      <td>Machine-op-inspct</td>\n",
       "      <td>Unmarried</td>\n",
       "      <td>White</td>\n",
       "      <td>Female</td>\n",
       "      <td>0</td>\n",
       "      <td>3900</td>\n",
       "      <td>40</td>\n",
       "      <td>United-States</td>\n",
       "    </tr>\n",
       "    <tr>\n",
       "      <th>4</th>\n",
       "      <td>41</td>\n",
       "      <td>Private</td>\n",
       "      <td>10</td>\n",
       "      <td>Separated</td>\n",
       "      <td>Prof-specialty</td>\n",
       "      <td>Own-child</td>\n",
       "      <td>White</td>\n",
       "      <td>Female</td>\n",
       "      <td>0</td>\n",
       "      <td>3900</td>\n",
       "      <td>40</td>\n",
       "      <td>United-States</td>\n",
       "    </tr>\n",
       "    <tr>\n",
       "      <th>...</th>\n",
       "      <td>...</td>\n",
       "      <td>...</td>\n",
       "      <td>...</td>\n",
       "      <td>...</td>\n",
       "      <td>...</td>\n",
       "      <td>...</td>\n",
       "      <td>...</td>\n",
       "      <td>...</td>\n",
       "      <td>...</td>\n",
       "      <td>...</td>\n",
       "      <td>...</td>\n",
       "      <td>...</td>\n",
       "    </tr>\n",
       "    <tr>\n",
       "      <th>32556</th>\n",
       "      <td>22</td>\n",
       "      <td>Private</td>\n",
       "      <td>10</td>\n",
       "      <td>Never-married</td>\n",
       "      <td>Protective-serv</td>\n",
       "      <td>Not-in-family</td>\n",
       "      <td>White</td>\n",
       "      <td>Male</td>\n",
       "      <td>0</td>\n",
       "      <td>0</td>\n",
       "      <td>40</td>\n",
       "      <td>United-States</td>\n",
       "    </tr>\n",
       "    <tr>\n",
       "      <th>32557</th>\n",
       "      <td>27</td>\n",
       "      <td>Private</td>\n",
       "      <td>12</td>\n",
       "      <td>Married-civ-spouse</td>\n",
       "      <td>Tech-support</td>\n",
       "      <td>Wife</td>\n",
       "      <td>White</td>\n",
       "      <td>Female</td>\n",
       "      <td>0</td>\n",
       "      <td>0</td>\n",
       "      <td>38</td>\n",
       "      <td>United-States</td>\n",
       "    </tr>\n",
       "    <tr>\n",
       "      <th>32558</th>\n",
       "      <td>40</td>\n",
       "      <td>Private</td>\n",
       "      <td>9</td>\n",
       "      <td>Married-civ-spouse</td>\n",
       "      <td>Machine-op-inspct</td>\n",
       "      <td>Husband</td>\n",
       "      <td>White</td>\n",
       "      <td>Male</td>\n",
       "      <td>0</td>\n",
       "      <td>0</td>\n",
       "      <td>40</td>\n",
       "      <td>United-States</td>\n",
       "    </tr>\n",
       "    <tr>\n",
       "      <th>32559</th>\n",
       "      <td>58</td>\n",
       "      <td>Private</td>\n",
       "      <td>9</td>\n",
       "      <td>Widowed</td>\n",
       "      <td>Adm-clerical</td>\n",
       "      <td>Unmarried</td>\n",
       "      <td>White</td>\n",
       "      <td>Female</td>\n",
       "      <td>0</td>\n",
       "      <td>0</td>\n",
       "      <td>40</td>\n",
       "      <td>United-States</td>\n",
       "    </tr>\n",
       "    <tr>\n",
       "      <th>32560</th>\n",
       "      <td>22</td>\n",
       "      <td>Private</td>\n",
       "      <td>9</td>\n",
       "      <td>Never-married</td>\n",
       "      <td>Adm-clerical</td>\n",
       "      <td>Own-child</td>\n",
       "      <td>White</td>\n",
       "      <td>Male</td>\n",
       "      <td>0</td>\n",
       "      <td>0</td>\n",
       "      <td>20</td>\n",
       "      <td>United-States</td>\n",
       "    </tr>\n",
       "  </tbody>\n",
       "</table>\n",
       "<p>32561 rows × 12 columns</p>\n",
       "</div>"
      ],
      "text/plain": [
       "       age workclass  education.num      marital.status         occupation  \\\n",
       "0       90         ?              9             Widowed                  ?   \n",
       "1       82   Private              9             Widowed    Exec-managerial   \n",
       "2       66         ?             10             Widowed                  ?   \n",
       "3       54   Private              4            Divorced  Machine-op-inspct   \n",
       "4       41   Private             10           Separated     Prof-specialty   \n",
       "...    ...       ...            ...                 ...                ...   \n",
       "32556   22   Private             10       Never-married    Protective-serv   \n",
       "32557   27   Private             12  Married-civ-spouse       Tech-support   \n",
       "32558   40   Private              9  Married-civ-spouse  Machine-op-inspct   \n",
       "32559   58   Private              9             Widowed       Adm-clerical   \n",
       "32560   22   Private              9       Never-married       Adm-clerical   \n",
       "\n",
       "        relationship   race     sex  capital.gain  capital.loss  \\\n",
       "0      Not-in-family  White  Female             0          4356   \n",
       "1      Not-in-family  White  Female             0          4356   \n",
       "2          Unmarried  Black  Female             0          4356   \n",
       "3          Unmarried  White  Female             0          3900   \n",
       "4          Own-child  White  Female             0          3900   \n",
       "...              ...    ...     ...           ...           ...   \n",
       "32556  Not-in-family  White    Male             0             0   \n",
       "32557           Wife  White  Female             0             0   \n",
       "32558        Husband  White    Male             0             0   \n",
       "32559      Unmarried  White  Female             0             0   \n",
       "32560      Own-child  White    Male             0             0   \n",
       "\n",
       "       hours.per.week native.country  \n",
       "0                  40  United-States  \n",
       "1                  18  United-States  \n",
       "2                  40  United-States  \n",
       "3                  40  United-States  \n",
       "4                  40  United-States  \n",
       "...               ...            ...  \n",
       "32556              40  United-States  \n",
       "32557              38  United-States  \n",
       "32558              40  United-States  \n",
       "32559              40  United-States  \n",
       "32560              20  United-States  \n",
       "\n",
       "[32561 rows x 12 columns]"
      ]
     },
     "execution_count": 16,
     "metadata": {},
     "output_type": "execute_result"
    }
   ],
   "source": [
    "x"
   ]
  },
  {
   "cell_type": "code",
   "execution_count": 17,
   "metadata": {},
   "outputs": [],
   "source": [
    "x_trainval, x_val, y_trainval, y_val= train_test_split(\n",
    "    x,\n",
    "    y,\n",
    "    stratify= y,\n",
    "    test_size=0.3,\n",
    "    random_state = 10\n",
    ")"
   ]
  },
  {
   "cell_type": "markdown",
   "metadata": {},
   "source": [
    "### Model Benchmark"
   ]
  },
  {
   "cell_type": "code",
   "execution_count": 18,
   "metadata": {},
   "outputs": [],
   "source": [
    "skfold = StratifiedKFold(n_splits=5)\n",
    "tree = DecisionTreeClassifier(max_depth=5,criterion='entropy', random_state=10)\n",
    "\n",
    "estimator = Pipeline([\n",
    "    ('transformer',transformer),\n",
    "    ('model',tree)\n",
    "])"
   ]
  },
  {
   "cell_type": "code",
   "execution_count": 19,
   "metadata": {},
   "outputs": [
    {
     "name": "stderr",
     "output_type": "stream",
     "text": [
      "C:\\Users\\62812\\anaconda3\\lib\\site-packages\\category_encoders\\utils.py:21: FutureWarning: is_categorical is deprecated and will be removed in a future version.  Use is_categorical_dtype instead\n",
      "  elif pd.api.types.is_categorical(cols):\n",
      "C:\\Users\\62812\\anaconda3\\lib\\site-packages\\category_encoders\\utils.py:21: FutureWarning: is_categorical is deprecated and will be removed in a future version.  Use is_categorical_dtype instead\n",
      "  elif pd.api.types.is_categorical(cols):\n",
      "C:\\Users\\62812\\anaconda3\\lib\\site-packages\\category_encoders\\utils.py:21: FutureWarning: is_categorical is deprecated and will be removed in a future version.  Use is_categorical_dtype instead\n",
      "  elif pd.api.types.is_categorical(cols):\n",
      "C:\\Users\\62812\\anaconda3\\lib\\site-packages\\category_encoders\\utils.py:21: FutureWarning: is_categorical is deprecated and will be removed in a future version.  Use is_categorical_dtype instead\n",
      "  elif pd.api.types.is_categorical(cols):\n",
      "C:\\Users\\62812\\anaconda3\\lib\\site-packages\\category_encoders\\utils.py:21: FutureWarning: is_categorical is deprecated and will be removed in a future version.  Use is_categorical_dtype instead\n",
      "  elif pd.api.types.is_categorical(cols):\n"
     ]
    }
   ],
   "source": [
    "tree_cv = cross_val_score(estimator, x_trainval, y_trainval, scoring='f1')"
   ]
  },
  {
   "cell_type": "code",
   "execution_count": 20,
   "metadata": {},
   "outputs": [
    {
     "name": "stdout",
     "output_type": "stream",
     "text": [
      "hasil cross val [0.6226106  0.61480281 0.58849558 0.58738135 0.62121212]\n",
      "cv score mean 0.6069004904458388\n",
      "cv score std 0.015708688769425674\n"
     ]
    }
   ],
   "source": [
    "print('hasil cross val', tree_cv)\n",
    "print('cv score mean', tree_cv.mean())\n",
    "print('cv score std', tree_cv.std())"
   ]
  },
  {
   "cell_type": "code",
   "execution_count": null,
   "metadata": {},
   "outputs": [],
   "source": []
  },
  {
   "cell_type": "markdown",
   "metadata": {},
   "source": [
    "### ------------------------------------------------------------------------------------------------"
   ]
  },
  {
   "cell_type": "code",
   "execution_count": 21,
   "metadata": {},
   "outputs": [],
   "source": [
    "skfold_2 = StratifiedKFold(n_splits=5)\n",
    "logreg = LogisticRegression(solver='liblinear', random_state=10)\n",
    "\n",
    "estimator = Pipeline([\n",
    "    ('transformer', transformer),\n",
    "    ('model', logreg)\n",
    "])"
   ]
  },
  {
   "cell_type": "code",
   "execution_count": 22,
   "metadata": {
    "scrolled": true
   },
   "outputs": [
    {
     "name": "stderr",
     "output_type": "stream",
     "text": [
      "C:\\Users\\62812\\anaconda3\\lib\\site-packages\\category_encoders\\utils.py:21: FutureWarning: is_categorical is deprecated and will be removed in a future version.  Use is_categorical_dtype instead\n",
      "  elif pd.api.types.is_categorical(cols):\n",
      "C:\\Users\\62812\\anaconda3\\lib\\site-packages\\category_encoders\\utils.py:21: FutureWarning: is_categorical is deprecated and will be removed in a future version.  Use is_categorical_dtype instead\n",
      "  elif pd.api.types.is_categorical(cols):\n",
      "C:\\Users\\62812\\anaconda3\\lib\\site-packages\\category_encoders\\utils.py:21: FutureWarning: is_categorical is deprecated and will be removed in a future version.  Use is_categorical_dtype instead\n",
      "  elif pd.api.types.is_categorical(cols):\n",
      "C:\\Users\\62812\\anaconda3\\lib\\site-packages\\category_encoders\\utils.py:21: FutureWarning: is_categorical is deprecated and will be removed in a future version.  Use is_categorical_dtype instead\n",
      "  elif pd.api.types.is_categorical(cols):\n",
      "C:\\Users\\62812\\anaconda3\\lib\\site-packages\\category_encoders\\utils.py:21: FutureWarning: is_categorical is deprecated and will be removed in a future version.  Use is_categorical_dtype instead\n",
      "  elif pd.api.types.is_categorical(cols):\n"
     ]
    },
    {
     "name": "stdout",
     "output_type": "stream",
     "text": [
      "logreg [0.63710499 0.63971341 0.62670873 0.64368981 0.65018032] mean 0.6394794525685199 std [0.63710499 0.63971341 0.62670873 0.64368981 0.65018032]\n"
     ]
    }
   ],
   "source": [
    "logreg_cv = cross_val_score(estimator, x_trainval, y_trainval, scoring='f1')\n",
    "print('logreg', logreg_cv, 'mean', logreg_cv.mean(),'std', logreg_cv)"
   ]
  },
  {
   "cell_type": "code",
   "execution_count": 23,
   "metadata": {},
   "outputs": [
    {
     "name": "stderr",
     "output_type": "stream",
     "text": [
      "C:\\Users\\62812\\anaconda3\\lib\\site-packages\\category_encoders\\utils.py:21: FutureWarning: is_categorical is deprecated and will be removed in a future version.  Use is_categorical_dtype instead\n",
      "  elif pd.api.types.is_categorical(cols):\n",
      "C:\\Users\\62812\\anaconda3\\lib\\site-packages\\category_encoders\\utils.py:21: FutureWarning: is_categorical is deprecated and will be removed in a future version.  Use is_categorical_dtype instead\n",
      "  elif pd.api.types.is_categorical(cols):\n",
      "C:\\Users\\62812\\anaconda3\\lib\\site-packages\\category_encoders\\utils.py:21: FutureWarning: is_categorical is deprecated and will be removed in a future version.  Use is_categorical_dtype instead\n",
      "  elif pd.api.types.is_categorical(cols):\n",
      "C:\\Users\\62812\\anaconda3\\lib\\site-packages\\category_encoders\\utils.py:21: FutureWarning: is_categorical is deprecated and will be removed in a future version.  Use is_categorical_dtype instead\n",
      "  elif pd.api.types.is_categorical(cols):\n"
     ]
    },
    {
     "name": "stdout",
     "output_type": "stream",
     "text": [
      "logreg [0.56921676 0.56921676 0.54329991 0.57832423 0.57468124] mean 0.5669477777611736 std [0.56921676 0.56921676 0.54329991 0.57832423 0.57468124]\n"
     ]
    },
    {
     "name": "stderr",
     "output_type": "stream",
     "text": [
      "C:\\Users\\62812\\anaconda3\\lib\\site-packages\\category_encoders\\utils.py:21: FutureWarning: is_categorical is deprecated and will be removed in a future version.  Use is_categorical_dtype instead\n",
      "  elif pd.api.types.is_categorical(cols):\n"
     ]
    }
   ],
   "source": [
    "logreg_cv = cross_val_score(estimator, x_trainval, y_trainval, scoring='recall')\n",
    "print('logreg', logreg_cv, 'mean', logreg_cv.mean(),'std', logreg_cv)"
   ]
  },
  {
   "cell_type": "code",
   "execution_count": 24,
   "metadata": {},
   "outputs": [
    {
     "name": "stderr",
     "output_type": "stream",
     "text": [
      "C:\\Users\\62812\\anaconda3\\lib\\site-packages\\category_encoders\\utils.py:21: FutureWarning: is_categorical is deprecated and will be removed in a future version.  Use is_categorical_dtype instead\n",
      "  elif pd.api.types.is_categorical(cols):\n",
      "C:\\Users\\62812\\anaconda3\\lib\\site-packages\\category_encoders\\utils.py:21: FutureWarning: is_categorical is deprecated and will be removed in a future version.  Use is_categorical_dtype instead\n",
      "  elif pd.api.types.is_categorical(cols):\n",
      "C:\\Users\\62812\\anaconda3\\lib\\site-packages\\category_encoders\\utils.py:21: FutureWarning: is_categorical is deprecated and will be removed in a future version.  Use is_categorical_dtype instead\n",
      "  elif pd.api.types.is_categorical(cols):\n",
      "C:\\Users\\62812\\anaconda3\\lib\\site-packages\\category_encoders\\utils.py:21: FutureWarning: is_categorical is deprecated and will be removed in a future version.  Use is_categorical_dtype instead\n",
      "  elif pd.api.types.is_categorical(cols):\n",
      "C:\\Users\\62812\\anaconda3\\lib\\site-packages\\category_encoders\\utils.py:21: FutureWarning: is_categorical is deprecated and will be removed in a future version.  Use is_categorical_dtype instead\n",
      "  elif pd.api.types.is_categorical(cols):\n"
     ]
    },
    {
     "name": "stdout",
     "output_type": "stream",
     "text": [
      "logreg [0.72337963 0.73014019 0.74037267 0.72571429 0.7485172 ] mean 0.7336247947083504 std [0.72337963 0.73014019 0.74037267 0.72571429 0.7485172 ]\n"
     ]
    }
   ],
   "source": [
    "logreg_cv = cross_val_score(estimator, x_trainval, y_trainval, scoring='precision')\n",
    "print('logreg', logreg_cv, 'mean', logreg_cv.mean(),'std', logreg_cv)"
   ]
  },
  {
   "cell_type": "code",
   "execution_count": 25,
   "metadata": {},
   "outputs": [],
   "source": [
    "logreg = LogisticRegression(solver='liblinear',random_state=10)\n",
    "\n",
    "estimator = Pipeline([\n",
    "    ('transformer',transformer),\n",
    "    ('model', logreg)\n",
    "])"
   ]
  },
  {
   "cell_type": "code",
   "execution_count": 26,
   "metadata": {},
   "outputs": [
    {
     "name": "stderr",
     "output_type": "stream",
     "text": [
      "C:\\Users\\62812\\anaconda3\\lib\\site-packages\\category_encoders\\utils.py:21: FutureWarning: is_categorical is deprecated and will be removed in a future version.  Use is_categorical_dtype instead\n",
      "  elif pd.api.types.is_categorical(cols):\n"
     ]
    },
    {
     "data": {
      "text/plain": [
       "Pipeline(steps=[('transformer',\n",
       "                 ColumnTransformer(remainder='passthrough',\n",
       "                                   transformers=[('onehot',\n",
       "                                                  OneHotEncoder(drop='first'),\n",
       "                                                  ['relationship', 'race',\n",
       "                                                   'sex']),\n",
       "                                                 ('binary',\n",
       "                                                  Pipeline(steps=[('imputer',\n",
       "                                                                   SimpleImputer(fill_value='Others',\n",
       "                                                                                 missing_values=['?'],\n",
       "                                                                                 strategy='constant')),\n",
       "                                                                  ('binary',\n",
       "                                                                   BinaryEncoder())]),\n",
       "                                                  ['workclass',\n",
       "                                                   'marital.status',\n",
       "                                                   'occupation',\n",
       "                                                   'native.country'])])),\n",
       "                ('model',\n",
       "                 LogisticRegression(random_state=10, solver='liblinear'))])"
      ]
     },
     "execution_count": 26,
     "metadata": {},
     "output_type": "execute_result"
    }
   ],
   "source": [
    "estimator.fit(x_trainval,y_trainval)"
   ]
  },
  {
   "cell_type": "code",
   "execution_count": 27,
   "metadata": {},
   "outputs": [
    {
     "name": "stdout",
     "output_type": "stream",
     "text": [
      "              precision    recall  f1-score   support\n",
      "\n",
      "           0       0.88      0.93      0.90      5216\n",
      "           1       0.71      0.57      0.64      1622\n",
      "\n",
      "    accuracy                           0.84      6838\n",
      "   macro avg       0.79      0.75      0.77      6838\n",
      "weighted avg       0.84      0.84      0.84      6838\n",
      "\n"
     ]
    }
   ],
   "source": [
    "x_train, x_test, y_train, y_test = train_test_split(\n",
    "    x_trainval,\n",
    "    y_trainval,\n",
    "    test_size=0.3\n",
    "    \n",
    ")\n",
    "\n",
    "y_pred = estimator.predict(x_test)\n",
    "print(classification_report(y_test,y_pred))"
   ]
  },
  {
   "cell_type": "code",
   "execution_count": 28,
   "metadata": {},
   "outputs": [
    {
     "name": "stdout",
     "output_type": "stream",
     "text": [
      "              precision    recall  f1-score   support\n",
      "\n",
      "           0       0.88      0.93      0.90      5216\n",
      "           1       0.71      0.57      0.64      1622\n",
      "\n",
      "    accuracy                           0.84      6838\n",
      "   macro avg       0.79      0.75      0.77      6838\n",
      "weighted avg       0.84      0.84      0.84      6838\n",
      "\n"
     ]
    }
   ],
   "source": [
    "y_pred = estimator.predict(x_test)\n",
    "print(classification_report(y_test,y_pred))"
   ]
  },
  {
   "cell_type": "code",
   "execution_count": 29,
   "metadata": {},
   "outputs": [
    {
     "data": {
      "text/plain": [
       "<sklearn.metrics._plot.roc_curve.RocCurveDisplay at 0x185cbf20d30>"
      ]
     },
     "execution_count": 29,
     "metadata": {},
     "output_type": "execute_result"
    },
    {
     "data": {
      "image/png": "[encoded data removed]",
      "text/plain": [
       "<Figure size 432x288 with 1 Axes>"
      ]
     },
     "metadata": {
      "needs_background": "light"
     },
     "output_type": "display_data"
    }
   ],
   "source": [
    "plot_roc_curve(estimator, x_test, y_test)"
   ]
  },
  {
   "cell_type": "code",
   "execution_count": 30,
   "metadata": {},
   "outputs": [
    {
     "data": {
      "text/plain": [
       "<sklearn.metrics._plot.precision_recall_curve.PrecisionRecallDisplay at 0x185cbf5fdf0>"
      ]
     },
     "execution_count": 30,
     "metadata": {},
     "output_type": "execute_result"
    },
    {
     "data": {
      "image/png": "[encoded data removed]",
      "text/plain": [
       "<Figure size 432x288 with 1 Axes>"
      ]
     },
     "metadata": {
      "needs_background": "light"
     },
     "output_type": "display_data"
    }
   ],
   "source": [
    "plot_precision_recall_curve(estimator,x_test, y_test)"
   ]
  },
  {
   "cell_type": "markdown",
   "metadata": {},
   "source": [
    "### ------------------------------------------------------------------------------------------------"
   ]
  },
  {
   "cell_type": "markdown",
   "metadata": {},
   "source": [
    "### Hyperparameter Tuning"
   ]
  },
  {
   "cell_type": "code",
   "execution_count": 31,
   "metadata": {},
   "outputs": [],
   "source": [
    "# x_train, x_test, y_train, y_test = train_test_split(\n",
    "#     x_trainval,\n",
    "#     y_trainval,\n",
    "#     stratify=y,\n",
    "#     test_size=0.3,\n",
    "#     random_state=2020\n",
    "# )"
   ]
  },
  {
   "cell_type": "code",
   "execution_count": 32,
   "metadata": {},
   "outputs": [],
   "source": [
    "logreg = LogisticRegression(solver='liblinear')\n",
    "\n",
    "estimator = Pipeline([\n",
    "    ('transformer',transformer),\n",
    "    ('model',logreg)\n",
    "])\n",
    "\n",
    "hyperparam_c = {\n",
    "    'model__C' : [100,10,1,0.1,0.001,0.0001],\n",
    "    'model__solver':['liblinear', 'newton-cg']\n",
    "}\n",
    "\n",
    "skfold = StratifiedKFold(n_splits=5)\n",
    "\n",
    "grid_search = GridSearchCV(\n",
    "    estimator,\n",
    "    param_grid= hyperparam_c,\n",
    "    cv=skfold,\n",
    "    scoring ='f1',\n",
    "    n_jobs=-1\n",
    ")"
   ]
  },
  {
   "cell_type": "code",
   "execution_count": 33,
   "metadata": {},
   "outputs": [
    {
     "name": "stderr",
     "output_type": "stream",
     "text": [
      "C:\\Users\\62812\\anaconda3\\lib\\site-packages\\category_encoders\\utils.py:21: FutureWarning: is_categorical is deprecated and will be removed in a future version.  Use is_categorical_dtype instead\n",
      "  elif pd.api.types.is_categorical(cols):\n"
     ]
    },
    {
     "data": {
      "text/plain": [
       "GridSearchCV(cv=StratifiedKFold(n_splits=5, random_state=None, shuffle=False),\n",
       "             estimator=Pipeline(steps=[('transformer',\n",
       "                                        ColumnTransformer(remainder='passthrough',\n",
       "                                                          transformers=[('onehot',\n",
       "                                                                         OneHotEncoder(drop='first'),\n",
       "                                                                         ['relationship',\n",
       "                                                                          'race',\n",
       "                                                                          'sex']),\n",
       "                                                                        ('binary',\n",
       "                                                                         Pipeline(steps=[('imputer',\n",
       "                                                                                          SimpleImputer(fill_value='Others',\n",
       "                                                                                                        missing_values=['?'],\n",
       "                                                                                                        strategy='constant')),\n",
       "                                                                                         ('binary',\n",
       "                                                                                          BinaryEncoder())]),\n",
       "                                                                         ['workclass',\n",
       "                                                                          'marital.status',\n",
       "                                                                          'occupation',\n",
       "                                                                          'native.country'])])),\n",
       "                                       ('model',\n",
       "                                        LogisticRegression(solver='liblinear'))]),\n",
       "             n_jobs=-1,\n",
       "             param_grid={'model__C': [100, 10, 1, 0.1, 0.001, 0.0001],\n",
       "                         'model__solver': ['liblinear', 'newton-cg']},\n",
       "             scoring='f1')"
      ]
     },
     "execution_count": 33,
     "metadata": {},
     "output_type": "execute_result"
    }
   ],
   "source": [
    "# best = 0\n",
    "# score =[]\n",
    "\n",
    "# for i in hyperparam_c:\n",
    "#     logreg = LogisticRegression(solver='liblinear', C=i)\n",
    "#     logreg.fit(x_train,y_train)\n",
    "    \n",
    "#     y_pred = logreg.predict(x_val)\n",
    "#     score = f1_score(y_val,y_pred)\n",
    "    \n",
    "#     if score > best:\n",
    "#         best = score\n",
    "#         best_param = i\n",
    "\n",
    "grid_search.fit(x_train, y_train)"
   ]
  },
  {
   "cell_type": "code",
   "execution_count": 34,
   "metadata": {},
   "outputs": [
    {
     "data": {
      "text/plain": [
       "{'model__C': 1, 'model__solver': 'newton-cg'}"
      ]
     },
     "execution_count": 34,
     "metadata": {},
     "output_type": "execute_result"
    }
   ],
   "source": [
    "grid_search.best_params_"
   ]
  },
  {
   "cell_type": "code",
   "execution_count": 35,
   "metadata": {},
   "outputs": [
    {
     "data": {
      "text/plain": [
       "0.6534847551190621"
      ]
     },
     "execution_count": 35,
     "metadata": {},
     "output_type": "execute_result"
    }
   ],
   "source": [
    "grid_search.best_score_"
   ]
  },
  {
   "cell_type": "code",
   "execution_count": 36,
   "metadata": {},
   "outputs": [
    {
     "data": {
      "text/html": [
       "<div>\n",
       "<style scoped>\n",
       "    .dataframe tbody tr th:only-of-type {\n",
       "        vertical-align: middle;\n",
       "    }\n",
       "\n",
       "    .dataframe tbody tr th {\n",
       "        vertical-align: top;\n",
       "    }\n",
       "\n",
       "    .dataframe thead th {\n",
       "        text-align: right;\n",
       "    }\n",
       "</style>\n",
       "<table border=\"1\" class=\"dataframe\">\n",
       "  <thead>\n",
       "    <tr style=\"text-align: right;\">\n",
       "      <th></th>\n",
       "      <th>mean_fit_time</th>\n",
       "      <th>std_fit_time</th>\n",
       "      <th>mean_score_time</th>\n",
       "      <th>std_score_time</th>\n",
       "      <th>param_model__C</th>\n",
       "      <th>param_model__solver</th>\n",
       "      <th>params</th>\n",
       "      <th>split0_test_score</th>\n",
       "      <th>split1_test_score</th>\n",
       "      <th>split2_test_score</th>\n",
       "      <th>split3_test_score</th>\n",
       "      <th>split4_test_score</th>\n",
       "      <th>mean_test_score</th>\n",
       "      <th>std_test_score</th>\n",
       "      <th>rank_test_score</th>\n",
       "    </tr>\n",
       "  </thead>\n",
       "  <tbody>\n",
       "    <tr>\n",
       "      <th>5</th>\n",
       "      <td>2.250083</td>\n",
       "      <td>0.160434</td>\n",
       "      <td>0.048652</td>\n",
       "      <td>0.003514</td>\n",
       "      <td>1</td>\n",
       "      <td>newton-cg</td>\n",
       "      <td>{'model__C': 1, 'model__solver': 'newton-cg'}</td>\n",
       "      <td>0.692470</td>\n",
       "      <td>0.673568</td>\n",
       "      <td>0.623094</td>\n",
       "      <td>0.652015</td>\n",
       "      <td>0.626277</td>\n",
       "      <td>0.653485</td>\n",
       "      <td>0.026793</td>\n",
       "      <td>1</td>\n",
       "    </tr>\n",
       "    <tr>\n",
       "      <th>3</th>\n",
       "      <td>2.870065</td>\n",
       "      <td>0.097370</td>\n",
       "      <td>0.043790</td>\n",
       "      <td>0.000750</td>\n",
       "      <td>10</td>\n",
       "      <td>newton-cg</td>\n",
       "      <td>{'model__C': 10, 'model__solver': 'newton-cg'}</td>\n",
       "      <td>0.695713</td>\n",
       "      <td>0.672188</td>\n",
       "      <td>0.618736</td>\n",
       "      <td>0.651061</td>\n",
       "      <td>0.627365</td>\n",
       "      <td>0.653013</td>\n",
       "      <td>0.028381</td>\n",
       "      <td>2</td>\n",
       "    </tr>\n",
       "    <tr>\n",
       "      <th>1</th>\n",
       "      <td>4.030091</td>\n",
       "      <td>0.361695</td>\n",
       "      <td>0.046066</td>\n",
       "      <td>0.002212</td>\n",
       "      <td>100</td>\n",
       "      <td>newton-cg</td>\n",
       "      <td>{'model__C': 100, 'model__solver': 'newton-cg'}</td>\n",
       "      <td>0.695713</td>\n",
       "      <td>0.672188</td>\n",
       "      <td>0.618736</td>\n",
       "      <td>0.650073</td>\n",
       "      <td>0.627365</td>\n",
       "      <td>0.652815</td>\n",
       "      <td>0.028398</td>\n",
       "      <td>3</td>\n",
       "    </tr>\n",
       "    <tr>\n",
       "      <th>7</th>\n",
       "      <td>2.092327</td>\n",
       "      <td>0.126027</td>\n",
       "      <td>0.055118</td>\n",
       "      <td>0.006876</td>\n",
       "      <td>0.1</td>\n",
       "      <td>newton-cg</td>\n",
       "      <td>{'model__C': 0.1, 'model__solver': 'newton-cg'}</td>\n",
       "      <td>0.692090</td>\n",
       "      <td>0.670825</td>\n",
       "      <td>0.618315</td>\n",
       "      <td>0.650442</td>\n",
       "      <td>0.626010</td>\n",
       "      <td>0.651537</td>\n",
       "      <td>0.027470</td>\n",
       "      <td>4</td>\n",
       "    </tr>\n",
       "    <tr>\n",
       "      <th>0</th>\n",
       "      <td>0.455887</td>\n",
       "      <td>0.005598</td>\n",
       "      <td>0.045999</td>\n",
       "      <td>0.004393</td>\n",
       "      <td>100</td>\n",
       "      <td>liblinear</td>\n",
       "      <td>{'model__C': 100, 'model__solver': 'liblinear'}</td>\n",
       "      <td>0.685915</td>\n",
       "      <td>0.653766</td>\n",
       "      <td>0.619841</td>\n",
       "      <td>0.652367</td>\n",
       "      <td>0.632565</td>\n",
       "      <td>0.648891</td>\n",
       "      <td>0.022437</td>\n",
       "      <td>5</td>\n",
       "    </tr>\n",
       "    <tr>\n",
       "      <th>4</th>\n",
       "      <td>0.440929</td>\n",
       "      <td>0.016119</td>\n",
       "      <td>0.048694</td>\n",
       "      <td>0.002283</td>\n",
       "      <td>1</td>\n",
       "      <td>liblinear</td>\n",
       "      <td>{'model__C': 1, 'model__solver': 'liblinear'}</td>\n",
       "      <td>0.688339</td>\n",
       "      <td>0.654219</td>\n",
       "      <td>0.620640</td>\n",
       "      <td>0.645542</td>\n",
       "      <td>0.623624</td>\n",
       "      <td>0.646473</td>\n",
       "      <td>0.024507</td>\n",
       "      <td>6</td>\n",
       "    </tr>\n",
       "    <tr>\n",
       "      <th>6</th>\n",
       "      <td>0.439431</td>\n",
       "      <td>0.026054</td>\n",
       "      <td>0.046478</td>\n",
       "      <td>0.001249</td>\n",
       "      <td>0.1</td>\n",
       "      <td>liblinear</td>\n",
       "      <td>{'model__C': 0.1, 'model__solver': 'liblinear'}</td>\n",
       "      <td>0.676746</td>\n",
       "      <td>0.661982</td>\n",
       "      <td>0.611193</td>\n",
       "      <td>0.652335</td>\n",
       "      <td>0.624362</td>\n",
       "      <td>0.645323</td>\n",
       "      <td>0.024159</td>\n",
       "      <td>7</td>\n",
       "    </tr>\n",
       "    <tr>\n",
       "      <th>2</th>\n",
       "      <td>0.440944</td>\n",
       "      <td>0.023937</td>\n",
       "      <td>0.045507</td>\n",
       "      <td>0.001917</td>\n",
       "      <td>10</td>\n",
       "      <td>liblinear</td>\n",
       "      <td>{'model__C': 10, 'model__solver': 'liblinear'}</td>\n",
       "      <td>0.685915</td>\n",
       "      <td>0.652864</td>\n",
       "      <td>0.620290</td>\n",
       "      <td>0.643764</td>\n",
       "      <td>0.621444</td>\n",
       "      <td>0.644856</td>\n",
       "      <td>0.024095</td>\n",
       "      <td>8</td>\n",
       "    </tr>\n",
       "    <tr>\n",
       "      <th>9</th>\n",
       "      <td>1.837490</td>\n",
       "      <td>0.261732</td>\n",
       "      <td>0.074242</td>\n",
       "      <td>0.009209</td>\n",
       "      <td>0.001</td>\n",
       "      <td>newton-cg</td>\n",
       "      <td>{'model__C': 0.001, 'model__solver': 'newton-cg'}</td>\n",
       "      <td>0.625197</td>\n",
       "      <td>0.578783</td>\n",
       "      <td>0.504202</td>\n",
       "      <td>0.560656</td>\n",
       "      <td>0.575586</td>\n",
       "      <td>0.568885</td>\n",
       "      <td>0.038899</td>\n",
       "      <td>9</td>\n",
       "    </tr>\n",
       "    <tr>\n",
       "      <th>11</th>\n",
       "      <td>1.488247</td>\n",
       "      <td>0.046516</td>\n",
       "      <td>0.045174</td>\n",
       "      <td>0.013168</td>\n",
       "      <td>0.0001</td>\n",
       "      <td>newton-cg</td>\n",
       "      <td>{'model__C': 0.0001, 'model__solver': 'newton-...</td>\n",
       "      <td>0.520000</td>\n",
       "      <td>0.490956</td>\n",
       "      <td>0.412844</td>\n",
       "      <td>0.438061</td>\n",
       "      <td>0.468891</td>\n",
       "      <td>0.466150</td>\n",
       "      <td>0.037824</td>\n",
       "      <td>10</td>\n",
       "    </tr>\n",
       "    <tr>\n",
       "      <th>8</th>\n",
       "      <td>0.434404</td>\n",
       "      <td>0.025445</td>\n",
       "      <td>0.058727</td>\n",
       "      <td>0.003976</td>\n",
       "      <td>0.001</td>\n",
       "      <td>liblinear</td>\n",
       "      <td>{'model__C': 0.001, 'model__solver': 'liblinear'}</td>\n",
       "      <td>0.485348</td>\n",
       "      <td>0.459286</td>\n",
       "      <td>0.403828</td>\n",
       "      <td>0.407970</td>\n",
       "      <td>0.422139</td>\n",
       "      <td>0.435714</td>\n",
       "      <td>0.031591</td>\n",
       "      <td>11</td>\n",
       "    </tr>\n",
       "    <tr>\n",
       "      <th>10</th>\n",
       "      <td>0.465589</td>\n",
       "      <td>0.031025</td>\n",
       "      <td>0.071403</td>\n",
       "      <td>0.011187</td>\n",
       "      <td>0.0001</td>\n",
       "      <td>liblinear</td>\n",
       "      <td>{'model__C': 0.0001, 'model__solver': 'libline...</td>\n",
       "      <td>0.451496</td>\n",
       "      <td>0.437722</td>\n",
       "      <td>0.369025</td>\n",
       "      <td>0.385269</td>\n",
       "      <td>0.410160</td>\n",
       "      <td>0.410734</td>\n",
       "      <td>0.030914</td>\n",
       "      <td>12</td>\n",
       "    </tr>\n",
       "  </tbody>\n",
       "</table>\n",
       "</div>"
      ],
      "text/plain": [
       "    mean_fit_time  std_fit_time  mean_score_time  std_score_time  \\\n",
       "5        2.250083      0.160434         0.048652        0.003514   \n",
       "3        2.870065      0.097370         0.043790        0.000750   \n",
       "1        4.030091      0.361695         0.046066        0.002212   \n",
       "7        2.092327      0.126027         0.055118        0.006876   \n",
       "0        0.455887      0.005598         0.045999        0.004393   \n",
       "4        0.440929      0.016119         0.048694        0.002283   \n",
       "6        0.439431      0.026054         0.046478        0.001249   \n",
       "2        0.440944      0.023937         0.045507        0.001917   \n",
       "9        1.837490      0.261732         0.074242        0.009209   \n",
       "11       1.488247      0.046516         0.045174        0.013168   \n",
       "8        0.434404      0.025445         0.058727        0.003976   \n",
       "10       0.465589      0.031025         0.071403        0.011187   \n",
       "\n",
       "   param_model__C param_model__solver  \\\n",
       "5               1           newton-cg   \n",
       "3              10           newton-cg   \n",
       "1             100           newton-cg   \n",
       "7             0.1           newton-cg   \n",
       "0             100           liblinear   \n",
       "4               1           liblinear   \n",
       "6             0.1           liblinear   \n",
       "2              10           liblinear   \n",
       "9           0.001           newton-cg   \n",
       "11         0.0001           newton-cg   \n",
       "8           0.001           liblinear   \n",
       "10         0.0001           liblinear   \n",
       "\n",
       "                                               params  split0_test_score  \\\n",
       "5       {'model__C': 1, 'model__solver': 'newton-cg'}           0.692470   \n",
       "3      {'model__C': 10, 'model__solver': 'newton-cg'}           0.695713   \n",
       "1     {'model__C': 100, 'model__solver': 'newton-cg'}           0.695713   \n",
       "7     {'model__C': 0.1, 'model__solver': 'newton-cg'}           0.692090   \n",
       "0     {'model__C': 100, 'model__solver': 'liblinear'}           0.685915   \n",
       "4       {'model__C': 1, 'model__solver': 'liblinear'}           0.688339   \n",
       "6     {'model__C': 0.1, 'model__solver': 'liblinear'}           0.676746   \n",
       "2      {'model__C': 10, 'model__solver': 'liblinear'}           0.685915   \n",
       "9   {'model__C': 0.001, 'model__solver': 'newton-cg'}           0.625197   \n",
       "11  {'model__C': 0.0001, 'model__solver': 'newton-...           0.520000   \n",
       "8   {'model__C': 0.001, 'model__solver': 'liblinear'}           0.485348   \n",
       "10  {'model__C': 0.0001, 'model__solver': 'libline...           0.451496   \n",
       "\n",
       "    split1_test_score  split2_test_score  split3_test_score  \\\n",
       "5            0.673568           0.623094           0.652015   \n",
       "3            0.672188           0.618736           0.651061   \n",
       "1            0.672188           0.618736           0.650073   \n",
       "7            0.670825           0.618315           0.650442   \n",
       "0            0.653766           0.619841           0.652367   \n",
       "4            0.654219           0.620640           0.645542   \n",
       "6            0.661982           0.611193           0.652335   \n",
       "2            0.652864           0.620290           0.643764   \n",
       "9            0.578783           0.504202           0.560656   \n",
       "11           0.490956           0.412844           0.438061   \n",
       "8            0.459286           0.403828           0.407970   \n",
       "10           0.437722           0.369025           0.385269   \n",
       "\n",
       "    split4_test_score  mean_test_score  std_test_score  rank_test_score  \n",
       "5            0.626277         0.653485        0.026793                1  \n",
       "3            0.627365         0.653013        0.028381                2  \n",
       "1            0.627365         0.652815        0.028398                3  \n",
       "7            0.626010         0.651537        0.027470                4  \n",
       "0            0.632565         0.648891        0.022437                5  \n",
       "4            0.623624         0.646473        0.024507                6  \n",
       "6            0.624362         0.645323        0.024159                7  \n",
       "2            0.621444         0.644856        0.024095                8  \n",
       "9            0.575586         0.568885        0.038899                9  \n",
       "11           0.468891         0.466150        0.037824               10  \n",
       "8            0.422139         0.435714        0.031591               11  \n",
       "10           0.410160         0.410734        0.030914               12  "
      ]
     },
     "execution_count": 36,
     "metadata": {},
     "output_type": "execute_result"
    }
   ],
   "source": [
    "hasil_cv = pd.DataFrame(grid_search.cv_results_)\n",
    "hasil_cv.sort_values('mean_test_score', ascending=False)"
   ]
  },
  {
   "cell_type": "code",
   "execution_count": 37,
   "metadata": {},
   "outputs": [
    {
     "data": {
      "text/html": [
       "<div>\n",
       "<style scoped>\n",
       "    .dataframe tbody tr th:only-of-type {\n",
       "        vertical-align: middle;\n",
       "    }\n",
       "\n",
       "    .dataframe tbody tr th {\n",
       "        vertical-align: top;\n",
       "    }\n",
       "\n",
       "    .dataframe thead th {\n",
       "        text-align: right;\n",
       "    }\n",
       "</style>\n",
       "<table border=\"1\" class=\"dataframe\">\n",
       "  <thead>\n",
       "    <tr style=\"text-align: right;\">\n",
       "      <th></th>\n",
       "      <th>mean_fit_time</th>\n",
       "      <th>std_fit_time</th>\n",
       "      <th>mean_score_time</th>\n",
       "      <th>std_score_time</th>\n",
       "      <th>param_model__C</th>\n",
       "      <th>param_model__solver</th>\n",
       "      <th>params</th>\n",
       "      <th>split0_test_score</th>\n",
       "      <th>split1_test_score</th>\n",
       "      <th>split2_test_score</th>\n",
       "      <th>split3_test_score</th>\n",
       "      <th>split4_test_score</th>\n",
       "      <th>mean_test_score</th>\n",
       "      <th>std_test_score</th>\n",
       "      <th>rank_test_score</th>\n",
       "    </tr>\n",
       "  </thead>\n",
       "  <tbody>\n",
       "    <tr>\n",
       "      <th>4</th>\n",
       "      <td>0.440929</td>\n",
       "      <td>0.016119</td>\n",
       "      <td>0.048694</td>\n",
       "      <td>0.002283</td>\n",
       "      <td>1</td>\n",
       "      <td>liblinear</td>\n",
       "      <td>{'model__C': 1, 'model__solver': 'liblinear'}</td>\n",
       "      <td>0.688339</td>\n",
       "      <td>0.654219</td>\n",
       "      <td>0.62064</td>\n",
       "      <td>0.645542</td>\n",
       "      <td>0.623624</td>\n",
       "      <td>0.646473</td>\n",
       "      <td>0.024507</td>\n",
       "      <td>6</td>\n",
       "    </tr>\n",
       "  </tbody>\n",
       "</table>\n",
       "</div>"
      ],
      "text/plain": [
       "   mean_fit_time  std_fit_time  mean_score_time  std_score_time  \\\n",
       "4       0.440929      0.016119         0.048694        0.002283   \n",
       "\n",
       "  param_model__C param_model__solver  \\\n",
       "4              1           liblinear   \n",
       "\n",
       "                                          params  split0_test_score  \\\n",
       "4  {'model__C': 1, 'model__solver': 'liblinear'}           0.688339   \n",
       "\n",
       "   split1_test_score  split2_test_score  split3_test_score  split4_test_score  \\\n",
       "4           0.654219            0.62064           0.645542           0.623624   \n",
       "\n",
       "   mean_test_score  std_test_score  rank_test_score  \n",
       "4         0.646473        0.024507                6  "
      ]
     },
     "execution_count": 37,
     "metadata": {},
     "output_type": "execute_result"
    }
   ],
   "source": [
    "hasil_cv[(hasil_cv['param_model__C']==1) & (hasil_cv['param_model__solver']=='liblinear')]"
   ]
  },
  {
   "cell_type": "code",
   "execution_count": 38,
   "metadata": {},
   "outputs": [
    {
     "data": {
      "text/html": [
       "<div>\n",
       "<style scoped>\n",
       "    .dataframe tbody tr th:only-of-type {\n",
       "        vertical-align: middle;\n",
       "    }\n",
       "\n",
       "    .dataframe tbody tr th {\n",
       "        vertical-align: top;\n",
       "    }\n",
       "\n",
       "    .dataframe thead th {\n",
       "        text-align: right;\n",
       "    }\n",
       "</style>\n",
       "<table border=\"1\" class=\"dataframe\">\n",
       "  <thead>\n",
       "    <tr style=\"text-align: right;\">\n",
       "      <th></th>\n",
       "      <th>mean_fit_time</th>\n",
       "      <th>std_fit_time</th>\n",
       "      <th>mean_score_time</th>\n",
       "      <th>std_score_time</th>\n",
       "      <th>param_model__C</th>\n",
       "      <th>param_model__solver</th>\n",
       "      <th>params</th>\n",
       "      <th>split0_test_score</th>\n",
       "      <th>split1_test_score</th>\n",
       "      <th>split2_test_score</th>\n",
       "      <th>split3_test_score</th>\n",
       "      <th>split4_test_score</th>\n",
       "      <th>mean_test_score</th>\n",
       "      <th>std_test_score</th>\n",
       "      <th>rank_test_score</th>\n",
       "    </tr>\n",
       "  </thead>\n",
       "  <tbody>\n",
       "    <tr>\n",
       "      <th>1</th>\n",
       "      <td>4.030091</td>\n",
       "      <td>0.361695</td>\n",
       "      <td>0.046066</td>\n",
       "      <td>0.002212</td>\n",
       "      <td>100</td>\n",
       "      <td>newton-cg</td>\n",
       "      <td>{'model__C': 100, 'model__solver': 'newton-cg'}</td>\n",
       "      <td>0.695713</td>\n",
       "      <td>0.672188</td>\n",
       "      <td>0.618736</td>\n",
       "      <td>0.650073</td>\n",
       "      <td>0.627365</td>\n",
       "      <td>0.652815</td>\n",
       "      <td>0.028398</td>\n",
       "      <td>3</td>\n",
       "    </tr>\n",
       "  </tbody>\n",
       "</table>\n",
       "</div>"
      ],
      "text/plain": [
       "   mean_fit_time  std_fit_time  mean_score_time  std_score_time  \\\n",
       "1       4.030091      0.361695         0.046066        0.002212   \n",
       "\n",
       "  param_model__C param_model__solver  \\\n",
       "1            100           newton-cg   \n",
       "\n",
       "                                            params  split0_test_score  \\\n",
       "1  {'model__C': 100, 'model__solver': 'newton-cg'}           0.695713   \n",
       "\n",
       "   split1_test_score  split2_test_score  split3_test_score  split4_test_score  \\\n",
       "1           0.672188           0.618736           0.650073           0.627365   \n",
       "\n",
       "   mean_test_score  std_test_score  rank_test_score  \n",
       "1         0.652815        0.028398                3  "
      ]
     },
     "execution_count": 38,
     "metadata": {},
     "output_type": "execute_result"
    }
   ],
   "source": [
    "hasil_cv[(hasil_cv['param_model__C']==100) & (hasil_cv['param_model__solver']=='newton-cg')]"
   ]
  },
  {
   "cell_type": "markdown",
   "metadata": {},
   "source": [
    "### Perbandingan sebelum dan sesuah"
   ]
  },
  {
   "cell_type": "code",
   "execution_count": 39,
   "metadata": {},
   "outputs": [
    {
     "name": "stderr",
     "output_type": "stream",
     "text": [
      "C:\\Users\\62812\\anaconda3\\lib\\site-packages\\category_encoders\\utils.py:21: FutureWarning: is_categorical is deprecated and will be removed in a future version.  Use is_categorical_dtype instead\n",
      "  elif pd.api.types.is_categorical(cols):\n"
     ]
    },
    {
     "name": "stdout",
     "output_type": "stream",
     "text": [
      "              precision    recall  f1-score   support\n",
      "\n",
      "           0       0.87      0.93      0.90      5216\n",
      "           1       0.70      0.56      0.62      1622\n",
      "\n",
      "    accuracy                           0.84      6838\n",
      "   macro avg       0.79      0.74      0.76      6838\n",
      "weighted avg       0.83      0.84      0.83      6838\n",
      "\n"
     ]
    }
   ],
   "source": [
    "# Before\n",
    "logreg = LogisticRegression(solver='liblinear')\n",
    "\n",
    "estimator = Pipeline([\n",
    "    ('transformer', transformer),\n",
    "    ('model', logreg)\n",
    "])\n",
    "\n",
    "estimator.fit(x_train,y_train)\n",
    "\n",
    "y_pred = estimator.predict(x_test)\n",
    "print(classification_report(y_test,y_pred))"
   ]
  },
  {
   "cell_type": "code",
   "execution_count": 40,
   "metadata": {},
   "outputs": [
    {
     "name": "stderr",
     "output_type": "stream",
     "text": [
      "C:\\Users\\62812\\anaconda3\\lib\\site-packages\\category_encoders\\utils.py:21: FutureWarning: is_categorical is deprecated and will be removed in a future version.  Use is_categorical_dtype instead\n",
      "  elif pd.api.types.is_categorical(cols):\n"
     ]
    },
    {
     "name": "stdout",
     "output_type": "stream",
     "text": [
      "              precision    recall  f1-score   support\n",
      "\n",
      "           0       0.87      0.93      0.90      5216\n",
      "           1       0.71      0.57      0.63      1622\n",
      "\n",
      "    accuracy                           0.84      6838\n",
      "   macro avg       0.79      0.75      0.77      6838\n",
      "weighted avg       0.83      0.84      0.84      6838\n",
      "\n"
     ]
    }
   ],
   "source": [
    "# after\n",
    "estimator = grid_search.best_estimator_\n",
    "estimator.fit(x_train,y_train)\n",
    "y_pred = estimator.predict(x_test)\n",
    "print(classification_report(y_test,y_pred))"
   ]
  }
 ],
 "metadata": {
  "kernelspec": {
   "display_name": "Python 3",
   "language": "python",
   "name": "python3"
  },
  "language_info": {
   "codemirror_mode": {
    "name": "ipython",
    "version": 3
   },
   "file_extension": ".py",
   "mimetype": "text/x-python",
   "name": "python",
   "nbconvert_exporter": "python",
   "pygments_lexer": "ipython3",
   "version": "3.8.5"
  }
 },
 "nbformat": 4,
 "nbformat_minor": 4
}
