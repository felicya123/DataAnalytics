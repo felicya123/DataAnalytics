{
 "cells": [
  {
   "cell_type": "markdown",
   "metadata": {
    "id": "iWQQZBl7wGdd"
   },
   "source": [
    "# Statistics – Part II\n",
    "\n",
    "## 1. Sebutkan beberapa uji parametrik dan uji non-parametrik yang kalian ketahui (masing-masing minimal 3)!\n",
    "## 2. Distribusi normal merupakan konsep yang penting dalam statistics. Bagaimana karakter persebaran data ketika distribusi data kita normal?\n",
    "## 3. Kapan kita menggunakan uji statistics parametrik?\n",
    "## 4. Kondisi data seperti apa yang harus dipenuhi ketika kita ingin menggunakan IQR sebagai pengganti Standar Deviasi?"
   ]
  },
  {
   "cell_type": "markdown",
   "metadata": {
    "id": "_TgsfSYmwGdf"
   },
   "source": [
    "# __``Descriptive Statistics``__\n",
    "\n",
    "<hr>"
   ]
  },
  {
   "cell_type": "markdown",
   "metadata": {
    "id": "MaDh3nXKwGdg"
   },
   "source": [
    "Statistika deskriptif adalah metode-metode yang berkaitan dengan pengumpulan dan penyajian suatu gugus data sehingga memberikan informasi yang berguna. Statistika deskriptif hanya memberikan informasi mengenai data yang dipunyai dan sama sekali tidak menarik inferensi atau kesimpulan apapun terkait data tersebut. \n",
    "\n",
    "Dengan statistika deskriptif, kumpulan data yang diperoleh akan tersaji dengan ringkas dan rapi serta dapat memberikan informasi inti dari kumpulan data yang ada. Informasi yang dapat diperoleh dari statistika deskriptif ini antara lain ukuran pemusatan data, ukuran penyebaran data, serta kecenderungan suatu gugus data. [[1] ](https://id.wikipedia.org/wiki/Statistika_deskriptif)"
   ]
  },
  {
   "cell_type": "markdown",
   "metadata": {
    "id": "MJM3AAtIwGdh"
   },
   "source": [
    "### **1. Import Libraries**"
   ]
  },
  {
   "cell_type": "code",
   "execution_count": 1,
   "metadata": {
    "id": "V_PDCEhHwGdh"
   },
   "outputs": [],
   "source": [
    "import pandas as pd\n",
    "import numpy as np"
   ]
  },
  {
   "cell_type": "markdown",
   "metadata": {
    "id": "oX3-CdmpwGdi"
   },
   "source": [
    "### **2. Intro to Dataset: ``Amazon Best Selling Books``**"
   ]
  },
  {
   "cell_type": "markdown",
   "metadata": {
    "id": "v6Gqug-0wGdj"
   },
   "source": [
    "Dataset ``Amazon Best Selling Books`` adalah data publik dan legal. Anda dapat membaca deskripsi dan mengunduhnya di website [Kaggle](https://www.kaggle.com/sootersaalu/amazon-top-50-bestselling-books-2009-2019). Dataset ini berisi tentang 50 buku penjualan terbaik di Amazon dari tahun 2009 sampai tahun 2019. Data telah dikategorikan ke dalam buku fiksi dan non-fiksi menggunakan Goodreads.\n",
    "<br>\n"
   ]
  },
  {
   "cell_type": "code",
   "execution_count": 2,
   "metadata": {
    "colab": {
     "base_uri": "https://localhost:8080/",
     "height": 271
    },
    "id": "FsGIL7sr_DJi",
    "outputId": "ad61510c-a549-40e9-98af-0de971ce8da9"
   },
   "outputs": [
    {
     "data": {
      "text/html": [
       "<div>\n",
       "<style scoped>\n",
       "    .dataframe tbody tr th:only-of-type {\n",
       "        vertical-align: middle;\n",
       "    }\n",
       "\n",
       "    .dataframe tbody tr th {\n",
       "        vertical-align: top;\n",
       "    }\n",
       "\n",
       "    .dataframe thead th {\n",
       "        text-align: right;\n",
       "    }\n",
       "</style>\n",
       "<table border=\"1\" class=\"dataframe\">\n",
       "  <thead>\n",
       "    <tr style=\"text-align: right;\">\n",
       "      <th></th>\n",
       "      <th>Name</th>\n",
       "      <th>Author</th>\n",
       "      <th>User Rating</th>\n",
       "      <th>Reviews</th>\n",
       "      <th>Price</th>\n",
       "      <th>Year</th>\n",
       "      <th>Genre</th>\n",
       "    </tr>\n",
       "  </thead>\n",
       "  <tbody>\n",
       "    <tr>\n",
       "      <th>0</th>\n",
       "      <td>10-Day Green Smoothie Cleanse</td>\n",
       "      <td>JJ Smith</td>\n",
       "      <td>4.7</td>\n",
       "      <td>17350</td>\n",
       "      <td>8</td>\n",
       "      <td>2016</td>\n",
       "      <td>Non Fiction</td>\n",
       "    </tr>\n",
       "    <tr>\n",
       "      <th>1</th>\n",
       "      <td>11/22/63: A Novel</td>\n",
       "      <td>Stephen King</td>\n",
       "      <td>4.6</td>\n",
       "      <td>2052</td>\n",
       "      <td>22</td>\n",
       "      <td>2011</td>\n",
       "      <td>Fiction</td>\n",
       "    </tr>\n",
       "    <tr>\n",
       "      <th>2</th>\n",
       "      <td>12 Rules for Life: An Antidote to Chaos</td>\n",
       "      <td>Jordan B. Peterson</td>\n",
       "      <td>4.7</td>\n",
       "      <td>18979</td>\n",
       "      <td>15</td>\n",
       "      <td>2018</td>\n",
       "      <td>Non Fiction</td>\n",
       "    </tr>\n",
       "    <tr>\n",
       "      <th>3</th>\n",
       "      <td>1984 (Signet Classics)</td>\n",
       "      <td>George Orwell</td>\n",
       "      <td>4.7</td>\n",
       "      <td>21424</td>\n",
       "      <td>6</td>\n",
       "      <td>2017</td>\n",
       "      <td>Fiction</td>\n",
       "    </tr>\n",
       "    <tr>\n",
       "      <th>4</th>\n",
       "      <td>5,000 Awesome Facts (About Everything!) (Natio...</td>\n",
       "      <td>National Geographic Kids</td>\n",
       "      <td>4.8</td>\n",
       "      <td>7665</td>\n",
       "      <td>12</td>\n",
       "      <td>2019</td>\n",
       "      <td>Non Fiction</td>\n",
       "    </tr>\n",
       "  </tbody>\n",
       "</table>\n",
       "</div>"
      ],
      "text/plain": [
       "                                                Name  \\\n",
       "0                      10-Day Green Smoothie Cleanse   \n",
       "1                                  11/22/63: A Novel   \n",
       "2            12 Rules for Life: An Antidote to Chaos   \n",
       "3                             1984 (Signet Classics)   \n",
       "4  5,000 Awesome Facts (About Everything!) (Natio...   \n",
       "\n",
       "                     Author  User Rating  Reviews  Price  Year        Genre  \n",
       "0                  JJ Smith          4.7    17350      8  2016  Non Fiction  \n",
       "1              Stephen King          4.6     2052     22  2011      Fiction  \n",
       "2        Jordan B. Peterson          4.7    18979     15  2018  Non Fiction  \n",
       "3             George Orwell          4.7    21424      6  2017      Fiction  \n",
       "4  National Geographic Kids          4.8     7665     12  2019  Non Fiction  "
      ]
     },
     "execution_count": 2,
     "metadata": {},
     "output_type": "execute_result"
    }
   ],
   "source": [
    "df = pd.read_csv('data/bestsellers with categories.csv')\n",
    "df.head()"
   ]
  },
  {
   "cell_type": "markdown",
   "metadata": {
    "id": "637BoWZgwGdn"
   },
   "source": [
    "**Data Info**\n",
    "\n",
    "Gambaran awal mengenai dataset dapat kita lihat menggunakan (_df.info()_). Melalui cara ini, kita dapat melihat kolom apa saja yang ada di dataset, jumlah baris data yang terisi (tidak kosong), dan tipe datanya."
   ]
  },
  {
   "cell_type": "code",
   "execution_count": 3,
   "metadata": {
    "id": "O8zO4_5JwGdq",
    "outputId": "8518d985-79cc-430d-ec7d-1fdb2cd6dc3d"
   },
   "outputs": [
    {
     "name": "stdout",
     "output_type": "stream",
     "text": [
      "<class 'pandas.core.frame.DataFrame'>\n",
      "RangeIndex: 550 entries, 0 to 549\n",
      "Data columns (total 7 columns):\n",
      " #   Column       Non-Null Count  Dtype  \n",
      "---  ------       --------------  -----  \n",
      " 0   Name         550 non-null    object \n",
      " 1   Author       550 non-null    object \n",
      " 2   User Rating  550 non-null    float64\n",
      " 3   Reviews      550 non-null    int64  \n",
      " 4   Price        550 non-null    int64  \n",
      " 5   Year         550 non-null    int64  \n",
      " 6   Genre        550 non-null    object \n",
      "dtypes: float64(1), int64(3), object(3)\n",
      "memory usage: 30.2+ KB\n"
     ]
    }
   ],
   "source": [
    "df.info()"
   ]
  },
  {
   "cell_type": "markdown",
   "metadata": {
    "id": "C1QsBGFKwGdr"
   },
   "source": [
    "<hr>\n",
    "\n",
    "### **3. Descriptive Statistics**"
   ]
  },
  {
   "cell_type": "markdown",
   "metadata": {
    "id": "FIvv0IxlwGds"
   },
   "source": [
    "\n",
    "\n",
    "### **a) Descriptive Statistics Summary**"
   ]
  },
  {
   "cell_type": "markdown",
   "metadata": {
    "id": "GtoSKjM6wGds"
   },
   "source": [
    "Kita dapat melihat ringkasan statistik deskriptif menggunakan pandas (_.describe()_). Pada code di bawah ini, hanya kolom yang berisi data numerikal saja yang kita eksplorasi statistik deskriptifnya."
   ]
  },
  {
   "cell_type": "code",
   "execution_count": 4,
   "metadata": {
    "id": "-jaMFI6WwGdt",
    "outputId": "19e6bd46-1c5d-4f92-e9ce-0dfb1d9f060e"
   },
   "outputs": [
    {
     "data": {
      "text/html": [
       "<div>\n",
       "<style scoped>\n",
       "    .dataframe tbody tr th:only-of-type {\n",
       "        vertical-align: middle;\n",
       "    }\n",
       "\n",
       "    .dataframe tbody tr th {\n",
       "        vertical-align: top;\n",
       "    }\n",
       "\n",
       "    .dataframe thead th {\n",
       "        text-align: right;\n",
       "    }\n",
       "</style>\n",
       "<table border=\"1\" class=\"dataframe\">\n",
       "  <thead>\n",
       "    <tr style=\"text-align: right;\">\n",
       "      <th></th>\n",
       "      <th>User Rating</th>\n",
       "      <th>Reviews</th>\n",
       "      <th>Price</th>\n",
       "    </tr>\n",
       "  </thead>\n",
       "  <tbody>\n",
       "    <tr>\n",
       "      <th>count</th>\n",
       "      <td>550.000000</td>\n",
       "      <td>550.000000</td>\n",
       "      <td>550.000000</td>\n",
       "    </tr>\n",
       "    <tr>\n",
       "      <th>mean</th>\n",
       "      <td>4.618364</td>\n",
       "      <td>11953.281818</td>\n",
       "      <td>13.100000</td>\n",
       "    </tr>\n",
       "    <tr>\n",
       "      <th>std</th>\n",
       "      <td>0.226980</td>\n",
       "      <td>11731.132017</td>\n",
       "      <td>10.842262</td>\n",
       "    </tr>\n",
       "    <tr>\n",
       "      <th>min</th>\n",
       "      <td>3.300000</td>\n",
       "      <td>37.000000</td>\n",
       "      <td>0.000000</td>\n",
       "    </tr>\n",
       "    <tr>\n",
       "      <th>25%</th>\n",
       "      <td>4.500000</td>\n",
       "      <td>4058.000000</td>\n",
       "      <td>7.000000</td>\n",
       "    </tr>\n",
       "    <tr>\n",
       "      <th>50%</th>\n",
       "      <td>4.700000</td>\n",
       "      <td>8580.000000</td>\n",
       "      <td>11.000000</td>\n",
       "    </tr>\n",
       "    <tr>\n",
       "      <th>75%</th>\n",
       "      <td>4.800000</td>\n",
       "      <td>17253.250000</td>\n",
       "      <td>16.000000</td>\n",
       "    </tr>\n",
       "    <tr>\n",
       "      <th>max</th>\n",
       "      <td>4.900000</td>\n",
       "      <td>87841.000000</td>\n",
       "      <td>105.000000</td>\n",
       "    </tr>\n",
       "  </tbody>\n",
       "</table>\n",
       "</div>"
      ],
      "text/plain": [
       "       User Rating       Reviews       Price\n",
       "count   550.000000    550.000000  550.000000\n",
       "mean      4.618364  11953.281818   13.100000\n",
       "std       0.226980  11731.132017   10.842262\n",
       "min       3.300000     37.000000    0.000000\n",
       "25%       4.500000   4058.000000    7.000000\n",
       "50%       4.700000   8580.000000   11.000000\n",
       "75%       4.800000  17253.250000   16.000000\n",
       "max       4.900000  87841.000000  105.000000"
      ]
     },
     "execution_count": 4,
     "metadata": {},
     "output_type": "execute_result"
    }
   ],
   "source": [
    "df[['User Rating', 'Reviews', 'Price']].describe()"
   ]
  },
  {
   "cell_type": "markdown",
   "metadata": {
    "id": "yD9UjEb_wGdu"
   },
   "source": [
    "<hr>\n",
    "\n",
    "### **b) Measure of Central Tendency**"
   ]
  },
  {
   "cell_type": "markdown",
   "metadata": {
    "id": "7XI5kxE4wGdu"
   },
   "source": [
    "#### **``1) Mode``**"
   ]
  },
  {
   "cell_type": "markdown",
   "metadata": {
    "id": "HokfxdL2wGdu"
   },
   "source": [
    "Modus adalah nilai yang paling sering muncul dalam suatu data statistika. Modus juga merupakan nilai mayoritas atau nilai dengan frekuensi paling tinggi. Modus digunakan untuk ukuran pemusatan data seperti halnya mean dan median. Modus berisikan informasi penting dalam suatu variabel atau populasi acak. [[2] ](https://id.wikipedia.org/wiki/Modus_(statistika))"
   ]
  },
  {
   "cell_type": "code",
   "execution_count": 5,
   "metadata": {
    "id": "WPrQCZt1wGdv",
    "outputId": "c3a442b4-27ef-4bfc-f7e5-154582c8adfc"
   },
   "outputs": [
    {
     "data": {
      "text/plain": [
       "0    8\n",
       "dtype: int64"
      ]
     },
     "execution_count": 5,
     "metadata": {},
     "output_type": "execute_result"
    }
   ],
   "source": [
    "df['Price'].mode()"
   ]
  },
  {
   "cell_type": "code",
   "execution_count": 6,
   "metadata": {
    "id": "bWoAL2fYwGdv",
    "outputId": "f92d60f5-1810-4491-a655-2e8bbab833e1"
   },
   "outputs": [
    {
     "data": {
      "text/plain": [
       "0    8580\n",
       "dtype: int64"
      ]
     },
     "execution_count": 6,
     "metadata": {},
     "output_type": "execute_result"
    }
   ],
   "source": [
    "df['Reviews'].mode()"
   ]
  },
  {
   "cell_type": "code",
   "execution_count": 7,
   "metadata": {
    "id": "NOikWLRWwGdw",
    "outputId": "add7e75e-707c-4028-ffc3-c598415b3cdf"
   },
   "outputs": [
    {
     "data": {
      "text/plain": [
       "8580     10\n",
       "5069      9\n",
       "21834     8\n",
       "19546     7\n",
       "19576     6\n",
       "Name: Reviews, dtype: int64"
      ]
     },
     "execution_count": 7,
     "metadata": {},
     "output_type": "execute_result"
    }
   ],
   "source": [
    "df['Reviews'].value_counts().head()"
   ]
  },
  {
   "cell_type": "markdown",
   "metadata": {
    "id": "3RVsjukwwGdw"
   },
   "source": [
    "#### **``2) Median``**"
   ]
  },
  {
   "cell_type": "markdown",
   "metadata": {
    "id": "2YvfFBYNwGdw"
   },
   "source": [
    "Median atau nilai tengah adalah salah satu ukuran pemusatan data, yaitu, jika segugus data diurutkan dari yang terkecil sampai yang terbesar atau yang terbesar sampai yang terkecil, nilai pengamatan yang tepat di tengah-tengah bila jumlah datanya ganjil adalah mediannya, atau rata-rata kedua pengamatan yang di tengah bila banyaknya pengamatan berjumlah genap. [[3] ](https://id.wikipedia.org/wiki/Median)"
   ]
  },
  {
   "cell_type": "code",
   "execution_count": 8,
   "metadata": {
    "id": "KBzXRbAWwGdw",
    "outputId": "f482fddb-351e-4cb0-aa08-562b693df9cf"
   },
   "outputs": [
    {
     "data": {
      "text/plain": [
       "4.7"
      ]
     },
     "execution_count": 8,
     "metadata": {},
     "output_type": "execute_result"
    }
   ],
   "source": [
    "df['User Rating'].median()"
   ]
  },
  {
   "cell_type": "code",
   "execution_count": 9,
   "metadata": {
    "id": "JxARt9tHwGdx",
    "outputId": "4e30387c-fd97-4f1c-a6e5-b2e8c22dab73"
   },
   "outputs": [
    {
     "data": {
      "text/plain": [
       "4.7"
      ]
     },
     "execution_count": 9,
     "metadata": {},
     "output_type": "execute_result"
    }
   ],
   "source": [
    "df['User Rating'].describe()['50%']"
   ]
  },
  {
   "cell_type": "markdown",
   "metadata": {
    "id": "pId1JPFtwGdx"
   },
   "source": [
    "#### **``3) Mean``**"
   ]
  },
  {
   "cell_type": "markdown",
   "metadata": {
    "id": "qT7lY0K8wGdy"
   },
   "source": [
    "Rata-rata adalah suatu bilangan yang mewakili sekumpulan data.\n",
    "\n",
    "Rata-rata merupakan salah satu konsep sentral dalam statistika matematis dan, bersama dengan varians, menjadi bagian penting dalam berbagai penurunan berbagai metode statistika. [[4] ](https://id.wikipedia.org/wiki/Rata-rata)"
   ]
  },
  {
   "cell_type": "code",
   "execution_count": 10,
   "metadata": {
    "id": "_iMIf3twwGdy",
    "outputId": "e51c1aed-b601-4e1d-e208-15a0781e00a0"
   },
   "outputs": [
    {
     "data": {
      "text/plain": [
       "13.1"
      ]
     },
     "execution_count": 10,
     "metadata": {},
     "output_type": "execute_result"
    }
   ],
   "source": [
    "df['Price'].mean()"
   ]
  },
  {
   "cell_type": "code",
   "execution_count": 11,
   "metadata": {
    "id": "nNySndxSwGdy",
    "outputId": "de988051-6a2e-4575-f3cf-7658b8724836"
   },
   "outputs": [
    {
     "data": {
      "text/plain": [
       "11953.281818181818"
      ]
     },
     "execution_count": 11,
     "metadata": {},
     "output_type": "execute_result"
    }
   ],
   "source": [
    "df['Reviews'].mean()"
   ]
  },
  {
   "cell_type": "code",
   "execution_count": 12,
   "metadata": {
    "id": "ftv_zt78wGdz",
    "outputId": "2aa68b1f-ff5b-4ad3-9067-f1e6ea722997"
   },
   "outputs": [
    {
     "data": {
      "text/plain": [
       "4.618363636363641"
      ]
     },
     "execution_count": 12,
     "metadata": {},
     "output_type": "execute_result"
    }
   ],
   "source": [
    "df['User Rating'].describe()['mean']"
   ]
  },
  {
   "cell_type": "markdown",
   "metadata": {
    "id": "aXxOPzKlwGdz"
   },
   "source": [
    "<hr>\n",
    "\n",
    "### **c) Measure of Spread**"
   ]
  },
  {
   "cell_type": "markdown",
   "metadata": {
    "id": "6vEL3XNtwGdz"
   },
   "source": [
    "#### **``1) Range``**"
   ]
  },
  {
   "cell_type": "markdown",
   "metadata": {
    "id": "9QQHDtZMwGd0"
   },
   "source": [
    "Dalam statistik, rentang sekumpulan data adalah selisih antara nilai terbesar dan terkecil. Ini dapat memberi Anda gambaran kasar tentang bagaimana hasil dari kumpulan data tersebut sebelum Anda melihatnya sebenarnya. Perbedaan di sini bersifat spesifik, rentang sekumpulan data adalah hasil pengurangan nilai terkecil dari nilai terbesar. [[5] ](https://en.wikipedia.org/wiki/Range_(statistics))"
   ]
  },
  {
   "cell_type": "code",
   "execution_count": 13,
   "metadata": {
    "id": "WM624j-FwGd1",
    "outputId": "14b11e95-e621-4a50-fd0f-41b92a0c076e"
   },
   "outputs": [
    {
     "data": {
      "text/plain": [
       "105"
      ]
     },
     "execution_count": 13,
     "metadata": {},
     "output_type": "execute_result"
    }
   ],
   "source": [
    "df['Price'].max() - df['Price'].min()"
   ]
  },
  {
   "cell_type": "markdown",
   "metadata": {
    "id": "NY4DO2c9wGd2"
   },
   "source": [
    "#### **``2) Standard Deviation``**"
   ]
  },
  {
   "cell_type": "markdown",
   "metadata": {
    "id": "2lhhjXMmwGd4"
   },
   "source": [
    "Dalam statistika dan probabilitas, simpangan baku atau deviasi standar adalah ukuran sebaran statistik yang paling lazim. Singkatnya, ia mengukur bagaimana nilai-nilai data tersebar. Bisa juga didefinisikan sebagai rata-rata jarak penyimpangan titik-titik data diukur dari nilai rata-rata data tersebut.\n",
    "\n",
    "Simpangan baku didefinisikan sebagai akar kuadrat varians. Simpangan baku merupakan bilangan tak-negatif, dan memiliki satuan yang sama dengan data. Misalnya jika suatu data diukur dalam satuan meter, maka simpangan baku juga diukur dalam meter pula. [[6]](https://id.wikipedia.org/wiki/Simpangan_baku)"
   ]
  },
  {
   "cell_type": "markdown",
   "metadata": {
    "id": "uzrxpD7MwGd5"
   },
   "source": [
    "__Variance Formula__\n",
    "\n",
    "$\\displaystyle s^{2}=\\frac{\\sum(x-\\mu)^2}{n}$\n",
    "\n",
    "__Standard Deviation__\n",
    "\n",
    "$\\displaystyle s=\\sqrt{\\frac{\\sum(x-\\mu)^2}{n}}$"
   ]
  },
  {
   "cell_type": "code",
   "execution_count": 14,
   "metadata": {
    "id": "iUQfIHZqwGd6",
    "outputId": "f2152f3b-9cea-467c-ef52-042d5089253d"
   },
   "outputs": [
    {
     "data": {
      "text/plain": [
       "10.84226197842238"
      ]
     },
     "execution_count": 14,
     "metadata": {},
     "output_type": "execute_result"
    }
   ],
   "source": [
    "df['Price'].std()"
   ]
  },
  {
   "cell_type": "code",
   "execution_count": 15,
   "metadata": {
    "id": "rOT_UUMWwGd6",
    "outputId": "8cf977b8-1ad5-4a7c-b5bc-b9957c004f2e"
   },
   "outputs": [
    {
     "data": {
      "text/plain": [
       "0.22698036502519578"
      ]
     },
     "execution_count": 15,
     "metadata": {},
     "output_type": "execute_result"
    }
   ],
   "source": [
    "df['User Rating'].std()"
   ]
  },
  {
   "cell_type": "markdown",
   "metadata": {
    "id": "otAB1-AWwGd6"
   },
   "source": [
    "#### **``3) Quartile``**"
   ]
  },
  {
   "cell_type": "markdown",
   "metadata": {
    "id": "7ki5aJ8vwGd7"
   },
   "source": [
    "Kuartil adalah salah satu jenis kuantil yang membagi data menjadi empat bagian dengan jumlah yang kurang lebih sama. Kuartil pertama atau kuartil bawah (Q1) merupakan nilai tengah antara nilai terkecil dan median dari kelompok data. Kuartil pertama menjadi penanda bahwa data pada kuartil tersebut berada 25% dari bawah pada kelompok data. \n",
    "\n",
    "Kuartil kedua (Q2) adalah median data yang menandai 50% data (membagi data menjadi dua). Kuartil ketiga atau kuartil atas (Q3) adalah nilai tengah antara median dan nilai tertinggi dari kelompok data. Kuartil ketiga menjadi penanda bahwa data pada kuartil tersebut berada 75% dari bawah pada kelompok data. Kuartil adalah salah satu bentuk statistik urutan karena untuk menentukan kuartil, data perlu diurutkan dari nilai yang terkecil hingga terbesar lebih dahulu. [[7]](https://id.wikipedia.org/wiki/Kuartil)"
   ]
  },
  {
   "cell_type": "code",
   "execution_count": 16,
   "metadata": {
    "id": "KUTHewpuwGd8",
    "outputId": "ea922f9a-0936-44e2-c0cb-2c101aad562b"
   },
   "outputs": [
    {
     "data": {
      "text/plain": [
       "7.0"
      ]
     },
     "execution_count": 16,
     "metadata": {},
     "output_type": "execute_result"
    }
   ],
   "source": [
    "# Q1 = percentile 25\n",
    "\n",
    "df['Price'].describe()['25%']"
   ]
  },
  {
   "cell_type": "code",
   "execution_count": 17,
   "metadata": {
    "id": "Bz1M05tUwGd8",
    "outputId": "f0f3ced8-b428-4fb0-d357-f1f5bd4e5167"
   },
   "outputs": [
    {
     "data": {
      "text/plain": [
       "11.0"
      ]
     },
     "execution_count": 17,
     "metadata": {},
     "output_type": "execute_result"
    }
   ],
   "source": [
    "# Q2 = percentile 50 / median\n",
    "df['Price'].describe()['50%']"
   ]
  },
  {
   "cell_type": "code",
   "execution_count": 18,
   "metadata": {
    "id": "caYy2YQ0wGd9",
    "outputId": "aebce67b-10a8-43d8-e958-4c10157d015f"
   },
   "outputs": [
    {
     "data": {
      "text/plain": [
       "16.0"
      ]
     },
     "execution_count": 18,
     "metadata": {},
     "output_type": "execute_result"
    }
   ],
   "source": [
    "# Q3 = percentile 75% \n",
    "df['Price'].describe()['75%']"
   ]
  },
  {
   "cell_type": "code",
   "execution_count": 19,
   "metadata": {
    "id": "eRDlinlYwGd-",
    "outputId": "5997f39a-65ec-4a13-f6c4-c93ae3aa6908"
   },
   "outputs": [
    {
     "data": {
      "text/plain": [
       "16.0"
      ]
     },
     "execution_count": 19,
     "metadata": {},
     "output_type": "execute_result"
    }
   ],
   "source": [
    "# Q3 = percentile 75% \n",
    "df['Price'].quantile(0.75)"
   ]
  },
  {
   "cell_type": "markdown",
   "metadata": {
    "id": "bJzWK_lmwGd-"
   },
   "source": [
    "#### **``4) Interquartile Range (IQR)``**"
   ]
  },
  {
   "cell_type": "markdown",
   "metadata": {
    "id": "i39yaGnHwGd-"
   },
   "source": [
    "Dalam statistika deskriptif, jangkauan interkuartil (IQR), adalah selisih antara persentil ke-75 (kuartil atas) dan persentil ke-25 (kuartil bawah).[1][2] Dengan kata lain, IQR adalah kuartil pertama dikurangi kuartil ketiga. Kuartil dapat diketahui dengan jelas melalui diagram kotak garis (_Boxplot_).\n",
    "<br>\n",
    "IQR adalah ukuran variabilitas yang didasarkan pada pembagian kumpulan data menjadi kuartil. Kuartil membagi kumpulan data terurut menjadi empat bagian yang sama besar. Nilai yang memisahkan bagian-bagian ini disebut kuartil pertama, kedua (median), dan ketiga yang masing-masing dilambangkan dengan Q1, Q2, dan Q3. [[8]](https://id.wikipedia.org/wiki/Jangkauan_interkuartil)"
   ]
  },
  {
   "cell_type": "code",
   "execution_count": 20,
   "metadata": {
    "id": "txI_FAt9wGd_",
    "outputId": "3e5b3492-26c3-49f7-cfe1-ec11e98445bb"
   },
   "outputs": [
    {
     "data": {
      "text/plain": [
       "9.0"
      ]
     },
     "execution_count": 20,
     "metadata": {},
     "output_type": "execute_result"
    }
   ],
   "source": [
    "q1 = df['Price'].describe()['25%']\n",
    "q3 = df['Price'].describe()['75%']\n",
    "\n",
    "iqr = q3 - q1\n",
    "iqr"
   ]
  },
  {
   "cell_type": "markdown",
   "metadata": {
    "id": "Me0MBX12wGd_"
   },
   "source": [
    "<hr>\n",
    "\n",
    "### **d) Normality Assessment**\n",
    "\n",
    "Distribusi Normal dikenal juga sebagai distribusi Gaussian. Distribusi normal banyak dibahas di topik statistik inferensial. Distribusi normal juga menjadi asumsi beberapa algoritma Machine Learning. Distribusi normal memiliki kurva distribusi data berbentuk lonceng. Kurva berbentuk simetris dengan titik pusat berada di rata-ratanya (μ) dan penyebaran datanya secara standar deviasi (σ) lebih banyak di dekat nilai rata-rata.\n",
    "\n",
    "Ada banyak metode untuk menguji apakah suatu variabel terdistribusi normal.Kita dapat menggunakan berbagai cara untuk menguji normalitas data. Pertama, dengan visualisasi grafis, kita dapat menggunakan Histogram, Box Plot, dan QQ Plot. Kedua, dengan uji Frequentist, di antaranya: Tes Kolmogorov Smirnov, Tes Lilliefors, Tes Shapiro Wilk, & Tes D’Agostino dan Pearson.\n"
   ]
  },
  {
   "cell_type": "markdown",
   "metadata": {
    "id": "SlMeemXvwGd_"
   },
   "source": [
    "## Karakterisitik data yang terdistribusi normal\n",
    "\n",
    "- Bentuk normal distribution adalah simetris (bell-shaped) di sekitar mean (center) dan unimodal (hanya memiliki satu puncakan). \n",
    "- Mean, median, dan mode bernilai sama. \n",
    "- Data poin lebih banyak tersebar di pusat daripada di tails.\n",
    "  \n",
    "Jika digambarkan:\n",
    "\n",
    "# ![Normal Distribution](Normal_distribution.PNG)\n",
    "\n",
    "Sekitar 68% data poin tersebar di dalam 1 SD dari mean, baik itu di atas maupun di bawah nilai mean.\n",
    "P (µ - σ < X < µ + σ) = 0.68\n",
    "\n",
    "Sekitar 95% data poin tersebar di dalam 2 SD dari mean.\n",
    "P (µ - 2σ < X < µ + 2σ) = 0.95\n",
    "\n",
    "Sekitar 99% data poin tersebar di dalam 3 SD dari mean.\n",
    "P (µ - 3σ < X < µ + 3σ) = 0.99"
   ]
  },
  {
   "cell_type": "markdown",
   "metadata": {
    "id": "H1m1CXeGwGeA"
   },
   "source": [
    "\n",
    "### **Graphical Methods**"
   ]
  },
  {
   "cell_type": "code",
   "execution_count": 21,
   "metadata": {
    "id": "gEJ0VPRJwGeA"
   },
   "outputs": [],
   "source": [
    "import matplotlib.pyplot as plt\n",
    "import seaborn as sns\n",
    "plt.style.use('seaborn')"
   ]
  },
  {
   "cell_type": "markdown",
   "metadata": {
    "id": "oR1HO45YwGeA"
   },
   "source": [
    "#### **``1) Histogram``**\n",
    "\n",
    "Menampilkan distribusi variabel ``User Rating``"
   ]
  },
  {
   "cell_type": "code",
   "execution_count": 22,
   "metadata": {
    "id": "EM2rdByBwGeB",
    "outputId": "4cd025df-651b-46a8-bc96-c9d7694c754e"
   },
   "outputs": [
    {
     "data": {
      "image/png": "[encoded data removed]",
      "text/plain": [
       "<Figure size 576x396 with 1 Axes>"
      ]
     },
     "metadata": {},
     "output_type": "display_data"
    }
   ],
   "source": [
    "sns.histplot(df['User Rating'], kde = True)\n",
    "plt.show()"
   ]
  },
  {
   "cell_type": "markdown",
   "metadata": {
    "id": "TOHmyQHVwGeB"
   },
   "source": [
    "#### **``2) Box Plot``**\n",
    "\n",
    "Menampilkan distribusi variabel ``Reviews``"
   ]
  },
  {
   "cell_type": "code",
   "execution_count": 23,
   "metadata": {
    "id": "NqmXZsPAwGeB",
    "outputId": "03bd0d56-a193-4eb3-cd2a-787e581998e4"
   },
   "outputs": [
    {
     "data": {
      "image/png": "[encoded data removed]",
      "text/plain": [
       "<Figure size 576x396 with 1 Axes>"
      ]
     },
     "metadata": {},
     "output_type": "display_data"
    }
   ],
   "source": [
    "sns.boxplot(data = df, x = 'Reviews')\n",
    "plt.show()"
   ]
  },
  {
   "cell_type": "markdown",
   "metadata": {
    "id": "ErP1Yf2gwGeB"
   },
   "source": [
    "#### **``3) QQ Plot``**\n",
    "\n",
    "Menampilkan distribusi variabel ``Price``"
   ]
  },
  {
   "cell_type": "code",
   "execution_count": 24,
   "metadata": {
    "id": "-8BBg0qcwGeC",
    "outputId": "e104f3a0-7c66-4869-8515-c0f860841de8"
   },
   "outputs": [
    {
     "data": {
      "image/png": "[encoded data removed]",
      "text/plain": [
       "<Figure size 576x396 with 1 Axes>"
      ]
     },
     "metadata": {},
     "output_type": "display_data"
    }
   ],
   "source": [
    "import statsmodels.api as sm\n",
    "import pylab\n",
    "\n",
    "sm.qqplot(df['Price'], line='45')\n",
    "pylab.show()"
   ]
  },
  {
   "cell_type": "markdown",
   "metadata": {
    "id": "x0zSrlctwGeC"
   },
   "source": [
    "<hr>\n",
    "\n",
    "### **Frequentist Test**"
   ]
  },
  {
   "cell_type": "markdown",
   "metadata": {
    "id": "uzmL2jJXwGeC"
   },
   "source": [
    "#### **``1) Kolmogorov Smirnov Test``**\n",
    "\n",
    "Menguji asumsi normalitas variabel ``User Rating``"
   ]
  },
  {
   "cell_type": "code",
   "execution_count": 25,
   "metadata": {
    "id": "MBcYNlIFwGeC",
    "outputId": "3aa19bd7-1b8b-4acf-bf2f-be0feab55c38"
   },
   "outputs": [
    {
     "data": {
      "text/plain": [
       "KstestResult(statistic=0.9995165758576162, pvalue=0.0)"
      ]
     },
     "execution_count": 25,
     "metadata": {},
     "output_type": "execute_result"
    }
   ],
   "source": [
    "from scipy.stats import kstest\n",
    "\n",
    "kstest(df['User Rating'], 'norm')"
   ]
  },
  {
   "cell_type": "markdown",
   "metadata": {
    "id": "BuIlxK8MwGeD"
   },
   "source": [
    "#### **Interpretation**\n",
    "* If the P-Value of the KS Test is larger than 0.05, we assume a normal distribution\n",
    "* If the P-Value of the KS Test is smaller than 0.05, we do not assume a normal distribution"
   ]
  },
  {
   "cell_type": "code",
   "execution_count": 26,
   "metadata": {
    "id": "lfFV9YegwGeD",
    "outputId": "31ed5941-15b6-4674-eb23-53ad17d8b885"
   },
   "outputs": [
    {
     "name": "stdout",
     "output_type": "stream",
     "text": [
      "P-Value: 0.0. So, we do not assume a normal distribution\n"
     ]
    }
   ],
   "source": [
    "ks_statistic, ks_pvalue = kstest(df['User Rating'], 'norm')\n",
    "\n",
    "if ks_pvalue > 0.05:\n",
    "    print(f'P-Value: {ks_pvalue}. So, we assume a normal distribution')\n",
    "else: \n",
    "    print(f'P-Value: {ks_pvalue}. So, we do not assume a normal distribution')"
   ]
  },
  {
   "cell_type": "markdown",
   "metadata": {
    "id": "hhZ_WoWEwGeD"
   },
   "source": [
    "#### **``2) Lilliefors Test``**\n",
    "\n",
    "Menguji asumsi normalitas variabel ``Reviews``"
   ]
  },
  {
   "cell_type": "code",
   "execution_count": 27,
   "metadata": {
    "id": "h2EJoB_8wGeE",
    "outputId": "1c848db8-7308-49d3-a520-a5ad8c56a23e"
   },
   "outputs": [
    {
     "data": {
      "text/plain": [
       "(0.1789514349053149, 0.0009999999999998899)"
      ]
     },
     "execution_count": 27,
     "metadata": {},
     "output_type": "execute_result"
    }
   ],
   "source": [
    "from statsmodels.stats.diagnostic import lilliefors\n",
    "\n",
    "lilliefors(df['Reviews'])"
   ]
  },
  {
   "cell_type": "markdown",
   "metadata": {
    "id": "X70P-xIuwGeE"
   },
   "source": [
    "#### **Interpretation**\n",
    "* If the P-Value of the Lilliefors Test is larger than 0.05, we assume a normal distribution\n",
    "* If the P-Value of the Lilliefors Test is smaller than 0.05, we do not assume a normal distribution"
   ]
  },
  {
   "cell_type": "code",
   "execution_count": 28,
   "metadata": {
    "id": "pXoOc3UTwGeE",
    "outputId": "e119eecc-b803-4f78-f6d9-4ba85465e2b0"
   },
   "outputs": [
    {
     "name": "stdout",
     "output_type": "stream",
     "text": [
      "P-Value: 0.0009999999999998899. So, we do not assume a normal distribution\n"
     ]
    }
   ],
   "source": [
    "lf_statistic, lf_pvalue = lilliefors(df['Reviews'])\n",
    "\n",
    "if lf_pvalue > 0.05:\n",
    "    print(f'P-Value: {lf_pvalue}. So, we assume a normal distribution')\n",
    "else: \n",
    "    print(f'P-Value: {lf_pvalue}. So, we do not assume a normal distribution')"
   ]
  },
  {
   "cell_type": "markdown",
   "metadata": {
    "id": "5kLv1ZcowGeF"
   },
   "source": [
    "#### **``3) Shapiro Wilk Test``**\n",
    "\n",
    "Menguji asumsi normalitas variabel ``Price``"
   ]
  },
  {
   "cell_type": "code",
   "execution_count": 29,
   "metadata": {
    "id": "heuzHhz5wGeF",
    "outputId": "e1df4676-77a8-4109-cdb9-d45ec86aa996"
   },
   "outputs": [
    {
     "data": {
      "text/plain": [
       "ShapiroResult(statistic=0.7021759748458862, pvalue=4.692623477522143e-30)"
      ]
     },
     "execution_count": 29,
     "metadata": {},
     "output_type": "execute_result"
    }
   ],
   "source": [
    "from scipy.stats import shapiro\n",
    "\n",
    "shapiro(df['Price'])"
   ]
  },
  {
   "cell_type": "markdown",
   "metadata": {
    "id": "dJSaahJ_wGeG"
   },
   "source": [
    "#### **Interpretation**\n",
    "* If the P-Value of the Shapiro Wilk Test is larger than 0.05, we assume a normal distribution\n",
    "* If the P-Value of the Shapiro Wilk Test is smaller than 0.05, we do not assume a normal distribution"
   ]
  },
  {
   "cell_type": "code",
   "execution_count": 30,
   "metadata": {
    "id": "JBsse414wGeH",
    "outputId": "a82629f7-8bb9-4330-bbd0-14a354c1ce11"
   },
   "outputs": [
    {
     "name": "stdout",
     "output_type": "stream",
     "text": [
      "P-Value: 4.692623477522143e-30. So, we do not assume a normal distribution\n"
     ]
    }
   ],
   "source": [
    "sw_statistic, sw_pvalue = shapiro(df['Price'])\n",
    "\n",
    "if sw_pvalue > 0.05:\n",
    "    print(f'P-Value: {sw_pvalue}. So, we assume a normal distribution')\n",
    "else: \n",
    "    print(f'P-Value: {sw_pvalue}. So, we do not assume a normal distribution')"
   ]
  },
  {
   "cell_type": "markdown",
   "metadata": {
    "id": "fgl1QQf5wGeK"
   },
   "source": [
    "#### **``4) D’Agostino and Pearson’s Test``**\n",
    "\n",
    "Menguji asumsi normalitas variabel ``Price``"
   ]
  },
  {
   "cell_type": "code",
   "execution_count": 31,
   "metadata": {
    "id": "irV2xARBwGeL",
    "outputId": "8fd5a703-624c-4ba1-a233-85f72d58d954"
   },
   "outputs": [
    {
     "data": {
      "text/plain": [
       "NormaltestResult(statistic=471.48999274374853, pvalue=4.142370491707519e-103)"
      ]
     },
     "execution_count": 31,
     "metadata": {},
     "output_type": "execute_result"
    }
   ],
   "source": [
    "from scipy.stats import normaltest\n",
    "\n",
    "normaltest(df['Price'])"
   ]
  },
  {
   "cell_type": "markdown",
   "metadata": {
    "id": "sR7VSl6GwGeL"
   },
   "source": [
    "#### **Interpretation**\n",
    "* If the P-Value of the D'Agostino-Pearson Test is larger than 0.05, we assume a normal distribution\n",
    "* If the P-Value of the D'Agostino-Pearson Test is smaller than 0.05, we do not assume a normal distribution"
   ]
  },
  {
   "cell_type": "code",
   "execution_count": 32,
   "metadata": {
    "id": "cjWDu0uYwGeL",
    "outputId": "b4749d1c-3c72-4b57-d441-e6618e1e1d49"
   },
   "outputs": [
    {
     "name": "stdout",
     "output_type": "stream",
     "text": [
      "P-Value: 4.142370491707519e-103. So, we do not assume a normal distribution\n"
     ]
    }
   ],
   "source": [
    "dp_statistic, df_pvalue = normaltest(df['Price'])\n",
    "\n",
    "if df_pvalue > 0.05:\n",
    "    print(f'P-Value: {df_pvalue}. So, we assume a normal distribution')\n",
    "else: \n",
    "    print(f'P-Value: {df_pvalue}. So, we do not assume a normal distribution')"
   ]
  },
  {
   "cell_type": "markdown",
   "metadata": {
    "id": "YZuDHZ5iwGeM"
   },
   "source": [
    "# __``Hypothesis Testing``__\n",
    "\n",
    "<hr>  \n",
    "\n",
    "Uji hipotesis adalah metode pengambilan keputusan yang didasarkan dari analisis data, baik dari percobaan yang terkontrol, maupun dari observasi (tidak terkontrol). Dalam statistik sebuah hasil bisa dikatakan signifikan secara statistik jika kejadian tersebut hampir tidak mungkin disebabkan oleh faktor yang kebetulan, sesuai dengan batas probabilitas yang sudah ditentukan sebelumnya."
   ]
  },
  {
   "cell_type": "markdown",
   "metadata": {
    "id": "Xi7Lfe2LwGeM"
   },
   "source": [
    "<hr>\n",
    "\n",
    "## **Hypothesis Testing** : ``Numerical``\n",
    "\n",
    "Kita akan mempraktikkan beberapa uji hipotesis di antaranya _One Sample T-Test, Two Sample Independent T-Test, T-Test Paired,_ dan _One-Way Anova F-test for more than two population mean._\n",
    "\n",
    "Berikut ini contoh praktik uji hipotesis untuk jenis data numerikal:"
   ]
  },
  {
   "cell_type": "markdown",
   "metadata": {
    "id": "GnZxBI7-wGeM"
   },
   "source": [
    "### **a) One Sample T-Test**  \n",
    "Uji-t adalah uji hipotesis statistik. One Sample T-Test digunakan untuk membandingkan mean (rata-rata) pengukuran dari satu kelompok A dengan nilai teoritis yang diharapkan. [[2]](https://simple.wikipedia.org/wiki/Student%27s_t-test)\n",
    "\n",
    "Pada dataset ini, kita ingin membuktikan hipotesis apakah harga buku 10 atau di atasnya"
   ]
  },
  {
   "cell_type": "markdown",
   "metadata": {
    "id": "qQfZc7h2wGeN"
   },
   "source": [
    "**Hypothesis**:\n",
    "<br>\n",
    "**Ho**: Rata-rata harga buku = 10 \n",
    "<br>\n",
    "**Ha**: Rata-rata harga buku > 10 --> one tailed"
   ]
  },
  {
   "cell_type": "code",
   "execution_count": 33,
   "metadata": {
    "id": "_G_vzrPJwGeN"
   },
   "outputs": [],
   "source": [
    "#import libraries\n",
    "from scipy.stats import ttest_1samp"
   ]
  },
  {
   "cell_type": "code",
   "execution_count": 34,
   "metadata": {
    "id": "mP4eLF6VwGeN",
    "outputId": "a28db269-1a9d-4307-abaa-be7d8089440e"
   },
   "outputs": [
    {
     "data": {
      "text/plain": [
       "Ttest_1sampResult(statistic=6.705376094208877, pvalue=5.001628960126041e-11)"
      ]
     },
     "execution_count": 34,
     "metadata": {},
     "output_type": "execute_result"
    }
   ],
   "source": [
    "#one sample t-test\n",
    "ttest_1samp(df['Price'],10) #(data,estimasi rata-rata)"
   ]
  },
  {
   "cell_type": "code",
   "execution_count": 35,
   "metadata": {
    "id": "M-cRDfeAwGeO",
    "outputId": "242cb418-d851-441a-dbf9-11e234dc9999"
   },
   "outputs": [
    {
     "name": "stdout",
     "output_type": "stream",
     "text": [
      "pvalue = 2.5008144800630206e-11\n"
     ]
    }
   ],
   "source": [
    "tset,pval=ttest_1samp(df['Price'],10)\n",
    "# print(tset,pval)\n",
    "\n",
    "print('pvalue =', pval/2) #one tailed"
   ]
  },
  {
   "cell_type": "code",
   "execution_count": 36,
   "metadata": {
    "id": "1Nxep1J3wGeP",
    "outputId": "5468e1f4-b643-4ddc-dc41-8021abfb4c28"
   },
   "outputs": [
    {
     "name": "stdout",
     "output_type": "stream",
     "text": [
      "Tolak H0, rata-rata harga >10\n"
     ]
    }
   ],
   "source": [
    "#conclusion\n",
    "if pval/2<= 0.05: #alpha= 0.05\n",
    "    print('Tolak H0, rata-rata harga >10')\n",
    "else:\n",
    "    print('Gagal tolak H0, rata-rata harga =10')"
   ]
  },
  {
   "cell_type": "markdown",
   "metadata": {
    "id": "OLup8yWVwGeP"
   },
   "source": [
    "**Conclusion**:\n",
    "P-Value lebih rendah dari tingkat signifikansi kita 0,05, artinya kita memiliki cukup bukti untuk menolak Hipotesis Nol. Jadi, Rata-rata harga buku lebih tinggi dari 10 dengan tingkat signifikansi 5%.\n",
    "\n",
    "Kita dapat cek rata-rata harga buku menggunakan pandas seperti code di bawah ini. Kita dapati memang rata-rata harga buku di atas 10, yaitu 13,1."
   ]
  },
  {
   "cell_type": "code",
   "execution_count": 37,
   "metadata": {
    "id": "_WJKNy26wGeP",
    "outputId": "d545f7da-bf0f-4ff1-e54f-2b2151644fd1"
   },
   "outputs": [
    {
     "data": {
      "text/plain": [
       "13.1"
      ]
     },
     "execution_count": 37,
     "metadata": {},
     "output_type": "execute_result"
    }
   ],
   "source": [
    "df['Price'].mean()"
   ]
  },
  {
   "cell_type": "markdown",
   "metadata": {
    "id": "x8iMF1_uwGeQ"
   },
   "source": [
    "<hr>\n",
    "\n",
    "### **b) Two Sample Independent T-Test**\n",
    "Two Sample Independent T-Test digunakan untuk membandingkan rata-rata dari pengukuran dua kelompok A dan B. Mereka ingin memutuskan apakah rata-rata dalam kelompok A berbeda dengan nilai teoritis atau mean dalam kelompok B.[[3]](https://simple.wikipedia.org/wiki/Student%27s_t-test)\n",
    "\n",
    "Pada dataset ini, kita hendak menguji hipotesis apakah rata-rata harga buku antara buku fiksi dan non-fiksi, sama ataukah berbeda?"
   ]
  },
  {
   "cell_type": "code",
   "execution_count": 38,
   "metadata": {
    "id": "wk4fpk1TwGeQ",
    "outputId": "d09fd8f4-494c-42a7-b777-80b83d5ae1da"
   },
   "outputs": [
    {
     "data": {
      "text/html": [
       "<div>\n",
       "<style scoped>\n",
       "    .dataframe tbody tr th:only-of-type {\n",
       "        vertical-align: middle;\n",
       "    }\n",
       "\n",
       "    .dataframe tbody tr th {\n",
       "        vertical-align: top;\n",
       "    }\n",
       "\n",
       "    .dataframe thead th {\n",
       "        text-align: right;\n",
       "    }\n",
       "</style>\n",
       "<table border=\"1\" class=\"dataframe\">\n",
       "  <thead>\n",
       "    <tr style=\"text-align: right;\">\n",
       "      <th></th>\n",
       "      <th>Price</th>\n",
       "      <th>Genre</th>\n",
       "    </tr>\n",
       "  </thead>\n",
       "  <tbody>\n",
       "    <tr>\n",
       "      <th>0</th>\n",
       "      <td>8</td>\n",
       "      <td>Non Fiction</td>\n",
       "    </tr>\n",
       "    <tr>\n",
       "      <th>1</th>\n",
       "      <td>22</td>\n",
       "      <td>Fiction</td>\n",
       "    </tr>\n",
       "    <tr>\n",
       "      <th>2</th>\n",
       "      <td>15</td>\n",
       "      <td>Non Fiction</td>\n",
       "    </tr>\n",
       "    <tr>\n",
       "      <th>3</th>\n",
       "      <td>6</td>\n",
       "      <td>Fiction</td>\n",
       "    </tr>\n",
       "    <tr>\n",
       "      <th>4</th>\n",
       "      <td>12</td>\n",
       "      <td>Non Fiction</td>\n",
       "    </tr>\n",
       "  </tbody>\n",
       "</table>\n",
       "</div>"
      ],
      "text/plain": [
       "   Price        Genre\n",
       "0      8  Non Fiction\n",
       "1     22      Fiction\n",
       "2     15  Non Fiction\n",
       "3      6      Fiction\n",
       "4     12  Non Fiction"
      ]
     },
     "execution_count": 38,
     "metadata": {},
     "output_type": "execute_result"
    }
   ],
   "source": [
    "df[['Price','Genre']].head()"
   ]
  },
  {
   "cell_type": "markdown",
   "metadata": {
    "id": "P8HCdOT7wGeQ"
   },
   "source": [
    "**Hypothesis**:\n",
    "<br>\n",
    "**Ho**: Rata-rata harga buku non fiksi = rata-rata harga buku fiksi\n",
    "<br>\n",
    "**Ha**: Rata-rata harga buku non fiksi > rata-rata harga buku fiksi -->one tailed"
   ]
  },
  {
   "cell_type": "markdown",
   "metadata": {
    "id": "oPPO0GdZwGeQ"
   },
   "source": [
    "*a) Non Equal Variance Assumption**"
   ]
  },
  {
   "cell_type": "code",
   "execution_count": 39,
   "metadata": {
    "id": "-Hk1i6UvwGeQ",
    "outputId": "9b7bc353-4e09-4fd0-897f-4c3a9256bf80"
   },
   "outputs": [
    {
     "data": {
      "text/plain": [
       "0       8\n",
       "2      15\n",
       "4      12\n",
       "8       3\n",
       "11      2\n",
       "       ..\n",
       "539    11\n",
       "546     8\n",
       "547     8\n",
       "548     8\n",
       "549     8\n",
       "Name: Price, Length: 310, dtype: int64"
      ]
     },
     "execution_count": 39,
     "metadata": {},
     "output_type": "execute_result"
    }
   ],
   "source": [
    "df[df['Genre']=='Non Fiction']['Price']"
   ]
  },
  {
   "cell_type": "code",
   "execution_count": 40,
   "metadata": {
    "id": "Ypgl4EwwwGeR",
    "outputId": "13354061-09b3-4489-f9a1-16a85a2d4d90"
   },
   "outputs": [
    {
     "data": {
      "text/plain": [
       "Ttest_indResult(statistic=4.351608076818746, pvalue=1.612435071812073e-05)"
      ]
     },
     "execution_count": 40,
     "metadata": {},
     "output_type": "execute_result"
    }
   ],
   "source": [
    "#import\n",
    "from scipy.stats import ttest_ind\n",
    "\n",
    "ttest_ind(\n",
    "    df[df['Genre']=='Non Fiction']['Price'],\n",
    "    df[df['Genre']=='Fiction']['Price']\n",
    ")"
   ]
  },
  {
   "cell_type": "code",
   "execution_count": 41,
   "metadata": {
    "id": "XtuCdGMdwGeS",
    "outputId": "b2ecdd62-aafb-408f-efac-9765c77a395e"
   },
   "outputs": [
    {
     "name": "stdout",
     "output_type": "stream",
     "text": [
      "p-value= 8.062175359060365e-06\n"
     ]
    }
   ],
   "source": [
    "ttes,pval=ttest_ind(\n",
    "    df[df['Genre']=='Non Fiction']['Price'],\n",
    "    df[df['Genre']=='Fiction']['Price']\n",
    ") #default: variance unequal\n",
    "# print(ttes,pval)\n",
    "print('p-value=', pval/2)"
   ]
  },
  {
   "cell_type": "code",
   "execution_count": 42,
   "metadata": {
    "id": "Moucn2R1wGeS",
    "outputId": "12e73c11-e044-485e-c617-e593aa057e01"
   },
   "outputs": [
    {
     "name": "stdout",
     "output_type": "stream",
     "text": [
      "Tolak Ho, harga buku nonfiksi lebih mahal dari buku fiksi\n"
     ]
    }
   ],
   "source": [
    "#conclusion\n",
    "if pval/2<0.05:\n",
    "    print('Tolak Ho, harga buku nonfiksi lebih mahal dari buku fiksi')\n",
    "else:\n",
    "    print('Gagal tolak Ho, harga buku nonfiksi sama dengan buku fiksi')"
   ]
  },
  {
   "cell_type": "markdown",
   "metadata": {
    "id": "9qwsqBBnwGeS"
   },
   "source": [
    "**b) Equal Variance Assumption**"
   ]
  },
  {
   "cell_type": "code",
   "execution_count": 43,
   "metadata": {
    "id": "Eqoob_o0wGeS",
    "outputId": "66684f7a-3d9b-4694-c90e-0d1395fbfe4c"
   },
   "outputs": [
    {
     "name": "stdout",
     "output_type": "stream",
     "text": [
      "Tolak Ho, harga buku nonfiksi lebih mahal dari buku fiksi\n"
     ]
    }
   ],
   "source": [
    "ttes,pval=ttest_ind(\n",
    "    df[df['Genre']=='Non Fiction']['Price'],\n",
    "    df[df['Genre']=='Fiction']['Price'],\n",
    "    equal_var=True\n",
    ") \n",
    "('p-value=', pval/2)\n",
    "\n",
    "#conclusion\n",
    "\n",
    "if pval/2<=0.05:\n",
    "    print('Tolak Ho, harga buku nonfiksi lebih mahal dari buku fiksi')\n",
    "else:\n",
    "    print('Gagal tolak Ho, harga buku nonfiksi sama dengan buku fiksi')"
   ]
  },
  {
   "cell_type": "markdown",
   "metadata": {
    "id": "MWESwpuDwGeT"
   },
   "source": [
    "**Conclusion**: P-value lebih rendah dari tingkat signifikan 0,05, itu berarti kita memiliki cukup bukti untuk menolak Hipotesis Nol. Jadi, harga rata-rata buku non-fiksi lebih tinggi dari harga buku fiksi.\n",
    "\n",
    "Kita bisa cek manual menggunakan _pandas groupby_. Data harga (_price_) kita kelompokkan berdasarkan genre buku. Memang kita dapati dari hasil code di bawah ini, bahwa rata-rata harga buku non fiksi (14.8) lebih tinggi dari buku fiksi (10.8)."
   ]
  },
  {
   "cell_type": "code",
   "execution_count": 44,
   "metadata": {
    "id": "Fot7_cafwGeU",
    "outputId": "312e530d-2588-4560-813d-51a5e72b41cd"
   },
   "outputs": [
    {
     "data": {
      "text/html": [
       "<div>\n",
       "<style scoped>\n",
       "    .dataframe tbody tr th:only-of-type {\n",
       "        vertical-align: middle;\n",
       "    }\n",
       "\n",
       "    .dataframe tbody tr th {\n",
       "        vertical-align: top;\n",
       "    }\n",
       "\n",
       "    .dataframe thead th {\n",
       "        text-align: right;\n",
       "    }\n",
       "</style>\n",
       "<table border=\"1\" class=\"dataframe\">\n",
       "  <thead>\n",
       "    <tr style=\"text-align: right;\">\n",
       "      <th></th>\n",
       "      <th>Price</th>\n",
       "    </tr>\n",
       "    <tr>\n",
       "      <th>Genre</th>\n",
       "      <th></th>\n",
       "    </tr>\n",
       "  </thead>\n",
       "  <tbody>\n",
       "    <tr>\n",
       "      <th>Fiction</th>\n",
       "      <td>10.850000</td>\n",
       "    </tr>\n",
       "    <tr>\n",
       "      <th>Non Fiction</th>\n",
       "      <td>14.841935</td>\n",
       "    </tr>\n",
       "  </tbody>\n",
       "</table>\n",
       "</div>"
      ],
      "text/plain": [
       "                 Price\n",
       "Genre                 \n",
       "Fiction      10.850000\n",
       "Non Fiction  14.841935"
      ]
     },
     "execution_count": 44,
     "metadata": {},
     "output_type": "execute_result"
    }
   ],
   "source": [
    "df[['Price','Genre']].groupby('Genre').mean()"
   ]
  },
  {
   "cell_type": "code",
   "execution_count": 45,
   "metadata": {
    "id": "-Rb_L063wGeU",
    "outputId": "21c8c6ed-28ce-40e7-f501-88500e011861"
   },
   "outputs": [
    {
     "data": {
      "text/plain": [
       "145.0396596721994"
      ]
     },
     "execution_count": 45,
     "metadata": {},
     "output_type": "execute_result"
    }
   ],
   "source": [
    "# cek variance\n",
    "(df[df['Genre']=='Non Fiction']['Price']).var()"
   ]
  },
  {
   "cell_type": "code",
   "execution_count": 46,
   "metadata": {
    "id": "SrTQCd0YwGeV",
    "outputId": "2395be4a-2bf9-426f-c04a-1eabbe24b62a"
   },
   "outputs": [
    {
     "data": {
      "text/plain": [
       "73.49205020920503"
      ]
     },
     "execution_count": 46,
     "metadata": {},
     "output_type": "execute_result"
    }
   ],
   "source": [
    "(df[df['Genre']=='Fiction']['Price']).var()"
   ]
  },
  {
   "cell_type": "code",
   "execution_count": 47,
   "metadata": {
    "id": "lJPxqSdFwGeX",
    "outputId": "c06a61ae-ed0f-4310-edc7-b3ee27f6b0bc"
   },
   "outputs": [
    {
     "data": {
      "text/plain": [
       "1.9735421621702545"
      ]
     },
     "execution_count": 47,
     "metadata": {},
     "output_type": "execute_result"
    }
   ],
   "source": [
    "(df[df['Genre']=='Non Fiction']['Price']).var()/(df[df['Genre']=='Fiction']['Price']).var() \n",
    "#karena rasio variancenya tidak lebih besar dari 2, maka seharusnya kita pakai ttest equal variance"
   ]
  },
  {
   "cell_type": "markdown",
   "metadata": {
    "id": "SJ2Zb-0FwGeZ"
   },
   "source": [
    "<hr>\n",
    "\n",
    "### **c) T-Test Paired**  \n",
    "\n",
    " Digunakan jika kita ingin menguji perbedaan dua variabel untuk subjek yang sama.\n",
    " \n",
    " Contoh: Kita akan menguji hipotesis kecepatan reaksi seseorang saat mengendarai mobil antara sambil membuka smartphone dan tidak membuka smartphone atau fokus berkendara saja."
   ]
  },
  {
   "cell_type": "code",
   "execution_count": 48,
   "metadata": {
    "id": "hVNvqbB8wGeb"
   },
   "outputs": [],
   "source": [
    "# creating dummy dataset\n",
    "df_paired=pd.DataFrame({'using smartphone':[604,556,540,522,469,544,513,470,556,531,599,537,619,536,554,467],\n",
    " 'no smartphone':[636, 623, 615, 672, 601, 600, 542, 554, 543, 520,609, 559, 595, 565, 573, 554]})"
   ]
  },
  {
   "cell_type": "code",
   "execution_count": 49,
   "metadata": {
    "id": "qWQuY2kfwGec",
    "outputId": "58a4076d-521f-41e4-97dd-d273799173ac"
   },
   "outputs": [
    {
     "data": {
      "text/html": [
       "<div>\n",
       "<style scoped>\n",
       "    .dataframe tbody tr th:only-of-type {\n",
       "        vertical-align: middle;\n",
       "    }\n",
       "\n",
       "    .dataframe tbody tr th {\n",
       "        vertical-align: top;\n",
       "    }\n",
       "\n",
       "    .dataframe thead th {\n",
       "        text-align: right;\n",
       "    }\n",
       "</style>\n",
       "<table border=\"1\" class=\"dataframe\">\n",
       "  <thead>\n",
       "    <tr style=\"text-align: right;\">\n",
       "      <th></th>\n",
       "      <th>using smartphone</th>\n",
       "      <th>no smartphone</th>\n",
       "      <th>diff</th>\n",
       "    </tr>\n",
       "  </thead>\n",
       "  <tbody>\n",
       "    <tr>\n",
       "      <th>0</th>\n",
       "      <td>604</td>\n",
       "      <td>636</td>\n",
       "      <td>-32</td>\n",
       "    </tr>\n",
       "    <tr>\n",
       "      <th>1</th>\n",
       "      <td>556</td>\n",
       "      <td>623</td>\n",
       "      <td>-67</td>\n",
       "    </tr>\n",
       "    <tr>\n",
       "      <th>2</th>\n",
       "      <td>540</td>\n",
       "      <td>615</td>\n",
       "      <td>-75</td>\n",
       "    </tr>\n",
       "    <tr>\n",
       "      <th>3</th>\n",
       "      <td>522</td>\n",
       "      <td>672</td>\n",
       "      <td>-150</td>\n",
       "    </tr>\n",
       "    <tr>\n",
       "      <th>4</th>\n",
       "      <td>469</td>\n",
       "      <td>601</td>\n",
       "      <td>-132</td>\n",
       "    </tr>\n",
       "    <tr>\n",
       "      <th>5</th>\n",
       "      <td>544</td>\n",
       "      <td>600</td>\n",
       "      <td>-56</td>\n",
       "    </tr>\n",
       "    <tr>\n",
       "      <th>6</th>\n",
       "      <td>513</td>\n",
       "      <td>542</td>\n",
       "      <td>-29</td>\n",
       "    </tr>\n",
       "    <tr>\n",
       "      <th>7</th>\n",
       "      <td>470</td>\n",
       "      <td>554</td>\n",
       "      <td>-84</td>\n",
       "    </tr>\n",
       "    <tr>\n",
       "      <th>8</th>\n",
       "      <td>556</td>\n",
       "      <td>543</td>\n",
       "      <td>13</td>\n",
       "    </tr>\n",
       "    <tr>\n",
       "      <th>9</th>\n",
       "      <td>531</td>\n",
       "      <td>520</td>\n",
       "      <td>11</td>\n",
       "    </tr>\n",
       "    <tr>\n",
       "      <th>10</th>\n",
       "      <td>599</td>\n",
       "      <td>609</td>\n",
       "      <td>-10</td>\n",
       "    </tr>\n",
       "    <tr>\n",
       "      <th>11</th>\n",
       "      <td>537</td>\n",
       "      <td>559</td>\n",
       "      <td>-22</td>\n",
       "    </tr>\n",
       "    <tr>\n",
       "      <th>12</th>\n",
       "      <td>619</td>\n",
       "      <td>595</td>\n",
       "      <td>24</td>\n",
       "    </tr>\n",
       "    <tr>\n",
       "      <th>13</th>\n",
       "      <td>536</td>\n",
       "      <td>565</td>\n",
       "      <td>-29</td>\n",
       "    </tr>\n",
       "    <tr>\n",
       "      <th>14</th>\n",
       "      <td>554</td>\n",
       "      <td>573</td>\n",
       "      <td>-19</td>\n",
       "    </tr>\n",
       "    <tr>\n",
       "      <th>15</th>\n",
       "      <td>467</td>\n",
       "      <td>554</td>\n",
       "      <td>-87</td>\n",
       "    </tr>\n",
       "  </tbody>\n",
       "</table>\n",
       "</div>"
      ],
      "text/plain": [
       "    using smartphone  no smartphone  diff\n",
       "0                604            636   -32\n",
       "1                556            623   -67\n",
       "2                540            615   -75\n",
       "3                522            672  -150\n",
       "4                469            601  -132\n",
       "5                544            600   -56\n",
       "6                513            542   -29\n",
       "7                470            554   -84\n",
       "8                556            543    13\n",
       "9                531            520    11\n",
       "10               599            609   -10\n",
       "11               537            559   -22\n",
       "12               619            595    24\n",
       "13               536            565   -29\n",
       "14               554            573   -19\n",
       "15               467            554   -87"
      ]
     },
     "execution_count": 49,
     "metadata": {},
     "output_type": "execute_result"
    }
   ],
   "source": [
    "df_paired['diff']=df_paired['using smartphone']-df_paired['no smartphone']\n",
    "df_paired"
   ]
  },
  {
   "cell_type": "markdown",
   "metadata": {
    "id": "vQMqtht3wGee"
   },
   "source": [
    "**Ho** : Mean Population of difference (yes-no) = 0\n",
    "<br>\n",
    "**Ha** : Mean Population of difference (yes-no) < 0"
   ]
  },
  {
   "cell_type": "code",
   "execution_count": 50,
   "metadata": {
    "id": "_xH2Y92BwGee",
    "outputId": "ed98db08-ad61-4231-f8b0-602151d492ca"
   },
   "outputs": [
    {
     "name": "stdout",
     "output_type": "stream",
     "text": [
      "0.0010497189034628326\n",
      "-3.7091357792693707\n",
      "Tolak Ho\n"
     ]
    }
   ],
   "source": [
    "tset, pval= ttest_1samp(df_paired['diff'],0)\n",
    "print(pval/2)\n",
    "print(tset)\n",
    "\n",
    "#conclusion\n",
    "if pval/2<= 0.05:\n",
    "    print('Tolak Ho')\n",
    "else:\n",
    "    print('Gagal tolak Ho')"
   ]
  },
  {
   "cell_type": "markdown",
   "metadata": {
    "id": "ZJzbGPv7wGef"
   },
   "source": [
    "Karena p-value kurang dari tingkat signifikansi 0.05, maka kita  memiliki cukup bukti untuk menolak hipotesis nol. Artinya, kecepatan reaksi seseorang menurun setelah memegang smartphone ketika mengendarai mobil."
   ]
  },
  {
   "cell_type": "markdown",
   "metadata": {
    "id": "roiiSna1wGef"
   },
   "source": [
    "<hr>\n",
    "\n",
    "### **d) One-Way Anova F-test for more than two population mean**"
   ]
  },
  {
   "cell_type": "code",
   "execution_count": 51,
   "metadata": {
    "id": "SJp680lvwGef",
    "outputId": "57bde3df-a658-4db9-f284-bfd749c1c6aa"
   },
   "outputs": [
    {
     "data": {
      "text/plain": [
       "2016    50\n",
       "2011    50\n",
       "2018    50\n",
       "2017    50\n",
       "2019    50\n",
       "2014    50\n",
       "2010    50\n",
       "2009    50\n",
       "2015    50\n",
       "2013    50\n",
       "2012    50\n",
       "Name: Year, dtype: int64"
      ]
     },
     "execution_count": 51,
     "metadata": {},
     "output_type": "execute_result"
    }
   ],
   "source": [
    "df['Year'].value_counts()"
   ]
  },
  {
   "cell_type": "markdown",
   "metadata": {
    "id": "RZN00Lh_wGeg"
   },
   "source": [
    "Kita ingin mencari apakah ada perbedaan rata-rata harga buku di tahun 2009, 2014, 2019."
   ]
  },
  {
   "cell_type": "code",
   "execution_count": 52,
   "metadata": {
    "id": "urekQ2EowGeg",
    "outputId": "2a75d09a-9bd2-4b0d-ee3d-a6ec3aa150c8"
   },
   "outputs": [
    {
     "data": {
      "text/plain": [
       "14     17\n",
       "25      5\n",
       "38     13\n",
       "50     14\n",
       "60      4\n",
       "72     15\n",
       "78      6\n",
       "80     12\n",
       "91      1\n",
       "92     14\n",
       "95      7\n",
       "96     18\n",
       "131    11\n",
       "134     6\n",
       "139    14\n",
       "160     4\n",
       "177     7\n",
       "216    15\n",
       "228    27\n",
       "241    10\n",
       "254    12\n",
       "260    20\n",
       "271    46\n",
       "299    25\n",
       "304    17\n",
       "313    18\n",
       "330    12\n",
       "331    24\n",
       "346    53\n",
       "364    11\n",
       "369     6\n",
       "374     9\n",
       "387    16\n",
       "388     2\n",
       "398    10\n",
       "402     6\n",
       "417     9\n",
       "418     7\n",
       "429    19\n",
       "430    13\n",
       "459     8\n",
       "470     6\n",
       "471     9\n",
       "473    82\n",
       "498    11\n",
       "512    15\n",
       "513     9\n",
       "520    20\n",
       "524    42\n",
       "535    13\n",
       "Name: Price, dtype: int64"
      ]
     },
     "execution_count": 52,
     "metadata": {},
     "output_type": "execute_result"
    }
   ],
   "source": [
    "df[df['Year']==2009]['Price']"
   ]
  },
  {
   "cell_type": "markdown",
   "metadata": {
    "id": "B_oJSIFDwGeg"
   },
   "source": [
    "**Hipotesis**  \n",
    "**Ho** : Rata-rata harga buku tahun 2009 = 2014 = 2019  \n",
    "**Ha** : Minimal satu pasang di antara rata-rata harga buku di tahun 2009, 2014 dan 2019 tidak sama. (Kita tidak bisa menentukan pasangan mana yang berbeda, dan berbedanya gimana)"
   ]
  },
  {
   "cell_type": "code",
   "execution_count": 53,
   "metadata": {
    "id": "geEQx1pewGeg",
    "outputId": "61cbdd70-a831-4a26-a0dd-2448c529cdcd"
   },
   "outputs": [
    {
     "name": "stdout",
     "output_type": "stream",
     "text": [
      "2.5039981564696396\n",
      "0.0852395551613879\n",
      "Gagal tolak Ho\n"
     ]
    }
   ],
   "source": [
    "from scipy.stats import f_oneway\n",
    "\n",
    "stats,pval= f_oneway(\n",
    "    df[df['Year']==2009]['Price'],\n",
    "    df[df['Year']==2014]['Price'],\n",
    "    df[df['Year']==2019]['Price']\n",
    "    )\n",
    "print(stats)\n",
    "print(pval)\n",
    "\n",
    "#conclusion\n",
    "if pval<=0.05:\n",
    "    print('Tolak Ho')\n",
    "else:\n",
    "    print('Gagal tolak Ho')"
   ]
  },
  {
   "cell_type": "markdown",
   "metadata": {
    "id": "M6icY7gNwGeh"
   },
   "source": [
    "P value **tidak** kurang dari tingkat signifikansi yang kita tentukan (0.05), artinya, kita **tidak** memiliki cukup bukti bahwa ada perbedaan harga buku di tahun 2009, 2014 dan 2019. Maka, kita tidak bisa menolak Ho."
   ]
  },
  {
   "cell_type": "code",
   "execution_count": 54,
   "metadata": {
    "id": "Tm23_PqGwGeh",
    "outputId": "d0bbe57b-c116-45ba-bac8-4cc1548e327b"
   },
   "outputs": [
    {
     "data": {
      "text/plain": [
       "Year\n",
       "2009    15.40\n",
       "2014    14.64\n",
       "2019    10.08\n",
       "Name: Price, dtype: float64"
      ]
     },
     "execution_count": 54,
     "metadata": {},
     "output_type": "execute_result"
    }
   ],
   "source": [
    "df.groupby('Year').mean()['Price'].loc[[2009,2014,2019]]"
   ]
  },
  {
   "cell_type": "markdown",
   "metadata": {
    "id": "TKM87KD0wGeh"
   },
   "source": [
    "## **Hypothesis Testing** : ``Non-Parametric``"
   ]
  },
  {
   "cell_type": "markdown",
   "metadata": {
    "id": "frrtCcSwwGeh"
   },
   "source": [
    "Keputusan untuk memilih akan menggunakan uji parametric atau non-parametric dapat dikatakan bergantung pada central of tendency mana yang lebih cocok digunakan untuk menggambarkan distribusi data, apakah mean atau median.\n",
    "\n",
    "Jika mean lebih akurat dalam merepresentasikan pusat distribusi data dan sample size cukup besar (misalnya n > 30), maka gunakan parametric test.\n",
    "\n",
    "Jika median lebih akurat dalam merepresentasikan pusat distribusi data dan sample sizenya kecil, maka gunakan non-parametric test. Kalaupun sample sizenya cukup besar dan asumsi distribusi normal tidak dapat terpenuhi, maka gunakan juga uji non-parametric."
   ]
  },
  {
   "cell_type": "markdown",
   "metadata": {
    "id": "SbeuIWVzwGeh"
   },
   "source": [
    "### **a) Mann Whitney U**   \n",
    "Dipakai untuk menguji 2 populasi independen. Contoh: rata-rata harga buku fiksi dan non fiksi, jika dataset tersebut tidak memenuhi asumsi untuk uji t-test."
   ]
  },
  {
   "cell_type": "code",
   "execution_count": 55,
   "metadata": {
    "id": "qrBYPpmDwGei"
   },
   "outputs": [],
   "source": [
    "from scipy.stats import normaltest, mannwhitneyu"
   ]
  },
  {
   "cell_type": "code",
   "execution_count": 56,
   "metadata": {
    "id": "HhSXh0q3wGei",
    "outputId": "515c3e3f-75de-4a86-8976-9f3edc86eeef"
   },
   "outputs": [
    {
     "name": "stdout",
     "output_type": "stream",
     "text": [
      "Tolak Ho, distribusi tidak normal\n"
     ]
    }
   ],
   "source": [
    "stats, pval=normaltest(df['Price'])\n",
    "if pval<=0.05:\n",
    "    print('Tolak Ho, distribusi tidak normal')\n",
    "else:\n",
    "    print('Gagal tolak Ho, distribusi normal')"
   ]
  },
  {
   "cell_type": "markdown",
   "metadata": {
    "id": "dDVRhF0KwGei"
   },
   "source": [
    "Karena distribusi harga tidak normal, maka kita menguji perbedaan nilai pusat menggunakan Mann Whitney U"
   ]
  },
  {
   "cell_type": "markdown",
   "metadata": {
    "id": "Y48LO1s_wGei"
   },
   "source": [
    "**Hypothesis**:\n",
    "<br>\n",
    "**Ho**: Nilai rata-rata harga buku non fiksi = nilai rata-rata harga buku fiksi\n",
    "<br>\n",
    "**Ha**: Nilai rata-rata harga buku non fiksi > nilai rata-rata harga buku fiksi"
   ]
  },
  {
   "cell_type": "code",
   "execution_count": 57,
   "metadata": {
    "id": "yCSZK9cIwGej",
    "outputId": "0372c088-c09e-46ba-963d-eca59c351839"
   },
   "outputs": [
    {
     "name": "stdout",
     "output_type": "stream",
     "text": [
      "3.990608885835803e-08\n",
      "Tolak Ho\n"
     ]
    }
   ],
   "source": [
    "stats, pval=mannwhitneyu(df[df['Genre']=='Non Fiction']['Price'],\n",
    "            df[df['Genre']=='Fiction']['Price'],\n",
    "            alternative='greater')\n",
    "\n",
    "print(pval)\n",
    "\n",
    "#conclusion\n",
    "if pval<=0.05:\n",
    "    print('Tolak Ho')\n",
    "else:\n",
    "    print('Gagal tolak Ho')"
   ]
  },
  {
   "cell_type": "markdown",
   "metadata": {
    "id": "0_N_r0bywGej"
   },
   "source": [
    "Karena p-value lebih kecil dari alpha, artinya kita punya cukup bukti untuk menolak Ho, maka kesimpulan kita adalah harga buku Non Fiksi > dari Fiksi"
   ]
  },
  {
   "cell_type": "markdown",
   "metadata": {
    "id": "WUyY5RZAwGej"
   },
   "source": [
    "### **b) Wilcoxon**\n",
    "Test non-parametric untuk dua data berpasangan"
   ]
  },
  {
   "cell_type": "code",
   "execution_count": 58,
   "metadata": {
    "id": "ms57CPQEwGej",
    "outputId": "f443eb05-15de-4415-85c5-b77831312712"
   },
   "outputs": [
    {
     "data": {
      "text/html": [
       "<div>\n",
       "<style scoped>\n",
       "    .dataframe tbody tr th:only-of-type {\n",
       "        vertical-align: middle;\n",
       "    }\n",
       "\n",
       "    .dataframe tbody tr th {\n",
       "        vertical-align: top;\n",
       "    }\n",
       "\n",
       "    .dataframe thead th {\n",
       "        text-align: right;\n",
       "    }\n",
       "</style>\n",
       "<table border=\"1\" class=\"dataframe\">\n",
       "  <thead>\n",
       "    <tr style=\"text-align: right;\">\n",
       "      <th></th>\n",
       "      <th>using smartphone</th>\n",
       "      <th>no smartphone</th>\n",
       "      <th>diff</th>\n",
       "    </tr>\n",
       "  </thead>\n",
       "  <tbody>\n",
       "    <tr>\n",
       "      <th>0</th>\n",
       "      <td>604</td>\n",
       "      <td>636</td>\n",
       "      <td>-32</td>\n",
       "    </tr>\n",
       "    <tr>\n",
       "      <th>1</th>\n",
       "      <td>556</td>\n",
       "      <td>623</td>\n",
       "      <td>-67</td>\n",
       "    </tr>\n",
       "    <tr>\n",
       "      <th>2</th>\n",
       "      <td>540</td>\n",
       "      <td>615</td>\n",
       "      <td>-75</td>\n",
       "    </tr>\n",
       "    <tr>\n",
       "      <th>3</th>\n",
       "      <td>522</td>\n",
       "      <td>672</td>\n",
       "      <td>-150</td>\n",
       "    </tr>\n",
       "    <tr>\n",
       "      <th>4</th>\n",
       "      <td>469</td>\n",
       "      <td>601</td>\n",
       "      <td>-132</td>\n",
       "    </tr>\n",
       "    <tr>\n",
       "      <th>5</th>\n",
       "      <td>544</td>\n",
       "      <td>600</td>\n",
       "      <td>-56</td>\n",
       "    </tr>\n",
       "    <tr>\n",
       "      <th>6</th>\n",
       "      <td>513</td>\n",
       "      <td>542</td>\n",
       "      <td>-29</td>\n",
       "    </tr>\n",
       "    <tr>\n",
       "      <th>7</th>\n",
       "      <td>470</td>\n",
       "      <td>554</td>\n",
       "      <td>-84</td>\n",
       "    </tr>\n",
       "    <tr>\n",
       "      <th>8</th>\n",
       "      <td>556</td>\n",
       "      <td>543</td>\n",
       "      <td>13</td>\n",
       "    </tr>\n",
       "    <tr>\n",
       "      <th>9</th>\n",
       "      <td>531</td>\n",
       "      <td>520</td>\n",
       "      <td>11</td>\n",
       "    </tr>\n",
       "    <tr>\n",
       "      <th>10</th>\n",
       "      <td>599</td>\n",
       "      <td>609</td>\n",
       "      <td>-10</td>\n",
       "    </tr>\n",
       "    <tr>\n",
       "      <th>11</th>\n",
       "      <td>537</td>\n",
       "      <td>559</td>\n",
       "      <td>-22</td>\n",
       "    </tr>\n",
       "    <tr>\n",
       "      <th>12</th>\n",
       "      <td>619</td>\n",
       "      <td>595</td>\n",
       "      <td>24</td>\n",
       "    </tr>\n",
       "    <tr>\n",
       "      <th>13</th>\n",
       "      <td>536</td>\n",
       "      <td>565</td>\n",
       "      <td>-29</td>\n",
       "    </tr>\n",
       "    <tr>\n",
       "      <th>14</th>\n",
       "      <td>554</td>\n",
       "      <td>573</td>\n",
       "      <td>-19</td>\n",
       "    </tr>\n",
       "    <tr>\n",
       "      <th>15</th>\n",
       "      <td>467</td>\n",
       "      <td>554</td>\n",
       "      <td>-87</td>\n",
       "    </tr>\n",
       "  </tbody>\n",
       "</table>\n",
       "</div>"
      ],
      "text/plain": [
       "    using smartphone  no smartphone  diff\n",
       "0                604            636   -32\n",
       "1                556            623   -67\n",
       "2                540            615   -75\n",
       "3                522            672  -150\n",
       "4                469            601  -132\n",
       "5                544            600   -56\n",
       "6                513            542   -29\n",
       "7                470            554   -84\n",
       "8                556            543    13\n",
       "9                531            520    11\n",
       "10               599            609   -10\n",
       "11               537            559   -22\n",
       "12               619            595    24\n",
       "13               536            565   -29\n",
       "14               554            573   -19\n",
       "15               467            554   -87"
      ]
     },
     "execution_count": 58,
     "metadata": {},
     "output_type": "execute_result"
    }
   ],
   "source": [
    "df_paired"
   ]
  },
  {
   "cell_type": "code",
   "execution_count": 59,
   "metadata": {
    "id": "qRp3zGoUwGek"
   },
   "outputs": [],
   "source": [
    "from scipy.stats import shapiro,wilcoxon"
   ]
  },
  {
   "cell_type": "code",
   "execution_count": 60,
   "metadata": {
    "id": "c4Mdvku8wGek",
    "outputId": "9e327d1e-f9ff-4023-8039-086a6dc6df90"
   },
   "outputs": [
    {
     "name": "stdout",
     "output_type": "stream",
     "text": [
      "Gagal tolak Ho, distribusi normal\n"
     ]
    }
   ],
   "source": [
    "stats, pval=shapiro(df_paired['diff'])\n",
    "if pval<=0.05:\n",
    "    print('Tolak Ho, distribusi tidak normal')\n",
    "else:\n",
    "    print('Gagal tolak Ho, distribusi normal') #anggap tidak normal untuk coba uji wilcoxon"
   ]
  },
  {
   "cell_type": "markdown",
   "metadata": {
    "id": "ZRiM7NOHwGel"
   },
   "source": [
    "**Ho** : central tendency Population of difference (yes-no) = 0\n",
    "<br>\n",
    "**Ha** : central tendency Population of difference (yes-no) < 0"
   ]
  },
  {
   "cell_type": "code",
   "execution_count": 61,
   "metadata": {
    "id": "Ghg-PetiwGel",
    "outputId": "09720f9c-15cd-4056-a093-d59b21c23912"
   },
   "outputs": [
    {
     "name": "stdout",
     "output_type": "stream",
     "text": [
      "0.0008392333984375\n",
      "Tolak Ho\n"
     ]
    }
   ],
   "source": [
    "stats, pval=wilcoxon(df_paired['diff'], alternative='less')\n",
    "\n",
    "print(pval)\n",
    "\n",
    "#conclusion\n",
    "if pval<=0.05:\n",
    "    print('Tolak Ho')\n",
    "else:\n",
    "    print('Gagal tolak Ho')"
   ]
  },
  {
   "cell_type": "markdown",
   "metadata": {
    "id": "pdiNPxuAwGel"
   },
   "source": [
    "Karena p-value kurang dari 0.05, artinya kita punya cukup bukti bahwa nilai pusat data difference lebih kecil dari 0, atau bahwa reaksi orang yang fokus mengemudi lebih baik/cepat dibanding yang menggunakan smartphone."
   ]
  },
  {
   "cell_type": "markdown",
   "metadata": {
    "id": "Wj3GnjCxwGem"
   },
   "source": [
    "### **c) Kruskal Wallis**\n",
    "Test Non Parametric untuk lebih dari 2 sampel."
   ]
  },
  {
   "cell_type": "markdown",
   "metadata": {
    "id": "O7bNufetwGem"
   },
   "source": [
    "Kita ingin mencari apakah ada perbedaan rata-rata harga buku di tahun 2009, 2014 dan 2019.  \n",
    "Distribusi harga buku tidak normal."
   ]
  },
  {
   "cell_type": "markdown",
   "metadata": {
    "id": "ULRGoxGDwGen"
   },
   "source": [
    "**Hipotesis**  \n",
    "**Ho** : Nilai pusat harga buku tahun 2009 = 2014 = 2019  \n",
    "**Ha** : Minimal satu pasang di antara nilai pusat harga buku di tahun 2009, 2014 dan 2019 tidak sama. (Kita tidak bisa menentukan pasangan mana yang berbeda, dan berbedanya gimana)"
   ]
  },
  {
   "cell_type": "code",
   "execution_count": 62,
   "metadata": {
    "id": "tTwKZ7O5wGep"
   },
   "outputs": [],
   "source": [
    "from scipy.stats import kruskal"
   ]
  },
  {
   "cell_type": "code",
   "execution_count": 63,
   "metadata": {
    "id": "v2P-BBH0wGeq",
    "outputId": "2f8987b0-9871-4e37-bb10-5513664bd3ed"
   },
   "outputs": [
    {
     "name": "stdout",
     "output_type": "stream",
     "text": [
      "4.406312885328423\n",
      "0.11045396593880222\n",
      "Gagal tolak Ho\n"
     ]
    }
   ],
   "source": [
    "stats,pval= kruskal(\n",
    "    df[df['Year']==2009]['Price'],\n",
    "    df[df['Year']==2014]['Price'],\n",
    "    df[df['Year']==2019]['Price']\n",
    "    )\n",
    "print(stats)\n",
    "print(pval)\n",
    "\n",
    "#conclusion\n",
    "if pval<=0.05:\n",
    "    print('Tolak Ho')\n",
    "else:\n",
    "    print('Gagal tolak Ho')"
   ]
  },
  {
   "cell_type": "markdown",
   "metadata": {
    "id": "M56P1cg8wGer"
   },
   "source": [
    "Karena p-value **tidak** lebih kecil dari 0.05, maka kita **tidak** punya cukup bukti untuk menolak Ho, artinya kesimpulan kita adalah tidak ada perbedaan harga signifikan dari buku di tahun 2009, 2014 dan 2019."
   ]
  },
  {
   "cell_type": "markdown",
   "metadata": {
    "id": "f89E4YaDwGet"
   },
   "source": [
    "## **Hypothesis Testing** : ``Proporsi``\n",
    "Digunakan jikalau data kita kategorikal/kualitatif"
   ]
  },
  {
   "cell_type": "code",
   "execution_count": 64,
   "metadata": {
    "id": "kAW-2CdbwGeu",
    "outputId": "0cfab500-8ec7-4a2a-de5f-594d97f30b6f"
   },
   "outputs": [
    {
     "data": {
      "text/html": [
       "<div>\n",
       "<style scoped>\n",
       "    .dataframe tbody tr th:only-of-type {\n",
       "        vertical-align: middle;\n",
       "    }\n",
       "\n",
       "    .dataframe tbody tr th {\n",
       "        vertical-align: top;\n",
       "    }\n",
       "\n",
       "    .dataframe thead th {\n",
       "        text-align: right;\n",
       "    }\n",
       "</style>\n",
       "<table border=\"1\" class=\"dataframe\">\n",
       "  <thead>\n",
       "    <tr style=\"text-align: right;\">\n",
       "      <th></th>\n",
       "      <th>PassengerId</th>\n",
       "      <th>Pclass</th>\n",
       "      <th>Name</th>\n",
       "      <th>Sex</th>\n",
       "      <th>Age</th>\n",
       "      <th>SibSp</th>\n",
       "      <th>Parch</th>\n",
       "      <th>Ticket</th>\n",
       "      <th>Fare</th>\n",
       "      <th>Cabin</th>\n",
       "      <th>Embarked</th>\n",
       "    </tr>\n",
       "  </thead>\n",
       "  <tbody>\n",
       "    <tr>\n",
       "      <th>0</th>\n",
       "      <td>892</td>\n",
       "      <td>3</td>\n",
       "      <td>Kelly, Mr. James</td>\n",
       "      <td>male</td>\n",
       "      <td>34.5</td>\n",
       "      <td>0</td>\n",
       "      <td>0</td>\n",
       "      <td>330911</td>\n",
       "      <td>7.8292</td>\n",
       "      <td>NaN</td>\n",
       "      <td>Q</td>\n",
       "    </tr>\n",
       "    <tr>\n",
       "      <th>1</th>\n",
       "      <td>893</td>\n",
       "      <td>3</td>\n",
       "      <td>Wilkes, Mrs. James (Ellen Needs)</td>\n",
       "      <td>female</td>\n",
       "      <td>47.0</td>\n",
       "      <td>1</td>\n",
       "      <td>0</td>\n",
       "      <td>363272</td>\n",
       "      <td>7.0000</td>\n",
       "      <td>NaN</td>\n",
       "      <td>S</td>\n",
       "    </tr>\n",
       "    <tr>\n",
       "      <th>2</th>\n",
       "      <td>894</td>\n",
       "      <td>2</td>\n",
       "      <td>Myles, Mr. Thomas Francis</td>\n",
       "      <td>male</td>\n",
       "      <td>62.0</td>\n",
       "      <td>0</td>\n",
       "      <td>0</td>\n",
       "      <td>240276</td>\n",
       "      <td>9.6875</td>\n",
       "      <td>NaN</td>\n",
       "      <td>Q</td>\n",
       "    </tr>\n",
       "    <tr>\n",
       "      <th>3</th>\n",
       "      <td>895</td>\n",
       "      <td>3</td>\n",
       "      <td>Wirz, Mr. Albert</td>\n",
       "      <td>male</td>\n",
       "      <td>27.0</td>\n",
       "      <td>0</td>\n",
       "      <td>0</td>\n",
       "      <td>315154</td>\n",
       "      <td>8.6625</td>\n",
       "      <td>NaN</td>\n",
       "      <td>S</td>\n",
       "    </tr>\n",
       "    <tr>\n",
       "      <th>4</th>\n",
       "      <td>896</td>\n",
       "      <td>3</td>\n",
       "      <td>Hirvonen, Mrs. Alexander (Helga E Lindqvist)</td>\n",
       "      <td>female</td>\n",
       "      <td>22.0</td>\n",
       "      <td>1</td>\n",
       "      <td>1</td>\n",
       "      <td>3101298</td>\n",
       "      <td>12.2875</td>\n",
       "      <td>NaN</td>\n",
       "      <td>S</td>\n",
       "    </tr>\n",
       "  </tbody>\n",
       "</table>\n",
       "</div>"
      ],
      "text/plain": [
       "   PassengerId  Pclass                                          Name     Sex  \\\n",
       "0          892       3                              Kelly, Mr. James    male   \n",
       "1          893       3              Wilkes, Mrs. James (Ellen Needs)  female   \n",
       "2          894       2                     Myles, Mr. Thomas Francis    male   \n",
       "3          895       3                              Wirz, Mr. Albert    male   \n",
       "4          896       3  Hirvonen, Mrs. Alexander (Helga E Lindqvist)  female   \n",
       "\n",
       "    Age  SibSp  Parch   Ticket     Fare Cabin Embarked  \n",
       "0  34.5      0      0   330911   7.8292   NaN        Q  \n",
       "1  47.0      1      0   363272   7.0000   NaN        S  \n",
       "2  62.0      0      0   240276   9.6875   NaN        Q  \n",
       "3  27.0      0      0   315154   8.6625   NaN        S  \n",
       "4  22.0      1      1  3101298  12.2875   NaN        S  "
      ]
     },
     "execution_count": 64,
     "metadata": {},
     "output_type": "execute_result"
    }
   ],
   "source": [
    "df=pd.read_csv('data/titanic.csv')\n",
    "df.head()"
   ]
  },
  {
   "cell_type": "markdown",
   "metadata": {
    "id": "FCU3AnCFwGev"
   },
   "source": [
    "### Z test untuk Populasi Tunggal  \n",
    "Untuk menguji proporsi dari satu populasi, di mana isi kategorinya berupa dikotomi/binari."
   ]
  },
  {
   "cell_type": "markdown",
   "metadata": {
    "id": "hH9oSTGdwGew"
   },
   "source": [
    "Contoh: apakah proporsi penumpang wanita di titanic lebih banyak dari pria  \n",
    "\n",
    "**Hypothesis**  \n",
    "**Ho** : proporsi penumpang wanita = proporsi penumpang pria --> proporsi penumpang wanita = 0.5  \n",
    "**Ha** : proporsi penumpang wanita > proporsi penumpang pria --> proporsi penumpang wanita > 0.5"
   ]
  },
  {
   "cell_type": "code",
   "execution_count": 66,
   "metadata": {
    "id": "nDF_aUvJwGex",
    "outputId": "60c777c5-74fc-4300-e640-c2effbc7a5a5"
   },
   "outputs": [
    {
     "name": "stdout",
     "output_type": "stream",
     "text": [
      "proporsi 152 \n",
      "jumlah data 418\n"
     ]
    }
   ],
   "source": [
    "jumlah_wanita=(df['Sex']=='female').sum()\n",
    "n=len(df)\n",
    "print('proporsi', jumlah_wanita,'\\njumlah data', n)"
   ]
  },
  {
   "cell_type": "code",
   "execution_count": null,
   "metadata": {
    "id": "ZEJ8-OqwwGey"
   },
   "outputs": [],
   "source": [
    "from statsmodels.stats.proportion import proportions_ztest"
   ]
  },
  {
   "cell_type": "code",
   "execution_count": null,
   "metadata": {
    "id": "jg1NqhnCwGey",
    "outputId": "c31b65f2-1679-45fe-dd8d-9c09dae26c60"
   },
   "outputs": [],
   "source": [
    "stats, pval=proportions_ztest(jumlah_wanita, n, 0.5, 'larger') \n",
    "# count data yang ingin dihitung proporsinya, jumlah observasi/data, jumlah proporsi yang diharapkan\n",
    "\n",
    "print(pval)\n",
    "\n",
    "# conclusion\n",
    "if pval<=0.05:\n",
    "    print('Tolak Ho')\n",
    "else:\n",
    "    print('Gagal tolak Ho')"
   ]
  },
  {
   "cell_type": "markdown",
   "metadata": {
    "id": "PcVi5pEVwGey"
   },
   "source": [
    "Kesimpulan: Karena p-value **tidak** lebih kecil dari alpha (0.05), maka kita tidak punya cukup bukti untuk menolak Ho, artinya, proporsi penumpang wanita tidak lebih besar dari pria"
   ]
  },
  {
   "cell_type": "markdown",
   "metadata": {
    "id": "Zg9FFCy1wGey"
   },
   "source": [
    "### Z test untuk dua Populasi  \n",
    "Untuk menguji proporsi dari dua populasi, di mana isinya berupa data kategori dikotomi/binari.  \n",
    "\n",
    "contoh: apakah proporsi penumpang wanita yang selamat di titanic lebih banyak dari proporsi penumpang pria yang selamat\n",
    "\n",
    "**Hypothesis**  \n",
    "**Ho** : proporsi penumpang wanita selamat = proporsi penumpang pria selamat\n",
    "\n",
    "**Ha** : proporsi penumpang wanita selamat > proporsi penumpang pria selamat"
   ]
  },
  {
   "cell_type": "code",
   "execution_count": null,
   "metadata": {
    "id": "W0wvUIthwGez",
    "outputId": "580bd57f-2752-4b20-e0fe-367fce0d6e89"
   },
   "outputs": [],
   "source": [
    "df[['Sex','Alive']]"
   ]
  },
  {
   "cell_type": "code",
   "execution_count": null,
   "metadata": {
    "id": "8infOYAewGez",
    "outputId": "ec265492-d22a-47b5-f53c-d50a1bfe1e4a"
   },
   "outputs": [],
   "source": [
    "df_count=pd.crosstab(df['sex'],df['alive'])\n",
    "df_count"
   ]
  },
  {
   "cell_type": "code",
   "execution_count": null,
   "metadata": {
    "id": "VxB12OLUwGez"
   },
   "outputs": [],
   "source": [
    "from statsmodels.stats.proportion import proportions_ztest"
   ]
  },
  {
   "cell_type": "code",
   "execution_count": null,
   "metadata": {
    "id": "aGeHvEvbwGe0",
    "outputId": "38e11972-b437-49e2-9e1f-e3a0238e771a"
   },
   "outputs": [],
   "source": [
    "df_count['yes'] #jumlah penumpang yang selamat berdasarkan gender"
   ]
  },
  {
   "cell_type": "code",
   "execution_count": null,
   "metadata": {
    "id": "ABwjl5mXwGe0",
    "outputId": "b5e007a1-fd05-40a7-bec0-d16f40212ddf"
   },
   "outputs": [],
   "source": [
    "df_count.sum(axis=1) #proporsi total penumpang wanita dan pria"
   ]
  },
  {
   "cell_type": "code",
   "execution_count": null,
   "metadata": {
    "id": "QEpa7SWWwGe0",
    "outputId": "fef1263c-8d51-41cb-bcc8-dc225d22bca1"
   },
   "outputs": [],
   "source": [
    "stats, pval=proportions_ztest(df_count['yes'],df_count.sum(axis=1), alternative='larger')\n",
    "\n",
    "print(pval)\n",
    "#conclusion\n",
    "if pval<=0.05:\n",
    "    print('Tolak Ho')\n",
    "else:\n",
    "    print('Gagal tolak Ho')"
   ]
  },
  {
   "cell_type": "markdown",
   "metadata": {
    "id": "2PlnJLvKwGe1"
   },
   "source": [
    "p-value < dari alpha (0.05) maka, kita punya cukup bukti untuk menolak Ho, artinya, proporsi wanita yang selamat lebih besar dari pria"
   ]
  },
  {
   "cell_type": "code",
   "execution_count": null,
   "metadata": {
    "id": "R_FfVB6BwGe1",
    "outputId": "8599fe22-b910-4968-8223-7062d503955f"
   },
   "outputs": [],
   "source": [
    "pd.crosstab(df['sex'],df['alive'], normalize='index')"
   ]
  },
  {
   "cell_type": "markdown",
   "metadata": {
    "id": "rDOP2HKFwGe1"
   },
   "source": [
    "## Chi Square\n",
    "\n",
    "Untuk menguji apakah dua variabel kategorikal memiliki hubungan satu sama lain. Tiap variabel bisa memiliki banyak kategori.  \n",
    "[Bacaan lanjut](https://towardsdatascience.com/gentle-introduction-to-chi-square-test-for-independence-7182a7414a95)"
   ]
  },
  {
   "cell_type": "markdown",
   "metadata": {
    "id": "QNaVewkowGe1"
   },
   "source": [
    "Apakah asal kota penumpang mempengaruhi keselamatan penumpang tersebut?"
   ]
  },
  {
   "cell_type": "code",
   "execution_count": null,
   "metadata": {
    "id": "ShGh31sTwGe2",
    "outputId": "18d22d22-4eb8-4511-f116-e1d3cad1299c"
   },
   "outputs": [],
   "source": [
    "df['embark_town'].value_counts()"
   ]
  },
  {
   "cell_type": "markdown",
   "metadata": {
    "id": "t17lZ8_wwGe2"
   },
   "source": [
    "**Hypothesis**    \n",
    "**Ho**: Asal kota tidak memiliki keterkaitan dengan keselamatan penumpang  \n",
    "**Ha**: Asal kota memiliki keterkaitan dengan keselamatan penumpang"
   ]
  },
  {
   "cell_type": "code",
   "execution_count": null,
   "metadata": {
    "id": "-fKGAoJMwGe2"
   },
   "outputs": [],
   "source": [
    "from scipy.stats import chi2_contingency"
   ]
  },
  {
   "cell_type": "code",
   "execution_count": null,
   "metadata": {
    "id": "qq5LOYGywGe2",
    "outputId": "30f59d76-79c5-4bc0-8750-892d6c1390c1"
   },
   "outputs": [],
   "source": [
    "df_count=pd.crosstab(df['embark_town'],df['alive'])\n",
    "df_count"
   ]
  },
  {
   "cell_type": "code",
   "execution_count": null,
   "metadata": {
    "id": "--kkZvdcwGe3",
    "outputId": "eb55089f-781e-4732-9f4b-51ad23659b84"
   },
   "outputs": [],
   "source": [
    "stats, pval, dof, expected=chi2_contingency(df_count)\n",
    "\n",
    "print(pval)\n",
    "#conclusion\n",
    "if pval<=0.05:\n",
    "    print('Tolak Ho')\n",
    "else:\n",
    "    print('Gagal tolak Ho')"
   ]
  },
  {
   "cell_type": "markdown",
   "metadata": {
    "id": "tHvEmcFEwGe3"
   },
   "source": [
    "p-value< alpha (0.05), maka kita punya cukup bukti untuk menolak Ho, artinya ada keterkaitan antara kota asal penumpang dengan keselamatan."
   ]
  },
  {
   "cell_type": "code",
   "execution_count": null,
   "metadata": {
    "id": "pW_CYAhqwGe4",
    "outputId": "542994fb-54dc-4403-902c-9bbee0cda0d3"
   },
   "outputs": [],
   "source": [
    "pd.crosstab(df['embark_town'],df['alive'], normalize='index')"
   ]
  },
  {
   "cell_type": "code",
   "execution_count": 68,
   "metadata": {},
   "outputs": [
    {
     "data": {
      "text/plain": [
       "6.666666666666667"
      ]
     },
     "execution_count": 68,
     "metadata": {},
     "output_type": "execute_result"
    }
   ],
   "source": [
    "import numpy as np\n",
    "\n",
    "arr = np.array([1,2,3,4,5,6,7,8,9])\n",
    "arr.std()\n",
    "arr.var()"
   ]
  },
  {
   "cell_type": "markdown",
   "metadata": {
    "id": "F2ZYAJJUwGe7"
   },
   "source": [
    "<hr>\n",
    "\n",
    "<center><h3>\n",
    "<b>Thank you and keep learning!</b>\n",
    "    </h3>\n",
    "    </center>"
   ]
  }
 ],
 "metadata": {
  "colab": {
   "name": "Review_Stats.ipynb",
   "provenance": []
  },
  "interpreter": {
   "hash": "95a19bb7a135a8107af75b765dc097fafc28c1115c0f9727f05dc637904e7be8"
  },
  "kernelspec": {
   "display_name": "Python 3",
   "language": "python",
   "name": "python3"
  },
  "language_info": {
   "codemirror_mode": {
    "name": "ipython",
    "version": 3
   },
   "file_extension": ".py",
   "mimetype": "text/x-python",
   "name": "python",
   "nbconvert_exporter": "python",
   "pygments_lexer": "ipython3",
   "version": "3.8.5"
  },
  "toc": {
   "base_numbering": 1,
   "nav_menu": {},
   "number_sections": true,
   "sideBar": true,
   "skip_h1_title": false,
   "title_cell": "Table of Contents",
   "title_sidebar": "Contents",
   "toc_cell": false,
   "toc_position": {},
   "toc_section_display": true,
   "toc_window_display": false
  }
 },
 "nbformat": 4,
 "nbformat_minor": 2
}
