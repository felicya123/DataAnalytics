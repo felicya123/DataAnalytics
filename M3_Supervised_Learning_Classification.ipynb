{
 "cells": [
  {
   "cell_type": "markdown",
   "metadata": {},
   "source": [
    "## Logistic Regression"
   ]
  },
  {
   "cell_type": "markdown",
   "metadata": {},
   "source": [
    "1. Analyze data bankloan.csv\n",
    "2. Build a logistic regression model\n",
    "    - target : default\n",
    "    - features : employ, debtinc,creddebt, othdebt\n",
    "3. Interpret The Result\n",
    "4. Validate the model using accuracy in 20% testing data"
   ]
  },
  {
   "cell_type": "code",
   "execution_count": 1,
   "metadata": {},
   "outputs": [],
   "source": [
    "import pandas as pd\n",
    "import numpy as np"
   ]
  },
  {
   "cell_type": "code",
   "execution_count": 2,
   "metadata": {},
   "outputs": [
    {
     "data": {
      "text/html": [
       "<div>\n",
       "<style scoped>\n",
       "    .dataframe tbody tr th:only-of-type {\n",
       "        vertical-align: middle;\n",
       "    }\n",
       "\n",
       "    .dataframe tbody tr th {\n",
       "        vertical-align: top;\n",
       "    }\n",
       "\n",
       "    .dataframe thead th {\n",
       "        text-align: right;\n",
       "    }\n",
       "</style>\n",
       "<table border=\"1\" class=\"dataframe\">\n",
       "  <thead>\n",
       "    <tr style=\"text-align: right;\">\n",
       "      <th></th>\n",
       "      <th>age</th>\n",
       "      <th>ed</th>\n",
       "      <th>employ</th>\n",
       "      <th>address</th>\n",
       "      <th>income</th>\n",
       "      <th>debtinc</th>\n",
       "      <th>creddebt</th>\n",
       "      <th>othdebt</th>\n",
       "      <th>default</th>\n",
       "    </tr>\n",
       "  </thead>\n",
       "  <tbody>\n",
       "    <tr>\n",
       "      <th>0</th>\n",
       "      <td>41</td>\n",
       "      <td>3</td>\n",
       "      <td>17</td>\n",
       "      <td>12</td>\n",
       "      <td>176</td>\n",
       "      <td>9.3</td>\n",
       "      <td>11.359392</td>\n",
       "      <td>5.008608</td>\n",
       "      <td>1</td>\n",
       "    </tr>\n",
       "    <tr>\n",
       "      <th>1</th>\n",
       "      <td>27</td>\n",
       "      <td>1</td>\n",
       "      <td>10</td>\n",
       "      <td>6</td>\n",
       "      <td>31</td>\n",
       "      <td>17.3</td>\n",
       "      <td>1.362202</td>\n",
       "      <td>4.000798</td>\n",
       "      <td>0</td>\n",
       "    </tr>\n",
       "    <tr>\n",
       "      <th>2</th>\n",
       "      <td>40</td>\n",
       "      <td>1</td>\n",
       "      <td>15</td>\n",
       "      <td>14</td>\n",
       "      <td>55</td>\n",
       "      <td>5.5</td>\n",
       "      <td>0.856075</td>\n",
       "      <td>2.168925</td>\n",
       "      <td>0</td>\n",
       "    </tr>\n",
       "    <tr>\n",
       "      <th>3</th>\n",
       "      <td>41</td>\n",
       "      <td>1</td>\n",
       "      <td>15</td>\n",
       "      <td>14</td>\n",
       "      <td>120</td>\n",
       "      <td>2.9</td>\n",
       "      <td>2.658720</td>\n",
       "      <td>0.821280</td>\n",
       "      <td>0</td>\n",
       "    </tr>\n",
       "    <tr>\n",
       "      <th>4</th>\n",
       "      <td>24</td>\n",
       "      <td>2</td>\n",
       "      <td>2</td>\n",
       "      <td>0</td>\n",
       "      <td>28</td>\n",
       "      <td>17.3</td>\n",
       "      <td>1.787436</td>\n",
       "      <td>3.056564</td>\n",
       "      <td>1</td>\n",
       "    </tr>\n",
       "    <tr>\n",
       "      <th>...</th>\n",
       "      <td>...</td>\n",
       "      <td>...</td>\n",
       "      <td>...</td>\n",
       "      <td>...</td>\n",
       "      <td>...</td>\n",
       "      <td>...</td>\n",
       "      <td>...</td>\n",
       "      <td>...</td>\n",
       "      <td>...</td>\n",
       "    </tr>\n",
       "    <tr>\n",
       "      <th>695</th>\n",
       "      <td>36</td>\n",
       "      <td>2</td>\n",
       "      <td>6</td>\n",
       "      <td>15</td>\n",
       "      <td>27</td>\n",
       "      <td>4.6</td>\n",
       "      <td>0.262062</td>\n",
       "      <td>0.979938</td>\n",
       "      <td>1</td>\n",
       "    </tr>\n",
       "    <tr>\n",
       "      <th>696</th>\n",
       "      <td>29</td>\n",
       "      <td>2</td>\n",
       "      <td>6</td>\n",
       "      <td>4</td>\n",
       "      <td>21</td>\n",
       "      <td>11.5</td>\n",
       "      <td>0.369495</td>\n",
       "      <td>2.045505</td>\n",
       "      <td>0</td>\n",
       "    </tr>\n",
       "    <tr>\n",
       "      <th>697</th>\n",
       "      <td>33</td>\n",
       "      <td>1</td>\n",
       "      <td>15</td>\n",
       "      <td>3</td>\n",
       "      <td>32</td>\n",
       "      <td>7.6</td>\n",
       "      <td>0.491264</td>\n",
       "      <td>1.940736</td>\n",
       "      <td>0</td>\n",
       "    </tr>\n",
       "    <tr>\n",
       "      <th>698</th>\n",
       "      <td>45</td>\n",
       "      <td>1</td>\n",
       "      <td>19</td>\n",
       "      <td>22</td>\n",
       "      <td>77</td>\n",
       "      <td>8.4</td>\n",
       "      <td>2.302608</td>\n",
       "      <td>4.165392</td>\n",
       "      <td>0</td>\n",
       "    </tr>\n",
       "    <tr>\n",
       "      <th>699</th>\n",
       "      <td>37</td>\n",
       "      <td>1</td>\n",
       "      <td>12</td>\n",
       "      <td>14</td>\n",
       "      <td>44</td>\n",
       "      <td>14.7</td>\n",
       "      <td>2.994684</td>\n",
       "      <td>3.473316</td>\n",
       "      <td>0</td>\n",
       "    </tr>\n",
       "  </tbody>\n",
       "</table>\n",
       "<p>700 rows × 9 columns</p>\n",
       "</div>"
      ],
      "text/plain": [
       "     age  ed  employ  address  income  debtinc   creddebt   othdebt  default\n",
       "0     41   3      17       12     176      9.3  11.359392  5.008608        1\n",
       "1     27   1      10        6      31     17.3   1.362202  4.000798        0\n",
       "2     40   1      15       14      55      5.5   0.856075  2.168925        0\n",
       "3     41   1      15       14     120      2.9   2.658720  0.821280        0\n",
       "4     24   2       2        0      28     17.3   1.787436  3.056564        1\n",
       "..   ...  ..     ...      ...     ...      ...        ...       ...      ...\n",
       "695   36   2       6       15      27      4.6   0.262062  0.979938        1\n",
       "696   29   2       6        4      21     11.5   0.369495  2.045505        0\n",
       "697   33   1      15        3      32      7.6   0.491264  1.940736        0\n",
       "698   45   1      19       22      77      8.4   2.302608  4.165392        0\n",
       "699   37   1      12       14      44     14.7   2.994684  3.473316        0\n",
       "\n",
       "[700 rows x 9 columns]"
      ]
     },
     "execution_count": 2,
     "metadata": {},
     "output_type": "execute_result"
    }
   ],
   "source": [
    "raw = pd.read_csv('data/bankloan.csv')\n",
    "df = raw.copy()\n",
    "df"
   ]
  },
  {
   "cell_type": "markdown",
   "metadata": {},
   "source": [
    "Keterangan:\n",
    "1. age : usia nasabah\n",
    "2. ed : jenjang pendidikan\n",
    "3. employ : lama kerja\n",
    "4. address : lama tinggal\n",
    "5. income : pemasukan per bulan\n",
    "6. debtinc : persentase hutang dlm income\n",
    "7. credebt : nominal hutang (satuan ribu dollar)\n",
    "8. othdebt : nominal hutang dr sumber lain (satuan ribu dollar)\n",
    "9. default : 1 gagal bayar, 0 tdk gagal bayar"
   ]
  },
  {
   "cell_type": "code",
   "execution_count": 3,
   "metadata": {},
   "outputs": [],
   "source": [
    "fitur = ['employ', 'debtinc','creddebt', 'othdebt']\n",
    "target = 'default'\n",
    "\n",
    "x = df[fitur]\n",
    "y = df[target]"
   ]
  },
  {
   "cell_type": "code",
   "execution_count": 4,
   "metadata": {},
   "outputs": [
    {
     "data": {
      "text/plain": [
       "0      1\n",
       "1      0\n",
       "2      0\n",
       "3      0\n",
       "4      1\n",
       "      ..\n",
       "695    1\n",
       "696    0\n",
       "697    0\n",
       "698    0\n",
       "699    0\n",
       "Name: default, Length: 700, dtype: int64"
      ]
     },
     "execution_count": 4,
     "metadata": {},
     "output_type": "execute_result"
    }
   ],
   "source": [
    "y"
   ]
  },
  {
   "cell_type": "code",
   "execution_count": 5,
   "metadata": {},
   "outputs": [
    {
     "data": {
      "text/html": [
       "<div>\n",
       "<style scoped>\n",
       "    .dataframe tbody tr th:only-of-type {\n",
       "        vertical-align: middle;\n",
       "    }\n",
       "\n",
       "    .dataframe tbody tr th {\n",
       "        vertical-align: top;\n",
       "    }\n",
       "\n",
       "    .dataframe thead th {\n",
       "        text-align: right;\n",
       "    }\n",
       "</style>\n",
       "<table border=\"1\" class=\"dataframe\">\n",
       "  <thead>\n",
       "    <tr style=\"text-align: right;\">\n",
       "      <th></th>\n",
       "      <th>employ</th>\n",
       "      <th>debtinc</th>\n",
       "      <th>creddebt</th>\n",
       "      <th>othdebt</th>\n",
       "    </tr>\n",
       "  </thead>\n",
       "  <tbody>\n",
       "    <tr>\n",
       "      <th>count</th>\n",
       "      <td>700.000000</td>\n",
       "      <td>700.000000</td>\n",
       "      <td>700.000000</td>\n",
       "      <td>700.000000</td>\n",
       "    </tr>\n",
       "    <tr>\n",
       "      <th>mean</th>\n",
       "      <td>8.388571</td>\n",
       "      <td>10.260571</td>\n",
       "      <td>1.553553</td>\n",
       "      <td>3.058209</td>\n",
       "    </tr>\n",
       "    <tr>\n",
       "      <th>std</th>\n",
       "      <td>6.658039</td>\n",
       "      <td>6.827234</td>\n",
       "      <td>2.117197</td>\n",
       "      <td>3.287555</td>\n",
       "    </tr>\n",
       "    <tr>\n",
       "      <th>min</th>\n",
       "      <td>0.000000</td>\n",
       "      <td>0.400000</td>\n",
       "      <td>0.011696</td>\n",
       "      <td>0.045584</td>\n",
       "    </tr>\n",
       "    <tr>\n",
       "      <th>25%</th>\n",
       "      <td>3.000000</td>\n",
       "      <td>5.000000</td>\n",
       "      <td>0.369059</td>\n",
       "      <td>1.044178</td>\n",
       "    </tr>\n",
       "    <tr>\n",
       "      <th>50%</th>\n",
       "      <td>7.000000</td>\n",
       "      <td>8.600000</td>\n",
       "      <td>0.854869</td>\n",
       "      <td>1.987567</td>\n",
       "    </tr>\n",
       "    <tr>\n",
       "      <th>75%</th>\n",
       "      <td>12.000000</td>\n",
       "      <td>14.125000</td>\n",
       "      <td>1.901955</td>\n",
       "      <td>3.923065</td>\n",
       "    </tr>\n",
       "    <tr>\n",
       "      <th>max</th>\n",
       "      <td>31.000000</td>\n",
       "      <td>41.300000</td>\n",
       "      <td>20.561310</td>\n",
       "      <td>27.033600</td>\n",
       "    </tr>\n",
       "  </tbody>\n",
       "</table>\n",
       "</div>"
      ],
      "text/plain": [
       "           employ     debtinc    creddebt     othdebt\n",
       "count  700.000000  700.000000  700.000000  700.000000\n",
       "mean     8.388571   10.260571    1.553553    3.058209\n",
       "std      6.658039    6.827234    2.117197    3.287555\n",
       "min      0.000000    0.400000    0.011696    0.045584\n",
       "25%      3.000000    5.000000    0.369059    1.044178\n",
       "50%      7.000000    8.600000    0.854869    1.987567\n",
       "75%     12.000000   14.125000    1.901955    3.923065\n",
       "max     31.000000   41.300000   20.561310   27.033600"
      ]
     },
     "execution_count": 5,
     "metadata": {},
     "output_type": "execute_result"
    }
   ],
   "source": [
    "x.describe()"
   ]
  },
  {
   "cell_type": "markdown",
   "metadata": {},
   "source": [
    "Dari data x.desbribe( yg akan dibutuhkan adalah nilai max dan min utk interpretasi"
   ]
  },
  {
   "cell_type": "markdown",
   "metadata": {},
   "source": [
    "### Logistic Regression"
   ]
  },
  {
   "cell_type": "code",
   "execution_count": 6,
   "metadata": {},
   "outputs": [],
   "source": [
    "import statsmodels.api as sm"
   ]
  },
  {
   "cell_type": "code",
   "execution_count": 7,
   "metadata": {},
   "outputs": [
    {
     "name": "stdout",
     "output_type": "stream",
     "text": [
      "Optimization terminated successfully.\n",
      "         Current function value: 0.411165\n",
      "         Iterations 7\n"
     ]
    },
    {
     "name": "stderr",
     "output_type": "stream",
     "text": [
      "C:\\Users\\62812\\anaconda3\\lib\\site-packages\\statsmodels\\tsa\\tsatools.py:142: FutureWarning: In a future version of pandas all arguments of concat except for the argument 'objs' will be keyword-only\n",
      "  x = pd.concat(x[::order], 1)\n"
     ]
    }
   ],
   "source": [
    "# model = sm.Logit(y, x) #x yg ditulis tanpa intercept\n",
    "model = sm.Logit(y, sm.add_constant(x)) #perlu tambahan function sm.add_constant\n",
    "result = model.fit()"
   ]
  },
  {
   "cell_type": "code",
   "execution_count": 8,
   "metadata": {},
   "outputs": [
    {
     "name": "stdout",
     "output_type": "stream",
     "text": [
      "                           Logit Regression Results                           \n",
      "==============================================================================\n",
      "Dep. Variable:                default   No. Observations:                  700\n",
      "Model:                          Logit   Df Residuals:                      695\n",
      "Method:                           MLE   Df Model:                            4\n",
      "Date:                Fri, 20 Aug 2021   Pseudo R-squ.:                  0.2844\n",
      "Time:                        08:28:08   Log-Likelihood:                -287.82\n",
      "converged:                       True   LL-Null:                       -402.18\n",
      "Covariance Type:            nonrobust   LLR p-value:                 2.473e-48\n",
      "==============================================================================\n",
      "                 coef    std err          z      P>|z|      [0.025      0.975]\n",
      "------------------------------------------------------------------------------\n",
      "const         -1.2302      0.236     -5.210      0.000      -1.693      -0.767\n",
      "employ        -0.2436      0.029     -8.456      0.000      -0.300      -0.187\n",
      "debtinc        0.0885      0.021      4.200      0.000       0.047       0.130\n",
      "creddebt       0.5041      0.083      6.094      0.000       0.342       0.666\n",
      "othdebt       -0.0040      0.053     -0.076      0.940      -0.107       0.099\n",
      "==============================================================================\n"
     ]
    }
   ],
   "source": [
    "print(result.summary())"
   ]
  },
  {
   "cell_type": "markdown",
   "metadata": {},
   "source": [
    "Out yg perlu dibaca :\n",
    "1. LLR p-value : 2.473e-48 #pengganti F Test dlm Linear Regression\n",
    "2. p-value :\n",
    "    - const : 0.000\n",
    "    - employ : 0.000\n",
    "    - debtinc :0.000\n",
    "    - creddebt : 0.000\n",
    "    - othdebt : 0.940 \n",
    "3. coef :\n",
    "    - employ : -0.2436\n",
    "    - debtinc : 0.0885\n",
    "    - creddebt : -0.5041\n",
    "    - othdebt : -0.0040"
   ]
  },
  {
   "cell_type": "markdown",
   "metadata": {},
   "source": [
    "yang dimodelkan adalah resiko defaul, resiko seseorang akan menjadi buruk pembayaranya\n",
    "Interpretasi :\n",
    "1. LLR p-value : 2.473e-48 < 0.05 (tolak H0 artinya minimal salah satu var berpengaruh signifikan thpd resiko default.)\n",
    "2. p-value :\n",
    "    - const : 0.000 < 0.0 (tolak H0, model perlu intercept)\n",
    "    - employ : 0.000 < 0.05 (tolak H0, var berpengaruh significant. Berlaku jika nilai employ antara 0-31)\n",
    "    - debtinc :0.000 < 0.05 (tolak H0, var berpengaruh significant. Berlaku jika nilai debtinc antara 0.4-41.3)\n",
    "    - creddebt : 0.000 < 0.05 (tolak H0, var berpengaruh significant. Berlaku jika nilai creddebt antara 0.11696-20.56)\n",
    "    - othdebt : 0.940 > 0.05 (terima H0, var tidak berpengaruh significant)\n",
    "3. coef :\n",
    "    - employ : -0.2436 (semakin lama kerja, kemungkinan default semakin berkurang)\n",
    "    - debtinc : 0.0885 (semakin banyak persentase hutang dalam income, semakin besar kemungkinan default)\n",
    "    - creddebt : -0.5041 (semakin besar nominal hutang, semakin kecil kemungkinan default)\n",
    "    - othdebt : tidak dianggap krn terima H0, var tidak berpengaruh significant"
   ]
  },
  {
   "cell_type": "markdown",
   "metadata": {},
   "source": [
    "**Untuk Logistic Regression, kita tidak bs lgsg interpretasikan nilai coefnya. Harus diubah ke Odd Ratio**"
   ]
  },
  {
   "cell_type": "markdown",
   "metadata": {},
   "source": [
    "coef -> OR exp(beta(c-a))"
   ]
  },
  {
   "cell_type": "code",
   "execution_count": 9,
   "metadata": {},
   "outputs": [
    {
     "name": "stdout",
     "output_type": "stream",
     "text": [
      "3.380420128015566\n"
     ]
    }
   ],
   "source": [
    "# odd ratio employee\n",
    "c = 20\n",
    "a = 15\n",
    "\n",
    "OR_employ = np.exp(0.2436*(c-a))\n",
    "print(OR_employ)"
   ]
  },
  {
   "cell_type": "markdown",
   "metadata": {},
   "source": [
    "**artinya:**\n",
    "Ketika lama kerja meningkat sebesar 5 tahun, kemungkinan default lebih kecil 3.38x. Nilai variabel lain tidak berubah."
   ]
  },
  {
   "cell_type": "code",
   "execution_count": 10,
   "metadata": {},
   "outputs": [
    {
     "data": {
      "text/plain": [
       "2.4229843914855502"
      ]
     },
     "execution_count": 10,
     "metadata": {},
     "output_type": "execute_result"
    }
   ],
   "source": [
    "# odd ratio debtinc\n",
    "c = 30\n",
    "a = 20\n",
    "\n",
    "OR_debtinc = np.exp(0.0885*(c-a))\n",
    "OR_debtinc"
   ]
  },
  {
   "cell_type": "markdown",
   "metadata": {},
   "source": [
    "**artinya:**\n",
    "Ketika persentase hutang dalam income meningkat sebesar 10 persen, kemungkinan default lebih besar 2.422x. Nilai variabel lain tidak berubah"
   ]
  },
  {
   "cell_type": "code",
   "execution_count": 11,
   "metadata": {},
   "outputs": [
    {
     "data": {
      "text/plain": [
       "12.434812515742879"
      ]
     },
     "execution_count": 11,
     "metadata": {},
     "output_type": "execute_result"
    }
   ],
   "source": [
    "# odd ratio credebt\n",
    "c = 15\n",
    "a = 10\n",
    "\n",
    "OR_credebt = np.exp(0.5041*(c-a))\n",
    "OR_credebt"
   ]
  },
  {
   "cell_type": "markdown",
   "metadata": {},
   "source": [
    "**artinya:** Ketika jumlah nominal hutang meningkat sebesar 5 ribu dollar, kemungkinan default lebih kecil 12.43x. Nilai variabel lain tidak berubah"
   ]
  },
  {
   "cell_type": "markdown",
   "metadata": {},
   "source": [
    "### Multikolinearitas"
   ]
  },
  {
   "cell_type": "code",
   "execution_count": 12,
   "metadata": {},
   "outputs": [],
   "source": [
    "from statsmodels.stats.outliers_influence import variance_inflation_factor"
   ]
  },
  {
   "cell_type": "code",
   "execution_count": 13,
   "metadata": {},
   "outputs": [],
   "source": [
    "def call_vif(x):\n",
    "    vif = pd.DataFrame()\n",
    "    vif['Variabel'] = x.columns\n",
    "    vif['vif'] = [variance_inflation_factor(x.values,i) for i in range(x.shape[1])]\n",
    "    return vif"
   ]
  },
  {
   "cell_type": "code",
   "execution_count": 14,
   "metadata": {},
   "outputs": [
    {
     "data": {
      "text/html": [
       "<div>\n",
       "<style scoped>\n",
       "    .dataframe tbody tr th:only-of-type {\n",
       "        vertical-align: middle;\n",
       "    }\n",
       "\n",
       "    .dataframe tbody tr th {\n",
       "        vertical-align: top;\n",
       "    }\n",
       "\n",
       "    .dataframe thead th {\n",
       "        text-align: right;\n",
       "    }\n",
       "</style>\n",
       "<table border=\"1\" class=\"dataframe\">\n",
       "  <thead>\n",
       "    <tr style=\"text-align: right;\">\n",
       "      <th></th>\n",
       "      <th>Variabel</th>\n",
       "      <th>vif</th>\n",
       "    </tr>\n",
       "  </thead>\n",
       "  <tbody>\n",
       "    <tr>\n",
       "      <th>0</th>\n",
       "      <td>employ</td>\n",
       "      <td>2.222753</td>\n",
       "    </tr>\n",
       "    <tr>\n",
       "      <th>1</th>\n",
       "      <td>debtinc</td>\n",
       "      <td>3.045977</td>\n",
       "    </tr>\n",
       "    <tr>\n",
       "      <th>2</th>\n",
       "      <td>creddebt</td>\n",
       "      <td>2.816577</td>\n",
       "    </tr>\n",
       "    <tr>\n",
       "      <th>3</th>\n",
       "      <td>othdebt</td>\n",
       "      <td>4.116876</td>\n",
       "    </tr>\n",
       "  </tbody>\n",
       "</table>\n",
       "</div>"
      ],
      "text/plain": [
       "   Variabel       vif\n",
       "0    employ  2.222753\n",
       "1   debtinc  3.045977\n",
       "2  creddebt  2.816577\n",
       "3   othdebt  4.116876"
      ]
     },
     "execution_count": 14,
     "metadata": {},
     "output_type": "execute_result"
    }
   ],
   "source": [
    "call_vif(x)"
   ]
  },
  {
   "cell_type": "markdown",
   "metadata": {},
   "source": [
    "Summary : variabel employ, debtinc, creddebt memiliki nilai VIF < 4 sehingga bisa diterima (tidak adal masalah multicollinearitas). Sehingga interpretasi aman digunakan.\n",
    "\n",
    "Jika ada ada multikol bisa diremove atau gmn dipenjelasan lain."
   ]
  },
  {
   "cell_type": "markdown",
   "metadata": {},
   "source": [
    "### Validasi 20% Data Testing"
   ]
  },
  {
   "cell_type": "code",
   "execution_count": 15,
   "metadata": {},
   "outputs": [],
   "source": [
    "#utk bagi data 70% training dan 20% testing\n",
    "from sklearn.model_selection import train_test_split\n",
    "\n",
    "#utk mengukur performa model\n",
    "from sklearn.metrics import accuracy_score"
   ]
  },
  {
   "cell_type": "code",
   "execution_count": 16,
   "metadata": {},
   "outputs": [],
   "source": [
    "x_train, x_test, y_train, y_test = train_test_split(\n",
    "    x,\n",
    "    y,\n",
    "    test_size = 0.2,\n",
    "    random_state = 2020\n",
    ")"
   ]
  },
  {
   "cell_type": "code",
   "execution_count": 17,
   "metadata": {},
   "outputs": [
    {
     "name": "stdout",
     "output_type": "stream",
     "text": [
      "Optimization terminated successfully.\n",
      "         Current function value: 0.408607\n",
      "         Iterations 7\n"
     ]
    },
    {
     "name": "stderr",
     "output_type": "stream",
     "text": [
      "C:\\Users\\62812\\anaconda3\\lib\\site-packages\\statsmodels\\tsa\\tsatools.py:142: FutureWarning: In a future version of pandas all arguments of concat except for the argument 'objs' will be keyword-only\n",
      "  x = pd.concat(x[::order], 1)\n"
     ]
    }
   ],
   "source": [
    "# sm_Logit_train = sm.Logit(y_train, x_train) #jika tanpa intercept\n",
    "sm_Logit_train = sm.Logit(y_train, sm.add_constant(x_train)) #jika tanpa intercept\n",
    "result_train = sm_Logit_train.fit()"
   ]
  },
  {
   "cell_type": "code",
   "execution_count": 18,
   "metadata": {},
   "outputs": [],
   "source": [
    "y_prob = result_train.predict(sm.add_constant(x_test)) #hasilnya resiko default\n",
    "y_class = np.where(y_prob > 0.5, 1, 0) #kelas default atau non default"
   ]
  },
  {
   "cell_type": "code",
   "execution_count": 19,
   "metadata": {},
   "outputs": [
    {
     "name": "stdout",
     "output_type": "stream",
     "text": [
      "Akurasi: 82.14285714285714%\n"
     ]
    }
   ],
   "source": [
    "print('Akurasi: {}%'.format(accuracy_score(y_test,y_class)*100))"
   ]
  },
  {
   "cell_type": "markdown",
   "metadata": {},
   "source": [
    "**Artinya:** Jika ada 100 nasabah, sekitar 82 orang nasabah terprediksi default/non-defaultnya akurat"
   ]
  },
  {
   "cell_type": "markdown",
   "metadata": {},
   "source": [
    "## KNN / K Nearest Neighbor"
   ]
  },
  {
   "cell_type": "markdown",
   "metadata": {},
   "source": [
    "1. Analyze data white_wine.csv\n",
    "2. Apply KNN Method (k=3)\n",
    "    - Target : quality (quality > 6 -> Y=1 good, Y=0 bad)\n",
    "    - Features : density alcohol\n",
    "3. Validate the model using accuracy in 20% testing data\n",
    "4. Apply scaling and validate the model using accuracy in 20% testing data\n",
    "5. Apply scaling. Choose Factor K based on accuracy:\n",
    "6. K= (1,3,5,...29)"
   ]
  },
  {
   "cell_type": "code",
   "execution_count": 20,
   "metadata": {},
   "outputs": [],
   "source": [
    "import pandas as pd\n",
    "import numpy as np"
   ]
  },
  {
   "cell_type": "code",
   "execution_count": 21,
   "metadata": {},
   "outputs": [
    {
     "data": {
      "text/html": [
       "<div>\n",
       "<style scoped>\n",
       "    .dataframe tbody tr th:only-of-type {\n",
       "        vertical-align: middle;\n",
       "    }\n",
       "\n",
       "    .dataframe tbody tr th {\n",
       "        vertical-align: top;\n",
       "    }\n",
       "\n",
       "    .dataframe thead th {\n",
       "        text-align: right;\n",
       "    }\n",
       "</style>\n",
       "<table border=\"1\" class=\"dataframe\">\n",
       "  <thead>\n",
       "    <tr style=\"text-align: right;\">\n",
       "      <th></th>\n",
       "      <th>fixed acidity</th>\n",
       "      <th>volatile acidity</th>\n",
       "      <th>citric acid</th>\n",
       "      <th>residual sugar</th>\n",
       "      <th>chlorides</th>\n",
       "      <th>free sulfur dioxide</th>\n",
       "      <th>total sulfur dioxide</th>\n",
       "      <th>density</th>\n",
       "      <th>pH</th>\n",
       "      <th>sulphates</th>\n",
       "      <th>alcohol</th>\n",
       "      <th>quality</th>\n",
       "    </tr>\n",
       "  </thead>\n",
       "  <tbody>\n",
       "    <tr>\n",
       "      <th>0</th>\n",
       "      <td>7.0</td>\n",
       "      <td>0.27</td>\n",
       "      <td>0.36</td>\n",
       "      <td>20.7</td>\n",
       "      <td>0.045</td>\n",
       "      <td>45.0</td>\n",
       "      <td>170.0</td>\n",
       "      <td>1.0010</td>\n",
       "      <td>3.00</td>\n",
       "      <td>0.45</td>\n",
       "      <td>8.8</td>\n",
       "      <td>6.0</td>\n",
       "    </tr>\n",
       "    <tr>\n",
       "      <th>1</th>\n",
       "      <td>6.3</td>\n",
       "      <td>0.30</td>\n",
       "      <td>0.34</td>\n",
       "      <td>1.6</td>\n",
       "      <td>0.049</td>\n",
       "      <td>14.0</td>\n",
       "      <td>132.0</td>\n",
       "      <td>0.9940</td>\n",
       "      <td>3.30</td>\n",
       "      <td>0.49</td>\n",
       "      <td>9.5</td>\n",
       "      <td>6.0</td>\n",
       "    </tr>\n",
       "    <tr>\n",
       "      <th>2</th>\n",
       "      <td>8.1</td>\n",
       "      <td>0.28</td>\n",
       "      <td>0.40</td>\n",
       "      <td>6.9</td>\n",
       "      <td>0.050</td>\n",
       "      <td>30.0</td>\n",
       "      <td>97.0</td>\n",
       "      <td>0.9951</td>\n",
       "      <td>3.26</td>\n",
       "      <td>0.44</td>\n",
       "      <td>10.1</td>\n",
       "      <td>6.0</td>\n",
       "    </tr>\n",
       "    <tr>\n",
       "      <th>3</th>\n",
       "      <td>7.2</td>\n",
       "      <td>0.23</td>\n",
       "      <td>0.32</td>\n",
       "      <td>8.5</td>\n",
       "      <td>0.058</td>\n",
       "      <td>47.0</td>\n",
       "      <td>186.0</td>\n",
       "      <td>0.9956</td>\n",
       "      <td>3.19</td>\n",
       "      <td>0.40</td>\n",
       "      <td>9.9</td>\n",
       "      <td>6.0</td>\n",
       "    </tr>\n",
       "    <tr>\n",
       "      <th>4</th>\n",
       "      <td>7.2</td>\n",
       "      <td>0.23</td>\n",
       "      <td>0.32</td>\n",
       "      <td>8.5</td>\n",
       "      <td>0.058</td>\n",
       "      <td>47.0</td>\n",
       "      <td>186.0</td>\n",
       "      <td>0.9956</td>\n",
       "      <td>3.19</td>\n",
       "      <td>0.40</td>\n",
       "      <td>9.9</td>\n",
       "      <td>6.0</td>\n",
       "    </tr>\n",
       "    <tr>\n",
       "      <th>...</th>\n",
       "      <td>...</td>\n",
       "      <td>...</td>\n",
       "      <td>...</td>\n",
       "      <td>...</td>\n",
       "      <td>...</td>\n",
       "      <td>...</td>\n",
       "      <td>...</td>\n",
       "      <td>...</td>\n",
       "      <td>...</td>\n",
       "      <td>...</td>\n",
       "      <td>...</td>\n",
       "      <td>...</td>\n",
       "    </tr>\n",
       "    <tr>\n",
       "      <th>515</th>\n",
       "      <td>6.1</td>\n",
       "      <td>0.31</td>\n",
       "      <td>0.26</td>\n",
       "      <td>2.2</td>\n",
       "      <td>0.051</td>\n",
       "      <td>28.0</td>\n",
       "      <td>167.0</td>\n",
       "      <td>0.9926</td>\n",
       "      <td>3.37</td>\n",
       "      <td>0.47</td>\n",
       "      <td>10.4</td>\n",
       "      <td>6.0</td>\n",
       "    </tr>\n",
       "    <tr>\n",
       "      <th>516</th>\n",
       "      <td>6.8</td>\n",
       "      <td>0.18</td>\n",
       "      <td>0.37</td>\n",
       "      <td>1.6</td>\n",
       "      <td>0.055</td>\n",
       "      <td>47.0</td>\n",
       "      <td>154.0</td>\n",
       "      <td>0.9934</td>\n",
       "      <td>3.08</td>\n",
       "      <td>0.45</td>\n",
       "      <td>9.1</td>\n",
       "      <td>5.0</td>\n",
       "    </tr>\n",
       "    <tr>\n",
       "      <th>517</th>\n",
       "      <td>7.4</td>\n",
       "      <td>0.15</td>\n",
       "      <td>0.42</td>\n",
       "      <td>1.7</td>\n",
       "      <td>0.045</td>\n",
       "      <td>49.0</td>\n",
       "      <td>154.0</td>\n",
       "      <td>0.9920</td>\n",
       "      <td>3.00</td>\n",
       "      <td>0.60</td>\n",
       "      <td>10.4</td>\n",
       "      <td>6.0</td>\n",
       "    </tr>\n",
       "    <tr>\n",
       "      <th>518</th>\n",
       "      <td>5.9</td>\n",
       "      <td>0.13</td>\n",
       "      <td>0.28</td>\n",
       "      <td>1.9</td>\n",
       "      <td>0.050</td>\n",
       "      <td>20.0</td>\n",
       "      <td>78.0</td>\n",
       "      <td>0.9918</td>\n",
       "      <td>3.43</td>\n",
       "      <td>0.64</td>\n",
       "      <td>10.8</td>\n",
       "      <td>6.0</td>\n",
       "    </tr>\n",
       "    <tr>\n",
       "      <th>519</th>\n",
       "      <td>7.2</td>\n",
       "      <td>0.34</td>\n",
       "      <td>0.34</td>\n",
       "      <td>12.6</td>\n",
       "      <td>0.048</td>\n",
       "      <td>7.0</td>\n",
       "      <td>41.0</td>\n",
       "      <td>0.9940</td>\n",
       "      <td>NaN</td>\n",
       "      <td>NaN</td>\n",
       "      <td>NaN</td>\n",
       "      <td>NaN</td>\n",
       "    </tr>\n",
       "  </tbody>\n",
       "</table>\n",
       "<p>520 rows × 12 columns</p>\n",
       "</div>"
      ],
      "text/plain": [
       "     fixed acidity  volatile acidity  citric acid  residual sugar  chlorides  \\\n",
       "0              7.0              0.27         0.36            20.7      0.045   \n",
       "1              6.3              0.30         0.34             1.6      0.049   \n",
       "2              8.1              0.28         0.40             6.9      0.050   \n",
       "3              7.2              0.23         0.32             8.5      0.058   \n",
       "4              7.2              0.23         0.32             8.5      0.058   \n",
       "..             ...               ...          ...             ...        ...   \n",
       "515            6.1              0.31         0.26             2.2      0.051   \n",
       "516            6.8              0.18         0.37             1.6      0.055   \n",
       "517            7.4              0.15         0.42             1.7      0.045   \n",
       "518            5.9              0.13         0.28             1.9      0.050   \n",
       "519            7.2              0.34         0.34            12.6      0.048   \n",
       "\n",
       "     free sulfur dioxide  total sulfur dioxide  density    pH  sulphates  \\\n",
       "0                   45.0                 170.0   1.0010  3.00       0.45   \n",
       "1                   14.0                 132.0   0.9940  3.30       0.49   \n",
       "2                   30.0                  97.0   0.9951  3.26       0.44   \n",
       "3                   47.0                 186.0   0.9956  3.19       0.40   \n",
       "4                   47.0                 186.0   0.9956  3.19       0.40   \n",
       "..                   ...                   ...      ...   ...        ...   \n",
       "515                 28.0                 167.0   0.9926  3.37       0.47   \n",
       "516                 47.0                 154.0   0.9934  3.08       0.45   \n",
       "517                 49.0                 154.0   0.9920  3.00       0.60   \n",
       "518                 20.0                  78.0   0.9918  3.43       0.64   \n",
       "519                  7.0                  41.0   0.9940   NaN        NaN   \n",
       "\n",
       "     alcohol  quality  \n",
       "0        8.8      6.0  \n",
       "1        9.5      6.0  \n",
       "2       10.1      6.0  \n",
       "3        9.9      6.0  \n",
       "4        9.9      6.0  \n",
       "..       ...      ...  \n",
       "515     10.4      6.0  \n",
       "516      9.1      5.0  \n",
       "517     10.4      6.0  \n",
       "518     10.8      6.0  \n",
       "519      NaN      NaN  \n",
       "\n",
       "[520 rows x 12 columns]"
      ]
     },
     "execution_count": 21,
     "metadata": {},
     "output_type": "execute_result"
    }
   ],
   "source": [
    "raw  = pd.read_csv('data/white_wine.csv')\n",
    "df = raw.copy()\n",
    "df"
   ]
  },
  {
   "cell_type": "code",
   "execution_count": 22,
   "metadata": {},
   "outputs": [
    {
     "data": {
      "text/html": [
       "<div>\n",
       "<style scoped>\n",
       "    .dataframe tbody tr th:only-of-type {\n",
       "        vertical-align: middle;\n",
       "    }\n",
       "\n",
       "    .dataframe tbody tr th {\n",
       "        vertical-align: top;\n",
       "    }\n",
       "\n",
       "    .dataframe thead th {\n",
       "        text-align: right;\n",
       "    }\n",
       "</style>\n",
       "<table border=\"1\" class=\"dataframe\">\n",
       "  <thead>\n",
       "    <tr style=\"text-align: right;\">\n",
       "      <th></th>\n",
       "      <th>fixed acidity</th>\n",
       "      <th>volatile acidity</th>\n",
       "      <th>citric acid</th>\n",
       "      <th>residual sugar</th>\n",
       "      <th>chlorides</th>\n",
       "      <th>free sulfur dioxide</th>\n",
       "      <th>total sulfur dioxide</th>\n",
       "      <th>density</th>\n",
       "      <th>pH</th>\n",
       "      <th>sulphates</th>\n",
       "      <th>alcohol</th>\n",
       "      <th>quality</th>\n",
       "      <th>label</th>\n",
       "    </tr>\n",
       "  </thead>\n",
       "  <tbody>\n",
       "    <tr>\n",
       "      <th>13</th>\n",
       "      <td>6.6</td>\n",
       "      <td>0.16</td>\n",
       "      <td>0.40</td>\n",
       "      <td>1.5</td>\n",
       "      <td>0.044</td>\n",
       "      <td>48.0</td>\n",
       "      <td>143.0</td>\n",
       "      <td>0.9962</td>\n",
       "      <td>3.54</td>\n",
       "      <td>0.52</td>\n",
       "      <td>12.4</td>\n",
       "      <td>7.0</td>\n",
       "      <td>1</td>\n",
       "    </tr>\n",
       "    <tr>\n",
       "      <th>15</th>\n",
       "      <td>6.6</td>\n",
       "      <td>0.17</td>\n",
       "      <td>0.38</td>\n",
       "      <td>1.5</td>\n",
       "      <td>0.032</td>\n",
       "      <td>28.0</td>\n",
       "      <td>112.0</td>\n",
       "      <td>0.9964</td>\n",
       "      <td>3.25</td>\n",
       "      <td>0.55</td>\n",
       "      <td>11.4</td>\n",
       "      <td>7.0</td>\n",
       "      <td>1</td>\n",
       "    </tr>\n",
       "    <tr>\n",
       "      <th>17</th>\n",
       "      <td>6.2</td>\n",
       "      <td>0.66</td>\n",
       "      <td>0.48</td>\n",
       "      <td>1.2</td>\n",
       "      <td>0.029</td>\n",
       "      <td>29.0</td>\n",
       "      <td>75.0</td>\n",
       "      <td>0.9942</td>\n",
       "      <td>3.33</td>\n",
       "      <td>0.39</td>\n",
       "      <td>12.8</td>\n",
       "      <td>8.0</td>\n",
       "      <td>1</td>\n",
       "    </tr>\n",
       "    <tr>\n",
       "      <th>20</th>\n",
       "      <td>6.2</td>\n",
       "      <td>0.66</td>\n",
       "      <td>0.48</td>\n",
       "      <td>1.2</td>\n",
       "      <td>0.029</td>\n",
       "      <td>29.0</td>\n",
       "      <td>75.0</td>\n",
       "      <td>0.9942</td>\n",
       "      <td>3.33</td>\n",
       "      <td>0.39</td>\n",
       "      <td>12.8</td>\n",
       "      <td>8.0</td>\n",
       "      <td>1</td>\n",
       "    </tr>\n",
       "    <tr>\n",
       "      <th>21</th>\n",
       "      <td>6.4</td>\n",
       "      <td>0.31</td>\n",
       "      <td>0.38</td>\n",
       "      <td>2.9</td>\n",
       "      <td>0.038</td>\n",
       "      <td>19.0</td>\n",
       "      <td>102.0</td>\n",
       "      <td>0.9962</td>\n",
       "      <td>3.17</td>\n",
       "      <td>0.35</td>\n",
       "      <td>11.0</td>\n",
       "      <td>7.0</td>\n",
       "      <td>1</td>\n",
       "    </tr>\n",
       "    <tr>\n",
       "      <th>...</th>\n",
       "      <td>...</td>\n",
       "      <td>...</td>\n",
       "      <td>...</td>\n",
       "      <td>...</td>\n",
       "      <td>...</td>\n",
       "      <td>...</td>\n",
       "      <td>...</td>\n",
       "      <td>...</td>\n",
       "      <td>...</td>\n",
       "      <td>...</td>\n",
       "      <td>...</td>\n",
       "      <td>...</td>\n",
       "      <td>...</td>\n",
       "    </tr>\n",
       "    <tr>\n",
       "      <th>476</th>\n",
       "      <td>7.4</td>\n",
       "      <td>0.28</td>\n",
       "      <td>0.36</td>\n",
       "      <td>1.1</td>\n",
       "      <td>0.028</td>\n",
       "      <td>42.0</td>\n",
       "      <td>105.0</td>\n",
       "      <td>0.9943</td>\n",
       "      <td>2.99</td>\n",
       "      <td>0.39</td>\n",
       "      <td>12.4</td>\n",
       "      <td>7.0</td>\n",
       "      <td>1</td>\n",
       "    </tr>\n",
       "    <tr>\n",
       "      <th>491</th>\n",
       "      <td>7.1</td>\n",
       "      <td>0.23</td>\n",
       "      <td>0.39</td>\n",
       "      <td>1.6</td>\n",
       "      <td>0.032</td>\n",
       "      <td>12.0</td>\n",
       "      <td>65.0</td>\n",
       "      <td>0.9948</td>\n",
       "      <td>3.25</td>\n",
       "      <td>0.40</td>\n",
       "      <td>12.7</td>\n",
       "      <td>7.0</td>\n",
       "      <td>1</td>\n",
       "    </tr>\n",
       "    <tr>\n",
       "      <th>507</th>\n",
       "      <td>6.0</td>\n",
       "      <td>0.24</td>\n",
       "      <td>0.27</td>\n",
       "      <td>1.9</td>\n",
       "      <td>0.048</td>\n",
       "      <td>40.0</td>\n",
       "      <td>170.0</td>\n",
       "      <td>0.9988</td>\n",
       "      <td>3.64</td>\n",
       "      <td>0.54</td>\n",
       "      <td>10.0</td>\n",
       "      <td>7.0</td>\n",
       "      <td>1</td>\n",
       "    </tr>\n",
       "    <tr>\n",
       "      <th>509</th>\n",
       "      <td>6.0</td>\n",
       "      <td>0.24</td>\n",
       "      <td>0.27</td>\n",
       "      <td>1.9</td>\n",
       "      <td>0.048</td>\n",
       "      <td>40.0</td>\n",
       "      <td>170.0</td>\n",
       "      <td>0.9988</td>\n",
       "      <td>3.64</td>\n",
       "      <td>0.54</td>\n",
       "      <td>10.0</td>\n",
       "      <td>7.0</td>\n",
       "      <td>1</td>\n",
       "    </tr>\n",
       "    <tr>\n",
       "      <th>514</th>\n",
       "      <td>7.8</td>\n",
       "      <td>0.28</td>\n",
       "      <td>0.32</td>\n",
       "      <td>9.0</td>\n",
       "      <td>0.036</td>\n",
       "      <td>34.0</td>\n",
       "      <td>115.0</td>\n",
       "      <td>1.0002</td>\n",
       "      <td>3.17</td>\n",
       "      <td>0.39</td>\n",
       "      <td>10.3</td>\n",
       "      <td>7.0</td>\n",
       "      <td>1</td>\n",
       "    </tr>\n",
       "  </tbody>\n",
       "</table>\n",
       "<p>98 rows × 13 columns</p>\n",
       "</div>"
      ],
      "text/plain": [
       "     fixed acidity  volatile acidity  citric acid  residual sugar  chlorides  \\\n",
       "13             6.6              0.16         0.40             1.5      0.044   \n",
       "15             6.6              0.17         0.38             1.5      0.032   \n",
       "17             6.2              0.66         0.48             1.2      0.029   \n",
       "20             6.2              0.66         0.48             1.2      0.029   \n",
       "21             6.4              0.31         0.38             2.9      0.038   \n",
       "..             ...               ...          ...             ...        ...   \n",
       "476            7.4              0.28         0.36             1.1      0.028   \n",
       "491            7.1              0.23         0.39             1.6      0.032   \n",
       "507            6.0              0.24         0.27             1.9      0.048   \n",
       "509            6.0              0.24         0.27             1.9      0.048   \n",
       "514            7.8              0.28         0.32             9.0      0.036   \n",
       "\n",
       "     free sulfur dioxide  total sulfur dioxide  density    pH  sulphates  \\\n",
       "13                  48.0                 143.0   0.9962  3.54       0.52   \n",
       "15                  28.0                 112.0   0.9964  3.25       0.55   \n",
       "17                  29.0                  75.0   0.9942  3.33       0.39   \n",
       "20                  29.0                  75.0   0.9942  3.33       0.39   \n",
       "21                  19.0                 102.0   0.9962  3.17       0.35   \n",
       "..                   ...                   ...      ...   ...        ...   \n",
       "476                 42.0                 105.0   0.9943  2.99       0.39   \n",
       "491                 12.0                  65.0   0.9948  3.25       0.40   \n",
       "507                 40.0                 170.0   0.9988  3.64       0.54   \n",
       "509                 40.0                 170.0   0.9988  3.64       0.54   \n",
       "514                 34.0                 115.0   1.0002  3.17       0.39   \n",
       "\n",
       "     alcohol  quality  label  \n",
       "13      12.4      7.0      1  \n",
       "15      11.4      7.0      1  \n",
       "17      12.8      8.0      1  \n",
       "20      12.8      8.0      1  \n",
       "21      11.0      7.0      1  \n",
       "..       ...      ...    ...  \n",
       "476     12.4      7.0      1  \n",
       "491     12.7      7.0      1  \n",
       "507     10.0      7.0      1  \n",
       "509     10.0      7.0      1  \n",
       "514     10.3      7.0      1  \n",
       "\n",
       "[98 rows x 13 columns]"
      ]
     },
     "execution_count": 22,
     "metadata": {},
     "output_type": "execute_result"
    }
   ],
   "source": [
    "df['label'] = np.where(df['quality']> 6, 1,0)\n",
    "df[df['label']==1]"
   ]
  },
  {
   "cell_type": "markdown",
   "metadata": {},
   "source": [
    "### Explore Data"
   ]
  },
  {
   "cell_type": "code",
   "execution_count": 23,
   "metadata": {},
   "outputs": [],
   "source": [
    "import seaborn as sns"
   ]
  },
  {
   "cell_type": "code",
   "execution_count": 24,
   "metadata": {},
   "outputs": [
    {
     "data": {
      "text/plain": [
       "<AxesSubplot:xlabel='density', ylabel='alcohol'>"
      ]
     },
     "execution_count": 24,
     "metadata": {},
     "output_type": "execute_result"
    },
    {
     "data": {
      "image/png": "[encoded data removed]",
      "text/plain": [
       "<Figure size 432x288 with 1 Axes>"
      ]
     },
     "metadata": {
      "needs_background": "light"
     },
     "output_type": "display_data"
    }
   ],
   "source": [
    "sns.scatterplot(data=df,x='density',y='alcohol', hue='label')"
   ]
  },
  {
   "cell_type": "code",
   "execution_count": 25,
   "metadata": {},
   "outputs": [
    {
     "data": {
      "text/plain": [
       "alcohol    1\n",
       "density    0\n",
       "dtype: int64"
      ]
     },
     "execution_count": 25,
     "metadata": {},
     "output_type": "execute_result"
    }
   ],
   "source": [
    "df[['alcohol','density']].isna().sum()"
   ]
  },
  {
   "cell_type": "code",
   "execution_count": 26,
   "metadata": {},
   "outputs": [
    {
     "data": {
      "text/plain": [
       "array([ 8.8,  9.5, 10.1,  9.9,  9.6, 11. , 12. ,  9.7, 10.8, 12.4, 11.4,\n",
       "       12.8, 11.3, 10.5,  9.3, 10. , 10.4, 11.6, 12.3, 10.2,  9. , 11.2,\n",
       "        8.6,  9.4,  9.8, 11.7, 10.9,  9.1,  8.9, 10.3, 12.6, 10.7, 12.7,\n",
       "       10.6,  9.2,  8.7, 11.5, 11.8, 12.1, 11.1,  8.5, 12.5, 11.9, 12.2,\n",
       "       12.9,  nan])"
      ]
     },
     "execution_count": 26,
     "metadata": {},
     "output_type": "execute_result"
    }
   ],
   "source": [
    "df['alcohol'].unique()"
   ]
  },
  {
   "cell_type": "code",
   "execution_count": 27,
   "metadata": {},
   "outputs": [
    {
     "data": {
      "text/plain": [
       "10.119460500963383"
      ]
     },
     "execution_count": 27,
     "metadata": {},
     "output_type": "execute_result"
    }
   ],
   "source": [
    "alcohol_mean = df['alcohol'].mean()\n",
    "alcohol_mean"
   ]
  },
  {
   "cell_type": "code",
   "execution_count": 28,
   "metadata": {},
   "outputs": [
    {
     "data": {
      "text/plain": [
       "array([ 8.8      ,  9.5      , 10.1      ,  9.9      ,  9.6      ,\n",
       "       11.       , 12.       ,  9.7      , 10.8      , 12.4      ,\n",
       "       11.4      , 12.8      , 11.3      , 10.5      ,  9.3      ,\n",
       "       10.       , 10.4      , 11.6      , 12.3      , 10.2      ,\n",
       "        9.       , 11.2      ,  8.6      ,  9.4      ,  9.8      ,\n",
       "       11.7      , 10.9      ,  9.1      ,  8.9      , 10.3      ,\n",
       "       12.6      , 10.7      , 12.7      , 10.6      ,  9.2      ,\n",
       "        8.7      , 11.5      , 11.8      , 12.1      , 11.1      ,\n",
       "        8.5      , 12.5      , 11.9      , 12.2      , 12.9      ,\n",
       "       10.1194605])"
      ]
     },
     "execution_count": 28,
     "metadata": {},
     "output_type": "execute_result"
    }
   ],
   "source": [
    "df['alcohol'].fillna(value=df['alcohol'].mean(), inplace=True)\n",
    "df['alcohol'].unique()"
   ]
  },
  {
   "cell_type": "code",
   "execution_count": 29,
   "metadata": {},
   "outputs": [
    {
     "data": {
      "text/plain": [
       "alcohol    0\n",
       "density    0\n",
       "dtype: int64"
      ]
     },
     "execution_count": 29,
     "metadata": {},
     "output_type": "execute_result"
    }
   ],
   "source": [
    "df[['alcohol','density']].isna().sum()"
   ]
  },
  {
   "cell_type": "markdown",
   "metadata": {},
   "source": [
    "### Data Splitting"
   ]
  },
  {
   "cell_type": "code",
   "execution_count": 30,
   "metadata": {},
   "outputs": [],
   "source": [
    "from sklearn.model_selection import train_test_split"
   ]
  },
  {
   "cell_type": "code",
   "execution_count": 31,
   "metadata": {},
   "outputs": [],
   "source": [
    "fitur = ['alcohol', 'density']\n",
    "target = 'label'\n",
    "\n",
    "x = df[fitur]\n",
    "y = df[target]"
   ]
  },
  {
   "cell_type": "code",
   "execution_count": 32,
   "metadata": {},
   "outputs": [],
   "source": [
    "x_train,x_test,y_train,y_test = train_test_split(\n",
    "    x,\n",
    "    y,\n",
    "    test_size = 0.2,\n",
    "    random_state = 2020\n",
    ")"
   ]
  },
  {
   "cell_type": "markdown",
   "metadata": {},
   "source": [
    "### Scaling"
   ]
  },
  {
   "cell_type": "code",
   "execution_count": 33,
   "metadata": {},
   "outputs": [],
   "source": [
    "from sklearn.preprocessing import MinMaxScaler"
   ]
  },
  {
   "cell_type": "code",
   "execution_count": 34,
   "metadata": {},
   "outputs": [],
   "source": [
    "scaler = MinMaxScaler()\n",
    "# scaler.fit(x_train) #hanya data training, agar data test tidak terlibat dlm permodelan maupun scaller. Jika ada keterlibatan, pengukuran data tdk valid\n",
    "x_train_scaled = scaler.fit_transform(x_train)\n",
    "x_test_scaled = scaler.transform(x_test)"
   ]
  },
  {
   "cell_type": "code",
   "execution_count": 35,
   "metadata": {},
   "outputs": [
    {
     "data": {
      "text/html": [
       "<div>\n",
       "<style scoped>\n",
       "    .dataframe tbody tr th:only-of-type {\n",
       "        vertical-align: middle;\n",
       "    }\n",
       "\n",
       "    .dataframe tbody tr th {\n",
       "        vertical-align: top;\n",
       "    }\n",
       "\n",
       "    .dataframe thead th {\n",
       "        text-align: right;\n",
       "    }\n",
       "</style>\n",
       "<table border=\"1\" class=\"dataframe\">\n",
       "  <thead>\n",
       "    <tr style=\"text-align: right;\">\n",
       "      <th></th>\n",
       "      <th>alcohol</th>\n",
       "      <th>density</th>\n",
       "    </tr>\n",
       "  </thead>\n",
       "  <tbody>\n",
       "    <tr>\n",
       "      <th>483</th>\n",
       "      <td>9.2</td>\n",
       "      <td>0.9964</td>\n",
       "    </tr>\n",
       "    <tr>\n",
       "      <th>343</th>\n",
       "      <td>10.0</td>\n",
       "      <td>0.9931</td>\n",
       "    </tr>\n",
       "    <tr>\n",
       "      <th>337</th>\n",
       "      <td>9.3</td>\n",
       "      <td>0.9972</td>\n",
       "    </tr>\n",
       "    <tr>\n",
       "      <th>356</th>\n",
       "      <td>9.0</td>\n",
       "      <td>0.9978</td>\n",
       "    </tr>\n",
       "    <tr>\n",
       "      <th>145</th>\n",
       "      <td>10.9</td>\n",
       "      <td>0.9905</td>\n",
       "    </tr>\n",
       "    <tr>\n",
       "      <th>...</th>\n",
       "      <td>...</td>\n",
       "      <td>...</td>\n",
       "    </tr>\n",
       "    <tr>\n",
       "      <th>160</th>\n",
       "      <td>12.4</td>\n",
       "      <td>0.9948</td>\n",
       "    </tr>\n",
       "    <tr>\n",
       "      <th>157</th>\n",
       "      <td>12.4</td>\n",
       "      <td>0.9948</td>\n",
       "    </tr>\n",
       "    <tr>\n",
       "      <th>91</th>\n",
       "      <td>9.0</td>\n",
       "      <td>0.9957</td>\n",
       "    </tr>\n",
       "    <tr>\n",
       "      <th>323</th>\n",
       "      <td>10.4</td>\n",
       "      <td>0.9946</td>\n",
       "    </tr>\n",
       "    <tr>\n",
       "      <th>392</th>\n",
       "      <td>10.2</td>\n",
       "      <td>0.9957</td>\n",
       "    </tr>\n",
       "  </tbody>\n",
       "</table>\n",
       "<p>416 rows × 2 columns</p>\n",
       "</div>"
      ],
      "text/plain": [
       "     alcohol  density\n",
       "483      9.2   0.9964\n",
       "343     10.0   0.9931\n",
       "337      9.3   0.9972\n",
       "356      9.0   0.9978\n",
       "145     10.9   0.9905\n",
       "..       ...      ...\n",
       "160     12.4   0.9948\n",
       "157     12.4   0.9948\n",
       "91       9.0   0.9957\n",
       "323     10.4   0.9946\n",
       "392     10.2   0.9957\n",
       "\n",
       "[416 rows x 2 columns]"
      ]
     },
     "execution_count": 35,
     "metadata": {},
     "output_type": "execute_result"
    }
   ],
   "source": [
    "x_train"
   ]
  },
  {
   "cell_type": "code",
   "execution_count": 36,
   "metadata": {},
   "outputs": [
    {
     "data": {
      "text/plain": [
       "array([[0.15909091, 0.48507463],\n",
       "       [0.34090909, 0.23880597],\n",
       "       [0.18181818, 0.54477612],\n",
       "       [0.11363636, 0.58955224],\n",
       "       [0.54545455, 0.04477612],\n",
       "       [0.34090909, 0.6119403 ],\n",
       "       [0.31818182, 0.63432836],\n",
       "       [0.25      , 0.58955224],\n",
       "       [0.3680592 , 0.30597015],\n",
       "       [0.68181818, 0.62686567],\n",
       "       [0.25      , 0.60447761],\n",
       "       [0.38636364, 0.67910448],\n",
       "       [0.65909091, 0.05970149],\n",
       "       [0.20454545, 0.55970149],\n",
       "       [0.70454545, 0.47761194],\n",
       "       [0.11363636, 0.59701493],\n",
       "       [0.09090909, 0.59701493],\n",
       "       [0.13636364, 0.67910448],\n",
       "       [0.13636364, 0.2761194 ],\n",
       "       [0.40909091, 0.15671642],\n",
       "       [0.25      , 0.69402985],\n",
       "       [0.18181818, 0.24626866],\n",
       "       [0.56818182, 0.29850746],\n",
       "       [0.31818182, 0.38059701],\n",
       "       [0.15909091, 0.61940299],\n",
       "       [0.18181818, 0.28358209],\n",
       "       [0.04545455, 0.82835821],\n",
       "       [0.13636364, 0.56716418],\n",
       "       [0.25      , 0.57462687],\n",
       "       [0.29545455, 0.29850746],\n",
       "       [0.18181818, 0.3880597 ],\n",
       "       [0.5       , 0.57462687],\n",
       "       [0.20454545, 0.70149254],\n",
       "       [0.56818182, 0.09701493],\n",
       "       [0.13636364, 0.56716418],\n",
       "       [1.        , 0.32089552],\n",
       "       [0.11363636, 0.97014925],\n",
       "       [0.06818182, 0.57462687],\n",
       "       [0.11363636, 0.75373134],\n",
       "       [0.34090909, 0.26119403],\n",
       "       [0.65909091, 0.20895522],\n",
       "       [0.13636364, 0.53731343],\n",
       "       [0.11363636, 0.58955224],\n",
       "       [0.40909091, 0.20895522],\n",
       "       [0.40909091, 0.20895522],\n",
       "       [0.56818182, 0.29104478],\n",
       "       [0.90909091, 0.00746269],\n",
       "       [0.36363636, 0.1641791 ],\n",
       "       [0.81818182, 0.3358209 ],\n",
       "       [0.25      , 0.56716418],\n",
       "       [0.22727273, 0.47014925],\n",
       "       [0.34090909, 0.15671642],\n",
       "       [0.18181818, 0.61940299],\n",
       "       [0.22727273, 0.30597015],\n",
       "       [0.29545455, 0.41044776],\n",
       "       [0.34090909, 0.23134328],\n",
       "       [0.20454545, 0.30597015],\n",
       "       [0.04545455, 0.55970149],\n",
       "       [0.15909091, 0.2761194 ],\n",
       "       [0.02272727, 0.57462687],\n",
       "       [0.56818182, 0.48507463],\n",
       "       [0.45454545, 0.46268657],\n",
       "       [0.47727273, 0.20895522],\n",
       "       [0.54545455, 0.41791045],\n",
       "       [0.15909091, 0.55970149],\n",
       "       [0.25      , 0.18656716],\n",
       "       [0.65909091, 0.40298507],\n",
       "       [0.36363636, 0.3880597 ],\n",
       "       [0.09090909, 0.54477612],\n",
       "       [0.02272727, 0.57462687],\n",
       "       [0.47727273, 0.24626866],\n",
       "       [0.15909091, 0.29104478],\n",
       "       [0.45454545, 0.29104478],\n",
       "       [0.56818182, 0.29104478],\n",
       "       [0.70454545, 0.1119403 ],\n",
       "       [0.13636364, 0.31343284],\n",
       "       [0.09090909, 0.59701493],\n",
       "       [0.45454545, 0.2238806 ],\n",
       "       [0.04545455, 0.55970149],\n",
       "       [0.38636364, 0.20895522],\n",
       "       [0.36363636, 0.14179104],\n",
       "       [0.22727273, 0.5       ],\n",
       "       [0.31818182, 0.28358209],\n",
       "       [0.20454545, 0.46268657],\n",
       "       [0.97727273, 0.04477612],\n",
       "       [0.25      , 0.21641791],\n",
       "       [0.34090909, 0.44029851],\n",
       "       [0.25      , 0.61940299],\n",
       "       [0.13636364, 0.67910448],\n",
       "       [0.22727273, 0.49253731],\n",
       "       [0.34090909, 0.57462687],\n",
       "       [0.27272727, 0.5       ],\n",
       "       [0.34090909, 0.36567164],\n",
       "       [0.34090909, 0.6641791 ],\n",
       "       [0.72727273, 0.06716418],\n",
       "       [0.90909091, 0.10447761],\n",
       "       [0.65909091, 0.48507463],\n",
       "       [0.56818182, 0.58208955],\n",
       "       [0.31818182, 0.45522388],\n",
       "       [0.27272727, 0.32089552],\n",
       "       [0.29545455, 0.38059701],\n",
       "       [0.13636364, 0.75373134],\n",
       "       [0.68181818, 0.5       ],\n",
       "       [0.43181818, 0.41044776],\n",
       "       [0.79545455, 0.47014925],\n",
       "       [0.20454545, 0.29104478],\n",
       "       [0.65909091, 0.47761194],\n",
       "       [0.54545455, 0.45522388],\n",
       "       [0.31818182, 0.63432836],\n",
       "       [0.27272727, 0.58955224],\n",
       "       [0.56818182, 0.23880597],\n",
       "       [0.70454545, 0.31343284],\n",
       "       [0.04545455, 0.56716418],\n",
       "       [0.34090909, 0.6641791 ],\n",
       "       [0.40909091, 0.17910448],\n",
       "       [0.45454545, 0.34328358],\n",
       "       [0.18181818, 0.52985075],\n",
       "       [0.13636364, 0.53731343],\n",
       "       [0.63636364, 0.1119403 ],\n",
       "       [0.06818182, 0.59701493],\n",
       "       [0.77272727, 0.52985075],\n",
       "       [0.47727273, 0.30597015],\n",
       "       [0.65909091, 0.23134328],\n",
       "       [0.43181818, 0.41791045],\n",
       "       [0.52272727, 0.42537313],\n",
       "       [0.52272727, 0.1119403 ],\n",
       "       [0.75      , 0.05223881],\n",
       "       [0.61363636, 0.42537313],\n",
       "       [0.11363636, 0.74626866],\n",
       "       [0.18181818, 0.54477612],\n",
       "       [0.56818182, 0.29850746],\n",
       "       [0.65909091, 0.13432836],\n",
       "       [0.68181818, 0.28358209],\n",
       "       [0.09090909, 0.54477612],\n",
       "       [0.38636364, 0.23880597],\n",
       "       [0.68181818, 0.51492537],\n",
       "       [0.22727273, 0.5       ],\n",
       "       [0.09090909, 0.47014925],\n",
       "       [0.29545455, 0.26865672],\n",
       "       [0.18181818, 0.58955224],\n",
       "       [0.20454545, 0.54477612],\n",
       "       [0.15909091, 0.64179104],\n",
       "       [0.15909091, 0.52238806],\n",
       "       [0.22727273, 0.67910448],\n",
       "       [0.22727273, 0.41791045],\n",
       "       [0.31818182, 0.42537313],\n",
       "       [0.11363636, 0.97014925],\n",
       "       [0.45454545, 0.60447761],\n",
       "       [0.25      , 0.70895522],\n",
       "       [0.27272727, 0.26119403],\n",
       "       [0.95454545, 0.36567164],\n",
       "       [0.95454545, 0.36567164],\n",
       "       [0.43181818, 0.21641791],\n",
       "       [0.27272727, 0.35820896],\n",
       "       [0.25      , 0.55223881],\n",
       "       [0.65909091, 0.03731343],\n",
       "       [0.47727273, 0.20895522],\n",
       "       [0.47727273, 0.09701493],\n",
       "       [0.20454545, 0.28358209],\n",
       "       [0.25      , 0.59701493],\n",
       "       [0.25      , 0.58208955],\n",
       "       [0.09090909, 0.46268657],\n",
       "       [0.34090909, 0.23134328],\n",
       "       [0.22727273, 0.26119403],\n",
       "       [0.52272727, 0.14179104],\n",
       "       [0.34090909, 0.28358209],\n",
       "       [0.63636364, 0.45522388],\n",
       "       [0.18181818, 0.56716418],\n",
       "       [0.34090909, 0.31343284],\n",
       "       [0.84090909, 0.52985075],\n",
       "       [0.04545455, 0.64179104],\n",
       "       [0.34090909, 0.31343284],\n",
       "       [0.09090909, 0.7238806 ],\n",
       "       [0.25      , 0.60447761],\n",
       "       [0.61363636, 0.61940299],\n",
       "       [0.20454545, 0.24626866],\n",
       "       [0.45454545, 0.29104478],\n",
       "       [0.97727273, 0.32089552],\n",
       "       [0.29545455, 0.21641791],\n",
       "       [0.04545455, 0.56716418],\n",
       "       [0.27272727, 0.81343284],\n",
       "       [0.27272727, 0.21641791],\n",
       "       [0.22727273, 0.23134328],\n",
       "       [0.38636364, 0.51492537],\n",
       "       [0.15909091, 0.38059701],\n",
       "       [0.04545455, 0.56716418],\n",
       "       [0.04545455, 0.73880597],\n",
       "       [0.20454545, 0.20895522],\n",
       "       [0.04545455, 0.55970149],\n",
       "       [0.56818182, 0.13432836],\n",
       "       [0.90909091, 0.51492537],\n",
       "       [0.45454545, 0.29104478],\n",
       "       [0.18181818, 0.61940299],\n",
       "       [0.22727273, 0.42537313],\n",
       "       [0.81818182, 0.3358209 ],\n",
       "       [0.45454545, 0.14179104],\n",
       "       [0.47727273, 0.26865672],\n",
       "       [0.93181818, 0.38059701],\n",
       "       [0.06818182, 0.60447761],\n",
       "       [0.20454545, 0.28358209],\n",
       "       [0.06818182, 0.60447761],\n",
       "       [0.59090909, 0.47014925],\n",
       "       [0.02272727, 0.74626866],\n",
       "       [0.61363636, 0.08208955],\n",
       "       [0.29545455, 0.41044776],\n",
       "       [0.29545455, 0.61940299],\n",
       "       [0.45454545, 0.78358209],\n",
       "       [0.95454545, 0.05223881],\n",
       "       [0.88636364, 0.42537313],\n",
       "       [0.13636364, 0.47014925],\n",
       "       [0.11363636, 0.59701493],\n",
       "       [0.22727273, 0.20895522],\n",
       "       [0.27272727, 0.76865672],\n",
       "       [0.43181818, 0.41044776],\n",
       "       [0.45454545, 0.2761194 ],\n",
       "       [0.18181818, 1.        ],\n",
       "       [0.27272727, 0.38059701],\n",
       "       [0.22727273, 0.54477612],\n",
       "       [0.15909091, 0.48507463],\n",
       "       [0.06818182, 0.82835821],\n",
       "       [0.04545455, 0.56716418],\n",
       "       [0.93181818, 0.37313433],\n",
       "       [0.20454545, 0.26119403],\n",
       "       [0.13636364, 0.51492537],\n",
       "       [0.20454545, 0.57462687],\n",
       "       [0.11363636, 0.3880597 ],\n",
       "       [0.        , 0.53731343],\n",
       "       [0.04545455, 0.82835821],\n",
       "       [0.43181818, 0.41044776],\n",
       "       [0.27272727, 0.29104478],\n",
       "       [0.27272727, 0.3358209 ],\n",
       "       [0.27272727, 0.30597015],\n",
       "       [0.77272727, 0.52985075],\n",
       "       [0.13636364, 0.23134328],\n",
       "       [0.20454545, 0.47014925],\n",
       "       [0.90909091, 0.03731343],\n",
       "       [0.34090909, 0.48507463],\n",
       "       [0.11363636, 0.56716418],\n",
       "       [0.27272727, 0.3358209 ],\n",
       "       [0.86363636, 0.47014925],\n",
       "       [0.81818182, 0.        ],\n",
       "       [0.29545455, 0.41044776],\n",
       "       [0.38636364, 0.26119403],\n",
       "       [0.09090909, 0.46268657],\n",
       "       [0.36363636, 0.42537313],\n",
       "       [0.65909091, 0.02238806],\n",
       "       [0.18181818, 0.51492537],\n",
       "       [0.72727273, 0.10447761],\n",
       "       [0.45454545, 0.30597015],\n",
       "       [0.06818182, 0.3358209 ],\n",
       "       [0.65909091, 0.13432836],\n",
       "       [1.        , 0.36567164],\n",
       "       [0.06818182, 0.59701493],\n",
       "       [0.13636364, 0.39552239],\n",
       "       [0.13636364, 0.2761194 ],\n",
       "       [0.11363636, 0.37313433],\n",
       "       [0.65909091, 0.48507463],\n",
       "       [0.54545455, 0.08955224],\n",
       "       [0.56818182, 0.18656716],\n",
       "       [0.11363636, 0.85820896],\n",
       "       [0.25      , 0.32089552],\n",
       "       [0.31818182, 0.37313433],\n",
       "       [0.20454545, 0.24626866],\n",
       "       [0.61363636, 0.1641791 ],\n",
       "       [0.52272727, 0.1119403 ],\n",
       "       [0.38636364, 0.29850746],\n",
       "       [0.43181818, 0.2238806 ],\n",
       "       [0.15909091, 0.30597015],\n",
       "       [0.04545455, 0.56716418],\n",
       "       [0.27272727, 0.29104478],\n",
       "       [0.11363636, 0.59701493],\n",
       "       [0.5       , 0.12686567],\n",
       "       [0.52272727, 0.50746269],\n",
       "       [0.27272727, 0.23134328],\n",
       "       [0.75      , 0.08955224],\n",
       "       [0.45454545, 0.59701493],\n",
       "       [0.25      , 0.64179104],\n",
       "       [0.90909091, 0.32835821],\n",
       "       [0.59090909, 0.1119403 ],\n",
       "       [0.43181818, 0.52238806],\n",
       "       [0.18181818, 0.62686567],\n",
       "       [0.34090909, 0.45522388],\n",
       "       [0.06818182, 0.46268657],\n",
       "       [0.45454545, 0.30597015],\n",
       "       [0.63636364, 0.17910448],\n",
       "       [0.88636364, 0.32835821],\n",
       "       [0.18181818, 0.46268657],\n",
       "       [0.31818182, 0.20149254],\n",
       "       [0.06818182, 0.82835821],\n",
       "       [0.34090909, 0.15671642],\n",
       "       [0.45454545, 0.55970149],\n",
       "       [0.45454545, 0.15671642],\n",
       "       [0.68181818, 0.50746269],\n",
       "       [0.93181818, 0.08208955],\n",
       "       [0.34090909, 0.41044776],\n",
       "       [0.84090909, 0.00746269],\n",
       "       [0.43181818, 0.20149254],\n",
       "       [0.22727273, 0.42537313],\n",
       "       [0.43181818, 0.15671642],\n",
       "       [0.90909091, 0.47014925],\n",
       "       [0.22727273, 0.55223881],\n",
       "       [0.36363636, 0.26119403],\n",
       "       [0.43181818, 0.34328358],\n",
       "       [0.06818182, 0.54477612],\n",
       "       [0.47727273, 0.11940299],\n",
       "       [0.34090909, 0.20895522],\n",
       "       [0.34090909, 0.15671642],\n",
       "       [0.09090909, 0.47014925],\n",
       "       [0.22727273, 0.26119403],\n",
       "       [0.25      , 0.37313433],\n",
       "       [0.22727273, 0.52985075],\n",
       "       [0.36363636, 0.31343284],\n",
       "       [0.29545455, 0.15671642],\n",
       "       [0.20454545, 0.20895522],\n",
       "       [0.27272727, 0.35820896],\n",
       "       [0.93181818, 0.38059701],\n",
       "       [0.29545455, 0.20895522],\n",
       "       [0.27272727, 0.34328358],\n",
       "       [0.56818182, 0.58208955],\n",
       "       [0.13636364, 0.26119403],\n",
       "       [0.61363636, 0.05223881],\n",
       "       [0.04545455, 0.23880597],\n",
       "       [0.15909091, 0.61940299],\n",
       "       [0.93181818, 0.35074627],\n",
       "       [0.04545455, 0.75373134],\n",
       "       [0.13636364, 0.60447761],\n",
       "       [0.31818182, 0.41044776],\n",
       "       [0.81818182, 0.54477612],\n",
       "       [0.18181818, 0.54477612],\n",
       "       [0.29545455, 0.80597015],\n",
       "       [0.47727273, 0.13432836],\n",
       "       [0.29545455, 0.20895522],\n",
       "       [0.43181818, 0.3358209 ],\n",
       "       [0.22727273, 0.47014925],\n",
       "       [0.04545455, 0.56716418],\n",
       "       [0.15909091, 0.2761194 ],\n",
       "       [0.20454545, 0.46268657],\n",
       "       [0.43181818, 0.14925373],\n",
       "       [0.38636364, 0.23880597],\n",
       "       [0.34090909, 0.3880597 ],\n",
       "       [0.88636364, 0.47014925],\n",
       "       [0.93181818, 0.38059701],\n",
       "       [0.15909091, 0.52238806],\n",
       "       [0.56818182, 0.56716418],\n",
       "       [0.11363636, 0.74626866],\n",
       "       [0.29545455, 0.30597015],\n",
       "       [0.47727273, 0.14925373],\n",
       "       [0.15909091, 0.44029851],\n",
       "       [0.34090909, 0.55970149],\n",
       "       [0.75      , 0.05223881],\n",
       "       [0.40909091, 0.58208955],\n",
       "       [0.09090909, 0.60447761],\n",
       "       [0.79545455, 0.06716418],\n",
       "       [0.11363636, 0.58955224],\n",
       "       [0.61363636, 0.51492537],\n",
       "       [0.09090909, 0.60447761],\n",
       "       [0.18181818, 1.        ],\n",
       "       [0.79545455, 0.37313433],\n",
       "       [0.52272727, 0.15671642],\n",
       "       [0.22727273, 0.57462687],\n",
       "       [0.15909091, 0.49253731],\n",
       "       [0.59090909, 0.47014925],\n",
       "       [0.18181818, 0.63432836],\n",
       "       [0.20454545, 0.42537313],\n",
       "       [0.47727273, 0.2238806 ],\n",
       "       [0.11363636, 0.29850746],\n",
       "       [0.15909091, 0.26119403],\n",
       "       [0.47727273, 0.20895522],\n",
       "       [0.43181818, 0.41044776],\n",
       "       [0.13636364, 0.26119403],\n",
       "       [0.06818182, 0.63432836],\n",
       "       [0.15909091, 0.61940299],\n",
       "       [0.34090909, 0.35074627],\n",
       "       [0.38636364, 0.63432836],\n",
       "       [0.09090909, 0.7238806 ],\n",
       "       [0.43181818, 0.58208955],\n",
       "       [0.31818182, 0.28358209],\n",
       "       [0.61363636, 0.11940299],\n",
       "       [0.97727273, 0.32089552],\n",
       "       [0.27272727, 0.81343284],\n",
       "       [0.25      , 0.28358209],\n",
       "       [0.25      , 0.41044776],\n",
       "       [0.59090909, 0.51492537],\n",
       "       [0.09090909, 0.46268657],\n",
       "       [0.13636364, 0.32089552],\n",
       "       [0.20454545, 0.30597015],\n",
       "       [0.29545455, 0.61940299],\n",
       "       [0.68181818, 0.63432836],\n",
       "       [0.25      , 0.55970149],\n",
       "       [0.38636364, 0.3358209 ],\n",
       "       [0.04545455, 0.55970149],\n",
       "       [0.86363636, 0.42537313],\n",
       "       [0.56818182, 0.47014925],\n",
       "       [0.45454545, 0.08208955],\n",
       "       [0.43181818, 0.15671642],\n",
       "       [0.29545455, 0.18656716],\n",
       "       [0.34090909, 0.1641791 ],\n",
       "       [0.11363636, 0.37313433],\n",
       "       [0.90909091, 0.32835821],\n",
       "       [0.25      , 0.32089552],\n",
       "       [0.04545455, 0.57462687],\n",
       "       [0.        , 0.51492537],\n",
       "       [0.5       , 0.15671642],\n",
       "       [0.79545455, 0.50746269],\n",
       "       [0.09090909, 0.59701493],\n",
       "       [0.29545455, 0.41044776],\n",
       "       [0.45454545, 0.35074627],\n",
       "       [0.43181818, 0.30597015],\n",
       "       [0.13636364, 0.32089552],\n",
       "       [0.56818182, 0.06716418],\n",
       "       [0.75      , 0.17910448],\n",
       "       [0.88636364, 0.36567164],\n",
       "       [0.88636364, 0.36567164],\n",
       "       [0.11363636, 0.43283582],\n",
       "       [0.43181818, 0.35074627],\n",
       "       [0.38636364, 0.43283582]])"
      ]
     },
     "execution_count": 36,
     "metadata": {},
     "output_type": "execute_result"
    }
   ],
   "source": [
    "x_train_scaled"
   ]
  },
  {
   "cell_type": "markdown",
   "metadata": {},
   "source": [
    "### KNN without scalling "
   ]
  },
  {
   "cell_type": "code",
   "execution_count": 37,
   "metadata": {},
   "outputs": [],
   "source": [
    "from sklearn.neighbors import KNeighborsClassifier\n",
    "from sklearn.metrics import accuracy_score"
   ]
  },
  {
   "cell_type": "code",
   "execution_count": 38,
   "metadata": {},
   "outputs": [
    {
     "data": {
      "text/plain": [
       "KNeighborsClassifier(n_neighbors=3)"
      ]
     },
     "execution_count": 38,
     "metadata": {},
     "output_type": "execute_result"
    }
   ],
   "source": [
    "knn = KNeighborsClassifier(n_neighbors=3) #sudah definisikan modelnya\n",
    "knn.fit(x_train,y_train) # training model"
   ]
  },
  {
   "cell_type": "code",
   "execution_count": 39,
   "metadata": {},
   "outputs": [],
   "source": [
    "y_pred_class = knn.predict(x_test)"
   ]
  },
  {
   "cell_type": "code",
   "execution_count": 40,
   "metadata": {},
   "outputs": [
    {
     "name": "stdout",
     "output_type": "stream",
     "text": [
      "accuracy : 92.3076923076923%\n"
     ]
    }
   ],
   "source": [
    "print('accuracy : {}%'.format(accuracy_score(y_test,y_pred_class)*100))"
   ]
  },
  {
   "cell_type": "markdown",
   "metadata": {},
   "source": [
    "### KNN with scalling"
   ]
  },
  {
   "cell_type": "code",
   "execution_count": 41,
   "metadata": {},
   "outputs": [],
   "source": [
    "from sklearn.neighbors import KNeighborsClassifier\n",
    "from sklearn.metrics import accuracy_score"
   ]
  },
  {
   "cell_type": "code",
   "execution_count": 42,
   "metadata": {},
   "outputs": [
    {
     "data": {
      "text/plain": [
       "KNeighborsClassifier(n_neighbors=3)"
      ]
     },
     "execution_count": 42,
     "metadata": {},
     "output_type": "execute_result"
    }
   ],
   "source": [
    "knn_with_scaler = KNeighborsClassifier(n_neighbors=3)\n",
    "knn_with_scaler.fit(x_train_scaled,y_train)"
   ]
  },
  {
   "cell_type": "code",
   "execution_count": 43,
   "metadata": {},
   "outputs": [],
   "source": [
    "y_pred_class = knn.predict(x_test_scaled)"
   ]
  },
  {
   "cell_type": "code",
   "execution_count": 44,
   "metadata": {},
   "outputs": [
    {
     "data": {
      "text/plain": [
       "0.8173076923076923"
      ]
     },
     "execution_count": 44,
     "metadata": {},
     "output_type": "execute_result"
    }
   ],
   "source": [
    "accuracy_score(y_test, y_pred_class)"
   ]
  },
  {
   "cell_type": "markdown",
   "metadata": {},
   "source": [
    "NOTE: hasilnya valid karena saat scaler.fit() yg dimasukkan hanya x_train bukan x (train dan tes)"
   ]
  },
  {
   "cell_type": "code",
   "execution_count": 45,
   "metadata": {},
   "outputs": [],
   "source": [
    "import matplotlib.pyplot as plt"
   ]
  },
  {
   "cell_type": "code",
   "execution_count": 46,
   "metadata": {},
   "outputs": [
    {
     "name": "stdout",
     "output_type": "stream",
     "text": [
      "max test : 0.9807692307692307\n",
      "faktor k : 7\n"
     ]
    }
   ],
   "source": [
    "k = range(1,30,2)\n",
    "testing_accuracies = []\n",
    "training_accuracies = []\n",
    "max_train = 0\n",
    "max_test = 0\n",
    "for i in k:\n",
    "    knn = KNeighborsClassifier(n_neighbors=i)\n",
    "    knn.fit(x_train_scaled,y_train)\n",
    "    \n",
    "    y_pred_train = knn.predict(x_train_scaled)\n",
    "    training_accuracies.append(accuracy_score(y_train, y_pred_train))\n",
    "    \n",
    "    y_pred_test = knn.predict(x_test_scaled)\n",
    "    testing_accuracies.append(accuracy_score(y_test, y_pred_test))\n",
    "    \n",
    "    if(max_test<testing_accuracies[-1]):\n",
    "        max_test = testing_accuracies[-1]\n",
    "        score = i\n",
    "        \n",
    "print('max test : {}\\nfaktor k : {}'.format(max_test,score))\n"
   ]
  },
  {
   "cell_type": "code",
   "execution_count": 47,
   "metadata": {},
   "outputs": [
    {
     "data": {
      "text/plain": [
       "(416, 2)"
      ]
     },
     "execution_count": 47,
     "metadata": {},
     "output_type": "execute_result"
    }
   ],
   "source": [
    "x_train_scaled.shape"
   ]
  },
  {
   "cell_type": "code",
   "execution_count": 48,
   "metadata": {},
   "outputs": [
    {
     "data": {
      "text/plain": [
       "(416,)"
      ]
     },
     "execution_count": 48,
     "metadata": {},
     "output_type": "execute_result"
    }
   ],
   "source": [
    "y_train.shape"
   ]
  },
  {
   "cell_type": "code",
   "execution_count": 49,
   "metadata": {},
   "outputs": [
    {
     "data": {
      "text/plain": [
       "<AxesSubplot:>"
      ]
     },
     "execution_count": 49,
     "metadata": {},
     "output_type": "execute_result"
    },
    {
     "data": {
      "image/png": "[encoded data removed]",
      "text/plain": [
       "<Figure size 432x288 with 1 Axes>"
      ]
     },
     "metadata": {
      "needs_background": "light"
     },
     "output_type": "display_data"
    }
   ],
   "source": [
    "sns.lineplot(x=k, y=testing_accuracies)\n",
    "sns.scatterplot(x=k, y=testing_accuracies)\n",
    "\n",
    "sns.lineplot(x=k,y=training_accuracies)\n",
    "sns.scatterplot(x=k,y=training_accuracies)"
   ]
  },
  {
   "cell_type": "markdown",
   "metadata": {},
   "source": [
    "## Decision Tree"
   ]
  },
  {
   "cell_type": "markdown",
   "metadata": {},
   "source": [
    "1. Analyze data white_wine.csv\n",
    "2. Apply Decision Tree Classification Method (max_depth = 2)\n",
    "    - Target : quality (quality > 6 -> Y=1)\n",
    "    - Features : Desinty alcohol\n",
    "3. Validate the model using accuracy in 20% testing data\n",
    "4. Apply scaling and validate the model using accuracy in 20% testing data\n",
    "5. Check the performance is there any difference wheter we applied scaling or not?\n",
    "6. Check the tree: is there any difference wheter we applied scaling or not?"
   ]
  },
  {
   "cell_type": "code",
   "execution_count": 50,
   "metadata": {},
   "outputs": [],
   "source": [
    "from sklearn.tree import DecisionTreeClassifier\n",
    "from sklearn.model_selection import train_test_split\n",
    "from sklearn.preprocessing import MinMaxScaler\n",
    "from sklearn.metrics import accuracy_score\n",
    "import pandas as pd\n",
    "import numpy as np"
   ]
  },
  {
   "cell_type": "code",
   "execution_count": 51,
   "metadata": {},
   "outputs": [
    {
     "data": {
      "text/html": [
       "<div>\n",
       "<style scoped>\n",
       "    .dataframe tbody tr th:only-of-type {\n",
       "        vertical-align: middle;\n",
       "    }\n",
       "\n",
       "    .dataframe tbody tr th {\n",
       "        vertical-align: top;\n",
       "    }\n",
       "\n",
       "    .dataframe thead th {\n",
       "        text-align: right;\n",
       "    }\n",
       "</style>\n",
       "<table border=\"1\" class=\"dataframe\">\n",
       "  <thead>\n",
       "    <tr style=\"text-align: right;\">\n",
       "      <th></th>\n",
       "      <th>fixed acidity</th>\n",
       "      <th>volatile acidity</th>\n",
       "      <th>citric acid</th>\n",
       "      <th>residual sugar</th>\n",
       "      <th>chlorides</th>\n",
       "      <th>free sulfur dioxide</th>\n",
       "      <th>total sulfur dioxide</th>\n",
       "      <th>density</th>\n",
       "      <th>pH</th>\n",
       "      <th>sulphates</th>\n",
       "      <th>alcohol</th>\n",
       "      <th>quality</th>\n",
       "    </tr>\n",
       "  </thead>\n",
       "  <tbody>\n",
       "    <tr>\n",
       "      <th>0</th>\n",
       "      <td>7.0</td>\n",
       "      <td>0.27</td>\n",
       "      <td>0.36</td>\n",
       "      <td>20.7</td>\n",
       "      <td>0.045</td>\n",
       "      <td>45.0</td>\n",
       "      <td>170.0</td>\n",
       "      <td>1.0010</td>\n",
       "      <td>3.00</td>\n",
       "      <td>0.45</td>\n",
       "      <td>8.8</td>\n",
       "      <td>6.0</td>\n",
       "    </tr>\n",
       "    <tr>\n",
       "      <th>1</th>\n",
       "      <td>6.3</td>\n",
       "      <td>0.30</td>\n",
       "      <td>0.34</td>\n",
       "      <td>1.6</td>\n",
       "      <td>0.049</td>\n",
       "      <td>14.0</td>\n",
       "      <td>132.0</td>\n",
       "      <td>0.9940</td>\n",
       "      <td>3.30</td>\n",
       "      <td>0.49</td>\n",
       "      <td>9.5</td>\n",
       "      <td>6.0</td>\n",
       "    </tr>\n",
       "    <tr>\n",
       "      <th>2</th>\n",
       "      <td>8.1</td>\n",
       "      <td>0.28</td>\n",
       "      <td>0.40</td>\n",
       "      <td>6.9</td>\n",
       "      <td>0.050</td>\n",
       "      <td>30.0</td>\n",
       "      <td>97.0</td>\n",
       "      <td>0.9951</td>\n",
       "      <td>3.26</td>\n",
       "      <td>0.44</td>\n",
       "      <td>10.1</td>\n",
       "      <td>6.0</td>\n",
       "    </tr>\n",
       "    <tr>\n",
       "      <th>3</th>\n",
       "      <td>7.2</td>\n",
       "      <td>0.23</td>\n",
       "      <td>0.32</td>\n",
       "      <td>8.5</td>\n",
       "      <td>0.058</td>\n",
       "      <td>47.0</td>\n",
       "      <td>186.0</td>\n",
       "      <td>0.9956</td>\n",
       "      <td>3.19</td>\n",
       "      <td>0.40</td>\n",
       "      <td>9.9</td>\n",
       "      <td>6.0</td>\n",
       "    </tr>\n",
       "    <tr>\n",
       "      <th>4</th>\n",
       "      <td>7.2</td>\n",
       "      <td>0.23</td>\n",
       "      <td>0.32</td>\n",
       "      <td>8.5</td>\n",
       "      <td>0.058</td>\n",
       "      <td>47.0</td>\n",
       "      <td>186.0</td>\n",
       "      <td>0.9956</td>\n",
       "      <td>3.19</td>\n",
       "      <td>0.40</td>\n",
       "      <td>9.9</td>\n",
       "      <td>6.0</td>\n",
       "    </tr>\n",
       "  </tbody>\n",
       "</table>\n",
       "</div>"
      ],
      "text/plain": [
       "   fixed acidity  volatile acidity  citric acid  residual sugar  chlorides  \\\n",
       "0            7.0              0.27         0.36            20.7      0.045   \n",
       "1            6.3              0.30         0.34             1.6      0.049   \n",
       "2            8.1              0.28         0.40             6.9      0.050   \n",
       "3            7.2              0.23         0.32             8.5      0.058   \n",
       "4            7.2              0.23         0.32             8.5      0.058   \n",
       "\n",
       "   free sulfur dioxide  total sulfur dioxide  density    pH  sulphates  \\\n",
       "0                 45.0                 170.0   1.0010  3.00       0.45   \n",
       "1                 14.0                 132.0   0.9940  3.30       0.49   \n",
       "2                 30.0                  97.0   0.9951  3.26       0.44   \n",
       "3                 47.0                 186.0   0.9956  3.19       0.40   \n",
       "4                 47.0                 186.0   0.9956  3.19       0.40   \n",
       "\n",
       "   alcohol  quality  \n",
       "0      8.8      6.0  \n",
       "1      9.5      6.0  \n",
       "2     10.1      6.0  \n",
       "3      9.9      6.0  \n",
       "4      9.9      6.0  "
      ]
     },
     "execution_count": 51,
     "metadata": {},
     "output_type": "execute_result"
    }
   ],
   "source": [
    "raw = pd.read_csv('data/white_wine.csv')\n",
    "df = raw.copy()\n",
    "df.head()"
   ]
  },
  {
   "cell_type": "code",
   "execution_count": 52,
   "metadata": {},
   "outputs": [
    {
     "data": {
      "text/html": [
       "<div>\n",
       "<style scoped>\n",
       "    .dataframe tbody tr th:only-of-type {\n",
       "        vertical-align: middle;\n",
       "    }\n",
       "\n",
       "    .dataframe tbody tr th {\n",
       "        vertical-align: top;\n",
       "    }\n",
       "\n",
       "    .dataframe thead th {\n",
       "        text-align: right;\n",
       "    }\n",
       "</style>\n",
       "<table border=\"1\" class=\"dataframe\">\n",
       "  <thead>\n",
       "    <tr style=\"text-align: right;\">\n",
       "      <th></th>\n",
       "      <th>fixed acidity</th>\n",
       "      <th>volatile acidity</th>\n",
       "      <th>citric acid</th>\n",
       "      <th>residual sugar</th>\n",
       "      <th>chlorides</th>\n",
       "      <th>free sulfur dioxide</th>\n",
       "      <th>total sulfur dioxide</th>\n",
       "      <th>density</th>\n",
       "      <th>pH</th>\n",
       "      <th>sulphates</th>\n",
       "      <th>alcohol</th>\n",
       "      <th>quality</th>\n",
       "      <th>label</th>\n",
       "    </tr>\n",
       "  </thead>\n",
       "  <tbody>\n",
       "    <tr>\n",
       "      <th>0</th>\n",
       "      <td>7.0</td>\n",
       "      <td>0.27</td>\n",
       "      <td>0.36</td>\n",
       "      <td>20.7</td>\n",
       "      <td>0.045</td>\n",
       "      <td>45.0</td>\n",
       "      <td>170.0</td>\n",
       "      <td>1.0010</td>\n",
       "      <td>3.00</td>\n",
       "      <td>0.45</td>\n",
       "      <td>8.8</td>\n",
       "      <td>6.0</td>\n",
       "      <td>0</td>\n",
       "    </tr>\n",
       "    <tr>\n",
       "      <th>1</th>\n",
       "      <td>6.3</td>\n",
       "      <td>0.30</td>\n",
       "      <td>0.34</td>\n",
       "      <td>1.6</td>\n",
       "      <td>0.049</td>\n",
       "      <td>14.0</td>\n",
       "      <td>132.0</td>\n",
       "      <td>0.9940</td>\n",
       "      <td>3.30</td>\n",
       "      <td>0.49</td>\n",
       "      <td>9.5</td>\n",
       "      <td>6.0</td>\n",
       "      <td>0</td>\n",
       "    </tr>\n",
       "    <tr>\n",
       "      <th>2</th>\n",
       "      <td>8.1</td>\n",
       "      <td>0.28</td>\n",
       "      <td>0.40</td>\n",
       "      <td>6.9</td>\n",
       "      <td>0.050</td>\n",
       "      <td>30.0</td>\n",
       "      <td>97.0</td>\n",
       "      <td>0.9951</td>\n",
       "      <td>3.26</td>\n",
       "      <td>0.44</td>\n",
       "      <td>10.1</td>\n",
       "      <td>6.0</td>\n",
       "      <td>0</td>\n",
       "    </tr>\n",
       "    <tr>\n",
       "      <th>3</th>\n",
       "      <td>7.2</td>\n",
       "      <td>0.23</td>\n",
       "      <td>0.32</td>\n",
       "      <td>8.5</td>\n",
       "      <td>0.058</td>\n",
       "      <td>47.0</td>\n",
       "      <td>186.0</td>\n",
       "      <td>0.9956</td>\n",
       "      <td>3.19</td>\n",
       "      <td>0.40</td>\n",
       "      <td>9.9</td>\n",
       "      <td>6.0</td>\n",
       "      <td>0</td>\n",
       "    </tr>\n",
       "    <tr>\n",
       "      <th>4</th>\n",
       "      <td>7.2</td>\n",
       "      <td>0.23</td>\n",
       "      <td>0.32</td>\n",
       "      <td>8.5</td>\n",
       "      <td>0.058</td>\n",
       "      <td>47.0</td>\n",
       "      <td>186.0</td>\n",
       "      <td>0.9956</td>\n",
       "      <td>3.19</td>\n",
       "      <td>0.40</td>\n",
       "      <td>9.9</td>\n",
       "      <td>6.0</td>\n",
       "      <td>0</td>\n",
       "    </tr>\n",
       "    <tr>\n",
       "      <th>...</th>\n",
       "      <td>...</td>\n",
       "      <td>...</td>\n",
       "      <td>...</td>\n",
       "      <td>...</td>\n",
       "      <td>...</td>\n",
       "      <td>...</td>\n",
       "      <td>...</td>\n",
       "      <td>...</td>\n",
       "      <td>...</td>\n",
       "      <td>...</td>\n",
       "      <td>...</td>\n",
       "      <td>...</td>\n",
       "      <td>...</td>\n",
       "    </tr>\n",
       "    <tr>\n",
       "      <th>515</th>\n",
       "      <td>6.1</td>\n",
       "      <td>0.31</td>\n",
       "      <td>0.26</td>\n",
       "      <td>2.2</td>\n",
       "      <td>0.051</td>\n",
       "      <td>28.0</td>\n",
       "      <td>167.0</td>\n",
       "      <td>0.9926</td>\n",
       "      <td>3.37</td>\n",
       "      <td>0.47</td>\n",
       "      <td>10.4</td>\n",
       "      <td>6.0</td>\n",
       "      <td>0</td>\n",
       "    </tr>\n",
       "    <tr>\n",
       "      <th>516</th>\n",
       "      <td>6.8</td>\n",
       "      <td>0.18</td>\n",
       "      <td>0.37</td>\n",
       "      <td>1.6</td>\n",
       "      <td>0.055</td>\n",
       "      <td>47.0</td>\n",
       "      <td>154.0</td>\n",
       "      <td>0.9934</td>\n",
       "      <td>3.08</td>\n",
       "      <td>0.45</td>\n",
       "      <td>9.1</td>\n",
       "      <td>5.0</td>\n",
       "      <td>0</td>\n",
       "    </tr>\n",
       "    <tr>\n",
       "      <th>517</th>\n",
       "      <td>7.4</td>\n",
       "      <td>0.15</td>\n",
       "      <td>0.42</td>\n",
       "      <td>1.7</td>\n",
       "      <td>0.045</td>\n",
       "      <td>49.0</td>\n",
       "      <td>154.0</td>\n",
       "      <td>0.9920</td>\n",
       "      <td>3.00</td>\n",
       "      <td>0.60</td>\n",
       "      <td>10.4</td>\n",
       "      <td>6.0</td>\n",
       "      <td>0</td>\n",
       "    </tr>\n",
       "    <tr>\n",
       "      <th>518</th>\n",
       "      <td>5.9</td>\n",
       "      <td>0.13</td>\n",
       "      <td>0.28</td>\n",
       "      <td>1.9</td>\n",
       "      <td>0.050</td>\n",
       "      <td>20.0</td>\n",
       "      <td>78.0</td>\n",
       "      <td>0.9918</td>\n",
       "      <td>3.43</td>\n",
       "      <td>0.64</td>\n",
       "      <td>10.8</td>\n",
       "      <td>6.0</td>\n",
       "      <td>0</td>\n",
       "    </tr>\n",
       "    <tr>\n",
       "      <th>519</th>\n",
       "      <td>7.2</td>\n",
       "      <td>0.34</td>\n",
       "      <td>0.34</td>\n",
       "      <td>12.6</td>\n",
       "      <td>0.048</td>\n",
       "      <td>7.0</td>\n",
       "      <td>41.0</td>\n",
       "      <td>0.9940</td>\n",
       "      <td>NaN</td>\n",
       "      <td>NaN</td>\n",
       "      <td>NaN</td>\n",
       "      <td>NaN</td>\n",
       "      <td>0</td>\n",
       "    </tr>\n",
       "  </tbody>\n",
       "</table>\n",
       "<p>520 rows × 13 columns</p>\n",
       "</div>"
      ],
      "text/plain": [
       "     fixed acidity  volatile acidity  citric acid  residual sugar  chlorides  \\\n",
       "0              7.0              0.27         0.36            20.7      0.045   \n",
       "1              6.3              0.30         0.34             1.6      0.049   \n",
       "2              8.1              0.28         0.40             6.9      0.050   \n",
       "3              7.2              0.23         0.32             8.5      0.058   \n",
       "4              7.2              0.23         0.32             8.5      0.058   \n",
       "..             ...               ...          ...             ...        ...   \n",
       "515            6.1              0.31         0.26             2.2      0.051   \n",
       "516            6.8              0.18         0.37             1.6      0.055   \n",
       "517            7.4              0.15         0.42             1.7      0.045   \n",
       "518            5.9              0.13         0.28             1.9      0.050   \n",
       "519            7.2              0.34         0.34            12.6      0.048   \n",
       "\n",
       "     free sulfur dioxide  total sulfur dioxide  density    pH  sulphates  \\\n",
       "0                   45.0                 170.0   1.0010  3.00       0.45   \n",
       "1                   14.0                 132.0   0.9940  3.30       0.49   \n",
       "2                   30.0                  97.0   0.9951  3.26       0.44   \n",
       "3                   47.0                 186.0   0.9956  3.19       0.40   \n",
       "4                   47.0                 186.0   0.9956  3.19       0.40   \n",
       "..                   ...                   ...      ...   ...        ...   \n",
       "515                 28.0                 167.0   0.9926  3.37       0.47   \n",
       "516                 47.0                 154.0   0.9934  3.08       0.45   \n",
       "517                 49.0                 154.0   0.9920  3.00       0.60   \n",
       "518                 20.0                  78.0   0.9918  3.43       0.64   \n",
       "519                  7.0                  41.0   0.9940   NaN        NaN   \n",
       "\n",
       "     alcohol  quality  label  \n",
       "0        8.8      6.0      0  \n",
       "1        9.5      6.0      0  \n",
       "2       10.1      6.0      0  \n",
       "3        9.9      6.0      0  \n",
       "4        9.9      6.0      0  \n",
       "..       ...      ...    ...  \n",
       "515     10.4      6.0      0  \n",
       "516      9.1      5.0      0  \n",
       "517     10.4      6.0      0  \n",
       "518     10.8      6.0      0  \n",
       "519      NaN      NaN      0  \n",
       "\n",
       "[520 rows x 13 columns]"
      ]
     },
     "execution_count": 52,
     "metadata": {},
     "output_type": "execute_result"
    }
   ],
   "source": [
    "df['label'] = np.where(df['quality']>6,1,0)\n",
    "df"
   ]
  },
  {
   "cell_type": "code",
   "execution_count": 53,
   "metadata": {},
   "outputs": [
    {
     "data": {
      "text/plain": [
       "density    0\n",
       "alcohol    1\n",
       "dtype: int64"
      ]
     },
     "execution_count": 53,
     "metadata": {},
     "output_type": "execute_result"
    }
   ],
   "source": [
    "df[['density','alcohol']].isna().sum()"
   ]
  },
  {
   "cell_type": "code",
   "execution_count": 54,
   "metadata": {},
   "outputs": [],
   "source": [
    "df['alcohol'].fillna(df['alcohol'].mean(), inplace=True)"
   ]
  },
  {
   "cell_type": "code",
   "execution_count": 55,
   "metadata": {},
   "outputs": [],
   "source": [
    "x = df[['density','alcohol']]\n",
    "y = df['label']\n",
    "\n",
    "x_train, x_test, y_train, y_test = train_test_split(\n",
    "    x,\n",
    "    y,\n",
    "    test_size = 0.2,\n",
    "    random_state = 2020 \n",
    ")"
   ]
  },
  {
   "cell_type": "code",
   "execution_count": 56,
   "metadata": {},
   "outputs": [],
   "source": [
    "tree = DecisionTreeClassifier(\n",
    "    max_depth=2,\n",
    "    criterion='gini'\n",
    ")"
   ]
  },
  {
   "cell_type": "code",
   "execution_count": 57,
   "metadata": {},
   "outputs": [
    {
     "data": {
      "text/plain": [
       "DecisionTreeClassifier(max_depth=2)"
      ]
     },
     "execution_count": 57,
     "metadata": {},
     "output_type": "execute_result"
    }
   ],
   "source": [
    "tree.fit(x_train, y_train)"
   ]
  },
  {
   "cell_type": "code",
   "execution_count": 58,
   "metadata": {},
   "outputs": [],
   "source": [
    "# without scaling\n",
    "y_predict_without_scale = tree.predict(x_test)"
   ]
  },
  {
   "cell_type": "code",
   "execution_count": 59,
   "metadata": {},
   "outputs": [
    {
     "data": {
      "text/plain": [
       "0.9423076923076923"
      ]
     },
     "execution_count": 59,
     "metadata": {},
     "output_type": "execute_result"
    }
   ],
   "source": [
    "accuracy_score(y_test,y_predict_without_scale)"
   ]
  },
  {
   "cell_type": "code",
   "execution_count": 60,
   "metadata": {},
   "outputs": [],
   "source": [
    "from sklearn.tree import plot_tree\n",
    "import matplotlib.pyplot as plt"
   ]
  },
  {
   "cell_type": "code",
   "execution_count": 61,
   "metadata": {},
   "outputs": [
    {
     "data": {
      "image/png": "[encoded data removed]",
      "text/plain": [
       "<Figure size 720x720 with 1 Axes>"
      ]
     },
     "metadata": {
      "needs_background": "light"
     },
     "output_type": "display_data"
    }
   ],
   "source": [
    "plt.figure(figsize=(10,10))\n",
    "plot_tree(tree, feature_names = list(x), class_names=['bad','good'], filled=True)\n",
    "plt.show()"
   ]
  },
  {
   "cell_type": "markdown",
   "metadata": {},
   "source": [
    "1. alcohol <= 10.65 --> density <= 0.998 --> bad\n",
    "2. alcohol <= 10.65 --> dencity > 0.998 --> bad\n",
    "3. alcohol > 10.65 --> density <= 0.994 --> bad\n",
    "4. alcohol > 10.65 --> density > 0.994 --> good"
   ]
  },
  {
   "cell_type": "code",
   "execution_count": 62,
   "metadata": {},
   "outputs": [],
   "source": [
    "# with scaling\n",
    "scaler = MinMaxScaler()\n",
    "scaler.fit(x_train)\n",
    "x_train_scaled = scaler.transform(x_train)\n",
    "x_test_scaled = scaler.transform(x_test)"
   ]
  },
  {
   "cell_type": "code",
   "execution_count": 63,
   "metadata": {},
   "outputs": [],
   "source": [
    "tree_with_scale = DecisionTreeClassifier(\n",
    "    criterion='entropy',\n",
    "    max_depth=2\n",
    ")"
   ]
  },
  {
   "cell_type": "code",
   "execution_count": 64,
   "metadata": {},
   "outputs": [
    {
     "data": {
      "text/plain": [
       "DecisionTreeClassifier(criterion='entropy', max_depth=2)"
      ]
     },
     "execution_count": 64,
     "metadata": {},
     "output_type": "execute_result"
    }
   ],
   "source": [
    "tree_with_scale.fit(x_train_scaled,y_train)"
   ]
  },
  {
   "cell_type": "code",
   "execution_count": 65,
   "metadata": {},
   "outputs": [],
   "source": [
    "y_predict_with_scale = tree_with_scale.predict(x_test_scaled)"
   ]
  },
  {
   "cell_type": "code",
   "execution_count": 66,
   "metadata": {},
   "outputs": [
    {
     "data": {
      "text/plain": [
       "0.9230769230769231"
      ]
     },
     "execution_count": 66,
     "metadata": {},
     "output_type": "execute_result"
    }
   ],
   "source": [
    "accuracy_score(y_test,y_predict_with_scale)"
   ]
  },
  {
   "cell_type": "code",
   "execution_count": 67,
   "metadata": {},
   "outputs": [],
   "source": [
    "from sklearn.tree import plot_tree\n",
    "import matplotlib.pyplot as plt"
   ]
  },
  {
   "cell_type": "code",
   "execution_count": 68,
   "metadata": {},
   "outputs": [
    {
     "data": {
      "image/png": "[encoded data removed]",
      "text/plain": [
       "<Figure size 720x720 with 1 Axes>"
      ]
     },
     "metadata": {
      "needs_background": "light"
     },
     "output_type": "display_data"
    }
   ],
   "source": [
    "plt.figure(figsize=(10,10))\n",
    "plot_tree(tree_with_scale, feature_names=list(x),class_names=['bad','good'], filled=True)\n",
    "plt.show()"
   ]
  },
  {
   "cell_type": "code",
   "execution_count": 69,
   "metadata": {},
   "outputs": [
    {
     "data": {
      "text/plain": [
       "0    422\n",
       "1     98\n",
       "Name: label, dtype: int64"
      ]
     },
     "execution_count": 69,
     "metadata": {},
     "output_type": "execute_result"
    }
   ],
   "source": [
    "df['label'].value_counts()"
   ]
  }
 ],
 "metadata": {
  "kernelspec": {
   "display_name": "Python 3",
   "language": "python",
   "name": "python3"
  },
  "language_info": {
   "codemirror_mode": {
    "name": "ipython",
    "version": 3
   },
   "file_extension": ".py",
   "mimetype": "text/x-python",
   "name": "python",
   "nbconvert_exporter": "python",
   "pygments_lexer": "ipython3",
   "version": "3.8.5"
  }
 },
 "nbformat": 4,
 "nbformat_minor": 4
}
