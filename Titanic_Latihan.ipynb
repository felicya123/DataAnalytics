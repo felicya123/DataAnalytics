{
 "cells": [
  {
   "cell_type": "markdown",
   "metadata": {},
   "source": [
    "# TITANIC"
   ]
  },
  {
   "cell_type": "code",
   "execution_count": 1,
   "metadata": {},
   "outputs": [],
   "source": [
    "import pandas as pd \n",
    "import numpy as np \n",
    "import seaborn as sns \n",
    "import matplotlib.pyplot as plt"
   ]
  },
  {
   "cell_type": "markdown",
   "metadata": {},
   "source": [
    "## Workflow:\n",
    "\n",
    "1. Load Data\n",
    ">- buka dataset\n",
    "\n",
    "2. EDA (Exploratory Data Analysis)\n",
    ">- pahami data sebelum melakukan modeling\n",
    ">- lihat missing value, deskripsi statistic setiap feature, visualisasi\n",
    "\n",
    "3. Preprocessing\n",
    ">- handling outlier\n",
    ">- balancing target jika datanya imbalance\n",
    ">- imput missing value \n",
    ">- encoding feature categorical  \n",
    "\n",
    "4. Splitting Data\n",
    ">- define X dan y\n",
    ">- split menjadi train set dan test set\n",
    "\n",
    "5. Cari Model terbaik\n",
    ">- pilih beberapa kandidat model \n",
    ">- lakukan cross validasi (bisa dengan Grid Search)\n",
    ">- model dengan score terbaik dan paling stabil yang akan dipilih\n",
    "\n",
    "6. Didapatkan Model terpilih (Model Benchmark)\n",
    ">- misalnya, model terpilih adalah RandomForestClassifier\n",
    ">- model ini belum diganti hyperparameternya\n",
    ">- kita juga sudah punya score Model Benchmark\n",
    "\n",
    "7. Feature selection\n",
    ">- jika featurenya banyak, kita bisa memilih beberapa feature yang paling penting saja\n",
    "\n",
    "8. Hyperparameter tuning pada model terpilih\n",
    ">- mencari hyperparameter terbaik untuk model terpilih\n",
    ">- kita punya score Model setelah Hyperparameter Tuning\n",
    ">- bandingkan score Model Benchmark vs score Model setelah Hyperparameter Tuning\n",
    ">- bisa jadi hyperparameter tuning meningkatkan performa model, bisa jadi tidak\n",
    "\n",
    "9. Hasil akhir (predict pada test set)\n",
    ">- predict ke test set\n",
    "\n",
    "10. Jika performa model masih jelek, kembali ke tahap-tahap sebelumnya\n",
    ">- bisa dengan mengganti metode di preprocessing\n",
    ">- bisa dengan mengganti angka di hyperparameter\n",
    ">- bisa dengan tambah atau kurangi feature yang digunakan\n",
    ">- bisa dengan ganti model benchmark"
   ]
  },
  {
   "cell_type": "code",
   "execution_count": null,
   "metadata": {},
   "outputs": [],
   "source": []
  },
  {
   "cell_type": "markdown",
   "metadata": {},
   "source": [
    "# LOAD DATA"
   ]
  },
  {
   "cell_type": "code",
   "execution_count": 2,
   "metadata": {},
   "outputs": [
    {
     "data": {
      "text/html": [
       "<div>\n",
       "<style scoped>\n",
       "    .dataframe tbody tr th:only-of-type {\n",
       "        vertical-align: middle;\n",
       "    }\n",
       "\n",
       "    .dataframe tbody tr th {\n",
       "        vertical-align: top;\n",
       "    }\n",
       "\n",
       "    .dataframe thead th {\n",
       "        text-align: right;\n",
       "    }\n",
       "</style>\n",
       "<table border=\"1\" class=\"dataframe\">\n",
       "  <thead>\n",
       "    <tr style=\"text-align: right;\">\n",
       "      <th></th>\n",
       "      <th>sex</th>\n",
       "      <th>age</th>\n",
       "      <th>parch</th>\n",
       "      <th>fare</th>\n",
       "      <th>class</th>\n",
       "      <th>deck</th>\n",
       "      <th>embark_town</th>\n",
       "      <th>alive</th>\n",
       "      <th>alone</th>\n",
       "    </tr>\n",
       "  </thead>\n",
       "  <tbody>\n",
       "    <tr>\n",
       "      <th>0</th>\n",
       "      <td>male</td>\n",
       "      <td>22.0</td>\n",
       "      <td>0</td>\n",
       "      <td>7.2500</td>\n",
       "      <td>Third</td>\n",
       "      <td>NaN</td>\n",
       "      <td>Southampton</td>\n",
       "      <td>no</td>\n",
       "      <td>False</td>\n",
       "    </tr>\n",
       "    <tr>\n",
       "      <th>1</th>\n",
       "      <td>female</td>\n",
       "      <td>38.0</td>\n",
       "      <td>0</td>\n",
       "      <td>71.2833</td>\n",
       "      <td>First</td>\n",
       "      <td>C</td>\n",
       "      <td>Cherbourg</td>\n",
       "      <td>yes</td>\n",
       "      <td>False</td>\n",
       "    </tr>\n",
       "    <tr>\n",
       "      <th>2</th>\n",
       "      <td>female</td>\n",
       "      <td>26.0</td>\n",
       "      <td>0</td>\n",
       "      <td>7.9250</td>\n",
       "      <td>Third</td>\n",
       "      <td>NaN</td>\n",
       "      <td>Southampton</td>\n",
       "      <td>yes</td>\n",
       "      <td>True</td>\n",
       "    </tr>\n",
       "    <tr>\n",
       "      <th>3</th>\n",
       "      <td>female</td>\n",
       "      <td>35.0</td>\n",
       "      <td>0</td>\n",
       "      <td>53.1000</td>\n",
       "      <td>First</td>\n",
       "      <td>C</td>\n",
       "      <td>Southampton</td>\n",
       "      <td>yes</td>\n",
       "      <td>False</td>\n",
       "    </tr>\n",
       "    <tr>\n",
       "      <th>4</th>\n",
       "      <td>male</td>\n",
       "      <td>35.0</td>\n",
       "      <td>0</td>\n",
       "      <td>8.0500</td>\n",
       "      <td>Third</td>\n",
       "      <td>NaN</td>\n",
       "      <td>Southampton</td>\n",
       "      <td>no</td>\n",
       "      <td>True</td>\n",
       "    </tr>\n",
       "  </tbody>\n",
       "</table>\n",
       "</div>"
      ],
      "text/plain": [
       "      sex   age  parch     fare  class deck  embark_town alive  alone\n",
       "0    male  22.0      0   7.2500  Third  NaN  Southampton    no  False\n",
       "1  female  38.0      0  71.2833  First    C    Cherbourg   yes  False\n",
       "2  female  26.0      0   7.9250  Third  NaN  Southampton   yes   True\n",
       "3  female  35.0      0  53.1000  First    C  Southampton   yes  False\n",
       "4    male  35.0      0   8.0500  Third  NaN  Southampton    no   True"
      ]
     },
     "execution_count": 2,
     "metadata": {},
     "output_type": "execute_result"
    }
   ],
   "source": [
    "df = pd.read_csv('data/titanic2.csv')\n",
    "df.head()"
   ]
  },
  {
   "cell_type": "code",
   "execution_count": 3,
   "metadata": {},
   "outputs": [
    {
     "data": {
      "text/plain": [
       "no     549\n",
       "yes    342\n",
       "Name: alive, dtype: int64"
      ]
     },
     "execution_count": 3,
     "metadata": {},
     "output_type": "execute_result"
    }
   ],
   "source": [
    "df['alive'].value_counts()"
   ]
  },
  {
   "cell_type": "markdown",
   "metadata": {},
   "source": [
    "# EDA"
   ]
  },
  {
   "cell_type": "code",
   "execution_count": 4,
   "metadata": {},
   "outputs": [
    {
     "name": "stdout",
     "output_type": "stream",
     "text": [
      "<class 'pandas.core.frame.DataFrame'>\n",
      "RangeIndex: 891 entries, 0 to 890\n",
      "Data columns (total 9 columns):\n",
      " #   Column       Non-Null Count  Dtype  \n",
      "---  ------       --------------  -----  \n",
      " 0   sex          891 non-null    object \n",
      " 1   age          714 non-null    float64\n",
      " 2   parch        891 non-null    int64  \n",
      " 3   fare         891 non-null    float64\n",
      " 4   class        891 non-null    object \n",
      " 5   deck         203 non-null    object \n",
      " 6   embark_town  889 non-null    object \n",
      " 7   alive        891 non-null    object \n",
      " 8   alone        891 non-null    bool   \n",
      "dtypes: bool(1), float64(2), int64(1), object(5)\n",
      "memory usage: 56.7+ KB\n"
     ]
    }
   ],
   "source": [
    "df.info()\n",
    "# lihat missing value\n",
    "# lihat dtype nya"
   ]
  },
  {
   "cell_type": "code",
   "execution_count": 5,
   "metadata": {},
   "outputs": [
    {
     "data": {
      "text/html": [
       "<div>\n",
       "<style scoped>\n",
       "    .dataframe tbody tr th:only-of-type {\n",
       "        vertical-align: middle;\n",
       "    }\n",
       "\n",
       "    .dataframe tbody tr th {\n",
       "        vertical-align: top;\n",
       "    }\n",
       "\n",
       "    .dataframe thead th {\n",
       "        text-align: right;\n",
       "    }\n",
       "</style>\n",
       "<table border=\"1\" class=\"dataframe\">\n",
       "  <thead>\n",
       "    <tr style=\"text-align: right;\">\n",
       "      <th></th>\n",
       "      <th>sex</th>\n",
       "      <th>age</th>\n",
       "      <th>parch</th>\n",
       "      <th>fare</th>\n",
       "      <th>class</th>\n",
       "      <th>deck</th>\n",
       "      <th>embark_town</th>\n",
       "      <th>alive</th>\n",
       "      <th>alone</th>\n",
       "    </tr>\n",
       "  </thead>\n",
       "  <tbody>\n",
       "    <tr>\n",
       "      <th>count</th>\n",
       "      <td>891</td>\n",
       "      <td>714.000000</td>\n",
       "      <td>891.000000</td>\n",
       "      <td>891.000000</td>\n",
       "      <td>891</td>\n",
       "      <td>203</td>\n",
       "      <td>889</td>\n",
       "      <td>891</td>\n",
       "      <td>891</td>\n",
       "    </tr>\n",
       "    <tr>\n",
       "      <th>unique</th>\n",
       "      <td>2</td>\n",
       "      <td>NaN</td>\n",
       "      <td>NaN</td>\n",
       "      <td>NaN</td>\n",
       "      <td>3</td>\n",
       "      <td>7</td>\n",
       "      <td>3</td>\n",
       "      <td>2</td>\n",
       "      <td>2</td>\n",
       "    </tr>\n",
       "    <tr>\n",
       "      <th>top</th>\n",
       "      <td>male</td>\n",
       "      <td>NaN</td>\n",
       "      <td>NaN</td>\n",
       "      <td>NaN</td>\n",
       "      <td>Third</td>\n",
       "      <td>C</td>\n",
       "      <td>Southampton</td>\n",
       "      <td>no</td>\n",
       "      <td>True</td>\n",
       "    </tr>\n",
       "    <tr>\n",
       "      <th>freq</th>\n",
       "      <td>577</td>\n",
       "      <td>NaN</td>\n",
       "      <td>NaN</td>\n",
       "      <td>NaN</td>\n",
       "      <td>491</td>\n",
       "      <td>59</td>\n",
       "      <td>644</td>\n",
       "      <td>549</td>\n",
       "      <td>537</td>\n",
       "    </tr>\n",
       "    <tr>\n",
       "      <th>mean</th>\n",
       "      <td>NaN</td>\n",
       "      <td>29.699118</td>\n",
       "      <td>0.381594</td>\n",
       "      <td>32.204208</td>\n",
       "      <td>NaN</td>\n",
       "      <td>NaN</td>\n",
       "      <td>NaN</td>\n",
       "      <td>NaN</td>\n",
       "      <td>NaN</td>\n",
       "    </tr>\n",
       "    <tr>\n",
       "      <th>std</th>\n",
       "      <td>NaN</td>\n",
       "      <td>14.526497</td>\n",
       "      <td>0.806057</td>\n",
       "      <td>49.693429</td>\n",
       "      <td>NaN</td>\n",
       "      <td>NaN</td>\n",
       "      <td>NaN</td>\n",
       "      <td>NaN</td>\n",
       "      <td>NaN</td>\n",
       "    </tr>\n",
       "    <tr>\n",
       "      <th>min</th>\n",
       "      <td>NaN</td>\n",
       "      <td>0.420000</td>\n",
       "      <td>0.000000</td>\n",
       "      <td>0.000000</td>\n",
       "      <td>NaN</td>\n",
       "      <td>NaN</td>\n",
       "      <td>NaN</td>\n",
       "      <td>NaN</td>\n",
       "      <td>NaN</td>\n",
       "    </tr>\n",
       "    <tr>\n",
       "      <th>25%</th>\n",
       "      <td>NaN</td>\n",
       "      <td>20.125000</td>\n",
       "      <td>0.000000</td>\n",
       "      <td>7.910400</td>\n",
       "      <td>NaN</td>\n",
       "      <td>NaN</td>\n",
       "      <td>NaN</td>\n",
       "      <td>NaN</td>\n",
       "      <td>NaN</td>\n",
       "    </tr>\n",
       "    <tr>\n",
       "      <th>50%</th>\n",
       "      <td>NaN</td>\n",
       "      <td>28.000000</td>\n",
       "      <td>0.000000</td>\n",
       "      <td>14.454200</td>\n",
       "      <td>NaN</td>\n",
       "      <td>NaN</td>\n",
       "      <td>NaN</td>\n",
       "      <td>NaN</td>\n",
       "      <td>NaN</td>\n",
       "    </tr>\n",
       "    <tr>\n",
       "      <th>75%</th>\n",
       "      <td>NaN</td>\n",
       "      <td>38.000000</td>\n",
       "      <td>0.000000</td>\n",
       "      <td>31.000000</td>\n",
       "      <td>NaN</td>\n",
       "      <td>NaN</td>\n",
       "      <td>NaN</td>\n",
       "      <td>NaN</td>\n",
       "      <td>NaN</td>\n",
       "    </tr>\n",
       "    <tr>\n",
       "      <th>max</th>\n",
       "      <td>NaN</td>\n",
       "      <td>80.000000</td>\n",
       "      <td>6.000000</td>\n",
       "      <td>512.329200</td>\n",
       "      <td>NaN</td>\n",
       "      <td>NaN</td>\n",
       "      <td>NaN</td>\n",
       "      <td>NaN</td>\n",
       "      <td>NaN</td>\n",
       "    </tr>\n",
       "  </tbody>\n",
       "</table>\n",
       "</div>"
      ],
      "text/plain": [
       "         sex         age       parch        fare  class deck  embark_town  \\\n",
       "count    891  714.000000  891.000000  891.000000    891  203          889   \n",
       "unique     2         NaN         NaN         NaN      3    7            3   \n",
       "top     male         NaN         NaN         NaN  Third    C  Southampton   \n",
       "freq     577         NaN         NaN         NaN    491   59          644   \n",
       "mean     NaN   29.699118    0.381594   32.204208    NaN  NaN          NaN   \n",
       "std      NaN   14.526497    0.806057   49.693429    NaN  NaN          NaN   \n",
       "min      NaN    0.420000    0.000000    0.000000    NaN  NaN          NaN   \n",
       "25%      NaN   20.125000    0.000000    7.910400    NaN  NaN          NaN   \n",
       "50%      NaN   28.000000    0.000000   14.454200    NaN  NaN          NaN   \n",
       "75%      NaN   38.000000    0.000000   31.000000    NaN  NaN          NaN   \n",
       "max      NaN   80.000000    6.000000  512.329200    NaN  NaN          NaN   \n",
       "\n",
       "       alive alone  \n",
       "count    891   891  \n",
       "unique     2     2  \n",
       "top       no  True  \n",
       "freq     549   537  \n",
       "mean     NaN   NaN  \n",
       "std      NaN   NaN  \n",
       "min      NaN   NaN  \n",
       "25%      NaN   NaN  \n",
       "50%      NaN   NaN  \n",
       "75%      NaN   NaN  \n",
       "max      NaN   NaN  "
      ]
     },
     "execution_count": 5,
     "metadata": {},
     "output_type": "execute_result"
    }
   ],
   "source": [
    "df.describe(include='all')\n",
    "# perhatikan mean median min max unique dll"
   ]
  },
  {
   "cell_type": "code",
   "execution_count": 6,
   "metadata": {},
   "outputs": [
    {
     "data": {
      "text/plain": [
       "<AxesSubplot:xlabel='alive', ylabel='count'>"
      ]
     },
     "execution_count": 6,
     "metadata": {},
     "output_type": "execute_result"
    },
    {
     "data": {
      "image/png": "[encoded data removed]",
      "text/plain": [
       "<Figure size 432x288 with 1 Axes>"
      ]
     },
     "metadata": {
      "needs_background": "light"
     },
     "output_type": "display_data"
    }
   ],
   "source": [
    "sns.countplot(x='alive',data=df,hue='sex')\n",
    "# jumlah male lebih banyak\n",
    "# tapi rasio yg selamat lebih baik pada female"
   ]
  },
  {
   "cell_type": "code",
   "execution_count": 7,
   "metadata": {},
   "outputs": [
    {
     "data": {
      "text/plain": [
       "<AxesSubplot:xlabel='class', ylabel='count'>"
      ]
     },
     "execution_count": 7,
     "metadata": {},
     "output_type": "execute_result"
    },
    {
     "data": {
      "image/png": "[encoded data removed]",
      "text/plain": [
       "<Figure size 432x288 with 1 Axes>"
      ]
     },
     "metadata": {
      "needs_background": "light"
     },
     "output_type": "display_data"
    }
   ],
   "source": [
    "sns.countplot(x='class',data=df,hue='alive')\n",
    "# penumpang third class paling banyak\n",
    "# korban paling banyak juga dari third class\n",
    "# rasio penumpang selamat pada first class lebih banyak daripada yg mati"
   ]
  },
  {
   "cell_type": "code",
   "execution_count": 8,
   "metadata": {},
   "outputs": [
    {
     "data": {
      "text/plain": [
       "<AxesSubplot:xlabel='fare', ylabel='class'>"
      ]
     },
     "execution_count": 8,
     "metadata": {},
     "output_type": "execute_result"
    },
    {
     "data": {
      "image/png": "[encoded data removed]",
      "text/plain": [
       "<Figure size 432x288 with 1 Axes>"
      ]
     },
     "metadata": {
      "needs_background": "light"
     },
     "output_type": "display_data"
    }
   ],
   "source": [
    "sns.boxplot(x='fare', y='class', hue='alive', data=df)"
   ]
  },
  {
   "cell_type": "code",
   "execution_count": 9,
   "metadata": {},
   "outputs": [
    {
     "data": {
      "text/plain": [
       "<AxesSubplot:xlabel='embark_town', ylabel='count'>"
      ]
     },
     "execution_count": 9,
     "metadata": {},
     "output_type": "execute_result"
    },
    {
     "data": {
      "image/png": "[encoded data removed]",
      "text/plain": [
       "<Figure size 432x288 with 1 Axes>"
      ]
     },
     "metadata": {
      "needs_background": "light"
     },
     "output_type": "display_data"
    }
   ],
   "source": [
    "sns.countplot(x=df['embark_town'], data=df, hue='class')\n",
    "# kebanyakan penumpang dari southampton, mungkin kota maju \n",
    "# paling dikit dari queenstown"
   ]
  },
  {
   "cell_type": "code",
   "execution_count": 10,
   "metadata": {},
   "outputs": [
    {
     "data": {
      "text/plain": [
       "<AxesSubplot:xlabel='embark_town,class'>"
      ]
     },
     "execution_count": 10,
     "metadata": {},
     "output_type": "execute_result"
    },
    {
     "data": {
      "image/png": "[encoded data removed]",
      "text/plain": [
       "<Figure size 432x288 with 1 Axes>"
      ]
     },
     "metadata": {
      "needs_background": "light"
     },
     "output_type": "display_data"
    }
   ],
   "source": [
    "df.groupby('embark_town')['class'].value_counts().plot(kind='bar')"
   ]
  },
  {
   "cell_type": "code",
   "execution_count": 11,
   "metadata": {},
   "outputs": [
    {
     "data": {
      "text/plain": [
       "<AxesSubplot:xlabel='age', ylabel='alive'>"
      ]
     },
     "execution_count": 11,
     "metadata": {},
     "output_type": "execute_result"
    },
    {
     "data": {
      "image/png": "[encoded data removed]",
      "text/plain": [
       "<Figure size 432x288 with 1 Axes>"
      ]
     },
     "metadata": {
      "needs_background": "light"
     },
     "output_type": "display_data"
    }
   ],
   "source": [
    "sns.barplot(x='age', y='alive', data=df)\n",
    "# rata-rata yg hidup, berumur lebih muda sedikit dari yg mati "
   ]
  },
  {
   "cell_type": "code",
   "execution_count": 12,
   "metadata": {},
   "outputs": [
    {
     "name": "stderr",
     "output_type": "stream",
     "text": [
      "C:\\Users\\62812\\anaconda3\\lib\\site-packages\\seaborn\\distributions.py:2551: FutureWarning: `distplot` is a deprecated function and will be removed in a future version. Please adapt your code to use either `displot` (a figure-level function with similar flexibility) or `histplot` (an axes-level function for histograms).\n",
      "  warnings.warn(msg, FutureWarning)\n",
      "C:\\Users\\62812\\anaconda3\\lib\\site-packages\\seaborn\\distributions.py:2551: FutureWarning: `distplot` is a deprecated function and will be removed in a future version. Please adapt your code to use either `displot` (a figure-level function with similar flexibility) or `histplot` (an axes-level function for histograms).\n",
      "  warnings.warn(msg, FutureWarning)\n"
     ]
    },
    {
     "data": {
      "text/plain": [
       "<AxesSubplot:xlabel='age', ylabel='Density'>"
      ]
     },
     "execution_count": 12,
     "metadata": {},
     "output_type": "execute_result"
    },
    {
     "data": {
      "image/png": "[encoded data removed]",
      "text/plain": [
       "<Figure size 432x288 with 1 Axes>"
      ]
     },
     "metadata": {
      "needs_background": "light"
     },
     "output_type": "display_data"
    }
   ],
   "source": [
    "sns.distplot(df[df['alive']=='yes']['age']) # biru\n",
    "sns.distplot(df[df['alive']=='no']['age']) # merah\n",
    "\n",
    "# ada lonjakan jumlah selamat pada penumpang berusia anak2, \n",
    "# pada yg lanjut usia, ada sedikit kenaikan jumlah yg tidak selamat"
   ]
  },
  {
   "cell_type": "code",
   "execution_count": 13,
   "metadata": {},
   "outputs": [
    {
     "data": {
      "text/plain": [
       "<AxesSubplot:xlabel='alone', ylabel='count'>"
      ]
     },
     "execution_count": 13,
     "metadata": {},
     "output_type": "execute_result"
    },
    {
     "data": {
      "image/png": "[encoded data removed]",
      "text/plain": [
       "<Figure size 432x288 with 1 Axes>"
      ]
     },
     "metadata": {
      "needs_background": "light"
     },
     "output_type": "display_data"
    }
   ],
   "source": [
    "sns.countplot(x='alone', data=df, hue='alive')\n",
    "# ketika alone(sendiri), ratio untuk selamat lebih rendah"
   ]
  },
  {
   "cell_type": "markdown",
   "metadata": {},
   "source": [
    "Insight: \n",
    "\n",
    "Untuk orang yg naik titanic, jika ada kecelakaan, kemungkinan untuk selamat lebih besar jika anda wanita, muda, membayar mahal pada first class.\n",
    "\n",
    "Selain EDA ini, bisa juga cek korelasi(terutama jika kasusnya regresi (targetnya continuous))"
   ]
  },
  {
   "cell_type": "code",
   "execution_count": null,
   "metadata": {},
   "outputs": [],
   "source": []
  },
  {
   "cell_type": "markdown",
   "metadata": {},
   "source": [
    "# Preprocessing"
   ]
  },
  {
   "cell_type": "code",
   "execution_count": 14,
   "metadata": {},
   "outputs": [],
   "source": [
    "df = pd.read_csv('data/titanic2.csv')"
   ]
  },
  {
   "cell_type": "code",
   "execution_count": 15,
   "metadata": {},
   "outputs": [
    {
     "name": "stdout",
     "output_type": "stream",
     "text": [
      "<class 'pandas.core.frame.DataFrame'>\n",
      "RangeIndex: 891 entries, 0 to 890\n",
      "Data columns (total 9 columns):\n",
      " #   Column       Non-Null Count  Dtype  \n",
      "---  ------       --------------  -----  \n",
      " 0   sex          891 non-null    object \n",
      " 1   age          714 non-null    float64\n",
      " 2   parch        891 non-null    int64  \n",
      " 3   fare         891 non-null    float64\n",
      " 4   class        891 non-null    object \n",
      " 5   deck         203 non-null    object \n",
      " 6   embark_town  889 non-null    object \n",
      " 7   alive        891 non-null    object \n",
      " 8   alone        891 non-null    bool   \n",
      "dtypes: bool(1), float64(2), int64(1), object(5)\n",
      "memory usage: 56.7+ KB\n"
     ]
    }
   ],
   "source": [
    "df.info()"
   ]
  },
  {
   "cell_type": "code",
   "execution_count": 16,
   "metadata": {},
   "outputs": [
    {
     "data": {
      "text/plain": [
       "sex            0.000000\n",
       "age            0.198653\n",
       "parch          0.000000\n",
       "fare           0.000000\n",
       "class          0.000000\n",
       "deck           0.772166\n",
       "embark_town    0.002245\n",
       "alive          0.000000\n",
       "alone          0.000000\n",
       "dtype: float64"
      ]
     },
     "execution_count": 16,
     "metadata": {},
     "output_type": "execute_result"
    }
   ],
   "source": [
    "df.isna().sum()/df.shape[0] # persentase missing value"
   ]
  },
  {
   "cell_type": "markdown",
   "metadata": {},
   "source": [
    "Tahap Preprocessing:\n",
    "- drop yg banyak missing value (deck)\n",
    "- isi missing value (age, embark_town)\n",
    "- ubah data type alone jadi string \n",
    "- encoding (ubah categorical jadi numerical): sex, class, embark_town, alone\n",
    "- ubah data type target (alive) jadi numerical\n",
    "- putuskan jenis encoding untuk tiap feature:\n",
    ">- onehot: nominal dan ordinal, unique value categorynya dikit \n",
    ">- ordinal: ordinal, category jadi angka sesuai urutan yg kita tentukan\n",
    ">- binary:  mengubah value jadi binary, jumlah column menyesuaikan digit binary\n",
    "\n",
    ">- sex: onehot/binary\n",
    ">- class: onehot/ordinal\n",
    ">- embark_town: isi missing value (most_freq), lalu onehot/binary\n",
    ">- alone: onehot/binary\n",
    ">- age: isi missing value (median)\n",
    "\n",
    "- kalau mau/perlu, bisa scaling (terutama KNN/Logreg)"
   ]
  },
  {
   "cell_type": "code",
   "execution_count": 17,
   "metadata": {},
   "outputs": [],
   "source": [
    "from sklearn.preprocessing import OneHotEncoder \n",
    "from sklearn.impute import SimpleImputer\n",
    "from sklearn.compose import ColumnTransformer \n",
    "from sklearn.pipeline import Pipeline"
   ]
  },
  {
   "cell_type": "code",
   "execution_count": 18,
   "metadata": {},
   "outputs": [],
   "source": [
    "df = pd.read_csv('data/titanic2.csv')"
   ]
  },
  {
   "cell_type": "code",
   "execution_count": 19,
   "metadata": {},
   "outputs": [],
   "source": [
    "df = df.drop(columns='deck')\n",
    "# deck terlalu banyak missing value"
   ]
  },
  {
   "cell_type": "code",
   "execution_count": 20,
   "metadata": {},
   "outputs": [],
   "source": [
    "df['alone'] = df['alone'].astype(str)"
   ]
  },
  {
   "cell_type": "code",
   "execution_count": 21,
   "metadata": {},
   "outputs": [
    {
     "name": "stdout",
     "output_type": "stream",
     "text": [
      "<class 'pandas.core.frame.DataFrame'>\n",
      "RangeIndex: 891 entries, 0 to 890\n",
      "Data columns (total 8 columns):\n",
      " #   Column       Non-Null Count  Dtype  \n",
      "---  ------       --------------  -----  \n",
      " 0   sex          891 non-null    object \n",
      " 1   age          714 non-null    float64\n",
      " 2   parch        891 non-null    int64  \n",
      " 3   fare         891 non-null    float64\n",
      " 4   class        891 non-null    object \n",
      " 5   embark_town  889 non-null    object \n",
      " 6   alive        891 non-null    object \n",
      " 7   alone        891 non-null    object \n",
      "dtypes: float64(2), int64(1), object(5)\n",
      "memory usage: 55.8+ KB\n"
     ]
    }
   ],
   "source": [
    "df.info()"
   ]
  },
  {
   "cell_type": "code",
   "execution_count": 22,
   "metadata": {},
   "outputs": [],
   "source": [
    "# Encoding\n",
    "onehot_fill = Pipeline([\n",
    "    ('fillna', SimpleImputer(strategy='most_frequent')),\n",
    "    ('encode', OneHotEncoder(drop='first'))\n",
    "])\n",
    "\n",
    "transformer = ColumnTransformer([\n",
    "    ('one_hot', OneHotEncoder(drop='first'), ['sex','class','alone']),\n",
    "    ('onehot_fill', onehot_fill, ['embark_town']),\n",
    "    ('fill age', SimpleImputer(strategy='median'), ['age'])\n",
    "], remainder='passthrough')"
   ]
  },
  {
   "cell_type": "markdown",
   "metadata": {},
   "source": [
    "# Splitting data"
   ]
  },
  {
   "cell_type": "code",
   "execution_count": 23,
   "metadata": {},
   "outputs": [],
   "source": [
    "from sklearn.model_selection import train_test_split"
   ]
  },
  {
   "cell_type": "code",
   "execution_count": 24,
   "metadata": {},
   "outputs": [],
   "source": [
    "# define X dan y\n",
    "X = df.drop(columns=['alive'])\n",
    "y = [1 if i=='yes' else 0 for i in df['alive']]"
   ]
  },
  {
   "cell_type": "code",
   "execution_count": 25,
   "metadata": {},
   "outputs": [],
   "source": [
    "# split\n",
    "X_train, X_test, y_train, y_test = train_test_split(\n",
    "    X,y,\n",
    "    test_size=0.2,\n",
    "    stratify=y,\n",
    "    random_state=2020\n",
    ") "
   ]
  },
  {
   "cell_type": "code",
   "execution_count": 26,
   "metadata": {},
   "outputs": [
    {
     "data": {
      "text/html": [
       "<div>\n",
       "<style scoped>\n",
       "    .dataframe tbody tr th:only-of-type {\n",
       "        vertical-align: middle;\n",
       "    }\n",
       "\n",
       "    .dataframe tbody tr th {\n",
       "        vertical-align: top;\n",
       "    }\n",
       "\n",
       "    .dataframe thead th {\n",
       "        text-align: right;\n",
       "    }\n",
       "</style>\n",
       "<table border=\"1\" class=\"dataframe\">\n",
       "  <thead>\n",
       "    <tr style=\"text-align: right;\">\n",
       "      <th></th>\n",
       "      <th>sex</th>\n",
       "      <th>age</th>\n",
       "      <th>parch</th>\n",
       "      <th>fare</th>\n",
       "      <th>class</th>\n",
       "      <th>embark_town</th>\n",
       "      <th>alone</th>\n",
       "    </tr>\n",
       "  </thead>\n",
       "  <tbody>\n",
       "    <tr>\n",
       "      <th>560</th>\n",
       "      <td>male</td>\n",
       "      <td>NaN</td>\n",
       "      <td>0</td>\n",
       "      <td>7.7500</td>\n",
       "      <td>Third</td>\n",
       "      <td>Queenstown</td>\n",
       "      <td>True</td>\n",
       "    </tr>\n",
       "    <tr>\n",
       "      <th>130</th>\n",
       "      <td>male</td>\n",
       "      <td>33.0</td>\n",
       "      <td>0</td>\n",
       "      <td>7.8958</td>\n",
       "      <td>Third</td>\n",
       "      <td>Cherbourg</td>\n",
       "      <td>True</td>\n",
       "    </tr>\n",
       "    <tr>\n",
       "      <th>551</th>\n",
       "      <td>male</td>\n",
       "      <td>27.0</td>\n",
       "      <td>0</td>\n",
       "      <td>26.0000</td>\n",
       "      <td>Second</td>\n",
       "      <td>Southampton</td>\n",
       "      <td>True</td>\n",
       "    </tr>\n",
       "    <tr>\n",
       "      <th>587</th>\n",
       "      <td>male</td>\n",
       "      <td>60.0</td>\n",
       "      <td>1</td>\n",
       "      <td>79.2000</td>\n",
       "      <td>First</td>\n",
       "      <td>Cherbourg</td>\n",
       "      <td>False</td>\n",
       "    </tr>\n",
       "    <tr>\n",
       "      <th>2</th>\n",
       "      <td>female</td>\n",
       "      <td>26.0</td>\n",
       "      <td>0</td>\n",
       "      <td>7.9250</td>\n",
       "      <td>Third</td>\n",
       "      <td>Southampton</td>\n",
       "      <td>True</td>\n",
       "    </tr>\n",
       "    <tr>\n",
       "      <th>...</th>\n",
       "      <td>...</td>\n",
       "      <td>...</td>\n",
       "      <td>...</td>\n",
       "      <td>...</td>\n",
       "      <td>...</td>\n",
       "      <td>...</td>\n",
       "      <td>...</td>\n",
       "    </tr>\n",
       "    <tr>\n",
       "      <th>818</th>\n",
       "      <td>male</td>\n",
       "      <td>43.0</td>\n",
       "      <td>0</td>\n",
       "      <td>6.4500</td>\n",
       "      <td>Third</td>\n",
       "      <td>Southampton</td>\n",
       "      <td>True</td>\n",
       "    </tr>\n",
       "    <tr>\n",
       "      <th>113</th>\n",
       "      <td>female</td>\n",
       "      <td>20.0</td>\n",
       "      <td>0</td>\n",
       "      <td>9.8250</td>\n",
       "      <td>Third</td>\n",
       "      <td>Southampton</td>\n",
       "      <td>False</td>\n",
       "    </tr>\n",
       "    <tr>\n",
       "      <th>605</th>\n",
       "      <td>male</td>\n",
       "      <td>36.0</td>\n",
       "      <td>0</td>\n",
       "      <td>15.5500</td>\n",
       "      <td>Third</td>\n",
       "      <td>Southampton</td>\n",
       "      <td>False</td>\n",
       "    </tr>\n",
       "    <tr>\n",
       "      <th>642</th>\n",
       "      <td>female</td>\n",
       "      <td>2.0</td>\n",
       "      <td>2</td>\n",
       "      <td>27.9000</td>\n",
       "      <td>Third</td>\n",
       "      <td>Southampton</td>\n",
       "      <td>False</td>\n",
       "    </tr>\n",
       "    <tr>\n",
       "      <th>206</th>\n",
       "      <td>male</td>\n",
       "      <td>32.0</td>\n",
       "      <td>0</td>\n",
       "      <td>15.8500</td>\n",
       "      <td>Third</td>\n",
       "      <td>Southampton</td>\n",
       "      <td>False</td>\n",
       "    </tr>\n",
       "  </tbody>\n",
       "</table>\n",
       "<p>179 rows × 7 columns</p>\n",
       "</div>"
      ],
      "text/plain": [
       "        sex   age  parch     fare   class  embark_town  alone\n",
       "560    male   NaN      0   7.7500   Third   Queenstown   True\n",
       "130    male  33.0      0   7.8958   Third    Cherbourg   True\n",
       "551    male  27.0      0  26.0000  Second  Southampton   True\n",
       "587    male  60.0      1  79.2000   First    Cherbourg  False\n",
       "2    female  26.0      0   7.9250   Third  Southampton   True\n",
       "..      ...   ...    ...      ...     ...          ...    ...\n",
       "818    male  43.0      0   6.4500   Third  Southampton   True\n",
       "113  female  20.0      0   9.8250   Third  Southampton  False\n",
       "605    male  36.0      0  15.5500   Third  Southampton  False\n",
       "642  female   2.0      2  27.9000   Third  Southampton  False\n",
       "206    male  32.0      0  15.8500   Third  Southampton  False\n",
       "\n",
       "[179 rows x 7 columns]"
      ]
     },
     "execution_count": 26,
     "metadata": {},
     "output_type": "execute_result"
    }
   ],
   "source": [
    "X_test"
   ]
  },
  {
   "cell_type": "markdown",
   "metadata": {},
   "source": [
    "# Select Model Benchmark"
   ]
  },
  {
   "cell_type": "code",
   "execution_count": 27,
   "metadata": {},
   "outputs": [],
   "source": [
    "from sklearn.linear_model import LogisticRegression\n",
    "from sklearn.neighbors import KNeighborsClassifier\n",
    "from sklearn.tree import DecisionTreeClassifier\n",
    "from sklearn.ensemble import RandomForestClassifier\n",
    "\n",
    "from sklearn.metrics import f1_score, classification_report\n",
    "from sklearn.model_selection import cross_val_score, StratifiedKFold\n",
    "\n",
    "import warnings\n",
    "warnings.filterwarnings('ignore')"
   ]
  },
  {
   "cell_type": "code",
   "execution_count": 28,
   "metadata": {},
   "outputs": [],
   "source": [
    "# Kandidat model benchmark\n",
    "models = [\n",
    "    ['Log Regression', LogisticRegression()],\n",
    "    ['KNN', KNeighborsClassifier()],\n",
    "    ['Decision Tree', DecisionTreeClassifier(random_state=2020)],\n",
    "    ['Random Forest', RandomForestClassifier(random_state=2020)]\n",
    "]"
   ]
  },
  {
   "cell_type": "code",
   "execution_count": 29,
   "metadata": {},
   "outputs": [],
   "source": [
    "# function untuk mencari model benchmark terbaik\n",
    "def evaluate(models):\n",
    "    model_name=[]\n",
    "    f1_score=[]\n",
    "    f1_std=[]\n",
    "\n",
    "    for name, model in models:\n",
    "        # model yg dijadikan pipeline, teridiri dari preprocessing dan model ML\n",
    "        estimator = Pipeline([\n",
    "            ('preprocess',transformer),\n",
    "            ('model', model)\n",
    "        ])\n",
    "        \n",
    "        # untuk cross validation\n",
    "        skfold = StratifiedKFold(n_splits=5)\n",
    "\n",
    "        model_name.append(name)\n",
    "        \n",
    "        # menyimpan rata2 f1 score  \n",
    "        f1_score.append(cross_val_score(\n",
    "            estimator, \n",
    "            X_train,y_train,\n",
    "            cv=skfold,\n",
    "            scoring='f1').mean()\n",
    "            )\n",
    "\n",
    "        # menyimpan standar deviasi f1 score  \n",
    "        f1_std.append(cross_val_score(\n",
    "            estimator, \n",
    "            X_train,y_train,\n",
    "            cv=skfold,\n",
    "            scoring='f1').std()\n",
    "            )\n",
    "\n",
    "    return pd.DataFrame({\n",
    "        'model': model_name,\n",
    "        'f1_score': f1_score,\n",
    "        'f1_std': f1_std\n",
    "    })"
   ]
  },
  {
   "cell_type": "code",
   "execution_count": 30,
   "metadata": {},
   "outputs": [
    {
     "data": {
      "text/html": [
       "<div>\n",
       "<style scoped>\n",
       "    .dataframe tbody tr th:only-of-type {\n",
       "        vertical-align: middle;\n",
       "    }\n",
       "\n",
       "    .dataframe tbody tr th {\n",
       "        vertical-align: top;\n",
       "    }\n",
       "\n",
       "    .dataframe thead th {\n",
       "        text-align: right;\n",
       "    }\n",
       "</style>\n",
       "<table border=\"1\" class=\"dataframe\">\n",
       "  <thead>\n",
       "    <tr style=\"text-align: right;\">\n",
       "      <th></th>\n",
       "      <th>model</th>\n",
       "      <th>f1_score</th>\n",
       "      <th>f1_std</th>\n",
       "    </tr>\n",
       "  </thead>\n",
       "  <tbody>\n",
       "    <tr>\n",
       "      <th>0</th>\n",
       "      <td>Log Regression</td>\n",
       "      <td>0.723498</td>\n",
       "      <td>0.057850</td>\n",
       "    </tr>\n",
       "    <tr>\n",
       "      <th>1</th>\n",
       "      <td>KNN</td>\n",
       "      <td>0.577594</td>\n",
       "      <td>0.058171</td>\n",
       "    </tr>\n",
       "    <tr>\n",
       "      <th>2</th>\n",
       "      <td>Decision Tree</td>\n",
       "      <td>0.716155</td>\n",
       "      <td>0.013024</td>\n",
       "    </tr>\n",
       "    <tr>\n",
       "      <th>3</th>\n",
       "      <td>Random Forest</td>\n",
       "      <td>0.732327</td>\n",
       "      <td>0.049295</td>\n",
       "    </tr>\n",
       "  </tbody>\n",
       "</table>\n",
       "</div>"
      ],
      "text/plain": [
       "            model  f1_score    f1_std\n",
       "0  Log Regression  0.723498  0.057850\n",
       "1             KNN  0.577594  0.058171\n",
       "2   Decision Tree  0.716155  0.013024\n",
       "3   Random Forest  0.732327  0.049295"
      ]
     },
     "execution_count": 30,
     "metadata": {},
     "output_type": "execute_result"
    }
   ],
   "source": [
    "# membandingkan f1 score dari beberapa kandidat model\n",
    "evaluate(models)"
   ]
  },
  {
   "cell_type": "markdown",
   "metadata": {},
   "source": [
    "### Model terpilih: \n",
    "Random Forest, score tertinggi, std relatif rendah\n",
    "\n",
    "- f1 score: 0.732\n",
    "- st dev: 0.049"
   ]
  },
  {
   "cell_type": "code",
   "execution_count": 31,
   "metadata": {},
   "outputs": [
    {
     "data": {
      "text/plain": [
       "0.7301587301587301"
      ]
     },
     "execution_count": 31,
     "metadata": {},
     "output_type": "execute_result"
    }
   ],
   "source": [
    "# Coba predict ke test set\n",
    "\n",
    "# preproces dan model terpilih\n",
    "estimator = Pipeline([\n",
    "    ('preprocess',transformer),\n",
    "    ('model', RandomForestClassifier(random_state=2020))\n",
    "])\n",
    "\n",
    "# fit\n",
    "estimator.fit(X_train, y_train)\n",
    "\n",
    "# f1_score (y_test, y_predict)\n",
    "f1_score(y_test, estimator.predict(X_test))"
   ]
  },
  {
   "cell_type": "markdown",
   "metadata": {},
   "source": [
    "### F1 score (pada test set) dari model Random Forest adalah 0.73\n",
    "\n",
    "\\* hasilnya mungkin berubah-ubah karena ada randomisasi di suatu tempat"
   ]
  },
  {
   "cell_type": "markdown",
   "metadata": {},
   "source": [
    "# Hyperparameter Tuning"
   ]
  },
  {
   "cell_type": "code",
   "execution_count": 32,
   "metadata": {},
   "outputs": [],
   "source": [
    "from sklearn.model_selection import GridSearchCV, RandomizedSearchCV"
   ]
  },
  {
   "cell_type": "code",
   "execution_count": 33,
   "metadata": {},
   "outputs": [],
   "source": [
    "# untuk mengisi hyperparameter\n",
    "hyperparam_space = {\n",
    "        # 'model__n_estimators' : [50, 75, 100, 150],\n",
    "        'model__min_samples_leaf' : [1,5,10,15,20,50],\n",
    "        'model__min_samples_split' : [2,5,10,15,20,50],\n",
    "        'model__max_depth' : [2,3,4,5,6,7],\n",
    "        'model__criterion' : ['entropy','gini']}\n"
   ]
  },
  {
   "cell_type": "code",
   "execution_count": 34,
   "metadata": {},
   "outputs": [
    {
     "data": {
      "text/plain": [
       "RandomizedSearchCV(cv=StratifiedKFold(n_splits=5, random_state=None, shuffle=False),\n",
       "                   estimator=Pipeline(steps=[('preprocess',\n",
       "                                              ColumnTransformer(remainder='passthrough',\n",
       "                                                                transformers=[('one_hot',\n",
       "                                                                               OneHotEncoder(drop='first'),\n",
       "                                                                               ['sex',\n",
       "                                                                                'class',\n",
       "                                                                                'alone']),\n",
       "                                                                              ('onehot_fill',\n",
       "                                                                               Pipeline(steps=[('fillna',\n",
       "                                                                                                SimpleImputer(strategy='most_frequent')),\n",
       "                                                                                               ('encode',\n",
       "                                                                                                OneHotEncoder(dr...))]),\n",
       "                                                                               ['embark_town']),\n",
       "                                                                              ('fill '\n",
       "                                                                               'age',\n",
       "                                                                               SimpleImputer(strategy='median'),\n",
       "                                                                               ['age'])])),\n",
       "                                             ('model',\n",
       "                                              RandomForestClassifier())]),\n",
       "                   n_iter=20, n_jobs=-1,\n",
       "                   param_distributions={'model__criterion': ['entropy', 'gini'],\n",
       "                                        'model__max_depth': [2, 3, 4, 5, 6, 7],\n",
       "                                        'model__min_samples_leaf': [1, 5, 10,\n",
       "                                                                    15, 20,\n",
       "                                                                    50],\n",
       "                                        'model__min_samples_split': [2, 5, 10,\n",
       "                                                                     15, 20,\n",
       "                                                                     50]},\n",
       "                   random_state=2020, scoring='f1')"
      ]
     },
     "execution_count": 34,
     "metadata": {},
     "output_type": "execute_result"
    }
   ],
   "source": [
    "# model terpilih\n",
    "estimator = Pipeline([\n",
    "    ('preprocess',transformer),\n",
    "    ('model', RandomForestClassifier())\n",
    "])\n",
    "\n",
    "skfold = StratifiedKFold(n_splits=5)\n",
    "\n",
    "# Randomized Search mencari hyperparameter terbaik\n",
    "random = RandomizedSearchCV(\n",
    "    estimator,\n",
    "    param_distributions= hyperparam_space,\n",
    "    cv=skfold,\n",
    "    scoring='f1',\n",
    "    n_iter=20,\n",
    "    n_jobs=-1,\n",
    "    random_state=2020\n",
    ")\n",
    "\n",
    "# tuning\n",
    "random.fit(X_train, y_train)"
   ]
  },
  {
   "cell_type": "code",
   "execution_count": 35,
   "metadata": {},
   "outputs": [
    {
     "data": {
      "text/plain": [
       "{'model__min_samples_split': 5,\n",
       " 'model__min_samples_leaf': 1,\n",
       " 'model__max_depth': 6,\n",
       " 'model__criterion': 'entropy'}"
      ]
     },
     "execution_count": 35,
     "metadata": {},
     "output_type": "execute_result"
    }
   ],
   "source": [
    "# hyperparameter terbaik\n",
    "random.best_params_"
   ]
  },
  {
   "cell_type": "code",
   "execution_count": 36,
   "metadata": {},
   "outputs": [
    {
     "data": {
      "text/plain": [
       "0.7309419429776061"
      ]
     },
     "execution_count": 36,
     "metadata": {},
     "output_type": "execute_result"
    }
   ],
   "source": [
    "# score terbaik (berdasarkan randomized search)\n",
    "random.best_score_"
   ]
  },
  {
   "cell_type": "markdown",
   "metadata": {},
   "source": [
    "> \\* hasil dari randomized search bisa berbeda-beda"
   ]
  },
  {
   "cell_type": "code",
   "execution_count": 37,
   "metadata": {},
   "outputs": [
    {
     "data": {
      "text/plain": [
       "0.689655172413793"
      ]
     },
     "execution_count": 37,
     "metadata": {},
     "output_type": "execute_result"
    }
   ],
   "source": [
    "# Coba predict ke test set\n",
    "\n",
    "# train\n",
    "random.best_estimator_.fit(X_train, y_train)\n",
    "\n",
    "# predict \n",
    "f1_score(y_test, random.best_estimator_.predict(X_test))"
   ]
  },
  {
   "cell_type": "markdown",
   "metadata": {},
   "source": [
    "### F1 score Random Forest setelah hyperparameter tuning: 0.70\n"
   ]
  },
  {
   "cell_type": "markdown",
   "metadata": {},
   "source": [
    "### Perbandingan score:\n",
    "\n",
    "Dengan cross validation\n",
    "- Model benchmark: 0.732\n",
    "- Setelah Hyperparameter Tuning: 0.734\n",
    "- Berdasarkan cross validation, performa model meningkat sedikit\n",
    "\n",
    "Predict ke test set\n",
    "- Model benchmark: 0.730\n",
    "- Setelah Hyperparameter Tuning: 0.700\n",
    "- Berdasarkan prediksi ke test set, performa model menurun cukup jauh\n",
    "\n",
    "-- Selisih score Model benchmark pada sebelum dan setelah tuning lebih kecil daripada Model setelah Hyperparameter Tuning. Artinya model benchmark lebih stabil.    \n",
    "\n",
    "### Bisa kita mabil kesimpulan, Model Benchmark (Random Forest) masih lebih baik daripada Model setelah Hyperparameter Tuning \n"
   ]
  },
  {
   "cell_type": "markdown",
   "metadata": {},
   "source": [
    "## Alternatif Solusi\n",
    "- Ubah angka pada hyperparam_space\n",
    "- Perbanyak n_iter pada Random Search\n",
    "- Ubah metode preprocessing (pada imputing missing value, metode encoding, dll.)\n",
    "- Coba model lain atau tambahkan kandidat model seperti XGBoost dll.\n",
    "- Jika featurenya banyak, bisa lakukan feature selection"
   ]
  },
  {
   "cell_type": "markdown",
   "metadata": {},
   "source": [
    "# Save Model"
   ]
  },
  {
   "cell_type": "code",
   "execution_count": 38,
   "metadata": {},
   "outputs": [],
   "source": [
    "import pickle"
   ]
  },
  {
   "cell_type": "code",
   "execution_count": 39,
   "metadata": {},
   "outputs": [],
   "source": [
    "# estimator = Pipeline([\n",
    "#     ('preprocess',transformer),\n",
    "#     ('model', RandomForestClassifier())\n",
    "# ])\n",
    "\n",
    "# estimator.fit(X_train, y_train)\n",
    "\n",
    "# pickle.dump(estimator, open('final_model.sav','wb'))"
   ]
  },
  {
   "cell_type": "code",
   "execution_count": null,
   "metadata": {},
   "outputs": [],
   "source": []
  },
  {
   "cell_type": "code",
   "execution_count": null,
   "metadata": {},
   "outputs": [],
   "source": []
  },
  {
   "cell_type": "code",
   "execution_count": null,
   "metadata": {},
   "outputs": [],
   "source": []
  },
  {
   "cell_type": "code",
   "execution_count": null,
   "metadata": {},
   "outputs": [],
   "source": []
  }
 ],
 "metadata": {
  "interpreter": {
   "hash": "37eb40c3388cfde35488e2d005b0d69ca91ddeff8a429754d4da636d3f888e5e"
  },
  "kernelspec": {
   "display_name": "Python 3",
   "language": "python",
   "name": "python3"
  },
  "language_info": {
   "codemirror_mode": {
    "name": "ipython",
    "version": 3
   },
   "file_extension": ".py",
   "mimetype": "text/x-python",
   "name": "python",
   "nbconvert_exporter": "python",
   "pygments_lexer": "ipython3",
   "version": "3.8.5"
  }
 },
 "nbformat": 4,
 "nbformat_minor": 2
}
