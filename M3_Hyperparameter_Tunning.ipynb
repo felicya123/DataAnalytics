{
 "cells": [
  {
   "cell_type": "markdown",
   "metadata": {},
   "source": [
    "## Python Exercise : Model Evaluation 1"
   ]
  },
  {
   "cell_type": "markdown",
   "metadata": {},
   "source": [
    "1. Analyze data 'bankloan.csv'\n",
    "    - Employ, debtinc, credebt, othdebt as Features\n",
    "    - Default as Target\n",
    "2. Random state 2020, splitting 80:20 stratified\n",
    "3. Modeling compute accuracy, recall and another metrics using Stratified CV 5 fold:\n",
    "    - Logistic regression (solver liblinear)\n",
    "    - KNN (k=5)\n",
    "    - Tree (criterion entropy, max_depth 5)\n",
    "4. Compute recall, precision, f1 score and make ROC, PRC from logistic regression (solver liblinear) in test\n",
    "5. Simple Hyperparameter tuning : (optimize c) optimize by f1 and using training 60% validation 20% test 20%\n",
    "6. Compare the result (before and after)\n",
    "7. Grid Search CV hyperparameter tuning : (optimize C and max_iter) optimized by f1 and using stratified CV 5 fold\n",
    "8. Compare the result"
   ]
  },
  {
   "cell_type": "code",
   "execution_count": 1,
   "metadata": {},
   "outputs": [],
   "source": [
    "import pandas as pd\n",
    "import numpy as np\n",
    "\n",
    "# preprocessing\n",
    "from sklearn.preprocessing import MinMaxScaler, OneHotEncoder, OrdinalEncoder\n",
    "import category_encoders as ce\n",
    "\n",
    "# model\n",
    "from sklearn.linear_model import LogisticRegression\n",
    "from sklearn.neighbors import KNeighborsClassifier\n",
    "from sklearn.tree import DecisionTreeClassifier\n",
    "\n",
    "# metrics for evaluation\n",
    "from sklearn.metrics import accuracy_score, recall_score, precision_score, f1_score, confusion_matrix, classification_report, roc_auc_score\n",
    "from sklearn.model_selection import train_test_split, GridSearchCV, cross_val_score, StratifiedKFold\n",
    "import warnings\n",
    "\n",
    "# visual\n",
    "from sklearn.metrics import f1_score\n",
    "import matplotlib.pyplot as plt\n",
    "import seaborn as sns\n",
    "\n",
    "# visualisasi hasil\n",
    "from sklearn.metrics import plot_roc_curve, plot_precision_recall_curve"
   ]
  },
  {
   "cell_type": "code",
   "execution_count": 2,
   "metadata": {},
   "outputs": [
    {
     "data": {
      "text/html": [
       "<div>\n",
       "<style scoped>\n",
       "    .dataframe tbody tr th:only-of-type {\n",
       "        vertical-align: middle;\n",
       "    }\n",
       "\n",
       "    .dataframe tbody tr th {\n",
       "        vertical-align: top;\n",
       "    }\n",
       "\n",
       "    .dataframe thead th {\n",
       "        text-align: right;\n",
       "    }\n",
       "</style>\n",
       "<table border=\"1\" class=\"dataframe\">\n",
       "  <thead>\n",
       "    <tr style=\"text-align: right;\">\n",
       "      <th></th>\n",
       "      <th>age</th>\n",
       "      <th>ed</th>\n",
       "      <th>employ</th>\n",
       "      <th>address</th>\n",
       "      <th>income</th>\n",
       "      <th>debtinc</th>\n",
       "      <th>creddebt</th>\n",
       "      <th>othdebt</th>\n",
       "      <th>default</th>\n",
       "    </tr>\n",
       "  </thead>\n",
       "  <tbody>\n",
       "    <tr>\n",
       "      <th>0</th>\n",
       "      <td>41</td>\n",
       "      <td>3</td>\n",
       "      <td>17</td>\n",
       "      <td>12</td>\n",
       "      <td>176</td>\n",
       "      <td>9.3</td>\n",
       "      <td>11.359392</td>\n",
       "      <td>5.008608</td>\n",
       "      <td>1</td>\n",
       "    </tr>\n",
       "    <tr>\n",
       "      <th>1</th>\n",
       "      <td>27</td>\n",
       "      <td>1</td>\n",
       "      <td>10</td>\n",
       "      <td>6</td>\n",
       "      <td>31</td>\n",
       "      <td>17.3</td>\n",
       "      <td>1.362202</td>\n",
       "      <td>4.000798</td>\n",
       "      <td>0</td>\n",
       "    </tr>\n",
       "    <tr>\n",
       "      <th>2</th>\n",
       "      <td>40</td>\n",
       "      <td>1</td>\n",
       "      <td>15</td>\n",
       "      <td>14</td>\n",
       "      <td>55</td>\n",
       "      <td>5.5</td>\n",
       "      <td>0.856075</td>\n",
       "      <td>2.168925</td>\n",
       "      <td>0</td>\n",
       "    </tr>\n",
       "    <tr>\n",
       "      <th>3</th>\n",
       "      <td>41</td>\n",
       "      <td>1</td>\n",
       "      <td>15</td>\n",
       "      <td>14</td>\n",
       "      <td>120</td>\n",
       "      <td>2.9</td>\n",
       "      <td>2.658720</td>\n",
       "      <td>0.821280</td>\n",
       "      <td>0</td>\n",
       "    </tr>\n",
       "    <tr>\n",
       "      <th>4</th>\n",
       "      <td>24</td>\n",
       "      <td>2</td>\n",
       "      <td>2</td>\n",
       "      <td>0</td>\n",
       "      <td>28</td>\n",
       "      <td>17.3</td>\n",
       "      <td>1.787436</td>\n",
       "      <td>3.056564</td>\n",
       "      <td>1</td>\n",
       "    </tr>\n",
       "  </tbody>\n",
       "</table>\n",
       "</div>"
      ],
      "text/plain": [
       "   age  ed  employ  address  income  debtinc   creddebt   othdebt  default\n",
       "0   41   3      17       12     176      9.3  11.359392  5.008608        1\n",
       "1   27   1      10        6      31     17.3   1.362202  4.000798        0\n",
       "2   40   1      15       14      55      5.5   0.856075  2.168925        0\n",
       "3   41   1      15       14     120      2.9   2.658720  0.821280        0\n",
       "4   24   2       2        0      28     17.3   1.787436  3.056564        1"
      ]
     },
     "execution_count": 2,
     "metadata": {},
     "output_type": "execute_result"
    }
   ],
   "source": [
    "raw = pd.read_csv('data/bankloan.csv')\n",
    "bank_loan = raw.copy()\n",
    "bank_loan.head()"
   ]
  },
  {
   "cell_type": "markdown",
   "metadata": {},
   "source": [
    "### Data Splitting"
   ]
  },
  {
   "cell_type": "code",
   "execution_count": 3,
   "metadata": {},
   "outputs": [],
   "source": [
    "x = bank_loan[['employ','debtinc','creddebt','othdebt']]\n",
    "y = bank_loan['default']\n",
    "\n",
    "x_trainval, x_test, y_trainval, y_test = train_test_split(\n",
    "    x,\n",
    "    y,\n",
    "    stratify=y, # menjaga agar proporsi default pd train maupun test sama\n",
    "    test_size=0.2,\n",
    "    random_state=2020\n",
    ")"
   ]
  },
  {
   "cell_type": "markdown",
   "metadata": {},
   "source": [
    "### Modeling Benchmark"
   ]
  },
  {
   "cell_type": "code",
   "execution_count": 4,
   "metadata": {},
   "outputs": [],
   "source": [
    "logreg = LogisticRegression(solver ='liblinear', random_state=2020) # define randomestate agar memastikan bahwa hasil perbandingan bukan kebetulan tp karena modelnya.\n",
    "knn = KNeighborsClassifier(n_neighbors=5)\n",
    "tree = DecisionTreeClassifier(criterion='entropy', max_depth=5, random_state=2020)\n"
   ]
  },
  {
   "cell_type": "markdown",
   "metadata": {},
   "source": [
    "#### Hitung metrics dengan 5 fold strat. cross validasi"
   ]
  },
  {
   "cell_type": "code",
   "execution_count": 5,
   "metadata": {},
   "outputs": [
    {
     "data": {
      "text/html": [
       "<div>\n",
       "<style scoped>\n",
       "    .dataframe tbody tr th:only-of-type {\n",
       "        vertical-align: middle;\n",
       "    }\n",
       "\n",
       "    .dataframe tbody tr th {\n",
       "        vertical-align: top;\n",
       "    }\n",
       "\n",
       "    .dataframe thead th {\n",
       "        text-align: right;\n",
       "    }\n",
       "</style>\n",
       "<table border=\"1\" class=\"dataframe\">\n",
       "  <thead>\n",
       "    <tr style=\"text-align: right;\">\n",
       "      <th></th>\n",
       "      <th>logreg</th>\n",
       "      <th>knn</th>\n",
       "      <th>tree</th>\n",
       "    </tr>\n",
       "  </thead>\n",
       "  <tbody>\n",
       "    <tr>\n",
       "      <th>count</th>\n",
       "      <td>4.000000</td>\n",
       "      <td>4.000000</td>\n",
       "      <td>4.000000</td>\n",
       "    </tr>\n",
       "    <tr>\n",
       "      <th>mean</th>\n",
       "      <td>0.803571</td>\n",
       "      <td>0.764286</td>\n",
       "      <td>0.762500</td>\n",
       "    </tr>\n",
       "    <tr>\n",
       "      <th>std</th>\n",
       "      <td>0.017976</td>\n",
       "      <td>0.027355</td>\n",
       "      <td>0.029378</td>\n",
       "    </tr>\n",
       "    <tr>\n",
       "      <th>min</th>\n",
       "      <td>0.778571</td>\n",
       "      <td>0.742857</td>\n",
       "      <td>0.735714</td>\n",
       "    </tr>\n",
       "    <tr>\n",
       "      <th>25%</th>\n",
       "      <td>0.800000</td>\n",
       "      <td>0.742857</td>\n",
       "      <td>0.741071</td>\n",
       "    </tr>\n",
       "    <tr>\n",
       "      <th>50%</th>\n",
       "      <td>0.807143</td>\n",
       "      <td>0.757143</td>\n",
       "      <td>0.757143</td>\n",
       "    </tr>\n",
       "    <tr>\n",
       "      <th>75%</th>\n",
       "      <td>0.810714</td>\n",
       "      <td>0.778571</td>\n",
       "      <td>0.778571</td>\n",
       "    </tr>\n",
       "    <tr>\n",
       "      <th>max</th>\n",
       "      <td>0.821429</td>\n",
       "      <td>0.800000</td>\n",
       "      <td>0.800000</td>\n",
       "    </tr>\n",
       "  </tbody>\n",
       "</table>\n",
       "</div>"
      ],
      "text/plain": [
       "         logreg       knn      tree\n",
       "count  4.000000  4.000000  4.000000\n",
       "mean   0.803571  0.764286  0.762500\n",
       "std    0.017976  0.027355  0.029378\n",
       "min    0.778571  0.742857  0.735714\n",
       "25%    0.800000  0.742857  0.741071\n",
       "50%    0.807143  0.757143  0.757143\n",
       "75%    0.810714  0.778571  0.778571\n",
       "max    0.821429  0.800000  0.800000"
      ]
     },
     "execution_count": 5,
     "metadata": {},
     "output_type": "execute_result"
    }
   ],
   "source": [
    "skfold = StratifiedKFold(n_splits=4)\n",
    "\n",
    "logreg_cv = cross_val_score(logreg, x_trainval, y_trainval, cv=skfold)\n",
    "knn_cv = cross_val_score(knn, x_trainval,y_trainval, cv=skfold)\n",
    "tree_cv = cross_val_score(tree, x_trainval, y_trainval, cv=skfold)\n",
    "\n",
    "df_cv = pd.DataFrame({\n",
    "    'logreg':logreg_cv,\n",
    "    'knn':knn_cv,\n",
    "    'tree':tree_cv\n",
    "})\n",
    "df_cv.describe()"
   ]
  },
  {
   "cell_type": "code",
   "execution_count": 6,
   "metadata": {},
   "outputs": [],
   "source": [
    "def model_evaluation(model, metrics):\n",
    "    skfold = StratifiedKFold(n_splits=4)\n",
    "    \n",
    "    model_cv = cross_val_score(model,x_trainval, y_trainval, cv=skfold, scoring = metrics)\n",
    "    print(\n",
    "        '''hasil cross validation : {}\\nrata-rata score validasi: {}\\nstandar deviasi : {}\\n'''.format(model_cv, model_cv.mean(),model_cv.std()))\n"
   ]
  },
  {
   "attachments": {
    "image.png": {
     "image/png": "[encoded data removed]"
    }
   },
   "cell_type": "markdown",
   "metadata": {},
   "source": [
    "![image.png](attachment:image.png)"
   ]
  },
  {
   "cell_type": "code",
   "execution_count": 7,
   "metadata": {},
   "outputs": [
    {
     "name": "stdout",
     "output_type": "stream",
     "text": [
      "hasil cross validation : [0.57142857 0.56140351 0.57142857 0.52307692]\n",
      "rata-rata score validasi: 0.5568343936764989\n",
      "standar deviasi : 0.019914967251760077\n",
      "\n",
      "hasil cross validation : [0.47058824 0.53333333 0.38461538 0.4       ]\n",
      "rata-rata score validasi: 0.44713423831070886\n",
      "standar deviasi : 0.059394059984406784\n",
      "\n",
      "hasil cross validation : [0.41269841 0.5        0.51515152 0.4375    ]\n",
      "rata-rata score validasi: 0.46633748196248204\n",
      "standar deviasi : 0.04249919138718511\n",
      "\n",
      "None None None\n"
     ]
    }
   ],
   "source": [
    "print(model_evaluation(logreg,'f1'),model_evaluation(knn,'f1'),model_evaluation(tree,'f1'))"
   ]
  },
  {
   "cell_type": "code",
   "execution_count": 8,
   "metadata": {},
   "outputs": [
    {
     "name": "stdout",
     "output_type": "stream",
     "text": [
      "hasil cross validation : [0.84885857 0.83363946 0.83092949 0.81490385]\n",
      "rata-rata score validasi: 0.8320828413364821\n",
      "standar deviasi : 0.012044668523790316\n",
      "\n",
      "hasil cross validation : [0.72054579 0.77171346 0.76201923 0.73584402]\n",
      "rata-rata score validasi: 0.7475306243510127\n",
      "standar deviasi : 0.020368403598962234\n",
      "\n",
      "hasil cross validation : [0.75990554 0.77341905 0.74839744 0.71594551]\n",
      "rata-rata score validasi: 0.7494168838601485\n",
      "standar deviasi : 0.021257279781806294\n",
      "\n",
      "None None None\n"
     ]
    }
   ],
   "source": [
    "print(model_evaluation(logreg,'roc_auc'),model_evaluation(knn,'roc_auc'),model_evaluation(tree,'roc_auc'))"
   ]
  },
  {
   "cell_type": "code",
   "execution_count": 9,
   "metadata": {},
   "outputs": [
    {
     "name": "stdout",
     "output_type": "stream",
     "text": [
      "hasil cross validation : [0.47058824 0.53333333 0.38461538 0.4       ]\n",
      "rata-rata score validasi: 0.44713423831070886\n",
      "standar deviasi : 0.059394059984406784\n",
      "\n"
     ]
    }
   ],
   "source": [
    "model_evaluation(knn,'f1' )"
   ]
  },
  {
   "cell_type": "code",
   "execution_count": 10,
   "metadata": {},
   "outputs": [
    {
     "name": "stdout",
     "output_type": "stream",
     "text": [
      "hasil cross validation : [0.41269841 0.5        0.51515152 0.4375    ]\n",
      "rata-rata score validasi: 0.46633748196248204\n",
      "standar deviasi : 0.04249919138718511\n",
      "\n"
     ]
    }
   ],
   "source": [
    "model_evaluation(tree,'f1' )"
   ]
  },
  {
   "cell_type": "markdown",
   "metadata": {},
   "source": [
    "**Pemenangnya adalah Logistic Regression**"
   ]
  },
  {
   "cell_type": "markdown",
   "metadata": {},
   "source": [
    "### Model Performance in Test"
   ]
  },
  {
   "cell_type": "code",
   "execution_count": 11,
   "metadata": {},
   "outputs": [
    {
     "data": {
      "text/plain": [
       "LogisticRegression(solver='liblinear')"
      ]
     },
     "execution_count": 11,
     "metadata": {},
     "output_type": "execute_result"
    }
   ],
   "source": [
    "logreg = LogisticRegression(solver='liblinear')\n",
    "logreg.fit(x_trainval, y_trainval)"
   ]
  },
  {
   "cell_type": "code",
   "execution_count": 12,
   "metadata": {},
   "outputs": [],
   "source": [
    "y_pred = logreg.predict(x_test)"
   ]
  },
  {
   "cell_type": "code",
   "execution_count": 13,
   "metadata": {},
   "outputs": [
    {
     "name": "stdout",
     "output_type": "stream",
     "text": [
      "recall: 0.4864864864864865\n",
      "precision: 0.782608695652174\n",
      "f1: 0.6000000000000001\n",
      "roc_auc: 0.718971398583049\n"
     ]
    }
   ],
   "source": [
    "# bandingan antar model\n",
    "print('recall:',recall_score(y_test,y_pred)) # default 1\n",
    "print('precision:',precision_score(y_test,y_pred)) # default 1\n",
    "print('f1:',f1_score(y_test,y_pred)) # default 1\n",
    "print('roc_auc:',roc_auc_score(y_test,y_pred))"
   ]
  },
  {
   "cell_type": "code",
   "execution_count": 14,
   "metadata": {},
   "outputs": [
    {
     "name": "stdout",
     "output_type": "stream",
     "text": [
      "              precision    recall  f1-score   support\n",
      "\n",
      "           0       0.84      0.95      0.89       103\n",
      "           1       0.78      0.49      0.60        37\n",
      "\n",
      "    accuracy                           0.83       140\n",
      "   macro avg       0.81      0.72      0.75       140\n",
      "weighted avg       0.82      0.83      0.81       140\n",
      "\n"
     ]
    }
   ],
   "source": [
    "print(classification_report(y_test,y_pred))"
   ]
  },
  {
   "cell_type": "markdown",
   "metadata": {},
   "source": [
    "**yang dibaca yang 1**"
   ]
  },
  {
   "cell_type": "code",
   "execution_count": 15,
   "metadata": {},
   "outputs": [
    {
     "data": {
      "text/plain": [
       "<sklearn.metrics._plot.roc_curve.RocCurveDisplay at 0x272210dbf40>"
      ]
     },
     "execution_count": 15,
     "metadata": {},
     "output_type": "execute_result"
    },
    {
     "data": {
      "image/png": "[encoded data removed]",
      "text/plain": [
       "<Figure size 432x288 with 1 Axes>"
      ]
     },
     "metadata": {
      "needs_background": "light"
     },
     "output_type": "display_data"
    }
   ],
   "source": [
    "plot_roc_curve(logreg,x_test, y_test)"
   ]
  },
  {
   "cell_type": "markdown",
   "metadata": {},
   "source": [
    "**Nilai AUC min 0.5 dan max 1, dibawah 0.5 sangat buruk**"
   ]
  },
  {
   "cell_type": "code",
   "execution_count": 16,
   "metadata": {},
   "outputs": [
    {
     "data": {
      "text/plain": [
       "<sklearn.metrics._plot.precision_recall_curve.PrecisionRecallDisplay at 0x272231575e0>"
      ]
     },
     "execution_count": 16,
     "metadata": {},
     "output_type": "execute_result"
    },
    {
     "data": {
      "image/png": "[encoded data removed]",
      "text/plain": [
       "<Figure size 432x288 with 1 Axes>"
      ]
     },
     "metadata": {
      "needs_background": "light"
     },
     "output_type": "display_data"
    }
   ],
   "source": [
    "plot_precision_recall_curve(logreg, x_test,y_test)"
   ]
  },
  {
   "cell_type": "markdown",
   "metadata": {},
   "source": [
    "**Nilai Average Precision = merangkum nilai yg ada hasilnya 0.67**"
   ]
  },
  {
   "cell_type": "markdown",
   "metadata": {},
   "source": [
    "### Simple Hyperparameter Tuning for Logistic Regression"
   ]
  },
  {
   "cell_type": "code",
   "execution_count": 17,
   "metadata": {},
   "outputs": [],
   "source": [
    "x_train, x_val, y_train, y_val = train_test_split(\n",
    "    x_trainval,\n",
    "    y_trainval,\n",
    "    stratify=y_trainval,\n",
    "    test_size=0.2, # nentuin 140 dari mana \n",
    "        random_state=2020 # random state\n",
    ")"
   ]
  },
  {
   "cell_type": "code",
   "execution_count": 18,
   "metadata": {},
   "outputs": [],
   "source": [
    "hyperparam_c = [1000,100,10,1,0.1,0.01,0.001,0.0001]\n",
    "hyperparam_c_1 = [0.006,0.007,0.008,0.009,0.01,0.02,0.03,0.04]\n",
    "\n",
    "best_score = 0\n",
    "val_score = []\n",
    "\n",
    "for i in hyperparam_c_1:\n",
    "    # fitting model\n",
    "    logreg = LogisticRegression(solver='liblinear', C=i)\n",
    "    logreg.fit(x_train,y_train)\n",
    "    \n",
    "    # perhitungan score setiap i/hyperparam\n",
    "    y_pred_val = logreg.predict(x_val)\n",
    "    score_temp = f1_score(y_val, y_pred_val)\n",
    "    \n",
    "    # penentuan skor terbaik\n",
    "    if score_temp > best_score:\n",
    "        best_score = score_temp\n",
    "        best_param = i\n"
   ]
  },
  {
   "cell_type": "code",
   "execution_count": 19,
   "metadata": {},
   "outputs": [],
   "source": [
    "?LogisticRegression"
   ]
  },
  {
   "cell_type": "code",
   "execution_count": 20,
   "metadata": {},
   "outputs": [
    {
     "name": "stdout",
     "output_type": "stream",
     "text": [
      "skor terbaik 0.6557377049180328\n",
      "param terbaik 0.01\n"
     ]
    }
   ],
   "source": [
    "print('skor terbaik', best_score)\n",
    "print('param terbaik', best_param)"
   ]
  },
  {
   "cell_type": "markdown",
   "metadata": {},
   "source": [
    "### Perbandingan sebelum dan setelah tunning"
   ]
  },
  {
   "cell_type": "code",
   "execution_count": 21,
   "metadata": {},
   "outputs": [],
   "source": [
    "logreg_after = LogisticRegression(solver='liblinear', C=0.1)\n",
    "logreg_before = LogisticRegression(solver='liblinear', C=1)"
   ]
  },
  {
   "cell_type": "code",
   "execution_count": 22,
   "metadata": {},
   "outputs": [
    {
     "name": "stdout",
     "output_type": "stream",
     "text": [
      "              precision    recall  f1-score   support\n",
      "\n",
      "           0       0.84      0.95      0.89       103\n",
      "           1       0.78      0.49      0.60        37\n",
      "\n",
      "    accuracy                           0.83       140\n",
      "   macro avg       0.81      0.72      0.75       140\n",
      "weighted avg       0.82      0.83      0.81       140\n",
      "\n"
     ]
    }
   ],
   "source": [
    "logreg_before.fit(x_trainval,y_trainval)\n",
    "y_pred = logreg_before.predict(x_test)\n",
    "print(classification_report(y_test,y_pred))"
   ]
  },
  {
   "cell_type": "code",
   "execution_count": 23,
   "metadata": {},
   "outputs": [
    {
     "name": "stdout",
     "output_type": "stream",
     "text": [
      "              precision    recall  f1-score   support\n",
      "\n",
      "           0       0.83      0.93      0.88       103\n",
      "           1       0.72      0.49      0.58        37\n",
      "\n",
      "    accuracy                           0.81       140\n",
      "   macro avg       0.78      0.71      0.73       140\n",
      "weighted avg       0.80      0.81      0.80       140\n",
      "\n"
     ]
    }
   ],
   "source": [
    "logreg_after.fit(x_trainval,y_trainval)\n",
    "y_pred = logreg_after.predict(x_test)\n",
    "print(classification_report(y_test,y_pred))"
   ]
  },
  {
   "cell_type": "markdown",
   "metadata": {},
   "source": [
    "1. Improvement pada validation score belum significant\n",
    "2. Pemilihan c kurang baik\n",
    "3. Bisa jadi test set kebetulan sulit diprediksi"
   ]
  },
  {
   "cell_type": "markdown",
   "metadata": {},
   "source": [
    "**pembagain data train - val - test ketika datanya sangat besar (jutaan)**"
   ]
  },
  {
   "cell_type": "markdown",
   "metadata": {},
   "source": [
    "### Hyperparam tuning for Logistic Regression with Grid Search (Cross Validation)"
   ]
  },
  {
   "cell_type": "code",
   "execution_count": 24,
   "metadata": {},
   "outputs": [],
   "source": [
    "hyperparam_space = {\n",
    "    'C': [1000,500,100,50,10,5,1,0.5,0.1,0.05,0.01,0.005,0.001,0.0005,0.0001,0.00005],\n",
    "    'max_iter': [100,200,300,400,500,1000],\n",
    "    'penalty': ['l1', 'l2', 'elasticnet']\n",
    "}\n",
    "\n",
    "skfold = StratifiedKFold(n_splits=5) # setiap splits memiliki proporsi default yg sama\n",
    "logreg = LogisticRegression(solver='liblinear', random_state=2020)\n",
    "\n",
    "grid_search = GridSearchCV(\n",
    "    logreg,\n",
    "    param_grid = hyperparam_space,\n",
    "    cv = skfold,\n",
    "    scoring = 'f1',\n",
    "    n_jobs=-1 # hal yg didefine utk memperepat process\n",
    ")\n"
   ]
  },
  {
   "cell_type": "code",
   "execution_count": 25,
   "metadata": {},
   "outputs": [
    {
     "name": "stderr",
     "output_type": "stream",
     "text": [
      "C:\\Users\\62812\\anaconda3\\lib\\site-packages\\sklearn\\model_selection\\_search.py:922: UserWarning: One or more of the test scores are non-finite: [0.55752958 0.5552067         nan 0.55752958 0.5552067         nan\n",
      " 0.55752958 0.5552067         nan 0.55752958 0.5552067         nan\n",
      " 0.55752958 0.5552067         nan 0.55752958 0.5552067         nan\n",
      " 0.55752958 0.5552067         nan 0.55752958 0.5552067         nan\n",
      " 0.55752958 0.5552067         nan 0.55752958 0.5552067         nan\n",
      " 0.55752958 0.5552067         nan 0.55752958 0.5552067         nan\n",
      " 0.55752958 0.5552067         nan 0.55752958 0.5552067         nan\n",
      " 0.55752958 0.5552067         nan 0.55752958 0.5552067         nan\n",
      " 0.55752958 0.5552067         nan 0.55752958 0.5552067         nan\n",
      " 0.5552067  0.5552067         nan 0.5552067  0.5552067         nan\n",
      " 0.5552067  0.5552067         nan 0.5552067  0.5552067         nan\n",
      " 0.5552067  0.5552067         nan 0.5552067  0.5552067         nan\n",
      " 0.5552067  0.5552067         nan 0.5552067  0.5552067         nan\n",
      " 0.5552067  0.5552067         nan 0.5552067  0.5552067         nan\n",
      " 0.5552067  0.5552067         nan 0.5552067  0.5552067         nan\n",
      " 0.5552067  0.5552067         nan 0.5552067  0.5552067         nan\n",
      " 0.5552067  0.5552067         nan 0.5552067  0.5552067         nan\n",
      " 0.5552067  0.5552067         nan 0.5552067  0.5552067         nan\n",
      " 0.54356448 0.54356448        nan 0.54356448 0.54356448        nan\n",
      " 0.54356448 0.54356448        nan 0.54356448 0.54356448        nan\n",
      " 0.54356448 0.54356448        nan 0.54356448 0.54356448        nan\n",
      " 0.54160781 0.54160781        nan 0.54160781 0.54160781        nan\n",
      " 0.54160781 0.54160781        nan 0.54160781 0.54160781        nan\n",
      " 0.54160781 0.54160781        nan 0.54160781 0.54160781        nan\n",
      " 0.55034574 0.54359803        nan 0.55034574 0.54359803        nan\n",
      " 0.55034574 0.54359803        nan 0.55034574 0.54359803        nan\n",
      " 0.55034574 0.54359803        nan 0.55034574 0.54359803        nan\n",
      " 0.52285389 0.55632251        nan 0.52285389 0.55632251        nan\n",
      " 0.52285389 0.55632251        nan 0.52285389 0.55632251        nan\n",
      " 0.52285389 0.55632251        nan 0.52285389 0.55632251        nan\n",
      " 0.45343907 0.55424226        nan 0.45343907 0.55424226        nan\n",
      " 0.45343907 0.55424226        nan 0.45343907 0.55424226        nan\n",
      " 0.45343907 0.55424226        nan 0.45343907 0.55424226        nan\n",
      " 0.29639514 0.52264105        nan 0.29639514 0.52264105        nan\n",
      " 0.29639514 0.52264105        nan 0.29639514 0.52264105        nan\n",
      " 0.29639514 0.52264105        nan 0.29639514 0.52264105        nan\n",
      " 0.         0.46305012        nan 0.         0.46305012        nan\n",
      " 0.         0.46305012        nan 0.         0.46305012        nan\n",
      " 0.         0.46305012        nan 0.         0.46305012        nan\n",
      " 0.         0.41630299        nan 0.         0.41630299        nan\n",
      " 0.         0.41630299        nan 0.         0.41630299        nan\n",
      " 0.         0.41630299        nan 0.         0.41630299        nan\n",
      " 0.         0.04705882        nan 0.         0.04705882        nan\n",
      " 0.         0.04705882        nan 0.         0.04705882        nan\n",
      " 0.         0.04705882        nan 0.         0.04705882        nan\n",
      " 0.         0.                nan 0.         0.                nan\n",
      " 0.         0.                nan 0.         0.                nan\n",
      " 0.         0.                nan 0.         0.                nan]\n",
      "  warnings.warn(\n"
     ]
    },
    {
     "data": {
      "text/plain": [
       "GridSearchCV(cv=StratifiedKFold(n_splits=5, random_state=None, shuffle=False),\n",
       "             estimator=LogisticRegression(random_state=2020,\n",
       "                                          solver='liblinear'),\n",
       "             n_jobs=-1,\n",
       "             param_grid={'C': [1000, 500, 100, 50, 10, 5, 1, 0.5, 0.1, 0.05,\n",
       "                               0.01, 0.005, 0.001, 0.0005, 0.0001, 5e-05],\n",
       "                         'max_iter': [100, 200, 300, 400, 500, 1000],\n",
       "                         'penalty': ['l1', 'l2', 'elasticnet']},\n",
       "             scoring='f1')"
      ]
     },
     "execution_count": 25,
     "metadata": {},
     "output_type": "execute_result"
    }
   ],
   "source": [
    "grid_search.fit(x_trainval, y_trainval)"
   ]
  },
  {
   "cell_type": "code",
   "execution_count": 26,
   "metadata": {},
   "outputs": [
    {
     "data": {
      "text/plain": [
       "{'C': 1000, 'max_iter': 100, 'penalty': 'l1'}"
      ]
     },
     "execution_count": 26,
     "metadata": {},
     "output_type": "execute_result"
    }
   ],
   "source": [
    "grid_search.best_params_"
   ]
  },
  {
   "cell_type": "code",
   "execution_count": 27,
   "metadata": {},
   "outputs": [
    {
     "data": {
      "text/plain": [
       "0.5575295784355018"
      ]
     },
     "execution_count": 27,
     "metadata": {},
     "output_type": "execute_result"
    }
   ],
   "source": [
    "grid_search.best_score_"
   ]
  },
  {
   "cell_type": "code",
   "execution_count": 28,
   "metadata": {},
   "outputs": [
    {
     "data": {
      "text/html": [
       "<div>\n",
       "<style scoped>\n",
       "    .dataframe tbody tr th:only-of-type {\n",
       "        vertical-align: middle;\n",
       "    }\n",
       "\n",
       "    .dataframe tbody tr th {\n",
       "        vertical-align: top;\n",
       "    }\n",
       "\n",
       "    .dataframe thead th {\n",
       "        text-align: right;\n",
       "    }\n",
       "</style>\n",
       "<table border=\"1\" class=\"dataframe\">\n",
       "  <thead>\n",
       "    <tr style=\"text-align: right;\">\n",
       "      <th></th>\n",
       "      <th>mean_fit_time</th>\n",
       "      <th>std_fit_time</th>\n",
       "      <th>mean_score_time</th>\n",
       "      <th>std_score_time</th>\n",
       "      <th>param_C</th>\n",
       "      <th>param_max_iter</th>\n",
       "      <th>param_penalty</th>\n",
       "      <th>params</th>\n",
       "      <th>split0_test_score</th>\n",
       "      <th>split1_test_score</th>\n",
       "      <th>split2_test_score</th>\n",
       "      <th>split3_test_score</th>\n",
       "      <th>split4_test_score</th>\n",
       "      <th>mean_test_score</th>\n",
       "      <th>std_test_score</th>\n",
       "      <th>rank_test_score</th>\n",
       "    </tr>\n",
       "  </thead>\n",
       "  <tbody>\n",
       "    <tr>\n",
       "      <th>0</th>\n",
       "      <td>0.044084</td>\n",
       "      <td>0.003285</td>\n",
       "      <td>0.004684</td>\n",
       "      <td>0.001261</td>\n",
       "      <td>1000</td>\n",
       "      <td>100</td>\n",
       "      <td>l1</td>\n",
       "      <td>{'C': 1000, 'max_iter': 100, 'penalty': 'l1'}</td>\n",
       "      <td>0.576923</td>\n",
       "      <td>0.487805</td>\n",
       "      <td>0.653846</td>\n",
       "      <td>0.530612</td>\n",
       "      <td>0.538462</td>\n",
       "      <td>0.55753</td>\n",
       "      <td>0.055862</td>\n",
       "      <td>1</td>\n",
       "    </tr>\n",
       "    <tr>\n",
       "      <th>18</th>\n",
       "      <td>0.009756</td>\n",
       "      <td>0.003328</td>\n",
       "      <td>0.007100</td>\n",
       "      <td>0.003965</td>\n",
       "      <td>500</td>\n",
       "      <td>100</td>\n",
       "      <td>l1</td>\n",
       "      <td>{'C': 500, 'max_iter': 100, 'penalty': 'l1'}</td>\n",
       "      <td>0.576923</td>\n",
       "      <td>0.487805</td>\n",
       "      <td>0.653846</td>\n",
       "      <td>0.530612</td>\n",
       "      <td>0.538462</td>\n",
       "      <td>0.55753</td>\n",
       "      <td>0.055862</td>\n",
       "      <td>1</td>\n",
       "    </tr>\n",
       "    <tr>\n",
       "      <th>51</th>\n",
       "      <td>0.005455</td>\n",
       "      <td>0.000496</td>\n",
       "      <td>0.004165</td>\n",
       "      <td>0.000251</td>\n",
       "      <td>100</td>\n",
       "      <td>1000</td>\n",
       "      <td>l1</td>\n",
       "      <td>{'C': 100, 'max_iter': 1000, 'penalty': 'l1'}</td>\n",
       "      <td>0.576923</td>\n",
       "      <td>0.487805</td>\n",
       "      <td>0.653846</td>\n",
       "      <td>0.530612</td>\n",
       "      <td>0.538462</td>\n",
       "      <td>0.55753</td>\n",
       "      <td>0.055862</td>\n",
       "      <td>1</td>\n",
       "    </tr>\n",
       "    <tr>\n",
       "      <th>48</th>\n",
       "      <td>0.005385</td>\n",
       "      <td>0.000122</td>\n",
       "      <td>0.003894</td>\n",
       "      <td>0.000429</td>\n",
       "      <td>100</td>\n",
       "      <td>500</td>\n",
       "      <td>l1</td>\n",
       "      <td>{'C': 100, 'max_iter': 500, 'penalty': 'l1'}</td>\n",
       "      <td>0.576923</td>\n",
       "      <td>0.487805</td>\n",
       "      <td>0.653846</td>\n",
       "      <td>0.530612</td>\n",
       "      <td>0.538462</td>\n",
       "      <td>0.55753</td>\n",
       "      <td>0.055862</td>\n",
       "      <td>1</td>\n",
       "    </tr>\n",
       "    <tr>\n",
       "      <th>45</th>\n",
       "      <td>0.007564</td>\n",
       "      <td>0.004788</td>\n",
       "      <td>0.004469</td>\n",
       "      <td>0.001177</td>\n",
       "      <td>100</td>\n",
       "      <td>400</td>\n",
       "      <td>l1</td>\n",
       "      <td>{'C': 100, 'max_iter': 400, 'penalty': 'l1'}</td>\n",
       "      <td>0.576923</td>\n",
       "      <td>0.487805</td>\n",
       "      <td>0.653846</td>\n",
       "      <td>0.530612</td>\n",
       "      <td>0.538462</td>\n",
       "      <td>0.55753</td>\n",
       "      <td>0.055862</td>\n",
       "      <td>1</td>\n",
       "    </tr>\n",
       "    <tr>\n",
       "      <th>...</th>\n",
       "      <td>...</td>\n",
       "      <td>...</td>\n",
       "      <td>...</td>\n",
       "      <td>...</td>\n",
       "      <td>...</td>\n",
       "      <td>...</td>\n",
       "      <td>...</td>\n",
       "      <td>...</td>\n",
       "      <td>...</td>\n",
       "      <td>...</td>\n",
       "      <td>...</td>\n",
       "      <td>...</td>\n",
       "      <td>...</td>\n",
       "      <td>...</td>\n",
       "      <td>...</td>\n",
       "      <td>...</td>\n",
       "    </tr>\n",
       "    <tr>\n",
       "      <th>275</th>\n",
       "      <td>0.000599</td>\n",
       "      <td>0.000489</td>\n",
       "      <td>0.000000</td>\n",
       "      <td>0.000000</td>\n",
       "      <td>0.00005</td>\n",
       "      <td>200</td>\n",
       "      <td>elasticnet</td>\n",
       "      <td>{'C': 5e-05, 'max_iter': 200, 'penalty': 'elas...</td>\n",
       "      <td>NaN</td>\n",
       "      <td>NaN</td>\n",
       "      <td>NaN</td>\n",
       "      <td>NaN</td>\n",
       "      <td>NaN</td>\n",
       "      <td>NaN</td>\n",
       "      <td>NaN</td>\n",
       "      <td>201</td>\n",
       "    </tr>\n",
       "    <tr>\n",
       "      <th>278</th>\n",
       "      <td>0.000410</td>\n",
       "      <td>0.000503</td>\n",
       "      <td>0.000000</td>\n",
       "      <td>0.000000</td>\n",
       "      <td>0.00005</td>\n",
       "      <td>300</td>\n",
       "      <td>elasticnet</td>\n",
       "      <td>{'C': 5e-05, 'max_iter': 300, 'penalty': 'elas...</td>\n",
       "      <td>NaN</td>\n",
       "      <td>NaN</td>\n",
       "      <td>NaN</td>\n",
       "      <td>NaN</td>\n",
       "      <td>NaN</td>\n",
       "      <td>NaN</td>\n",
       "      <td>NaN</td>\n",
       "      <td>208</td>\n",
       "    </tr>\n",
       "    <tr>\n",
       "      <th>281</th>\n",
       "      <td>0.000400</td>\n",
       "      <td>0.000490</td>\n",
       "      <td>0.000000</td>\n",
       "      <td>0.000000</td>\n",
       "      <td>0.00005</td>\n",
       "      <td>400</td>\n",
       "      <td>elasticnet</td>\n",
       "      <td>{'C': 5e-05, 'max_iter': 400, 'penalty': 'elas...</td>\n",
       "      <td>NaN</td>\n",
       "      <td>NaN</td>\n",
       "      <td>NaN</td>\n",
       "      <td>NaN</td>\n",
       "      <td>NaN</td>\n",
       "      <td>NaN</td>\n",
       "      <td>NaN</td>\n",
       "      <td>202</td>\n",
       "    </tr>\n",
       "    <tr>\n",
       "      <th>284</th>\n",
       "      <td>0.001034</td>\n",
       "      <td>0.000928</td>\n",
       "      <td>0.000000</td>\n",
       "      <td>0.000000</td>\n",
       "      <td>0.00005</td>\n",
       "      <td>500</td>\n",
       "      <td>elasticnet</td>\n",
       "      <td>{'C': 5e-05, 'max_iter': 500, 'penalty': 'elas...</td>\n",
       "      <td>NaN</td>\n",
       "      <td>NaN</td>\n",
       "      <td>NaN</td>\n",
       "      <td>NaN</td>\n",
       "      <td>NaN</td>\n",
       "      <td>NaN</td>\n",
       "      <td>NaN</td>\n",
       "      <td>193</td>\n",
       "    </tr>\n",
       "    <tr>\n",
       "      <th>287</th>\n",
       "      <td>0.000540</td>\n",
       "      <td>0.000454</td>\n",
       "      <td>0.000000</td>\n",
       "      <td>0.000000</td>\n",
       "      <td>0.00005</td>\n",
       "      <td>1000</td>\n",
       "      <td>elasticnet</td>\n",
       "      <td>{'C': 5e-05, 'max_iter': 1000, 'penalty': 'ela...</td>\n",
       "      <td>NaN</td>\n",
       "      <td>NaN</td>\n",
       "      <td>NaN</td>\n",
       "      <td>NaN</td>\n",
       "      <td>NaN</td>\n",
       "      <td>NaN</td>\n",
       "      <td>NaN</td>\n",
       "      <td>288</td>\n",
       "    </tr>\n",
       "  </tbody>\n",
       "</table>\n",
       "<p>288 rows × 16 columns</p>\n",
       "</div>"
      ],
      "text/plain": [
       "     mean_fit_time  std_fit_time  mean_score_time  std_score_time  param_C  \\\n",
       "0         0.044084      0.003285         0.004684        0.001261     1000   \n",
       "18        0.009756      0.003328         0.007100        0.003965      500   \n",
       "51        0.005455      0.000496         0.004165        0.000251      100   \n",
       "48        0.005385      0.000122         0.003894        0.000429      100   \n",
       "45        0.007564      0.004788         0.004469        0.001177      100   \n",
       "..             ...           ...              ...             ...      ...   \n",
       "275       0.000599      0.000489         0.000000        0.000000  0.00005   \n",
       "278       0.000410      0.000503         0.000000        0.000000  0.00005   \n",
       "281       0.000400      0.000490         0.000000        0.000000  0.00005   \n",
       "284       0.001034      0.000928         0.000000        0.000000  0.00005   \n",
       "287       0.000540      0.000454         0.000000        0.000000  0.00005   \n",
       "\n",
       "    param_max_iter param_penalty  \\\n",
       "0              100            l1   \n",
       "18             100            l1   \n",
       "51            1000            l1   \n",
       "48             500            l1   \n",
       "45             400            l1   \n",
       "..             ...           ...   \n",
       "275            200    elasticnet   \n",
       "278            300    elasticnet   \n",
       "281            400    elasticnet   \n",
       "284            500    elasticnet   \n",
       "287           1000    elasticnet   \n",
       "\n",
       "                                                params  split0_test_score  \\\n",
       "0        {'C': 1000, 'max_iter': 100, 'penalty': 'l1'}           0.576923   \n",
       "18        {'C': 500, 'max_iter': 100, 'penalty': 'l1'}           0.576923   \n",
       "51       {'C': 100, 'max_iter': 1000, 'penalty': 'l1'}           0.576923   \n",
       "48        {'C': 100, 'max_iter': 500, 'penalty': 'l1'}           0.576923   \n",
       "45        {'C': 100, 'max_iter': 400, 'penalty': 'l1'}           0.576923   \n",
       "..                                                 ...                ...   \n",
       "275  {'C': 5e-05, 'max_iter': 200, 'penalty': 'elas...                NaN   \n",
       "278  {'C': 5e-05, 'max_iter': 300, 'penalty': 'elas...                NaN   \n",
       "281  {'C': 5e-05, 'max_iter': 400, 'penalty': 'elas...                NaN   \n",
       "284  {'C': 5e-05, 'max_iter': 500, 'penalty': 'elas...                NaN   \n",
       "287  {'C': 5e-05, 'max_iter': 1000, 'penalty': 'ela...                NaN   \n",
       "\n",
       "     split1_test_score  split2_test_score  split3_test_score  \\\n",
       "0             0.487805           0.653846           0.530612   \n",
       "18            0.487805           0.653846           0.530612   \n",
       "51            0.487805           0.653846           0.530612   \n",
       "48            0.487805           0.653846           0.530612   \n",
       "45            0.487805           0.653846           0.530612   \n",
       "..                 ...                ...                ...   \n",
       "275                NaN                NaN                NaN   \n",
       "278                NaN                NaN                NaN   \n",
       "281                NaN                NaN                NaN   \n",
       "284                NaN                NaN                NaN   \n",
       "287                NaN                NaN                NaN   \n",
       "\n",
       "     split4_test_score  mean_test_score  std_test_score  rank_test_score  \n",
       "0             0.538462          0.55753        0.055862                1  \n",
       "18            0.538462          0.55753        0.055862                1  \n",
       "51            0.538462          0.55753        0.055862                1  \n",
       "48            0.538462          0.55753        0.055862                1  \n",
       "45            0.538462          0.55753        0.055862                1  \n",
       "..                 ...              ...             ...              ...  \n",
       "275                NaN              NaN             NaN              201  \n",
       "278                NaN              NaN             NaN              208  \n",
       "281                NaN              NaN             NaN              202  \n",
       "284                NaN              NaN             NaN              193  \n",
       "287                NaN              NaN             NaN              288  \n",
       "\n",
       "[288 rows x 16 columns]"
      ]
     },
     "execution_count": 28,
     "metadata": {},
     "output_type": "execute_result"
    }
   ],
   "source": [
    "hasil_cv = pd.DataFrame(grid_search.cv_results_)\n",
    "hasil_cv.sort_values('mean_test_score', ascending=False)"
   ]
  },
  {
   "cell_type": "code",
   "execution_count": 29,
   "metadata": {},
   "outputs": [
    {
     "data": {
      "text/html": [
       "<div>\n",
       "<style scoped>\n",
       "    .dataframe tbody tr th:only-of-type {\n",
       "        vertical-align: middle;\n",
       "    }\n",
       "\n",
       "    .dataframe tbody tr th {\n",
       "        vertical-align: top;\n",
       "    }\n",
       "\n",
       "    .dataframe thead th {\n",
       "        text-align: right;\n",
       "    }\n",
       "</style>\n",
       "<table border=\"1\" class=\"dataframe\">\n",
       "  <thead>\n",
       "    <tr style=\"text-align: right;\">\n",
       "      <th></th>\n",
       "      <th>mean_fit_time</th>\n",
       "      <th>std_fit_time</th>\n",
       "      <th>mean_score_time</th>\n",
       "      <th>std_score_time</th>\n",
       "      <th>param_C</th>\n",
       "      <th>param_max_iter</th>\n",
       "      <th>param_penalty</th>\n",
       "      <th>params</th>\n",
       "      <th>split0_test_score</th>\n",
       "      <th>split1_test_score</th>\n",
       "      <th>split2_test_score</th>\n",
       "      <th>split3_test_score</th>\n",
       "      <th>split4_test_score</th>\n",
       "      <th>mean_test_score</th>\n",
       "      <th>std_test_score</th>\n",
       "      <th>rank_test_score</th>\n",
       "    </tr>\n",
       "  </thead>\n",
       "  <tbody>\n",
       "    <tr>\n",
       "      <th>108</th>\n",
       "      <td>0.006176</td>\n",
       "      <td>0.002038</td>\n",
       "      <td>0.003803</td>\n",
       "      <td>0.000593</td>\n",
       "      <td>1</td>\n",
       "      <td>100</td>\n",
       "      <td>l1</td>\n",
       "      <td>{'C': 1, 'max_iter': 100, 'penalty': 'l1'}</td>\n",
       "      <td>0.566038</td>\n",
       "      <td>0.439024</td>\n",
       "      <td>0.653846</td>\n",
       "      <td>0.530612</td>\n",
       "      <td>0.528302</td>\n",
       "      <td>0.543564</td>\n",
       "      <td>0.069277</td>\n",
       "      <td>97</td>\n",
       "    </tr>\n",
       "    <tr>\n",
       "      <th>109</th>\n",
       "      <td>0.004707</td>\n",
       "      <td>0.000371</td>\n",
       "      <td>0.004029</td>\n",
       "      <td>0.000044</td>\n",
       "      <td>1</td>\n",
       "      <td>100</td>\n",
       "      <td>l2</td>\n",
       "      <td>{'C': 1, 'max_iter': 100, 'penalty': 'l2'}</td>\n",
       "      <td>0.566038</td>\n",
       "      <td>0.439024</td>\n",
       "      <td>0.653846</td>\n",
       "      <td>0.530612</td>\n",
       "      <td>0.528302</td>\n",
       "      <td>0.543564</td>\n",
       "      <td>0.069277</td>\n",
       "      <td>97</td>\n",
       "    </tr>\n",
       "    <tr>\n",
       "      <th>110</th>\n",
       "      <td>0.001536</td>\n",
       "      <td>0.000639</td>\n",
       "      <td>0.000000</td>\n",
       "      <td>0.000000</td>\n",
       "      <td>1</td>\n",
       "      <td>100</td>\n",
       "      <td>elasticnet</td>\n",
       "      <td>{'C': 1, 'max_iter': 100, 'penalty': 'elasticn...</td>\n",
       "      <td>NaN</td>\n",
       "      <td>NaN</td>\n",
       "      <td>NaN</td>\n",
       "      <td>NaN</td>\n",
       "      <td>NaN</td>\n",
       "      <td>NaN</td>\n",
       "      <td>NaN</td>\n",
       "      <td>272</td>\n",
       "    </tr>\n",
       "  </tbody>\n",
       "</table>\n",
       "</div>"
      ],
      "text/plain": [
       "     mean_fit_time  std_fit_time  mean_score_time  std_score_time param_C  \\\n",
       "108       0.006176      0.002038         0.003803        0.000593       1   \n",
       "109       0.004707      0.000371         0.004029        0.000044       1   \n",
       "110       0.001536      0.000639         0.000000        0.000000       1   \n",
       "\n",
       "    param_max_iter param_penalty  \\\n",
       "108            100            l1   \n",
       "109            100            l2   \n",
       "110            100    elasticnet   \n",
       "\n",
       "                                                params  split0_test_score  \\\n",
       "108         {'C': 1, 'max_iter': 100, 'penalty': 'l1'}           0.566038   \n",
       "109         {'C': 1, 'max_iter': 100, 'penalty': 'l2'}           0.566038   \n",
       "110  {'C': 1, 'max_iter': 100, 'penalty': 'elasticn...                NaN   \n",
       "\n",
       "     split1_test_score  split2_test_score  split3_test_score  \\\n",
       "108           0.439024           0.653846           0.530612   \n",
       "109           0.439024           0.653846           0.530612   \n",
       "110                NaN                NaN                NaN   \n",
       "\n",
       "     split4_test_score  mean_test_score  std_test_score  rank_test_score  \n",
       "108           0.528302         0.543564        0.069277               97  \n",
       "109           0.528302         0.543564        0.069277               97  \n",
       "110                NaN              NaN             NaN              272  "
      ]
     },
     "execution_count": 29,
     "metadata": {},
     "output_type": "execute_result"
    }
   ],
   "source": [
    "hasil_cv[(hasil_cv['param_C']==1) & (hasil_cv['param_max_iter']==100)]"
   ]
  },
  {
   "cell_type": "code",
   "execution_count": 30,
   "metadata": {},
   "outputs": [
    {
     "data": {
      "text/html": [
       "<div>\n",
       "<style scoped>\n",
       "    .dataframe tbody tr th:only-of-type {\n",
       "        vertical-align: middle;\n",
       "    }\n",
       "\n",
       "    .dataframe tbody tr th {\n",
       "        vertical-align: top;\n",
       "    }\n",
       "\n",
       "    .dataframe thead th {\n",
       "        text-align: right;\n",
       "    }\n",
       "</style>\n",
       "<table border=\"1\" class=\"dataframe\">\n",
       "  <thead>\n",
       "    <tr style=\"text-align: right;\">\n",
       "      <th></th>\n",
       "      <th>mean_fit_time</th>\n",
       "      <th>std_fit_time</th>\n",
       "      <th>mean_score_time</th>\n",
       "      <th>std_score_time</th>\n",
       "      <th>param_C</th>\n",
       "      <th>param_max_iter</th>\n",
       "      <th>param_penalty</th>\n",
       "      <th>params</th>\n",
       "      <th>split0_test_score</th>\n",
       "      <th>split1_test_score</th>\n",
       "      <th>split2_test_score</th>\n",
       "      <th>split3_test_score</th>\n",
       "      <th>split4_test_score</th>\n",
       "      <th>mean_test_score</th>\n",
       "      <th>std_test_score</th>\n",
       "      <th>rank_test_score</th>\n",
       "    </tr>\n",
       "  </thead>\n",
       "  <tbody>\n",
       "    <tr>\n",
       "      <th>162</th>\n",
       "      <td>0.005427</td>\n",
       "      <td>0.000422</td>\n",
       "      <td>0.003706</td>\n",
       "      <td>0.000592</td>\n",
       "      <td>0.05</td>\n",
       "      <td>100</td>\n",
       "      <td>l1</td>\n",
       "      <td>{'C': 0.05, 'max_iter': 100, 'penalty': 'l1'}</td>\n",
       "      <td>0.415094</td>\n",
       "      <td>0.627451</td>\n",
       "      <td>0.551724</td>\n",
       "      <td>0.52</td>\n",
       "      <td>0.500000</td>\n",
       "      <td>0.522854</td>\n",
       "      <td>0.069162</td>\n",
       "      <td>121</td>\n",
       "    </tr>\n",
       "    <tr>\n",
       "      <th>163</th>\n",
       "      <td>0.006494</td>\n",
       "      <td>0.002806</td>\n",
       "      <td>0.005611</td>\n",
       "      <td>0.003401</td>\n",
       "      <td>0.05</td>\n",
       "      <td>100</td>\n",
       "      <td>l2</td>\n",
       "      <td>{'C': 0.05, 'max_iter': 100, 'penalty': 'l2'}</td>\n",
       "      <td>0.528302</td>\n",
       "      <td>0.530612</td>\n",
       "      <td>0.607143</td>\n",
       "      <td>0.56</td>\n",
       "      <td>0.555556</td>\n",
       "      <td>0.556323</td>\n",
       "      <td>0.028436</td>\n",
       "      <td>19</td>\n",
       "    </tr>\n",
       "    <tr>\n",
       "      <th>164</th>\n",
       "      <td>0.000983</td>\n",
       "      <td>0.000692</td>\n",
       "      <td>0.000000</td>\n",
       "      <td>0.000000</td>\n",
       "      <td>0.05</td>\n",
       "      <td>100</td>\n",
       "      <td>elasticnet</td>\n",
       "      <td>{'C': 0.05, 'max_iter': 100, 'penalty': 'elast...</td>\n",
       "      <td>NaN</td>\n",
       "      <td>NaN</td>\n",
       "      <td>NaN</td>\n",
       "      <td>NaN</td>\n",
       "      <td>NaN</td>\n",
       "      <td>NaN</td>\n",
       "      <td>NaN</td>\n",
       "      <td>269</td>\n",
       "    </tr>\n",
       "  </tbody>\n",
       "</table>\n",
       "</div>"
      ],
      "text/plain": [
       "     mean_fit_time  std_fit_time  mean_score_time  std_score_time param_C  \\\n",
       "162       0.005427      0.000422         0.003706        0.000592    0.05   \n",
       "163       0.006494      0.002806         0.005611        0.003401    0.05   \n",
       "164       0.000983      0.000692         0.000000        0.000000    0.05   \n",
       "\n",
       "    param_max_iter param_penalty  \\\n",
       "162            100            l1   \n",
       "163            100            l2   \n",
       "164            100    elasticnet   \n",
       "\n",
       "                                                params  split0_test_score  \\\n",
       "162      {'C': 0.05, 'max_iter': 100, 'penalty': 'l1'}           0.415094   \n",
       "163      {'C': 0.05, 'max_iter': 100, 'penalty': 'l2'}           0.528302   \n",
       "164  {'C': 0.05, 'max_iter': 100, 'penalty': 'elast...                NaN   \n",
       "\n",
       "     split1_test_score  split2_test_score  split3_test_score  \\\n",
       "162           0.627451           0.551724               0.52   \n",
       "163           0.530612           0.607143               0.56   \n",
       "164                NaN                NaN                NaN   \n",
       "\n",
       "     split4_test_score  mean_test_score  std_test_score  rank_test_score  \n",
       "162           0.500000         0.522854        0.069162              121  \n",
       "163           0.555556         0.556323        0.028436               19  \n",
       "164                NaN              NaN             NaN              269  "
      ]
     },
     "execution_count": 30,
     "metadata": {},
     "output_type": "execute_result"
    }
   ],
   "source": [
    "hasil_cv[(hasil_cv['param_C']==0.05) & (hasil_cv['param_max_iter']==100)]"
   ]
  },
  {
   "cell_type": "markdown",
   "metadata": {},
   "source": [
    "**yang dilihat mean_test_score**"
   ]
  },
  {
   "cell_type": "markdown",
   "metadata": {},
   "source": [
    "### Perbandingan setelah dan sebelum"
   ]
  },
  {
   "cell_type": "code",
   "execution_count": 31,
   "metadata": {},
   "outputs": [],
   "source": [
    "logreg_after = LogisticRegression(solver='liblinear', C=0.05)\n",
    "logreg_before = LogisticRegression(solver='liblinear', C=1)"
   ]
  },
  {
   "cell_type": "code",
   "execution_count": 32,
   "metadata": {},
   "outputs": [
    {
     "name": "stdout",
     "output_type": "stream",
     "text": [
      "              precision    recall  f1-score   support\n",
      "\n",
      "           0       0.84      0.95      0.89       103\n",
      "           1       0.78      0.49      0.60        37\n",
      "\n",
      "    accuracy                           0.83       140\n",
      "   macro avg       0.81      0.72      0.75       140\n",
      "weighted avg       0.82      0.83      0.81       140\n",
      "\n"
     ]
    }
   ],
   "source": [
    "logreg_before.fit(x_trainval,y_trainval)\n",
    "y_pred = logreg_before.predict(x_test)\n",
    "print(classification_report(y_test,y_pred))"
   ]
  },
  {
   "cell_type": "code",
   "execution_count": 33,
   "metadata": {},
   "outputs": [
    {
     "name": "stdout",
     "output_type": "stream",
     "text": [
      "              precision    recall  f1-score   support\n",
      "\n",
      "           0       0.83      0.95      0.89       103\n",
      "           1       0.77      0.46      0.58        37\n",
      "\n",
      "    accuracy                           0.82       140\n",
      "   macro avg       0.80      0.71      0.73       140\n",
      "weighted avg       0.82      0.82      0.80       140\n",
      "\n"
     ]
    }
   ],
   "source": [
    "grid_search.best_estimator_.fit(x_trainval,y_trainval)\n",
    "y_pred = grid_search.best_estimator_.predict(x_test)\n",
    "print(classification_report(y_test,y_pred))"
   ]
  },
  {
   "cell_type": "code",
   "execution_count": 34,
   "metadata": {},
   "outputs": [
    {
     "name": "stdout",
     "output_type": "stream",
     "text": [
      "              precision    recall  f1-score   support\n",
      "\n",
      "           0       0.84      0.91      0.87       103\n",
      "           1       0.68      0.51      0.58        37\n",
      "\n",
      "    accuracy                           0.81       140\n",
      "   macro avg       0.76      0.71      0.73       140\n",
      "weighted avg       0.80      0.81      0.80       140\n",
      "\n"
     ]
    }
   ],
   "source": [
    "logreg_after.fit(x_trainval,y_trainval)\n",
    "y_pred = logreg_after.predict(x_test)\n",
    "print(classification_report(y_test,y_pred))"
   ]
  },
  {
   "cell_type": "markdown",
   "metadata": {},
   "source": [
    "1. Improvement pada validation score belum significant\n",
    "2. Pemilihan hyperparam kurang baik\n",
    "3. bisa jadi test set kebetulan sulit dipredict"
   ]
  },
  {
   "cell_type": "markdown",
   "metadata": {},
   "source": [
    "## Python Exercise : Model Evaluation 2"
   ]
  },
  {
   "cell_type": "markdown",
   "metadata": {},
   "source": [
    "1. Analyze data from seaborn\n",
    "    - Total Bill, sex, smoker, day, and time as Features\n",
    "    - Tips as Target\n",
    "2. Preprocess:\n",
    "    - One hot encoding : smoker, day, time\n",
    "    - No treatment : numerical\n",
    "3. Random state 2020, splitting 80:20\n",
    "    - Model linear regression and tree (criterion mse, max_depth 5) compute R2 using 5-flod CV\n",
    "    - Model decision tree (criterion mse, max_depth 5) compute mse in test set\n",
    "    - Do hyperparameter tuning (Randomized search) for decision tree (optimize criterion, min sample leaf, max depth) optimized by mse and using CV 5 fold\n",
    "    - Compare the result (before and after) in data set"
   ]
  },
  {
   "cell_type": "code",
   "execution_count": 35,
   "metadata": {},
   "outputs": [],
   "source": [
    "import pandas as pd\n",
    "import numpy as np\n",
    "\n",
    "from sklearn.preprocessing import OneHotEncoder\n",
    "from sklearn.compose import ColumnTransformer\n",
    "\n",
    "from sklearn.tree import DecisionTreeRegressor\n",
    "from sklearn.linear_model import LinearRegression\n",
    "\n",
    "from sklearn.model_selection import train_test_split\n",
    "from sklearn.metrics import mean_squared_error, r2_score\n",
    "\n",
    "import seaborn as sns\n",
    "import matplotlib.pylab as plt\n",
    "\n",
    "from sklearn.model_selection import cross_val_score, RandomizedSearchCV"
   ]
  },
  {
   "cell_type": "code",
   "execution_count": 36,
   "metadata": {},
   "outputs": [
    {
     "data": {
      "text/html": [
       "<div>\n",
       "<style scoped>\n",
       "    .dataframe tbody tr th:only-of-type {\n",
       "        vertical-align: middle;\n",
       "    }\n",
       "\n",
       "    .dataframe tbody tr th {\n",
       "        vertical-align: top;\n",
       "    }\n",
       "\n",
       "    .dataframe thead th {\n",
       "        text-align: right;\n",
       "    }\n",
       "</style>\n",
       "<table border=\"1\" class=\"dataframe\">\n",
       "  <thead>\n",
       "    <tr style=\"text-align: right;\">\n",
       "      <th></th>\n",
       "      <th>total_bill</th>\n",
       "      <th>tip</th>\n",
       "      <th>sex</th>\n",
       "      <th>smoker</th>\n",
       "      <th>day</th>\n",
       "      <th>time</th>\n",
       "      <th>size</th>\n",
       "    </tr>\n",
       "  </thead>\n",
       "  <tbody>\n",
       "    <tr>\n",
       "      <th>0</th>\n",
       "      <td>16.99</td>\n",
       "      <td>1.01</td>\n",
       "      <td>Female</td>\n",
       "      <td>No</td>\n",
       "      <td>Sun</td>\n",
       "      <td>Dinner</td>\n",
       "      <td>2</td>\n",
       "    </tr>\n",
       "    <tr>\n",
       "      <th>1</th>\n",
       "      <td>10.34</td>\n",
       "      <td>1.66</td>\n",
       "      <td>Male</td>\n",
       "      <td>No</td>\n",
       "      <td>Sun</td>\n",
       "      <td>Dinner</td>\n",
       "      <td>3</td>\n",
       "    </tr>\n",
       "    <tr>\n",
       "      <th>2</th>\n",
       "      <td>21.01</td>\n",
       "      <td>3.50</td>\n",
       "      <td>Male</td>\n",
       "      <td>No</td>\n",
       "      <td>Sun</td>\n",
       "      <td>Dinner</td>\n",
       "      <td>3</td>\n",
       "    </tr>\n",
       "    <tr>\n",
       "      <th>3</th>\n",
       "      <td>23.68</td>\n",
       "      <td>3.31</td>\n",
       "      <td>Male</td>\n",
       "      <td>No</td>\n",
       "      <td>Sun</td>\n",
       "      <td>Dinner</td>\n",
       "      <td>2</td>\n",
       "    </tr>\n",
       "    <tr>\n",
       "      <th>4</th>\n",
       "      <td>24.59</td>\n",
       "      <td>3.61</td>\n",
       "      <td>Female</td>\n",
       "      <td>No</td>\n",
       "      <td>Sun</td>\n",
       "      <td>Dinner</td>\n",
       "      <td>4</td>\n",
       "    </tr>\n",
       "  </tbody>\n",
       "</table>\n",
       "</div>"
      ],
      "text/plain": [
       "   total_bill   tip     sex smoker  day    time  size\n",
       "0       16.99  1.01  Female     No  Sun  Dinner     2\n",
       "1       10.34  1.66    Male     No  Sun  Dinner     3\n",
       "2       21.01  3.50    Male     No  Sun  Dinner     3\n",
       "3       23.68  3.31    Male     No  Sun  Dinner     2\n",
       "4       24.59  3.61  Female     No  Sun  Dinner     4"
      ]
     },
     "execution_count": 36,
     "metadata": {},
     "output_type": "execute_result"
    }
   ],
   "source": [
    "tips = sns.load_dataset('tips')\n",
    "tips.head()"
   ]
  },
  {
   "cell_type": "markdown",
   "metadata": {},
   "source": [
    "### EDA"
   ]
  },
  {
   "cell_type": "code",
   "execution_count": 37,
   "metadata": {},
   "outputs": [
    {
     "data": {
      "text/html": [
       "<div>\n",
       "<style scoped>\n",
       "    .dataframe tbody tr th:only-of-type {\n",
       "        vertical-align: middle;\n",
       "    }\n",
       "\n",
       "    .dataframe tbody tr th {\n",
       "        vertical-align: top;\n",
       "    }\n",
       "\n",
       "    .dataframe thead th {\n",
       "        text-align: right;\n",
       "    }\n",
       "</style>\n",
       "<table border=\"1\" class=\"dataframe\">\n",
       "  <thead>\n",
       "    <tr style=\"text-align: right;\">\n",
       "      <th></th>\n",
       "      <th>total_bill</th>\n",
       "      <th>tip</th>\n",
       "      <th>size</th>\n",
       "    </tr>\n",
       "  </thead>\n",
       "  <tbody>\n",
       "    <tr>\n",
       "      <th>count</th>\n",
       "      <td>244.000000</td>\n",
       "      <td>244.000000</td>\n",
       "      <td>244.000000</td>\n",
       "    </tr>\n",
       "    <tr>\n",
       "      <th>mean</th>\n",
       "      <td>19.785943</td>\n",
       "      <td>2.998279</td>\n",
       "      <td>2.569672</td>\n",
       "    </tr>\n",
       "    <tr>\n",
       "      <th>std</th>\n",
       "      <td>8.902412</td>\n",
       "      <td>1.383638</td>\n",
       "      <td>0.951100</td>\n",
       "    </tr>\n",
       "    <tr>\n",
       "      <th>min</th>\n",
       "      <td>3.070000</td>\n",
       "      <td>1.000000</td>\n",
       "      <td>1.000000</td>\n",
       "    </tr>\n",
       "    <tr>\n",
       "      <th>25%</th>\n",
       "      <td>13.347500</td>\n",
       "      <td>2.000000</td>\n",
       "      <td>2.000000</td>\n",
       "    </tr>\n",
       "    <tr>\n",
       "      <th>50%</th>\n",
       "      <td>17.795000</td>\n",
       "      <td>2.900000</td>\n",
       "      <td>2.000000</td>\n",
       "    </tr>\n",
       "    <tr>\n",
       "      <th>75%</th>\n",
       "      <td>24.127500</td>\n",
       "      <td>3.562500</td>\n",
       "      <td>3.000000</td>\n",
       "    </tr>\n",
       "    <tr>\n",
       "      <th>max</th>\n",
       "      <td>50.810000</td>\n",
       "      <td>10.000000</td>\n",
       "      <td>6.000000</td>\n",
       "    </tr>\n",
       "  </tbody>\n",
       "</table>\n",
       "</div>"
      ],
      "text/plain": [
       "       total_bill         tip        size\n",
       "count  244.000000  244.000000  244.000000\n",
       "mean    19.785943    2.998279    2.569672\n",
       "std      8.902412    1.383638    0.951100\n",
       "min      3.070000    1.000000    1.000000\n",
       "25%     13.347500    2.000000    2.000000\n",
       "50%     17.795000    2.900000    2.000000\n",
       "75%     24.127500    3.562500    3.000000\n",
       "max     50.810000   10.000000    6.000000"
      ]
     },
     "execution_count": 37,
     "metadata": {},
     "output_type": "execute_result"
    }
   ],
   "source": [
    "tips.describe()"
   ]
  },
  {
   "cell_type": "code",
   "execution_count": 38,
   "metadata": {},
   "outputs": [
    {
     "data": {
      "text/plain": [
       "total_bill    0\n",
       "tip           0\n",
       "sex           0\n",
       "smoker        0\n",
       "day           0\n",
       "time          0\n",
       "size          0\n",
       "dtype: int64"
      ]
     },
     "execution_count": 38,
     "metadata": {},
     "output_type": "execute_result"
    }
   ],
   "source": [
    "tips.isna().sum()"
   ]
  },
  {
   "cell_type": "code",
   "execution_count": 39,
   "metadata": {},
   "outputs": [
    {
     "data": {
      "text/plain": [
       "<AxesSubplot:xlabel='total_bill', ylabel='Count'>"
      ]
     },
     "execution_count": 39,
     "metadata": {},
     "output_type": "execute_result"
    },
    {
     "data": {
      "image/png": "[encoded data removed]",
      "text/plain": [
       "<Figure size 432x288 with 1 Axes>"
      ]
     },
     "metadata": {
      "needs_background": "light"
     },
     "output_type": "display_data"
    }
   ],
   "source": [
    "sns.histplot(tips['total_bill'])"
   ]
  },
  {
   "cell_type": "markdown",
   "metadata": {},
   "source": [
    "### Preprocess"
   ]
  },
  {
   "cell_type": "code",
   "execution_count": 40,
   "metadata": {},
   "outputs": [
    {
     "data": {
      "text/html": [
       "<div>\n",
       "<style scoped>\n",
       "    .dataframe tbody tr th:only-of-type {\n",
       "        vertical-align: middle;\n",
       "    }\n",
       "\n",
       "    .dataframe tbody tr th {\n",
       "        vertical-align: top;\n",
       "    }\n",
       "\n",
       "    .dataframe thead th {\n",
       "        text-align: right;\n",
       "    }\n",
       "</style>\n",
       "<table border=\"1\" class=\"dataframe\">\n",
       "  <thead>\n",
       "    <tr style=\"text-align: right;\">\n",
       "      <th></th>\n",
       "      <th>total_bill</th>\n",
       "      <th>sex_Female</th>\n",
       "      <th>smoker_No</th>\n",
       "      <th>day_Fri</th>\n",
       "      <th>day_Sat</th>\n",
       "      <th>day_Sun</th>\n",
       "      <th>time_Dinner</th>\n",
       "    </tr>\n",
       "  </thead>\n",
       "  <tbody>\n",
       "    <tr>\n",
       "      <th>0</th>\n",
       "      <td>16.99</td>\n",
       "      <td>1</td>\n",
       "      <td>1</td>\n",
       "      <td>0</td>\n",
       "      <td>0</td>\n",
       "      <td>1</td>\n",
       "      <td>1</td>\n",
       "    </tr>\n",
       "    <tr>\n",
       "      <th>1</th>\n",
       "      <td>10.34</td>\n",
       "      <td>0</td>\n",
       "      <td>1</td>\n",
       "      <td>0</td>\n",
       "      <td>0</td>\n",
       "      <td>1</td>\n",
       "      <td>1</td>\n",
       "    </tr>\n",
       "    <tr>\n",
       "      <th>2</th>\n",
       "      <td>21.01</td>\n",
       "      <td>0</td>\n",
       "      <td>1</td>\n",
       "      <td>0</td>\n",
       "      <td>0</td>\n",
       "      <td>1</td>\n",
       "      <td>1</td>\n",
       "    </tr>\n",
       "    <tr>\n",
       "      <th>3</th>\n",
       "      <td>23.68</td>\n",
       "      <td>0</td>\n",
       "      <td>1</td>\n",
       "      <td>0</td>\n",
       "      <td>0</td>\n",
       "      <td>1</td>\n",
       "      <td>1</td>\n",
       "    </tr>\n",
       "    <tr>\n",
       "      <th>4</th>\n",
       "      <td>24.59</td>\n",
       "      <td>1</td>\n",
       "      <td>1</td>\n",
       "      <td>0</td>\n",
       "      <td>0</td>\n",
       "      <td>1</td>\n",
       "      <td>1</td>\n",
       "    </tr>\n",
       "    <tr>\n",
       "      <th>...</th>\n",
       "      <td>...</td>\n",
       "      <td>...</td>\n",
       "      <td>...</td>\n",
       "      <td>...</td>\n",
       "      <td>...</td>\n",
       "      <td>...</td>\n",
       "      <td>...</td>\n",
       "    </tr>\n",
       "    <tr>\n",
       "      <th>239</th>\n",
       "      <td>29.03</td>\n",
       "      <td>0</td>\n",
       "      <td>1</td>\n",
       "      <td>0</td>\n",
       "      <td>1</td>\n",
       "      <td>0</td>\n",
       "      <td>1</td>\n",
       "    </tr>\n",
       "    <tr>\n",
       "      <th>240</th>\n",
       "      <td>27.18</td>\n",
       "      <td>1</td>\n",
       "      <td>0</td>\n",
       "      <td>0</td>\n",
       "      <td>1</td>\n",
       "      <td>0</td>\n",
       "      <td>1</td>\n",
       "    </tr>\n",
       "    <tr>\n",
       "      <th>241</th>\n",
       "      <td>22.67</td>\n",
       "      <td>0</td>\n",
       "      <td>0</td>\n",
       "      <td>0</td>\n",
       "      <td>1</td>\n",
       "      <td>0</td>\n",
       "      <td>1</td>\n",
       "    </tr>\n",
       "    <tr>\n",
       "      <th>242</th>\n",
       "      <td>17.82</td>\n",
       "      <td>0</td>\n",
       "      <td>1</td>\n",
       "      <td>0</td>\n",
       "      <td>1</td>\n",
       "      <td>0</td>\n",
       "      <td>1</td>\n",
       "    </tr>\n",
       "    <tr>\n",
       "      <th>243</th>\n",
       "      <td>18.78</td>\n",
       "      <td>1</td>\n",
       "      <td>1</td>\n",
       "      <td>0</td>\n",
       "      <td>0</td>\n",
       "      <td>0</td>\n",
       "      <td>1</td>\n",
       "    </tr>\n",
       "  </tbody>\n",
       "</table>\n",
       "<p>244 rows × 7 columns</p>\n",
       "</div>"
      ],
      "text/plain": [
       "     total_bill  sex_Female  smoker_No  day_Fri  day_Sat  day_Sun  time_Dinner\n",
       "0         16.99           1          1        0        0        1            1\n",
       "1         10.34           0          1        0        0        1            1\n",
       "2         21.01           0          1        0        0        1            1\n",
       "3         23.68           0          1        0        0        1            1\n",
       "4         24.59           1          1        0        0        1            1\n",
       "..          ...         ...        ...      ...      ...      ...          ...\n",
       "239       29.03           0          1        0        1        0            1\n",
       "240       27.18           1          0        0        1        0            1\n",
       "241       22.67           0          0        0        1        0            1\n",
       "242       17.82           0          1        0        1        0            1\n",
       "243       18.78           1          1        0        0        0            1\n",
       "\n",
       "[244 rows x 7 columns]"
      ]
     },
     "execution_count": 40,
     "metadata": {},
     "output_type": "execute_result"
    }
   ],
   "source": [
    "onehot = OneHotEncoder(drop='first')\n",
    "\n",
    "# transformer = ColumnTransformer([\n",
    "#     ('onehot',onehot, ['smoker','day','time','sex'])\n",
    "# ])\n",
    "\n",
    "# tips_enc=pd.DataFrame(transformer.fit_transform(tips))\n",
    "# tips_enc.columns = transformer.get_feature_names()\n",
    "\n",
    "# tips = pd.concat([tips_enc,tips['total_bill']], axis=1)\n",
    "# tips = tips[['total_bill','onehot__x3_Male','onehot__x0_Yes','onehot__x1_Sat','onehot__x1_Sun','onehot__x1_Thur','onehot__x2_Lunch']]\n",
    "# tips\n",
    "\n",
    "x = tips[['total_bill','sex','smoker','day','time']]\n",
    "y = tips['tip']\n",
    "\n",
    "x = pd.get_dummies(x,drop_first=True)\n",
    "x\n"
   ]
  },
  {
   "cell_type": "code",
   "execution_count": 41,
   "metadata": {},
   "outputs": [],
   "source": [
    "x_train,x_test, y_train, y_test = train_test_split(\n",
    "    x,\n",
    "    y,\n",
    "    test_size=0.2,\n",
    "    random_state= 2020\n",
    ")"
   ]
  },
  {
   "cell_type": "markdown",
   "metadata": {},
   "source": [
    "### Model Benchmark"
   ]
  },
  {
   "cell_type": "code",
   "execution_count": 42,
   "metadata": {},
   "outputs": [],
   "source": [
    "tree = DecisionTreeRegressor(criterion='mse', max_depth=5, random_state=2020)\n",
    "linreg = LinearRegression()"
   ]
  },
  {
   "cell_type": "code",
   "execution_count": 43,
   "metadata": {},
   "outputs": [],
   "source": [
    "from sklearn.metrics import SCORERS"
   ]
  },
  {
   "cell_type": "code",
   "execution_count": 44,
   "metadata": {},
   "outputs": [
    {
     "data": {
      "text/plain": [
       "{'explained_variance': make_scorer(explained_variance_score),\n",
       " 'r2': make_scorer(r2_score),\n",
       " 'max_error': make_scorer(max_error, greater_is_better=False),\n",
       " 'neg_median_absolute_error': make_scorer(median_absolute_error, greater_is_better=False),\n",
       " 'neg_mean_absolute_error': make_scorer(mean_absolute_error, greater_is_better=False),\n",
       " 'neg_mean_absolute_percentage_error': make_scorer(mean_absolute_percentage_error, greater_is_better=False),\n",
       " 'neg_mean_squared_error': make_scorer(mean_squared_error, greater_is_better=False),\n",
       " 'neg_mean_squared_log_error': make_scorer(mean_squared_log_error, greater_is_better=False),\n",
       " 'neg_root_mean_squared_error': make_scorer(mean_squared_error, greater_is_better=False, squared=False),\n",
       " 'neg_mean_poisson_deviance': make_scorer(mean_poisson_deviance, greater_is_better=False),\n",
       " 'neg_mean_gamma_deviance': make_scorer(mean_gamma_deviance, greater_is_better=False),\n",
       " 'accuracy': make_scorer(accuracy_score),\n",
       " 'top_k_accuracy': make_scorer(top_k_accuracy_score, needs_threshold=True),\n",
       " 'roc_auc': make_scorer(roc_auc_score, needs_threshold=True),\n",
       " 'roc_auc_ovr': make_scorer(roc_auc_score, needs_proba=True, multi_class=ovr),\n",
       " 'roc_auc_ovo': make_scorer(roc_auc_score, needs_proba=True, multi_class=ovo),\n",
       " 'roc_auc_ovr_weighted': make_scorer(roc_auc_score, needs_proba=True, multi_class=ovr, average=weighted),\n",
       " 'roc_auc_ovo_weighted': make_scorer(roc_auc_score, needs_proba=True, multi_class=ovo, average=weighted),\n",
       " 'balanced_accuracy': make_scorer(balanced_accuracy_score),\n",
       " 'average_precision': make_scorer(average_precision_score, needs_threshold=True),\n",
       " 'neg_log_loss': make_scorer(log_loss, greater_is_better=False, needs_proba=True),\n",
       " 'neg_brier_score': make_scorer(brier_score_loss, greater_is_better=False, needs_proba=True),\n",
       " 'adjusted_rand_score': make_scorer(adjusted_rand_score),\n",
       " 'rand_score': make_scorer(rand_score),\n",
       " 'homogeneity_score': make_scorer(homogeneity_score),\n",
       " 'completeness_score': make_scorer(completeness_score),\n",
       " 'v_measure_score': make_scorer(v_measure_score),\n",
       " 'mutual_info_score': make_scorer(mutual_info_score),\n",
       " 'adjusted_mutual_info_score': make_scorer(adjusted_mutual_info_score),\n",
       " 'normalized_mutual_info_score': make_scorer(normalized_mutual_info_score),\n",
       " 'fowlkes_mallows_score': make_scorer(fowlkes_mallows_score),\n",
       " 'precision': make_scorer(precision_score, average=binary),\n",
       " 'precision_macro': make_scorer(precision_score, pos_label=None, average=macro),\n",
       " 'precision_micro': make_scorer(precision_score, pos_label=None, average=micro),\n",
       " 'precision_samples': make_scorer(precision_score, pos_label=None, average=samples),\n",
       " 'precision_weighted': make_scorer(precision_score, pos_label=None, average=weighted),\n",
       " 'recall': make_scorer(recall_score, average=binary),\n",
       " 'recall_macro': make_scorer(recall_score, pos_label=None, average=macro),\n",
       " 'recall_micro': make_scorer(recall_score, pos_label=None, average=micro),\n",
       " 'recall_samples': make_scorer(recall_score, pos_label=None, average=samples),\n",
       " 'recall_weighted': make_scorer(recall_score, pos_label=None, average=weighted),\n",
       " 'f1': make_scorer(f1_score, average=binary),\n",
       " 'f1_macro': make_scorer(f1_score, pos_label=None, average=macro),\n",
       " 'f1_micro': make_scorer(f1_score, pos_label=None, average=micro),\n",
       " 'f1_samples': make_scorer(f1_score, pos_label=None, average=samples),\n",
       " 'f1_weighted': make_scorer(f1_score, pos_label=None, average=weighted),\n",
       " 'jaccard': make_scorer(jaccard_score, average=binary),\n",
       " 'jaccard_macro': make_scorer(jaccard_score, pos_label=None, average=macro),\n",
       " 'jaccard_micro': make_scorer(jaccard_score, pos_label=None, average=micro),\n",
       " 'jaccard_samples': make_scorer(jaccard_score, pos_label=None, average=samples),\n",
       " 'jaccard_weighted': make_scorer(jaccard_score, pos_label=None, average=weighted)}"
      ]
     },
     "execution_count": 44,
     "metadata": {},
     "output_type": "execute_result"
    }
   ],
   "source": [
    "SCORERS"
   ]
  },
  {
   "cell_type": "code",
   "execution_count": 45,
   "metadata": {},
   "outputs": [
    {
     "data": {
      "text/plain": [
       "0.27497160666626597"
      ]
     },
     "execution_count": 45,
     "metadata": {},
     "output_type": "execute_result"
    }
   ],
   "source": [
    "tree_cv = cross_val_score(tree, x_train, y_train,scoring='r2')\n",
    "tree_cv.mean()"
   ]
  },
  {
   "cell_type": "code",
   "execution_count": 46,
   "metadata": {},
   "outputs": [
    {
     "name": "stdout",
     "output_type": "stream",
     "text": [
      "tree: [0.11865437 0.09663697 0.13388799 0.60844872 0.41722998]\n",
      "tree mean: 0.27497160666626597\n",
      "tree std: 0.2037583555823742\n"
     ]
    }
   ],
   "source": [
    "print(\"tree: {}\\ntree mean: {}\\ntree std: {}\".format(tree_cv,tree_cv.mean(),tree_cv.std()))"
   ]
  },
  {
   "cell_type": "code",
   "execution_count": 47,
   "metadata": {},
   "outputs": [],
   "source": [
    "linreg_cv = cross_val_score(linreg, x_train, y_train,scoring='r2')"
   ]
  },
  {
   "cell_type": "code",
   "execution_count": 48,
   "metadata": {},
   "outputs": [
    {
     "name": "stdout",
     "output_type": "stream",
     "text": [
      "linreg: [0.27243371 0.18984475 0.31816682 0.46456813 0.44769515]\n",
      "linreg mean: 0.3385417115393333\n",
      "linreg std: 0.10458807015801648\n"
     ]
    }
   ],
   "source": [
    "print(\"linreg: {}\\nlinreg mean: {}\\nlinreg std: {}\".format(linreg_cv,linreg_cv.mean(),linreg_cv.std()))"
   ]
  },
  {
   "cell_type": "markdown",
   "metadata": {},
   "source": [
    "### Tree Test Score"
   ]
  },
  {
   "cell_type": "code",
   "execution_count": 49,
   "metadata": {},
   "outputs": [
    {
     "data": {
      "text/plain": [
       "DecisionTreeRegressor(max_depth=5, random_state=2020)"
      ]
     },
     "execution_count": 49,
     "metadata": {},
     "output_type": "execute_result"
    }
   ],
   "source": [
    "tree = DecisionTreeRegressor(criterion='mse',max_depth=5, random_state=2020)\n",
    "tree.fit(x_train,y_train)"
   ]
  },
  {
   "cell_type": "code",
   "execution_count": 50,
   "metadata": {
    "scrolled": true
   },
   "outputs": [
    {
     "data": {
      "text/plain": [
       "1.1723927020084088"
      ]
     },
     "execution_count": 50,
     "metadata": {},
     "output_type": "execute_result"
    }
   ],
   "source": [
    "y_pred = tree.predict(x_test)\n",
    "mean_squared_error(y_test,y_pred)"
   ]
  },
  {
   "cell_type": "markdown",
   "metadata": {},
   "source": [
    "### Hyperparameter tuning"
   ]
  },
  {
   "cell_type": "code",
   "execution_count": 51,
   "metadata": {},
   "outputs": [
    {
     "data": {
      "text/plain": [
       "(195, 7)"
      ]
     },
     "execution_count": 51,
     "metadata": {},
     "output_type": "execute_result"
    }
   ],
   "source": [
    "x_train.shape"
   ]
  },
  {
   "cell_type": "code",
   "execution_count": 52,
   "metadata": {},
   "outputs": [],
   "source": [
    "hyperparam = {\n",
    "    'min_samples_leaf':[10,15,20,50,100], # 6\n",
    "    'max_depth':[2,3], # 6\n",
    "    'criterion':['mse','mae'] # 6\n",
    "}\n",
    "\n",
    "# 72 combination = 6*6*2\n",
    "# pilih 20 dari 72\n",
    "\n",
    "# tree classification : entropy & gini\n",
    "# tree regresion : mse, mae\n",
    "\n",
    "tree = DecisionTreeRegressor(criterion='mse',max_depth=5, random_state=2020)\n",
    "\n",
    "randomized_search = RandomizedSearchCV(\n",
    "    tree,\n",
    "    param_distributions=hyperparam,\n",
    "    n_iter = 16,\n",
    "    cv = 5,\n",
    "    scoring='r2',\n",
    "    random_state = 2020,\n",
    "    n_jobs = -1\n",
    ")"
   ]
  },
  {
   "cell_type": "code",
   "execution_count": 53,
   "metadata": {},
   "outputs": [
    {
     "data": {
      "text/plain": [
       "RandomizedSearchCV(cv=5,\n",
       "                   estimator=DecisionTreeRegressor(max_depth=5,\n",
       "                                                   random_state=2020),\n",
       "                   n_iter=16, n_jobs=-1,\n",
       "                   param_distributions={'criterion': ['mse', 'mae'],\n",
       "                                        'max_depth': [2, 3],\n",
       "                                        'min_samples_leaf': [10, 15, 20, 50,\n",
       "                                                             100]},\n",
       "                   random_state=2020, scoring='r2')"
      ]
     },
     "execution_count": 53,
     "metadata": {},
     "output_type": "execute_result"
    }
   ],
   "source": [
    "randomized_search.fit(x_train,y_train)"
   ]
  },
  {
   "cell_type": "code",
   "execution_count": 54,
   "metadata": {},
   "outputs": [
    {
     "data": {
      "text/plain": [
       "0.3388908276040284"
      ]
     },
     "execution_count": 54,
     "metadata": {},
     "output_type": "execute_result"
    }
   ],
   "source": [
    "randomized_search.best_score_"
   ]
  },
  {
   "cell_type": "code",
   "execution_count": 55,
   "metadata": {},
   "outputs": [
    {
     "data": {
      "text/plain": [
       "{'min_samples_leaf': 10, 'max_depth': 3, 'criterion': 'mae'}"
      ]
     },
     "execution_count": 55,
     "metadata": {},
     "output_type": "execute_result"
    }
   ],
   "source": [
    "randomized_search.best_params_"
   ]
  },
  {
   "cell_type": "code",
   "execution_count": 56,
   "metadata": {},
   "outputs": [
    {
     "data": {
      "text/html": [
       "<div>\n",
       "<style scoped>\n",
       "    .dataframe tbody tr th:only-of-type {\n",
       "        vertical-align: middle;\n",
       "    }\n",
       "\n",
       "    .dataframe tbody tr th {\n",
       "        vertical-align: top;\n",
       "    }\n",
       "\n",
       "    .dataframe thead th {\n",
       "        text-align: right;\n",
       "    }\n",
       "</style>\n",
       "<table border=\"1\" class=\"dataframe\">\n",
       "  <thead>\n",
       "    <tr style=\"text-align: right;\">\n",
       "      <th></th>\n",
       "      <th>mean_fit_time</th>\n",
       "      <th>std_fit_time</th>\n",
       "      <th>mean_score_time</th>\n",
       "      <th>std_score_time</th>\n",
       "      <th>param_min_samples_leaf</th>\n",
       "      <th>param_max_depth</th>\n",
       "      <th>param_criterion</th>\n",
       "      <th>params</th>\n",
       "      <th>split0_test_score</th>\n",
       "      <th>split1_test_score</th>\n",
       "      <th>split2_test_score</th>\n",
       "      <th>split3_test_score</th>\n",
       "      <th>split4_test_score</th>\n",
       "      <th>mean_test_score</th>\n",
       "      <th>std_test_score</th>\n",
       "      <th>rank_test_score</th>\n",
       "    </tr>\n",
       "  </thead>\n",
       "  <tbody>\n",
       "    <tr>\n",
       "      <th>4</th>\n",
       "      <td>0.004462</td>\n",
       "      <td>0.000312</td>\n",
       "      <td>0.003611</td>\n",
       "      <td>0.000711</td>\n",
       "      <td>10</td>\n",
       "      <td>3</td>\n",
       "      <td>mse</td>\n",
       "      <td>{'min_samples_leaf': 10, 'max_depth': 3, 'crit...</td>\n",
       "      <td>0.257945</td>\n",
       "      <td>0.250398</td>\n",
       "      <td>0.191597</td>\n",
       "      <td>0.257447</td>\n",
       "      <td>0.371851</td>\n",
       "      <td>0.265848</td>\n",
       "      <td>0.058517</td>\n",
       "      <td>5</td>\n",
       "    </tr>\n",
       "    <tr>\n",
       "      <th>8</th>\n",
       "      <td>0.005031</td>\n",
       "      <td>0.000812</td>\n",
       "      <td>0.002338</td>\n",
       "      <td>0.000231</td>\n",
       "      <td>10</td>\n",
       "      <td>3</td>\n",
       "      <td>mae</td>\n",
       "      <td>{'min_samples_leaf': 10, 'max_depth': 3, 'crit...</td>\n",
       "      <td>0.324780</td>\n",
       "      <td>0.345004</td>\n",
       "      <td>0.274197</td>\n",
       "      <td>0.243595</td>\n",
       "      <td>0.506879</td>\n",
       "      <td>0.338891</td>\n",
       "      <td>0.091349</td>\n",
       "      <td>1</td>\n",
       "    </tr>\n",
       "    <tr>\n",
       "      <th>9</th>\n",
       "      <td>0.005696</td>\n",
       "      <td>0.001064</td>\n",
       "      <td>0.003053</td>\n",
       "      <td>0.000868</td>\n",
       "      <td>10</td>\n",
       "      <td>2</td>\n",
       "      <td>mae</td>\n",
       "      <td>{'min_samples_leaf': 10, 'max_depth': 2, 'crit...</td>\n",
       "      <td>0.364312</td>\n",
       "      <td>-0.049042</td>\n",
       "      <td>0.231098</td>\n",
       "      <td>0.359619</td>\n",
       "      <td>0.331705</td>\n",
       "      <td>0.247539</td>\n",
       "      <td>0.155893</td>\n",
       "      <td>8</td>\n",
       "    </tr>\n",
       "  </tbody>\n",
       "</table>\n",
       "</div>"
      ],
      "text/plain": [
       "   mean_fit_time  std_fit_time  mean_score_time  std_score_time  \\\n",
       "4       0.004462      0.000312         0.003611        0.000711   \n",
       "8       0.005031      0.000812         0.002338        0.000231   \n",
       "9       0.005696      0.001064         0.003053        0.000868   \n",
       "\n",
       "  param_min_samples_leaf param_max_depth param_criterion  \\\n",
       "4                     10               3             mse   \n",
       "8                     10               3             mae   \n",
       "9                     10               2             mae   \n",
       "\n",
       "                                              params  split0_test_score  \\\n",
       "4  {'min_samples_leaf': 10, 'max_depth': 3, 'crit...           0.257945   \n",
       "8  {'min_samples_leaf': 10, 'max_depth': 3, 'crit...           0.324780   \n",
       "9  {'min_samples_leaf': 10, 'max_depth': 2, 'crit...           0.364312   \n",
       "\n",
       "   split1_test_score  split2_test_score  split3_test_score  split4_test_score  \\\n",
       "4           0.250398           0.191597           0.257447           0.371851   \n",
       "8           0.345004           0.274197           0.243595           0.506879   \n",
       "9          -0.049042           0.231098           0.359619           0.331705   \n",
       "\n",
       "   mean_test_score  std_test_score  rank_test_score  \n",
       "4         0.265848        0.058517                5  \n",
       "8         0.338891        0.091349                1  \n",
       "9         0.247539        0.155893                8  "
      ]
     },
     "execution_count": 56,
     "metadata": {},
     "output_type": "execute_result"
    }
   ],
   "source": [
    "hasil_cv = pd.DataFrame(randomized_search.cv_results_)\n",
    "hasil_cv[hasil_cv['param_min_samples_leaf']==10]"
   ]
  },
  {
   "cell_type": "markdown",
   "metadata": {},
   "source": [
    "### Perbandingan sebelum dan sesudah"
   ]
  },
  {
   "cell_type": "code",
   "execution_count": 57,
   "metadata": {},
   "outputs": [],
   "source": [
    "tree_after = DecisionTreeRegressor(criterion='mse', max_depth=5, random_state=2020)\n",
    "tree_before = DecisionTreeRegressor(criterion='mae', max_depth=3, min_samples_leaf=10, random_state=2020)\n",
    "linreg = LinearRegression()"
   ]
  },
  {
   "cell_type": "code",
   "execution_count": 58,
   "metadata": {},
   "outputs": [
    {
     "name": "stdout",
     "output_type": "stream",
     "text": [
      "1.2082561224489798\n",
      "0.4395033250463173\n"
     ]
    }
   ],
   "source": [
    "tree_before.fit(x_train,y_train)\n",
    "y_pred = tree_before.predict(x_test)\n",
    "print(mean_squared_error(y_test,y_pred))\n",
    "print(r2_score(y_test,y_pred))"
   ]
  },
  {
   "cell_type": "code",
   "execution_count": 59,
   "metadata": {},
   "outputs": [
    {
     "name": "stdout",
     "output_type": "stream",
     "text": [
      "1.1723927020084088\n",
      "0.456139969823803\n"
     ]
    }
   ],
   "source": [
    "tree_after.fit(x_train,y_train)\n",
    "y_pred = tree_after.predict(x_test)\n",
    "print(mean_squared_error(y_test,y_pred))\n",
    "print(r2_score(y_test,y_pred))"
   ]
  },
  {
   "cell_type": "code",
   "execution_count": 60,
   "metadata": {},
   "outputs": [
    {
     "name": "stdout",
     "output_type": "stream",
     "text": [
      "1.3375316267761348\n",
      "0.379533845908511\n"
     ]
    }
   ],
   "source": [
    "linreg.fit(x_train,y_train)\n",
    "y_pred = linreg.predict(x_test)\n",
    "print(mean_squared_error(y_test,y_pred))\n",
    "print(r2_score(y_test,y_pred))"
   ]
  }
 ],
 "metadata": {
  "kernelspec": {
   "display_name": "Python 3",
   "language": "python",
   "name": "python3"
  },
  "language_info": {
   "codemirror_mode": {
    "name": "ipython",
    "version": 3
   },
   "file_extension": ".py",
   "mimetype": "text/x-python",
   "name": "python",
   "nbconvert_exporter": "python",
   "pygments_lexer": "ipython3",
   "version": "3.8.5"
  }
 },
 "nbformat": 4,
 "nbformat_minor": 4
}
